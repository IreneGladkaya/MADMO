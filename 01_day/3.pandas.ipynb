{
 "cells": [
  {
   "cell_type": "markdown",
   "metadata": {
    "id": "5U_z_oWrM2TN"
   },
   "source": [
    "# pandas\n",
    "\n",
    "\n",
    "Пакет для статистической обработки данных, по функциональности близкий к R."
   ]
  },
  {
   "cell_type": "code",
   "execution_count": 2,
   "metadata": {
    "executionInfo": {
     "elapsed": 725,
     "status": "ok",
     "timestamp": 1601284749912,
     "user": {
      "displayName": "Тимур Венерович Аминов",
      "photoUrl": "",
      "userId": "01767416500508857561"
     },
     "user_tz": -180
    },
    "id": "KlyyTJfEM2TP"
   },
   "outputs": [],
   "source": [
    "import numpy as np\n",
    "import pandas as pd"
   ]
  },
  {
   "cell_type": "markdown",
   "metadata": {
    "id": "EpezvUIEM2TS"
   },
   "source": [
    "## Series\n",
    "\n",
    "Одномерный набор данных. Отсутствующий данные записываются как `np.nan` (в этот день термометр сломался или метеоролог был пьян); они не участвуют в вычислении средних, среднеквадратичных отклонений и т.д."
   ]
  },
  {
   "cell_type": "code",
   "execution_count": 4,
   "metadata": {
    "colab": {
     "base_uri": "https://localhost:8080/",
     "height": 134
    },
    "executionInfo": {
     "elapsed": 797,
     "status": "ok",
     "timestamp": 1601284763817,
     "user": {
      "displayName": "Тимур Венерович Аминов",
      "photoUrl": "",
      "userId": "01767416500508857561"
     },
     "user_tz": -180
    },
    "id": "CMPhymLYM2TT",
    "outputId": "2cf5977d-e56e-404e-934e-b75b1ca4bfb6"
   },
   "outputs": [
    {
     "data": {
      "text/plain": [
       "0    1.0\n",
       "1    3.0\n",
       "2    5.0\n",
       "3    NaN\n",
       "4    6.0\n",
       "5    8.0\n",
       "dtype: float64"
      ]
     },
     "execution_count": 4,
     "metadata": {},
     "output_type": "execute_result"
    }
   ],
   "source": [
    "l=[1,3,5,np.nan,6,8]\n",
    "s=pd.Series(l)\n",
    "s"
   ]
  },
  {
   "cell_type": "markdown",
   "metadata": {
    "id": "FewF5nwLM2TW"
   },
   "source": [
    "\n",
    "Основная информация о наборе данных: среднее, среднеквадратичное отклонение, минимум, максимум, медиана (которая отличается от среднего для несимметричных распределений)."
   ]
  },
  {
   "cell_type": "code",
   "execution_count": 5,
   "metadata": {
    "colab": {
     "base_uri": "https://localhost:8080/",
     "height": 168
    },
    "executionInfo": {
     "elapsed": 732,
     "status": "ok",
     "timestamp": 1601284764700,
     "user": {
      "displayName": "Тимур Венерович Аминов",
      "photoUrl": "",
      "userId": "01767416500508857561"
     },
     "user_tz": -180
    },
    "id": "gSAjpJXbM2TX",
    "outputId": "a897fa38-d78a-45e8-fe5a-ea6d040f95e3"
   },
   "outputs": [
    {
     "data": {
      "text/plain": [
       "count    5.000000\n",
       "mean     4.600000\n",
       "std      2.701851\n",
       "min      1.000000\n",
       "25%      3.000000\n",
       "50%      5.000000\n",
       "75%      6.000000\n",
       "max      8.000000\n",
       "dtype: float64"
      ]
     },
     "execution_count": 5,
     "metadata": {},
     "output_type": "execute_result"
    }
   ],
   "source": [
    "s.describe()"
   ]
  },
  {
   "cell_type": "markdown",
   "metadata": {
    "id": "PrnZli2UM2Ta"
   },
   "source": [
    "Обычная индексация."
   ]
  },
  {
   "cell_type": "code",
   "execution_count": 6,
   "metadata": {
    "colab": {
     "base_uri": "https://localhost:8080/",
     "height": 34
    },
    "executionInfo": {
     "elapsed": 1064,
     "status": "ok",
     "timestamp": 1601284808896,
     "user": {
      "displayName": "Тимур Венерович Аминов",
      "photoUrl": "",
      "userId": "01767416500508857561"
     },
     "user_tz": -180
    },
    "id": "FZC9tH42M2Tb",
    "outputId": "80c5cdb7-17ce-4446-84c8-956e745e8d23"
   },
   "outputs": [
    {
     "data": {
      "text/plain": [
       "5.0"
      ]
     },
     "execution_count": 6,
     "metadata": {},
     "output_type": "execute_result"
    }
   ],
   "source": [
    "s[2]"
   ]
  },
  {
   "cell_type": "code",
   "execution_count": 7,
   "metadata": {
    "colab": {
     "base_uri": "https://localhost:8080/",
     "height": 134
    },
    "executionInfo": {
     "elapsed": 530,
     "status": "ok",
     "timestamp": 1601284808897,
     "user": {
      "displayName": "Тимур Венерович Аминов",
      "photoUrl": "",
      "userId": "01767416500508857561"
     },
     "user_tz": -180
    },
    "id": "_oIT3eX_M2Te",
    "outputId": "e3a57e87-f584-40a9-8a85-50803447f11a"
   },
   "outputs": [
    {
     "data": {
      "text/plain": [
       "0    1.0\n",
       "1    3.0\n",
       "2    7.0\n",
       "3    NaN\n",
       "4    6.0\n",
       "5    8.0\n",
       "dtype: float64"
      ]
     },
     "execution_count": 7,
     "metadata": {},
     "output_type": "execute_result"
    }
   ],
   "source": [
    "s[2]=7\n",
    "s"
   ]
  },
  {
   "cell_type": "code",
   "execution_count": 8,
   "metadata": {
    "colab": {
     "base_uri": "https://localhost:8080/",
     "height": 84
    },
    "executionInfo": {
     "elapsed": 565,
     "status": "ok",
     "timestamp": 1601284809605,
     "user": {
      "displayName": "Тимур Венерович Аминов",
      "photoUrl": "",
      "userId": "01767416500508857561"
     },
     "user_tz": -180
    },
    "id": "uubWpTD2M2Th",
    "outputId": "3d013f65-356b-48e6-d88f-737e9753e457"
   },
   "outputs": [
    {
     "data": {
      "text/plain": [
       "2    7.0\n",
       "3    NaN\n",
       "4    6.0\n",
       "dtype: float64"
      ]
     },
     "execution_count": 8,
     "metadata": {},
     "output_type": "execute_result"
    }
   ],
   "source": [
    "s[2:5]"
   ]
  },
  {
   "cell_type": "code",
   "execution_count": 9,
   "metadata": {
    "colab": {
     "base_uri": "https://localhost:8080/",
     "height": 118
    },
    "executionInfo": {
     "elapsed": 737,
     "status": "ok",
     "timestamp": 1601284811824,
     "user": {
      "displayName": "Тимур Венерович Аминов",
      "photoUrl": "",
      "userId": "01767416500508857561"
     },
     "user_tz": -180
    },
    "id": "Exa3gvsAM2Tj",
    "outputId": "3f2b37d9-6d82-4171-ea5e-fc217b2117da"
   },
   "outputs": [
    {
     "data": {
      "text/plain": [
       "1    3.0\n",
       "2    7.0\n",
       "3    NaN\n",
       "4    6.0\n",
       "5    8.0\n",
       "dtype: float64"
      ]
     },
     "execution_count": 9,
     "metadata": {},
     "output_type": "execute_result"
    }
   ],
   "source": [
    "s1=s[1:]\n",
    "s1"
   ]
  },
  {
   "cell_type": "code",
   "execution_count": 10,
   "metadata": {
    "colab": {
     "base_uri": "https://localhost:8080/",
     "height": 118
    },
    "executionInfo": {
     "elapsed": 733,
     "status": "ok",
     "timestamp": 1601284813525,
     "user": {
      "displayName": "Тимур Венерович Аминов",
      "photoUrl": "",
      "userId": "01767416500508857561"
     },
     "user_tz": -180
    },
    "id": "KJ6Hvr1-M2Tm",
    "outputId": "39ea8ec0-9e17-4acc-f3c8-563ef75c1285"
   },
   "outputs": [
    {
     "data": {
      "text/plain": [
       "0    1.0\n",
       "1    3.0\n",
       "2    7.0\n",
       "3    NaN\n",
       "4    6.0\n",
       "dtype: float64"
      ]
     },
     "execution_count": 10,
     "metadata": {},
     "output_type": "execute_result"
    }
   ],
   "source": [
    "s2=s[:-1]\n",
    "s2"
   ]
  },
  {
   "cell_type": "markdown",
   "metadata": {
    "id": "5lhmU38ZM2Tp"
   },
   "source": [
    "\n",
    "В сумме `s1+s2` складываются данные с одинаковыми индексами. Поскольку в `s1` нет данного и индексом 0, а в `s2` - с индексом 5, в `s1+s2` в соответствующих позициях будет `NaN`."
   ]
  },
  {
   "cell_type": "code",
   "execution_count": 11,
   "metadata": {
    "colab": {
     "base_uri": "https://localhost:8080/",
     "height": 134
    },
    "executionInfo": {
     "elapsed": 666,
     "status": "ok",
     "timestamp": 1601284820379,
     "user": {
      "displayName": "Тимур Венерович Аминов",
      "photoUrl": "",
      "userId": "01767416500508857561"
     },
     "user_tz": -180
    },
    "id": "BrfwbVsCM2Tq",
    "outputId": "6ca122a2-2ba4-41de-8c60-8cce63fb78c0"
   },
   "outputs": [
    {
     "data": {
      "text/plain": [
       "0     NaN\n",
       "1     6.0\n",
       "2    14.0\n",
       "3     NaN\n",
       "4    12.0\n",
       "5     NaN\n",
       "dtype: float64"
      ]
     },
     "execution_count": 11,
     "metadata": {},
     "output_type": "execute_result"
    }
   ],
   "source": [
    "s1+s2"
   ]
  },
  {
   "cell_type": "markdown",
   "metadata": {
    "id": "ZaJ0dUQEM2Tt"
   },
   "source": [
    "\n",
    "К наборам данных можно применять функции из `numpy`."
   ]
  },
  {
   "cell_type": "code",
   "execution_count": 12,
   "metadata": {
    "colab": {
     "base_uri": "https://localhost:8080/",
     "height": 134
    },
    "executionInfo": {
     "elapsed": 781,
     "status": "ok",
     "timestamp": 1601284821426,
     "user": {
      "displayName": "Тимур Венерович Аминов",
      "photoUrl": "",
      "userId": "01767416500508857561"
     },
     "user_tz": -180
    },
    "id": "bE3FucPJM2Tt",
    "outputId": "55297451-131a-4cad-8004-4ce764fef717"
   },
   "outputs": [
    {
     "data": {
      "text/plain": [
       "0       2.718282\n",
       "1      20.085537\n",
       "2    1096.633158\n",
       "3            NaN\n",
       "4     403.428793\n",
       "5    2980.957987\n",
       "dtype: float64"
      ]
     },
     "execution_count": 12,
     "metadata": {},
     "output_type": "execute_result"
    }
   ],
   "source": [
    "np.exp(s)"
   ]
  },
  {
   "cell_type": "markdown",
   "metadata": {
    "id": "UejCAd-dM2Tw"
   },
   "source": [
    "При создании набора данных s мы не указали, что будет играть роль индекса. По умолчанию это последовательность целых чисел 0, 1, 2, ..."
   ]
  },
  {
   "cell_type": "code",
   "execution_count": 13,
   "metadata": {
    "colab": {
     "base_uri": "https://localhost:8080/",
     "height": 34
    },
    "executionInfo": {
     "elapsed": 654,
     "status": "ok",
     "timestamp": 1601284822657,
     "user": {
      "displayName": "Тимур Венерович Аминов",
      "photoUrl": "",
      "userId": "01767416500508857561"
     },
     "user_tz": -180
    },
    "id": "Y9w5oKXsM2Tx",
    "outputId": "efcb1a17-5696-4666-b5d0-7613753bca92"
   },
   "outputs": [
    {
     "data": {
      "text/plain": [
       "RangeIndex(start=0, stop=6, step=1)"
      ]
     },
     "execution_count": 13,
     "metadata": {},
     "output_type": "execute_result"
    }
   ],
   "source": [
    "s.index"
   ]
  },
  {
   "cell_type": "markdown",
   "metadata": {
    "id": "H_E0B5K7M2T0"
   },
   "source": [
    "\n",
    "Но можно создавать наборы данных с индексом, заданным списком."
   ]
  },
  {
   "cell_type": "code",
   "execution_count": 14,
   "metadata": {
    "colab": {
     "base_uri": "https://localhost:8080/",
     "height": 34
    },
    "executionInfo": {
     "elapsed": 724,
     "status": "ok",
     "timestamp": 1601284827212,
     "user": {
      "displayName": "Тимур Венерович Аминов",
      "photoUrl": "",
      "userId": "01767416500508857561"
     },
     "user_tz": -180
    },
    "id": "6i4FMz4KM2T1",
    "outputId": "502b1364-d318-47c8-ad49-9e0a9fc96b90"
   },
   "outputs": [
    {
     "data": {
      "text/plain": [
       "['a', 'b', 'c', 'd', 'e', 'f']"
      ]
     },
     "execution_count": 14,
     "metadata": {},
     "output_type": "execute_result"
    }
   ],
   "source": [
    "i=list('abcdef')\n",
    "i"
   ]
  },
  {
   "cell_type": "code",
   "execution_count": 15,
   "metadata": {
    "colab": {
     "base_uri": "https://localhost:8080/",
     "height": 134
    },
    "executionInfo": {
     "elapsed": 674,
     "status": "ok",
     "timestamp": 1601284827668,
     "user": {
      "displayName": "Тимур Венерович Аминов",
      "photoUrl": "",
      "userId": "01767416500508857561"
     },
     "user_tz": -180
    },
    "id": "kwQs5QyQM2T3",
    "outputId": "512c7ea4-2246-4154-e137-fa63ce830a86"
   },
   "outputs": [
    {
     "data": {
      "text/plain": [
       "a    1.0\n",
       "b    3.0\n",
       "c    5.0\n",
       "d    NaN\n",
       "e    6.0\n",
       "f    8.0\n",
       "dtype: float64"
      ]
     },
     "execution_count": 15,
     "metadata": {},
     "output_type": "execute_result"
    }
   ],
   "source": [
    "s=pd.Series(l,index=i)\n",
    "s"
   ]
  },
  {
   "cell_type": "code",
   "execution_count": 16,
   "metadata": {
    "colab": {
     "base_uri": "https://localhost:8080/",
     "height": 34
    },
    "executionInfo": {
     "elapsed": 756,
     "status": "ok",
     "timestamp": 1601284850066,
     "user": {
      "displayName": "Тимур Венерович Аминов",
      "photoUrl": "",
      "userId": "01767416500508857561"
     },
     "user_tz": -180
    },
    "id": "1nkiKilyM2T6",
    "outputId": "2424d69b-9de8-4379-b590-a25418374b0b"
   },
   "outputs": [
    {
     "data": {
      "text/plain": [
       "5.0"
      ]
     },
     "execution_count": 16,
     "metadata": {},
     "output_type": "execute_result"
    }
   ],
   "source": [
    "s['c']"
   ]
  },
  {
   "cell_type": "markdown",
   "metadata": {
    "id": "4fcHii0bM2T9"
   },
   "source": [
    "Если индекс - строка, то вместо s['c'] можно писать s.c."
   ]
  },
  {
   "cell_type": "code",
   "execution_count": 17,
   "metadata": {
    "colab": {
     "base_uri": "https://localhost:8080/",
     "height": 34
    },
    "executionInfo": {
     "elapsed": 708,
     "status": "ok",
     "timestamp": 1601284850963,
     "user": {
      "displayName": "Тимур Венерович Аминов",
      "photoUrl": "",
      "userId": "01767416500508857561"
     },
     "user_tz": -180
    },
    "id": "eIbBkoQEM2T-",
    "outputId": "e1cda252-5be7-4745-d596-ba3cdaf90e75"
   },
   "outputs": [
    {
     "data": {
      "text/plain": [
       "5.0"
      ]
     },
     "execution_count": 17,
     "metadata": {},
     "output_type": "execute_result"
    }
   ],
   "source": [
    "s.c"
   ]
  },
  {
   "cell_type": "markdown",
   "metadata": {
    "id": "FhZiTaTtM2UA"
   },
   "source": [
    "Набор данных можно создать из словаря."
   ]
  },
  {
   "cell_type": "code",
   "execution_count": 18,
   "metadata": {
    "colab": {
     "base_uri": "https://localhost:8080/",
     "height": 84
    },
    "executionInfo": {
     "elapsed": 1113,
     "status": "ok",
     "timestamp": 1601284853432,
     "user": {
      "displayName": "Тимур Венерович Аминов",
      "photoUrl": "",
      "userId": "01767416500508857561"
     },
     "user_tz": -180
    },
    "id": "oln57vgSM2UB",
    "outputId": "c4b36f92-462c-4cb6-b7c9-ce2f03aa3149"
   },
   "outputs": [
    {
     "data": {
      "text/plain": [
       "a    1\n",
       "b    2\n",
       "c    0\n",
       "dtype: int64"
      ]
     },
     "execution_count": 18,
     "metadata": {},
     "output_type": "execute_result"
    }
   ],
   "source": [
    "s=pd.Series({'a':1,'b':2,'c':0})\n",
    "s"
   ]
  },
  {
   "cell_type": "markdown",
   "metadata": {
    "id": "SYOiXAygM2UE"
   },
   "source": [
    "\n",
    "Можно отсортировать набор данных."
   ]
  },
  {
   "cell_type": "code",
   "execution_count": 19,
   "metadata": {
    "colab": {
     "base_uri": "https://localhost:8080/",
     "height": 84
    },
    "executionInfo": {
     "elapsed": 490,
     "status": "ok",
     "timestamp": 1601284853659,
     "user": {
      "displayName": "Тимур Венерович Аминов",
      "photoUrl": "",
      "userId": "01767416500508857561"
     },
     "user_tz": -180
    },
    "id": "0PmVvgpYM2UF",
    "outputId": "1f98e07d-6ab4-412c-caea-3f98a23d78d2"
   },
   "outputs": [
    {
     "data": {
      "text/plain": [
       "c    0\n",
       "a    1\n",
       "b    2\n",
       "dtype: int64"
      ]
     },
     "execution_count": 19,
     "metadata": {},
     "output_type": "execute_result"
    }
   ],
   "source": [
    "s.sort_values()"
   ]
  },
  {
   "cell_type": "markdown",
   "metadata": {
    "id": "RriJPl9TM2UK"
   },
   "source": [
    "Роль индекса может играть, скажем, последовательность дат (или времён измерения и т.д.)."
   ]
  },
  {
   "cell_type": "code",
   "execution_count": 20,
   "metadata": {
    "colab": {
     "base_uri": "https://localhost:8080/",
     "height": 84
    },
    "executionInfo": {
     "elapsed": 500,
     "status": "ok",
     "timestamp": 1601284855282,
     "user": {
      "displayName": "Тимур Венерович Аминов",
      "photoUrl": "",
      "userId": "01767416500508857561"
     },
     "user_tz": -180
    },
    "id": "hqlxzav-M2UL",
    "outputId": "9dbb385c-c259-4265-ef28-6446d7af63d0"
   },
   "outputs": [
    {
     "data": {
      "text/plain": [
       "DatetimeIndex(['2016-01-01', '2016-01-02', '2016-01-03', '2016-01-04',\n",
       "               '2016-01-05', '2016-01-06', '2016-01-07', '2016-01-08',\n",
       "               '2016-01-09', '2016-01-10'],\n",
       "              dtype='datetime64[ns]', freq='D')"
      ]
     },
     "execution_count": 20,
     "metadata": {},
     "output_type": "execute_result"
    }
   ],
   "source": [
    "d=pd.date_range('20160101',periods=10)\n",
    "d"
   ]
  },
  {
   "cell_type": "code",
   "execution_count": 21,
   "metadata": {
    "colab": {
     "base_uri": "https://localhost:8080/",
     "height": 202
    },
    "executionInfo": {
     "elapsed": 579,
     "status": "ok",
     "timestamp": 1601284856306,
     "user": {
      "displayName": "Тимур Венерович Аминов",
      "photoUrl": "",
      "userId": "01767416500508857561"
     },
     "user_tz": -180
    },
    "id": "fdd9rOVpM2UQ",
    "outputId": "edc75177-fdf3-4234-f80a-3ad6233097ad"
   },
   "outputs": [
    {
     "data": {
      "text/plain": [
       "2016-01-01   -0.045439\n",
       "2016-01-02   -0.353641\n",
       "2016-01-03   -0.132160\n",
       "2016-01-04    2.342001\n",
       "2016-01-05   -1.409002\n",
       "2016-01-06    0.216211\n",
       "2016-01-07    0.829831\n",
       "2016-01-08    0.868123\n",
       "2016-01-09    1.056593\n",
       "2016-01-10    0.346978\n",
       "Freq: D, dtype: float64"
      ]
     },
     "execution_count": 21,
     "metadata": {},
     "output_type": "execute_result"
    }
   ],
   "source": [
    "s=pd.Series(np.random.normal(size=10),index=d)\n",
    "s"
   ]
  },
  {
   "cell_type": "markdown",
   "metadata": {
    "id": "NZVXPE8OM2UT"
   },
   "source": [
    "Операции сравнения возвращают наборы булевых данных."
   ]
  },
  {
   "cell_type": "code",
   "execution_count": 22,
   "metadata": {
    "colab": {
     "base_uri": "https://localhost:8080/",
     "height": 202
    },
    "executionInfo": {
     "elapsed": 667,
     "status": "ok",
     "timestamp": 1601284859699,
     "user": {
      "displayName": "Тимур Венерович Аминов",
      "photoUrl": "",
      "userId": "01767416500508857561"
     },
     "user_tz": -180
    },
    "id": "XqU-gRM5M2UU",
    "outputId": "66ffc6a4-7851-48ec-cab1-13cb2d2b7b57"
   },
   "outputs": [
    {
     "data": {
      "text/plain": [
       "2016-01-01    False\n",
       "2016-01-02    False\n",
       "2016-01-03    False\n",
       "2016-01-04     True\n",
       "2016-01-05    False\n",
       "2016-01-06     True\n",
       "2016-01-07     True\n",
       "2016-01-08     True\n",
       "2016-01-09     True\n",
       "2016-01-10     True\n",
       "Freq: D, dtype: bool"
      ]
     },
     "execution_count": 22,
     "metadata": {},
     "output_type": "execute_result"
    }
   ],
   "source": [
    "s>0"
   ]
  },
  {
   "cell_type": "markdown",
   "metadata": {
    "id": "xU-4PDzUM2UW"
   },
   "source": [
    "Если такой булев набор использовать для индексации, получится поднабор только из тех данных, для которых условие есть True."
   ]
  },
  {
   "cell_type": "code",
   "execution_count": 23,
   "metadata": {
    "colab": {
     "base_uri": "https://localhost:8080/",
     "height": 118
    },
    "executionInfo": {
     "elapsed": 643,
     "status": "ok",
     "timestamp": 1601284863608,
     "user": {
      "displayName": "Тимур Венерович Аминов",
      "photoUrl": "",
      "userId": "01767416500508857561"
     },
     "user_tz": -180
    },
    "id": "8MDgfd-oM2UX",
    "outputId": "a7a7ee03-6d33-40c6-bbcf-6df02d30def2"
   },
   "outputs": [
    {
     "data": {
      "text/plain": [
       "2016-01-04    2.342001\n",
       "2016-01-06    0.216211\n",
       "2016-01-07    0.829831\n",
       "2016-01-08    0.868123\n",
       "2016-01-09    1.056593\n",
       "2016-01-10    0.346978\n",
       "dtype: float64"
      ]
     },
     "execution_count": 23,
     "metadata": {},
     "output_type": "execute_result"
    }
   ],
   "source": [
    "s[s>0]"
   ]
  },
  {
   "cell_type": "markdown",
   "metadata": {
    "id": "3njC97YtxN6g"
   },
   "source": [
    "**Задание:** Вам дан массив из 1000 чисел. Оставьте в нем только те числа, которые делятся на 29, а их последняя цифра равна 3."
   ]
  },
  {
   "cell_type": "code",
   "execution_count": 24,
   "metadata": {
    "executionInfo": {
     "elapsed": 880,
     "status": "ok",
     "timestamp": 1601284865439,
     "user": {
      "displayName": "Тимур Венерович Аминов",
      "photoUrl": "",
      "userId": "01767416500508857561"
     },
     "user_tz": -180
    },
    "id": "gYcgwD0VxRDn"
   },
   "outputs": [],
   "source": [
    "s = pd.Series(np.arange(1000))"
   ]
  },
  {
   "cell_type": "markdown",
   "metadata": {
    "id": "N6kCjS5JSXEO"
   },
   "source": [
    "# ответ"
   ]
  },
  {
   "cell_type": "code",
   "execution_count": 26,
   "metadata": {
    "colab": {
     "base_uri": "https://localhost:8080/",
     "height": 138
    },
    "executionInfo": {
     "elapsed": 778,
     "status": "ok",
     "timestamp": 1601284901511,
     "user": {
      "displayName": "Тимур Венерович Аминов",
      "photoUrl": "",
      "userId": "01767416500508857561"
     },
     "user_tz": -180
    },
    "id": "2h6Pn9xmSdxY",
    "outputId": "3bd81fd6-56bc-445c-e26c-8ef6e725d83c"
   },
   "outputs": [
    {
     "data": {
      "text/plain": [
       "203    203\n",
       "493    493\n",
       "783    783\n",
       "dtype: int64"
      ]
     },
     "execution_count": 26,
     "metadata": {},
     "output_type": "execute_result"
    }
   ],
   "source": [
    "a = s%29 == 0\n",
    "b = s%10 ==3\n",
    "c = a & b\n",
    "s[c]"
   ]
  },
  {
   "cell_type": "markdown",
   "metadata": {
    "id": "DpWI5YULM2UZ"
   },
   "source": [
    "# Кумулятивные максимумы - от первого элемента до текущего."
   ]
  },
  {
   "cell_type": "code",
   "execution_count": 27,
   "metadata": {
    "colab": {
     "base_uri": "https://localhost:8080/",
     "height": 218
    },
    "executionInfo": {
     "elapsed": 611,
     "status": "ok",
     "timestamp": 1601284903867,
     "user": {
      "displayName": "Тимур Венерович Аминов",
      "photoUrl": "",
      "userId": "01767416500508857561"
     },
     "user_tz": -180
    },
    "id": "aR-l_YKKM2Ua",
    "outputId": "0076d1f2-d9e2-4d91-815b-0a186a5988a0"
   },
   "outputs": [
    {
     "data": {
      "text/plain": [
       "0        0\n",
       "1        1\n",
       "2        2\n",
       "3        3\n",
       "4        4\n",
       "      ... \n",
       "995    995\n",
       "996    996\n",
       "997    997\n",
       "998    998\n",
       "999    999\n",
       "Length: 1000, dtype: int64"
      ]
     },
     "execution_count": 27,
     "metadata": {},
     "output_type": "execute_result"
    }
   ],
   "source": [
    "s.cummax()"
   ]
  },
  {
   "cell_type": "markdown",
   "metadata": {
    "id": "VBU2SG2fM2Uc"
   },
   "source": [
    "\n",
    "Кумулятивные суммы."
   ]
  },
  {
   "cell_type": "code",
   "execution_count": 28,
   "metadata": {
    "colab": {
     "base_uri": "https://localhost:8080/",
     "height": 218
    },
    "executionInfo": {
     "elapsed": 582,
     "status": "ok",
     "timestamp": 1601284912500,
     "user": {
      "displayName": "Тимур Венерович Аминов",
      "photoUrl": "",
      "userId": "01767416500508857561"
     },
     "user_tz": -180
    },
    "id": "NhXoJ-wcM2Ud",
    "outputId": "410d1fc2-ab74-4de1-edb9-7c9dc6156ffe"
   },
   "outputs": [
    {
     "data": {
      "text/plain": [
       "0           0\n",
       "1           1\n",
       "2           3\n",
       "3           6\n",
       "4          10\n",
       "        ...  \n",
       "995    495510\n",
       "996    496506\n",
       "997    497503\n",
       "998    498501\n",
       "999    499500\n",
       "Length: 1000, dtype: int64"
      ]
     },
     "execution_count": 28,
     "metadata": {},
     "output_type": "execute_result"
    }
   ],
   "source": [
    "s=s.cumsum()\n",
    "s"
   ]
  },
  {
   "cell_type": "markdown",
   "metadata": {
    "id": "kHNiUFacM2Uf"
   },
   "source": [
    "\n",
    "Построим график."
   ]
  },
  {
   "cell_type": "code",
   "execution_count": 32,
   "metadata": {
    "executionInfo": {
     "elapsed": 729,
     "status": "ok",
     "timestamp": 1601284923763,
     "user": {
      "displayName": "Тимур Венерович Аминов",
      "photoUrl": "",
      "userId": "01767416500508857561"
     },
     "user_tz": -180
    },
    "id": "T4_ASI3RM2Ug"
   },
   "outputs": [],
   "source": [
    "import matplotlib.pyplot as plt\n"
   ]
  },
  {
   "cell_type": "code",
   "execution_count": 33,
   "metadata": {
    "executionInfo": {
     "elapsed": 595,
     "status": "ok",
     "timestamp": 1601284926089,
     "user": {
      "displayName": "Тимур Венерович Аминов",
      "photoUrl": "",
      "userId": "01767416500508857561"
     },
     "user_tz": -180
    },
    "id": "-Ji2cVe6TyhC"
   },
   "outputs": [],
   "source": [
    "s = pd.Series(np.arange(1000))\n",
    "s=s.cumsum()"
   ]
  },
  {
   "cell_type": "code",
   "execution_count": 34,
   "metadata": {
    "colab": {
     "base_uri": "https://localhost:8080/",
     "height": 282
    },
    "executionInfo": {
     "elapsed": 1102,
     "status": "ok",
     "timestamp": 1601284927414,
     "user": {
      "displayName": "Тимур Венерович Аминов",
      "photoUrl": "",
      "userId": "01767416500508857561"
     },
     "user_tz": -180
    },
    "id": "X3Siiof9M2Ui",
    "outputId": "072ea11f-24be-4be5-e2e0-92bef246fbcc"
   },
   "outputs": [
    {
     "data": {
      "text/plain": [
       "[<matplotlib.lines.Line2D at 0x7f9e7f7e50a0>]"
      ]
     },
     "execution_count": 34,
     "metadata": {},
     "output_type": "execute_result"
    },
    {
     "data": {
      "image/png": "[encoded data removed]",
      "text/plain": [
       "<Figure size 432x288 with 1 Axes>"
      ]
     },
     "metadata": {
      "needs_background": "light"
     },
     "output_type": "display_data"
    }
   ],
   "source": [
    "plt.plot(s)"
   ]
  },
  {
   "cell_type": "markdown",
   "metadata": {
    "id": "ypSyHP9eM2Ul"
   },
   "source": [
    "## DataFrame\n",
    "\n",
    "Двумерная таблица данных. Имеет индекс и набор столбцов (возможно, имеющих разные типы). Таблицу можно построить, например, из словаря, значениями в котором являются одномерные наборы данных."
   ]
  },
  {
   "cell_type": "code",
   "execution_count": 35,
   "metadata": {
    "colab": {
     "base_uri": "https://localhost:8080/",
     "height": 166
    },
    "executionInfo": {
     "elapsed": 727,
     "status": "ok",
     "timestamp": 1601284944244,
     "user": {
      "displayName": "Тимур Венерович Аминов",
      "photoUrl": "",
      "userId": "01767416500508857561"
     },
     "user_tz": -180
    },
    "id": "hxVHGmr1M2Um",
    "outputId": "fd90c507-822b-47ec-cece-f5e5b2829cf8"
   },
   "outputs": [
    {
     "data": {
      "text/html": [
       "<div>\n",
       "<style scoped>\n",
       "    .dataframe tbody tr th:only-of-type {\n",
       "        vertical-align: middle;\n",
       "    }\n",
       "\n",
       "    .dataframe tbody tr th {\n",
       "        vertical-align: top;\n",
       "    }\n",
       "\n",
       "    .dataframe thead th {\n",
       "        text-align: right;\n",
       "    }\n",
       "</style>\n",
       "<table border=\"1\" class=\"dataframe\">\n",
       "  <thead>\n",
       "    <tr style=\"text-align: right;\">\n",
       "      <th></th>\n",
       "      <th>one</th>\n",
       "      <th>two</th>\n",
       "    </tr>\n",
       "  </thead>\n",
       "  <tbody>\n",
       "    <tr>\n",
       "      <th>a</th>\n",
       "      <td>1.0</td>\n",
       "      <td>1</td>\n",
       "    </tr>\n",
       "    <tr>\n",
       "      <th>b</th>\n",
       "      <td>2.0</td>\n",
       "      <td>2</td>\n",
       "    </tr>\n",
       "    <tr>\n",
       "      <th>c</th>\n",
       "      <td>3.0</td>\n",
       "      <td>3</td>\n",
       "    </tr>\n",
       "    <tr>\n",
       "      <th>d</th>\n",
       "      <td>NaN</td>\n",
       "      <td>4</td>\n",
       "    </tr>\n",
       "  </tbody>\n",
       "</table>\n",
       "</div>"
      ],
      "text/plain": [
       "   one  two\n",
       "a  1.0    1\n",
       "b  2.0    2\n",
       "c  3.0    3\n",
       "d  NaN    4"
      ]
     },
     "execution_count": 35,
     "metadata": {},
     "output_type": "execute_result"
    }
   ],
   "source": [
    "d={'one':pd.Series([1,2,3],index=['a','b','c']),\n",
    "   'two':pd.Series([1,2,3,4],index=['a','b','c','d'])}\n",
    "df=pd.DataFrame(d)\n",
    "df"
   ]
  },
  {
   "cell_type": "code",
   "execution_count": 36,
   "metadata": {
    "colab": {
     "base_uri": "https://localhost:8080/",
     "height": 34
    },
    "executionInfo": {
     "elapsed": 552,
     "status": "ok",
     "timestamp": 1601284949510,
     "user": {
      "displayName": "Тимур Венерович Аминов",
      "photoUrl": "",
      "userId": "01767416500508857561"
     },
     "user_tz": -180
    },
    "id": "O7eJP8TuM2Up",
    "outputId": "86302c41-547c-443e-bcc7-afdb2bb31012"
   },
   "outputs": [
    {
     "data": {
      "text/plain": [
       "Index(['a', 'b', 'c', 'd'], dtype='object')"
      ]
     },
     "execution_count": 36,
     "metadata": {},
     "output_type": "execute_result"
    }
   ],
   "source": [
    "df.index"
   ]
  },
  {
   "cell_type": "code",
   "execution_count": 37,
   "metadata": {
    "colab": {
     "base_uri": "https://localhost:8080/",
     "height": 34
    },
    "executionInfo": {
     "elapsed": 597,
     "status": "ok",
     "timestamp": 1601284950867,
     "user": {
      "displayName": "Тимур Венерович Аминов",
      "photoUrl": "",
      "userId": "01767416500508857561"
     },
     "user_tz": -180
    },
    "id": "5oAQUFOrM2Ur",
    "outputId": "ce68f2ee-a43e-45a0-ed37-cb8f900cece3"
   },
   "outputs": [
    {
     "data": {
      "text/plain": [
       "Index(['one', 'two'], dtype='object')"
      ]
     },
     "execution_count": 37,
     "metadata": {},
     "output_type": "execute_result"
    }
   ],
   "source": [
    "df.columns"
   ]
  },
  {
   "cell_type": "markdown",
   "metadata": {
    "id": "fhRxhEC9M2Uu"
   },
   "source": [
    "Если в качестве индекса указать имя столбца, получится одномерный набор данных."
   ]
  },
  {
   "cell_type": "code",
   "execution_count": 38,
   "metadata": {
    "colab": {
     "base_uri": "https://localhost:8080/",
     "height": 101
    },
    "executionInfo": {
     "elapsed": 641,
     "status": "ok",
     "timestamp": 1601284965881,
     "user": {
      "displayName": "Тимур Венерович Аминов",
      "photoUrl": "",
      "userId": "01767416500508857561"
     },
     "user_tz": -180
    },
    "id": "5VvX8LVdM2Uu",
    "outputId": "d516a59c-7a82-4544-f4f5-7e7a6d57acc6"
   },
   "outputs": [
    {
     "data": {
      "text/plain": [
       "a    1.0\n",
       "b    2.0\n",
       "c    3.0\n",
       "d    NaN\n",
       "Name: one, dtype: float64"
      ]
     },
     "execution_count": 38,
     "metadata": {},
     "output_type": "execute_result"
    }
   ],
   "source": [
    "df['one']"
   ]
  },
  {
   "cell_type": "code",
   "execution_count": 39,
   "metadata": {
    "colab": {
     "base_uri": "https://localhost:8080/",
     "height": 101
    },
    "executionInfo": {
     "elapsed": 793,
     "status": "ok",
     "timestamp": 1601284967544,
     "user": {
      "displayName": "Тимур Венерович Аминов",
      "photoUrl": "",
      "userId": "01767416500508857561"
     },
     "user_tz": -180
    },
    "id": "QoV8SFPxM2Ux",
    "outputId": "54b141d6-1f81-4543-818a-2a23f392f0a2"
   },
   "outputs": [
    {
     "data": {
      "text/plain": [
       "a    1.0\n",
       "b    2.0\n",
       "c    3.0\n",
       "d    NaN\n",
       "Name: one, dtype: float64"
      ]
     },
     "execution_count": 39,
     "metadata": {},
     "output_type": "execute_result"
    }
   ],
   "source": [
    "df.one"
   ]
  },
  {
   "cell_type": "code",
   "execution_count": 40,
   "metadata": {
    "colab": {
     "base_uri": "https://localhost:8080/",
     "height": 34
    },
    "executionInfo": {
     "elapsed": 717,
     "status": "ok",
     "timestamp": 1601284979493,
     "user": {
      "displayName": "Тимур Венерович Аминов",
      "photoUrl": "",
      "userId": "01767416500508857561"
     },
     "user_tz": -180
    },
    "id": "CS3KH5JsM2U0",
    "outputId": "3d6ec29f-90db-48bc-a99a-52dfaebb6123"
   },
   "outputs": [
    {
     "data": {
      "text/plain": [
       "3.0"
      ]
     },
     "execution_count": 40,
     "metadata": {},
     "output_type": "execute_result"
    }
   ],
   "source": [
    "df['one']['c']"
   ]
  },
  {
   "cell_type": "markdown",
   "metadata": {
    "id": "vQsicTXWM2U2"
   },
   "source": [
    "\n",
    "Однако если указать диапазон индексов, то это означает диапазон строк. Причём последняя строка включается в таблицу."
   ]
  },
  {
   "cell_type": "code",
   "execution_count": 41,
   "metadata": {
    "colab": {
     "base_uri": "https://localhost:8080/",
     "height": 136
    },
    "executionInfo": {
     "elapsed": 987,
     "status": "ok",
     "timestamp": 1601284981103,
     "user": {
      "displayName": "Тимур Венерович Аминов",
      "photoUrl": "",
      "userId": "01767416500508857561"
     },
     "user_tz": -180
    },
    "id": "MHa8ShsZM2U2",
    "outputId": "2fc73f74-3023-466d-89a1-2657de0587c6"
   },
   "outputs": [
    {
     "data": {
      "text/html": [
       "<div>\n",
       "<style scoped>\n",
       "    .dataframe tbody tr th:only-of-type {\n",
       "        vertical-align: middle;\n",
       "    }\n",
       "\n",
       "    .dataframe tbody tr th {\n",
       "        vertical-align: top;\n",
       "    }\n",
       "\n",
       "    .dataframe thead th {\n",
       "        text-align: right;\n",
       "    }\n",
       "</style>\n",
       "<table border=\"1\" class=\"dataframe\">\n",
       "  <thead>\n",
       "    <tr style=\"text-align: right;\">\n",
       "      <th></th>\n",
       "      <th>one</th>\n",
       "      <th>two</th>\n",
       "    </tr>\n",
       "  </thead>\n",
       "  <tbody>\n",
       "    <tr>\n",
       "      <th>b</th>\n",
       "      <td>2.0</td>\n",
       "      <td>2</td>\n",
       "    </tr>\n",
       "    <tr>\n",
       "      <th>c</th>\n",
       "      <td>3.0</td>\n",
       "      <td>3</td>\n",
       "    </tr>\n",
       "    <tr>\n",
       "      <th>d</th>\n",
       "      <td>NaN</td>\n",
       "      <td>4</td>\n",
       "    </tr>\n",
       "  </tbody>\n",
       "</table>\n",
       "</div>"
      ],
      "text/plain": [
       "   one  two\n",
       "b  2.0    2\n",
       "c  3.0    3\n",
       "d  NaN    4"
      ]
     },
     "execution_count": 41,
     "metadata": {},
     "output_type": "execute_result"
    }
   ],
   "source": [
    "df['b':'d']"
   ]
  },
  {
   "cell_type": "markdown",
   "metadata": {
    "id": "Y5QissKMM2U5"
   },
   "source": [
    "\n",
    "Диапазон целых чисел даёт диапазон строк с такими номерами, не включая последнюю строку (как обычно при индексировании списков). Всё это кажется довольно нелогичным."
   ]
  },
  {
   "cell_type": "code",
   "execution_count": 42,
   "metadata": {
    "colab": {
     "base_uri": "https://localhost:8080/",
     "height": 106
    },
    "executionInfo": {
     "elapsed": 632,
     "status": "ok",
     "timestamp": 1601284988049,
     "user": {
      "displayName": "Тимур Венерович Аминов",
      "photoUrl": "",
      "userId": "01767416500508857561"
     },
     "user_tz": -180
    },
    "id": "64wP-cFFM2U5",
    "outputId": "2d80ef71-21c9-43e8-ff61-adca138092b7"
   },
   "outputs": [
    {
     "data": {
      "text/html": [
       "<div>\n",
       "<style scoped>\n",
       "    .dataframe tbody tr th:only-of-type {\n",
       "        vertical-align: middle;\n",
       "    }\n",
       "\n",
       "    .dataframe tbody tr th {\n",
       "        vertical-align: top;\n",
       "    }\n",
       "\n",
       "    .dataframe thead th {\n",
       "        text-align: right;\n",
       "    }\n",
       "</style>\n",
       "<table border=\"1\" class=\"dataframe\">\n",
       "  <thead>\n",
       "    <tr style=\"text-align: right;\">\n",
       "      <th></th>\n",
       "      <th>one</th>\n",
       "      <th>two</th>\n",
       "    </tr>\n",
       "  </thead>\n",
       "  <tbody>\n",
       "    <tr>\n",
       "      <th>b</th>\n",
       "      <td>2.0</td>\n",
       "      <td>2</td>\n",
       "    </tr>\n",
       "    <tr>\n",
       "      <th>c</th>\n",
       "      <td>3.0</td>\n",
       "      <td>3</td>\n",
       "    </tr>\n",
       "  </tbody>\n",
       "</table>\n",
       "</div>"
      ],
      "text/plain": [
       "   one  two\n",
       "b  2.0    2\n",
       "c  3.0    3"
      ]
     },
     "execution_count": 42,
     "metadata": {},
     "output_type": "execute_result"
    }
   ],
   "source": [
    "df[1:3]"
   ]
  },
  {
   "cell_type": "markdown",
   "metadata": {
    "id": "vA6aTUaCM2U7"
   },
   "source": [
    "\n",
    "Логичнее работает атрибут `loc`: первая позиция - всегда индекс строки, а вторая - столбца."
   ]
  },
  {
   "cell_type": "code",
   "execution_count": 43,
   "metadata": {
    "colab": {
     "base_uri": "https://localhost:8080/",
     "height": 67
    },
    "executionInfo": {
     "elapsed": 638,
     "status": "ok",
     "timestamp": 1601285005439,
     "user": {
      "displayName": "Тимур Венерович Аминов",
      "photoUrl": "",
      "userId": "01767416500508857561"
     },
     "user_tz": -180
    },
    "id": "JYTx_qo3M2U8",
    "outputId": "d2cb0269-1ab8-492c-ffbe-98269d1e0885"
   },
   "outputs": [
    {
     "data": {
      "text/plain": [
       "one    2.0\n",
       "two    2.0\n",
       "Name: b, dtype: float64"
      ]
     },
     "execution_count": 43,
     "metadata": {},
     "output_type": "execute_result"
    }
   ],
   "source": [
    "df.loc['b']"
   ]
  },
  {
   "cell_type": "code",
   "execution_count": 44,
   "metadata": {
    "colab": {
     "base_uri": "https://localhost:8080/",
     "height": 34
    },
    "executionInfo": {
     "elapsed": 613,
     "status": "ok",
     "timestamp": 1601285008224,
     "user": {
      "displayName": "Тимур Венерович Аминов",
      "photoUrl": "",
      "userId": "01767416500508857561"
     },
     "user_tz": -180
    },
    "id": "gqRy3aTbM2U-",
    "outputId": "dcb64704-a144-47e4-dda4-e199b9cc5963"
   },
   "outputs": [
    {
     "data": {
      "text/plain": [
       "2.0"
      ]
     },
     "execution_count": 44,
     "metadata": {},
     "output_type": "execute_result"
    }
   ],
   "source": [
    "df.loc['b','one']"
   ]
  },
  {
   "cell_type": "code",
   "execution_count": 45,
   "metadata": {
    "colab": {
     "base_uri": "https://localhost:8080/",
     "height": 67
    },
    "executionInfo": {
     "elapsed": 834,
     "status": "ok",
     "timestamp": 1601285018389,
     "user": {
      "displayName": "Тимур Венерович Аминов",
      "photoUrl": "",
      "userId": "01767416500508857561"
     },
     "user_tz": -180
    },
    "id": "P-2c_nRHM2VB",
    "outputId": "8f7bac8d-1b55-4e00-d857-588d923cf652"
   },
   "outputs": [
    {
     "data": {
      "text/plain": [
       "a    1.0\n",
       "b    2.0\n",
       "Name: one, dtype: float64"
      ]
     },
     "execution_count": 45,
     "metadata": {},
     "output_type": "execute_result"
    }
   ],
   "source": [
    "df.loc['a':'b','one']"
   ]
  },
  {
   "cell_type": "code",
   "execution_count": 46,
   "metadata": {
    "colab": {
     "base_uri": "https://localhost:8080/",
     "height": 106
    },
    "executionInfo": {
     "elapsed": 1274,
     "status": "ok",
     "timestamp": 1601285021932,
     "user": {
      "displayName": "Тимур Венерович Аминов",
      "photoUrl": "",
      "userId": "01767416500508857561"
     },
     "user_tz": -180
    },
    "id": "eDsAS_SbM2VE",
    "outputId": "0c937f93-1c59-42fd-c465-c260e8a03277"
   },
   "outputs": [
    {
     "data": {
      "text/html": [
       "<div>\n",
       "<style scoped>\n",
       "    .dataframe tbody tr th:only-of-type {\n",
       "        vertical-align: middle;\n",
       "    }\n",
       "\n",
       "    .dataframe tbody tr th {\n",
       "        vertical-align: top;\n",
       "    }\n",
       "\n",
       "    .dataframe thead th {\n",
       "        text-align: right;\n",
       "    }\n",
       "</style>\n",
       "<table border=\"1\" class=\"dataframe\">\n",
       "  <thead>\n",
       "    <tr style=\"text-align: right;\">\n",
       "      <th></th>\n",
       "      <th>one</th>\n",
       "      <th>two</th>\n",
       "    </tr>\n",
       "  </thead>\n",
       "  <tbody>\n",
       "    <tr>\n",
       "      <th>a</th>\n",
       "      <td>1.0</td>\n",
       "      <td>1</td>\n",
       "    </tr>\n",
       "    <tr>\n",
       "      <th>b</th>\n",
       "      <td>2.0</td>\n",
       "      <td>2</td>\n",
       "    </tr>\n",
       "  </tbody>\n",
       "</table>\n",
       "</div>"
      ],
      "text/plain": [
       "   one  two\n",
       "a  1.0    1\n",
       "b  2.0    2"
      ]
     },
     "execution_count": 46,
     "metadata": {},
     "output_type": "execute_result"
    }
   ],
   "source": [
    "df.loc['a':'b',:]"
   ]
  },
  {
   "cell_type": "code",
   "execution_count": 47,
   "metadata": {
    "colab": {
     "base_uri": "https://localhost:8080/",
     "height": 101
    },
    "executionInfo": {
     "elapsed": 879,
     "status": "ok",
     "timestamp": 1601285026064,
     "user": {
      "displayName": "Тимур Венерович Аминов",
      "photoUrl": "",
      "userId": "01767416500508857561"
     },
     "user_tz": -180
    },
    "id": "L6IUDGt5M2VG",
    "outputId": "9d7ec7d7-f523-4c43-8611-31629e05c681"
   },
   "outputs": [
    {
     "data": {
      "text/plain": [
       "a    1.0\n",
       "b    2.0\n",
       "c    3.0\n",
       "d    NaN\n",
       "Name: one, dtype: float64"
      ]
     },
     "execution_count": 47,
     "metadata": {},
     "output_type": "execute_result"
    }
   ],
   "source": [
    "df.loc[:,'one']"
   ]
  },
  {
   "cell_type": "markdown",
   "metadata": {
    "id": "zPiz1B2EM2VL"
   },
   "source": [
    "К таблице можно добавлять новые столбцы."
   ]
  },
  {
   "cell_type": "code",
   "execution_count": 48,
   "metadata": {
    "colab": {
     "base_uri": "https://localhost:8080/",
     "height": 166
    },
    "executionInfo": {
     "elapsed": 585,
     "status": "ok",
     "timestamp": 1601285047133,
     "user": {
      "displayName": "Тимур Венерович Аминов",
      "photoUrl": "",
      "userId": "01767416500508857561"
     },
     "user_tz": -180
    },
    "id": "MFzL7e3OM2VM",
    "outputId": "4869589c-a76b-41e5-8469-e10baa5f8f50"
   },
   "outputs": [
    {
     "data": {
      "text/html": [
       "<div>\n",
       "<style scoped>\n",
       "    .dataframe tbody tr th:only-of-type {\n",
       "        vertical-align: middle;\n",
       "    }\n",
       "\n",
       "    .dataframe tbody tr th {\n",
       "        vertical-align: top;\n",
       "    }\n",
       "\n",
       "    .dataframe thead th {\n",
       "        text-align: right;\n",
       "    }\n",
       "</style>\n",
       "<table border=\"1\" class=\"dataframe\">\n",
       "  <thead>\n",
       "    <tr style=\"text-align: right;\">\n",
       "      <th></th>\n",
       "      <th>one</th>\n",
       "      <th>two</th>\n",
       "      <th>three</th>\n",
       "      <th>flag</th>\n",
       "    </tr>\n",
       "  </thead>\n",
       "  <tbody>\n",
       "    <tr>\n",
       "      <th>a</th>\n",
       "      <td>1.0</td>\n",
       "      <td>1</td>\n",
       "      <td>1.0</td>\n",
       "      <td>False</td>\n",
       "    </tr>\n",
       "    <tr>\n",
       "      <th>b</th>\n",
       "      <td>2.0</td>\n",
       "      <td>2</td>\n",
       "      <td>4.0</td>\n",
       "      <td>False</td>\n",
       "    </tr>\n",
       "    <tr>\n",
       "      <th>c</th>\n",
       "      <td>3.0</td>\n",
       "      <td>3</td>\n",
       "      <td>9.0</td>\n",
       "      <td>True</td>\n",
       "    </tr>\n",
       "    <tr>\n",
       "      <th>d</th>\n",
       "      <td>NaN</td>\n",
       "      <td>4</td>\n",
       "      <td>NaN</td>\n",
       "      <td>True</td>\n",
       "    </tr>\n",
       "  </tbody>\n",
       "</table>\n",
       "</div>"
      ],
      "text/plain": [
       "   one  two  three   flag\n",
       "a  1.0    1    1.0  False\n",
       "b  2.0    2    4.0  False\n",
       "c  3.0    3    9.0   True\n",
       "d  NaN    4    NaN   True"
      ]
     },
     "execution_count": 48,
     "metadata": {},
     "output_type": "execute_result"
    }
   ],
   "source": [
    "df['three']=df['one']*df['two']\n",
    "df['flag']=df['two']>2\n",
    "df"
   ]
  },
  {
   "cell_type": "markdown",
   "metadata": {
    "id": "KyQWl8KfM2VT"
   },
   "source": [
    "Также можно удалять имеющиеся."
   ]
  },
  {
   "cell_type": "code",
   "execution_count": 49,
   "metadata": {
    "colab": {
     "base_uri": "https://localhost:8080/",
     "height": 166
    },
    "executionInfo": {
     "elapsed": 617,
     "status": "ok",
     "timestamp": 1601285059104,
     "user": {
      "displayName": "Тимур Венерович Аминов",
      "photoUrl": "",
      "userId": "01767416500508857561"
     },
     "user_tz": -180
    },
    "id": "9AmRv1QEM2VT",
    "outputId": "c5e394da-d4c4-43f4-ebc1-ad161d89ed35"
   },
   "outputs": [
    {
     "data": {
      "text/html": [
       "<div>\n",
       "<style scoped>\n",
       "    .dataframe tbody tr th:only-of-type {\n",
       "        vertical-align: middle;\n",
       "    }\n",
       "\n",
       "    .dataframe tbody tr th {\n",
       "        vertical-align: top;\n",
       "    }\n",
       "\n",
       "    .dataframe thead th {\n",
       "        text-align: right;\n",
       "    }\n",
       "</style>\n",
       "<table border=\"1\" class=\"dataframe\">\n",
       "  <thead>\n",
       "    <tr style=\"text-align: right;\">\n",
       "      <th></th>\n",
       "      <th>one</th>\n",
       "      <th>two</th>\n",
       "      <th>three</th>\n",
       "      <th>flag</th>\n",
       "    </tr>\n",
       "  </thead>\n",
       "  <tbody>\n",
       "    <tr>\n",
       "      <th>a</th>\n",
       "      <td>1.0</td>\n",
       "      <td>1</td>\n",
       "      <td>1.0</td>\n",
       "      <td>False</td>\n",
       "    </tr>\n",
       "    <tr>\n",
       "      <th>b</th>\n",
       "      <td>2.0</td>\n",
       "      <td>2</td>\n",
       "      <td>4.0</td>\n",
       "      <td>False</td>\n",
       "    </tr>\n",
       "    <tr>\n",
       "      <th>c</th>\n",
       "      <td>3.0</td>\n",
       "      <td>3</td>\n",
       "      <td>9.0</td>\n",
       "      <td>True</td>\n",
       "    </tr>\n",
       "    <tr>\n",
       "      <th>d</th>\n",
       "      <td>NaN</td>\n",
       "      <td>4</td>\n",
       "      <td>NaN</td>\n",
       "      <td>True</td>\n",
       "    </tr>\n",
       "  </tbody>\n",
       "</table>\n",
       "</div>"
      ],
      "text/plain": [
       "   one  two  three   flag\n",
       "a  1.0    1    1.0  False\n",
       "b  2.0    2    4.0  False\n",
       "c  3.0    3    9.0   True\n",
       "d  NaN    4    NaN   True"
      ]
     },
     "execution_count": 49,
     "metadata": {},
     "output_type": "execute_result"
    }
   ],
   "source": [
    "#del df['two']\n",
    "df['foo']=0.\n",
    "# df.drop(['foo'], axis=1)\n",
    "del df['foo']\n",
    "df"
   ]
  },
  {
   "cell_type": "markdown",
   "metadata": {
    "id": "hDn9tP2fM2Vc"
   },
   "source": [
    "\n",
    "Добавим копию столбца `one`, в которую входят только строки до второй."
   ]
  },
  {
   "cell_type": "code",
   "execution_count": 50,
   "metadata": {
    "colab": {
     "base_uri": "https://localhost:8080/",
     "height": 166
    },
    "executionInfo": {
     "elapsed": 711,
     "status": "ok",
     "timestamp": 1601285062221,
     "user": {
      "displayName": "Тимур Венерович Аминов",
      "photoUrl": "",
      "userId": "01767416500508857561"
     },
     "user_tz": -180
    },
    "id": "Ile7BrjLM2Vd",
    "outputId": "1daf3556-6b3d-4f91-9233-008b362f685e"
   },
   "outputs": [
    {
     "data": {
      "text/html": [
       "<div>\n",
       "<style scoped>\n",
       "    .dataframe tbody tr th:only-of-type {\n",
       "        vertical-align: middle;\n",
       "    }\n",
       "\n",
       "    .dataframe tbody tr th {\n",
       "        vertical-align: top;\n",
       "    }\n",
       "\n",
       "    .dataframe thead th {\n",
       "        text-align: right;\n",
       "    }\n",
       "</style>\n",
       "<table border=\"1\" class=\"dataframe\">\n",
       "  <thead>\n",
       "    <tr style=\"text-align: right;\">\n",
       "      <th></th>\n",
       "      <th>one</th>\n",
       "      <th>two</th>\n",
       "      <th>three</th>\n",
       "      <th>flag</th>\n",
       "      <th>one_tr</th>\n",
       "    </tr>\n",
       "  </thead>\n",
       "  <tbody>\n",
       "    <tr>\n",
       "      <th>a</th>\n",
       "      <td>1.0</td>\n",
       "      <td>1</td>\n",
       "      <td>1.0</td>\n",
       "      <td>False</td>\n",
       "      <td>1.0</td>\n",
       "    </tr>\n",
       "    <tr>\n",
       "      <th>b</th>\n",
       "      <td>2.0</td>\n",
       "      <td>2</td>\n",
       "      <td>4.0</td>\n",
       "      <td>False</td>\n",
       "      <td>2.0</td>\n",
       "    </tr>\n",
       "    <tr>\n",
       "      <th>c</th>\n",
       "      <td>3.0</td>\n",
       "      <td>3</td>\n",
       "      <td>9.0</td>\n",
       "      <td>True</td>\n",
       "      <td>NaN</td>\n",
       "    </tr>\n",
       "    <tr>\n",
       "      <th>d</th>\n",
       "      <td>NaN</td>\n",
       "      <td>4</td>\n",
       "      <td>NaN</td>\n",
       "      <td>True</td>\n",
       "      <td>NaN</td>\n",
       "    </tr>\n",
       "  </tbody>\n",
       "</table>\n",
       "</div>"
      ],
      "text/plain": [
       "   one  two  three   flag  one_tr\n",
       "a  1.0    1    1.0  False     1.0\n",
       "b  2.0    2    4.0  False     2.0\n",
       "c  3.0    3    9.0   True     NaN\n",
       "d  NaN    4    NaN   True     NaN"
      ]
     },
     "execution_count": 50,
     "metadata": {},
     "output_type": "execute_result"
    }
   ],
   "source": [
    "df['one_tr']=df['one'][:2]\n",
    "df"
   ]
  },
  {
   "cell_type": "code",
   "execution_count": 51,
   "metadata": {
    "colab": {
     "base_uri": "https://localhost:8080/",
     "height": 166
    },
    "executionInfo": {
     "elapsed": 663,
     "status": "ok",
     "timestamp": 1601285070695,
     "user": {
      "displayName": "Тимур Венерович Аминов",
      "photoUrl": "",
      "userId": "01767416500508857561"
     },
     "user_tz": -180
    },
    "id": "XEUAYXBsM2Vg",
    "outputId": "db80d9aa-b6c9-43f6-dad1-c7f557deb392"
   },
   "outputs": [
    {
     "data": {
      "text/html": [
       "<div>\n",
       "<style scoped>\n",
       "    .dataframe tbody tr th:only-of-type {\n",
       "        vertical-align: middle;\n",
       "    }\n",
       "\n",
       "    .dataframe tbody tr th {\n",
       "        vertical-align: top;\n",
       "    }\n",
       "\n",
       "    .dataframe thead th {\n",
       "        text-align: right;\n",
       "    }\n",
       "</style>\n",
       "<table border=\"1\" class=\"dataframe\">\n",
       "  <thead>\n",
       "    <tr style=\"text-align: right;\">\n",
       "      <th></th>\n",
       "      <th>one</th>\n",
       "      <th>one_tr</th>\n",
       "    </tr>\n",
       "  </thead>\n",
       "  <tbody>\n",
       "    <tr>\n",
       "      <th>a</th>\n",
       "      <td>1.0</td>\n",
       "      <td>1.0</td>\n",
       "    </tr>\n",
       "    <tr>\n",
       "      <th>b</th>\n",
       "      <td>2.0</td>\n",
       "      <td>2.0</td>\n",
       "    </tr>\n",
       "    <tr>\n",
       "      <th>c</th>\n",
       "      <td>3.0</td>\n",
       "      <td>NaN</td>\n",
       "    </tr>\n",
       "    <tr>\n",
       "      <th>d</th>\n",
       "      <td>NaN</td>\n",
       "      <td>NaN</td>\n",
       "    </tr>\n",
       "  </tbody>\n",
       "</table>\n",
       "</div>"
      ],
      "text/plain": [
       "   one  one_tr\n",
       "a  1.0     1.0\n",
       "b  2.0     2.0\n",
       "c  3.0     NaN\n",
       "d  NaN     NaN"
      ]
     },
     "execution_count": 51,
     "metadata": {},
     "output_type": "execute_result"
    }
   ],
   "source": [
    "df1=df.loc[:,['one','one_tr']]\n",
    "df1"
   ]
  },
  {
   "cell_type": "code",
   "execution_count": 52,
   "metadata": {
    "colab": {
     "base_uri": "https://localhost:8080/",
     "height": 166
    },
    "executionInfo": {
     "elapsed": 799,
     "status": "ok",
     "timestamp": 1601285085099,
     "user": {
      "displayName": "Тимур Венерович Аминов",
      "photoUrl": "",
      "userId": "01767416500508857561"
     },
     "user_tz": -180
    },
    "id": "SSOh5rvhM2Vl",
    "outputId": "7d34a349-b2a4-42e4-c4a6-4a3aa7ce60b1"
   },
   "outputs": [
    {
     "data": {
      "text/html": [
       "<div>\n",
       "<style scoped>\n",
       "    .dataframe tbody tr th:only-of-type {\n",
       "        vertical-align: middle;\n",
       "    }\n",
       "\n",
       "    .dataframe tbody tr th {\n",
       "        vertical-align: top;\n",
       "    }\n",
       "\n",
       "    .dataframe thead th {\n",
       "        text-align: right;\n",
       "    }\n",
       "</style>\n",
       "<table border=\"1\" class=\"dataframe\">\n",
       "  <thead>\n",
       "    <tr style=\"text-align: right;\">\n",
       "      <th></th>\n",
       "      <th>one</th>\n",
       "      <th>two</th>\n",
       "      <th>three</th>\n",
       "      <th>flag</th>\n",
       "      <th>one_tr</th>\n",
       "    </tr>\n",
       "  </thead>\n",
       "  <tbody>\n",
       "    <tr>\n",
       "      <th>a</th>\n",
       "      <td>1.0</td>\n",
       "      <td>1</td>\n",
       "      <td>1.0</td>\n",
       "      <td>False</td>\n",
       "      <td>1.0</td>\n",
       "    </tr>\n",
       "    <tr>\n",
       "      <th>b</th>\n",
       "      <td>2.0</td>\n",
       "      <td>2</td>\n",
       "      <td>4.0</td>\n",
       "      <td>False</td>\n",
       "      <td>2.0</td>\n",
       "    </tr>\n",
       "    <tr>\n",
       "      <th>c</th>\n",
       "      <td>3.0</td>\n",
       "      <td>3</td>\n",
       "      <td>9.0</td>\n",
       "      <td>True</td>\n",
       "      <td>NaN</td>\n",
       "    </tr>\n",
       "    <tr>\n",
       "      <th>d</th>\n",
       "      <td>NaN</td>\n",
       "      <td>4</td>\n",
       "      <td>NaN</td>\n",
       "      <td>True</td>\n",
       "      <td>NaN</td>\n",
       "    </tr>\n",
       "  </tbody>\n",
       "</table>\n",
       "</div>"
      ],
      "text/plain": [
       "   one  two  three   flag  one_tr\n",
       "a  1.0    1    1.0  False     1.0\n",
       "b  2.0    2    4.0  False     2.0\n",
       "c  3.0    3    9.0   True     NaN\n",
       "d  NaN    4    NaN   True     NaN"
      ]
     },
     "execution_count": 52,
     "metadata": {},
     "output_type": "execute_result"
    }
   ],
   "source": [
    "df1.loc['a', :] = 2\n",
    "df"
   ]
  },
  {
   "cell_type": "markdown",
   "metadata": {
    "id": "4IxsSDu-M2Vn"
   },
   "source": [
    "Можно объединять таблицы по вертикали и по горизонтали."
   ]
  },
  {
   "cell_type": "code",
   "execution_count": 53,
   "metadata": {
    "colab": {
     "base_uri": "https://localhost:8080/",
     "height": 106
    },
    "executionInfo": {
     "elapsed": 664,
     "status": "ok",
     "timestamp": 1601285086758,
     "user": {
      "displayName": "Тимур Венерович Аминов",
      "photoUrl": "",
      "userId": "01767416500508857561"
     },
     "user_tz": -180
    },
    "id": "Hs4MuLuSM2Vo",
    "outputId": "f567e110-8fdc-4948-93d7-4187bbbd866b"
   },
   "outputs": [
    {
     "data": {
      "text/html": [
       "<div>\n",
       "<style scoped>\n",
       "    .dataframe tbody tr th:only-of-type {\n",
       "        vertical-align: middle;\n",
       "    }\n",
       "\n",
       "    .dataframe tbody tr th {\n",
       "        vertical-align: top;\n",
       "    }\n",
       "\n",
       "    .dataframe thead th {\n",
       "        text-align: right;\n",
       "    }\n",
       "</style>\n",
       "<table border=\"1\" class=\"dataframe\">\n",
       "  <thead>\n",
       "    <tr style=\"text-align: right;\">\n",
       "      <th></th>\n",
       "      <th>one</th>\n",
       "      <th>one_tr</th>\n",
       "    </tr>\n",
       "  </thead>\n",
       "  <tbody>\n",
       "    <tr>\n",
       "      <th>a</th>\n",
       "      <td>0</td>\n",
       "      <td>NaN</td>\n",
       "    </tr>\n",
       "    <tr>\n",
       "      <th>b</th>\n",
       "      <td>1</td>\n",
       "      <td>2.0</td>\n",
       "    </tr>\n",
       "  </tbody>\n",
       "</table>\n",
       "</div>"
      ],
      "text/plain": [
       "   one  one_tr\n",
       "a    0     NaN\n",
       "b    1     2.0"
      ]
     },
     "execution_count": 53,
     "metadata": {},
     "output_type": "execute_result"
    }
   ],
   "source": [
    "df2=pd.DataFrame({'one':{'a':0,'b':1},'one_tr':{'b':2}})\n",
    "df2"
   ]
  },
  {
   "cell_type": "code",
   "execution_count": 54,
   "metadata": {
    "colab": {
     "base_uri": "https://localhost:8080/",
     "height": 225
    },
    "executionInfo": {
     "elapsed": 840,
     "status": "ok",
     "timestamp": 1601285089911,
     "user": {
      "displayName": "Тимур Венерович Аминов",
      "photoUrl": "",
      "userId": "01767416500508857561"
     },
     "user_tz": -180
    },
    "id": "TC-PILlWM2Vp",
    "outputId": "d8239628-969d-47d4-fbae-a18d785fafc6"
   },
   "outputs": [
    {
     "data": {
      "text/html": [
       "<div>\n",
       "<style scoped>\n",
       "    .dataframe tbody tr th:only-of-type {\n",
       "        vertical-align: middle;\n",
       "    }\n",
       "\n",
       "    .dataframe tbody tr th {\n",
       "        vertical-align: top;\n",
       "    }\n",
       "\n",
       "    .dataframe thead th {\n",
       "        text-align: right;\n",
       "    }\n",
       "</style>\n",
       "<table border=\"1\" class=\"dataframe\">\n",
       "  <thead>\n",
       "    <tr style=\"text-align: right;\">\n",
       "      <th></th>\n",
       "      <th>one</th>\n",
       "      <th>two</th>\n",
       "      <th>three</th>\n",
       "      <th>flag</th>\n",
       "      <th>one_tr</th>\n",
       "    </tr>\n",
       "  </thead>\n",
       "  <tbody>\n",
       "    <tr>\n",
       "      <th>a</th>\n",
       "      <td>1.0</td>\n",
       "      <td>1.0</td>\n",
       "      <td>1.0</td>\n",
       "      <td>False</td>\n",
       "      <td>1.0</td>\n",
       "    </tr>\n",
       "    <tr>\n",
       "      <th>b</th>\n",
       "      <td>2.0</td>\n",
       "      <td>2.0</td>\n",
       "      <td>4.0</td>\n",
       "      <td>False</td>\n",
       "      <td>2.0</td>\n",
       "    </tr>\n",
       "    <tr>\n",
       "      <th>c</th>\n",
       "      <td>3.0</td>\n",
       "      <td>3.0</td>\n",
       "      <td>9.0</td>\n",
       "      <td>True</td>\n",
       "      <td>NaN</td>\n",
       "    </tr>\n",
       "    <tr>\n",
       "      <th>d</th>\n",
       "      <td>NaN</td>\n",
       "      <td>4.0</td>\n",
       "      <td>NaN</td>\n",
       "      <td>True</td>\n",
       "      <td>NaN</td>\n",
       "    </tr>\n",
       "    <tr>\n",
       "      <th>a</th>\n",
       "      <td>0.0</td>\n",
       "      <td>NaN</td>\n",
       "      <td>NaN</td>\n",
       "      <td>NaN</td>\n",
       "      <td>NaN</td>\n",
       "    </tr>\n",
       "    <tr>\n",
       "      <th>b</th>\n",
       "      <td>1.0</td>\n",
       "      <td>NaN</td>\n",
       "      <td>NaN</td>\n",
       "      <td>NaN</td>\n",
       "      <td>2.0</td>\n",
       "    </tr>\n",
       "  </tbody>\n",
       "</table>\n",
       "</div>"
      ],
      "text/plain": [
       "   one  two  three   flag  one_tr\n",
       "a  1.0  1.0    1.0  False     1.0\n",
       "b  2.0  2.0    4.0  False     2.0\n",
       "c  3.0  3.0    9.0   True     NaN\n",
       "d  NaN  4.0    NaN   True     NaN\n",
       "a  0.0  NaN    NaN    NaN     NaN\n",
       "b  1.0  NaN    NaN    NaN     2.0"
      ]
     },
     "execution_count": 54,
     "metadata": {},
     "output_type": "execute_result"
    }
   ],
   "source": [
    "df3 = pd.concat([df,df2], axis=0)\n",
    "df3"
   ]
  },
  {
   "cell_type": "code",
   "execution_count": 55,
   "metadata": {
    "colab": {
     "base_uri": "https://localhost:8080/",
     "height": 106
    },
    "executionInfo": {
     "elapsed": 640,
     "status": "ok",
     "timestamp": 1601285101943,
     "user": {
      "displayName": "Тимур Венерович Аминов",
      "photoUrl": "",
      "userId": "01767416500508857561"
     },
     "user_tz": -180
    },
    "id": "-7rtVLWRM2Vs",
    "outputId": "e3c64b6a-1b10-4d46-922f-f6e2358f8fd6"
   },
   "outputs": [
    {
     "data": {
      "text/html": [
       "<div>\n",
       "<style scoped>\n",
       "    .dataframe tbody tr th:only-of-type {\n",
       "        vertical-align: middle;\n",
       "    }\n",
       "\n",
       "    .dataframe tbody tr th {\n",
       "        vertical-align: top;\n",
       "    }\n",
       "\n",
       "    .dataframe thead th {\n",
       "        text-align: right;\n",
       "    }\n",
       "</style>\n",
       "<table border=\"1\" class=\"dataframe\">\n",
       "  <thead>\n",
       "    <tr style=\"text-align: right;\">\n",
       "      <th></th>\n",
       "      <th>one</th>\n",
       "      <th>two</th>\n",
       "      <th>three</th>\n",
       "      <th>flag</th>\n",
       "      <th>one_tr</th>\n",
       "    </tr>\n",
       "  </thead>\n",
       "  <tbody>\n",
       "    <tr>\n",
       "      <th>a</th>\n",
       "      <td>1.0</td>\n",
       "      <td>1.0</td>\n",
       "      <td>1.0</td>\n",
       "      <td>False</td>\n",
       "      <td>1.0</td>\n",
       "    </tr>\n",
       "    <tr>\n",
       "      <th>a</th>\n",
       "      <td>0.0</td>\n",
       "      <td>NaN</td>\n",
       "      <td>NaN</td>\n",
       "      <td>NaN</td>\n",
       "      <td>NaN</td>\n",
       "    </tr>\n",
       "  </tbody>\n",
       "</table>\n",
       "</div>"
      ],
      "text/plain": [
       "   one  two  three   flag  one_tr\n",
       "a  1.0  1.0    1.0  False     1.0\n",
       "a  0.0  NaN    NaN    NaN     NaN"
      ]
     },
     "execution_count": 55,
     "metadata": {},
     "output_type": "execute_result"
    }
   ],
   "source": [
    "df3.loc['a']"
   ]
  },
  {
   "cell_type": "code",
   "execution_count": 56,
   "metadata": {
    "colab": {
     "base_uri": "https://localhost:8080/",
     "height": 166
    },
    "executionInfo": {
     "elapsed": 634,
     "status": "ok",
     "timestamp": 1601285103797,
     "user": {
      "displayName": "Тимур Венерович Аминов",
      "photoUrl": "",
      "userId": "01767416500508857561"
     },
     "user_tz": -180
    },
    "id": "ZtkwBtvQM2Vv",
    "outputId": "0525e48a-4540-46c9-8d10-9cc5a43ceed3"
   },
   "outputs": [
    {
     "data": {
      "text/html": [
       "<div>\n",
       "<style scoped>\n",
       "    .dataframe tbody tr th:only-of-type {\n",
       "        vertical-align: middle;\n",
       "    }\n",
       "\n",
       "    .dataframe tbody tr th {\n",
       "        vertical-align: top;\n",
       "    }\n",
       "\n",
       "    .dataframe thead th {\n",
       "        text-align: right;\n",
       "    }\n",
       "</style>\n",
       "<table border=\"1\" class=\"dataframe\">\n",
       "  <thead>\n",
       "    <tr style=\"text-align: right;\">\n",
       "      <th></th>\n",
       "      <th>two</th>\n",
       "      <th>three</th>\n",
       "    </tr>\n",
       "  </thead>\n",
       "  <tbody>\n",
       "    <tr>\n",
       "      <th>a</th>\n",
       "      <td>0.0</td>\n",
       "      <td>NaN</td>\n",
       "    </tr>\n",
       "    <tr>\n",
       "      <th>b</th>\n",
       "      <td>1.0</td>\n",
       "      <td>NaN</td>\n",
       "    </tr>\n",
       "    <tr>\n",
       "      <th>c</th>\n",
       "      <td>NaN</td>\n",
       "      <td>2.0</td>\n",
       "    </tr>\n",
       "    <tr>\n",
       "      <th>d</th>\n",
       "      <td>NaN</td>\n",
       "      <td>3.0</td>\n",
       "    </tr>\n",
       "  </tbody>\n",
       "</table>\n",
       "</div>"
      ],
      "text/plain": [
       "   two  three\n",
       "a  0.0    NaN\n",
       "b  1.0    NaN\n",
       "c  NaN    2.0\n",
       "d  NaN    3.0"
      ]
     },
     "execution_count": 56,
     "metadata": {},
     "output_type": "execute_result"
    }
   ],
   "source": [
    "df2=pd.DataFrame({'two':{'a':0,'b':1},'three':{'c':2,'d':3}})\n",
    "df2"
   ]
  },
  {
   "cell_type": "code",
   "execution_count": 57,
   "metadata": {
    "colab": {
     "base_uri": "https://localhost:8080/",
     "height": 166
    },
    "executionInfo": {
     "elapsed": 744,
     "status": "ok",
     "timestamp": 1601239764820,
     "user": {
      "displayName": "Тимур Венерович Аминов",
      "photoUrl": "",
      "userId": "01767416500508857561"
     },
     "user_tz": -180
    },
    "id": "TXFBB3iZM2Vy",
    "outputId": "54ce6687-14c3-42eb-a7a5-e52865edc36b"
   },
   "outputs": [
    {
     "data": {
      "text/html": [
       "<div>\n",
       "<style scoped>\n",
       "    .dataframe tbody tr th:only-of-type {\n",
       "        vertical-align: middle;\n",
       "    }\n",
       "\n",
       "    .dataframe tbody tr th {\n",
       "        vertical-align: top;\n",
       "    }\n",
       "\n",
       "    .dataframe thead th {\n",
       "        text-align: right;\n",
       "    }\n",
       "</style>\n",
       "<table border=\"1\" class=\"dataframe\">\n",
       "  <thead>\n",
       "    <tr style=\"text-align: right;\">\n",
       "      <th></th>\n",
       "      <th>one</th>\n",
       "      <th>two</th>\n",
       "      <th>three</th>\n",
       "      <th>flag</th>\n",
       "      <th>one_tr</th>\n",
       "      <th>two</th>\n",
       "      <th>three</th>\n",
       "    </tr>\n",
       "  </thead>\n",
       "  <tbody>\n",
       "    <tr>\n",
       "      <th>a</th>\n",
       "      <td>1.0</td>\n",
       "      <td>1</td>\n",
       "      <td>1.0</td>\n",
       "      <td>False</td>\n",
       "      <td>1.0</td>\n",
       "      <td>0.0</td>\n",
       "      <td>NaN</td>\n",
       "    </tr>\n",
       "    <tr>\n",
       "      <th>b</th>\n",
       "      <td>2.0</td>\n",
       "      <td>2</td>\n",
       "      <td>4.0</td>\n",
       "      <td>False</td>\n",
       "      <td>2.0</td>\n",
       "      <td>1.0</td>\n",
       "      <td>NaN</td>\n",
       "    </tr>\n",
       "    <tr>\n",
       "      <th>c</th>\n",
       "      <td>3.0</td>\n",
       "      <td>3</td>\n",
       "      <td>9.0</td>\n",
       "      <td>True</td>\n",
       "      <td>NaN</td>\n",
       "      <td>NaN</td>\n",
       "      <td>2.0</td>\n",
       "    </tr>\n",
       "    <tr>\n",
       "      <th>d</th>\n",
       "      <td>NaN</td>\n",
       "      <td>4</td>\n",
       "      <td>NaN</td>\n",
       "      <td>True</td>\n",
       "      <td>NaN</td>\n",
       "      <td>NaN</td>\n",
       "      <td>3.0</td>\n",
       "    </tr>\n",
       "  </tbody>\n",
       "</table>\n",
       "</div>"
      ],
      "text/plain": [
       "   one  two  three   flag  one_tr  two  three\n",
       "a  1.0    1    1.0  False     1.0  0.0    NaN\n",
       "b  2.0    2    4.0  False     2.0  1.0    NaN\n",
       "c  3.0    3    9.0   True     NaN  NaN    2.0\n",
       "d  NaN    4    NaN   True     NaN  NaN    3.0"
      ]
     },
     "execution_count": 57,
     "metadata": {},
     "output_type": "execute_result"
    }
   ],
   "source": [
    "pd.concat([df,df2],axis=1)"
   ]
  },
  {
   "cell_type": "markdown",
   "metadata": {
    "id": "fPsfD0Lpz-Sf"
   },
   "source": [
    "Можно загрузить файл с расширением `.csv`:"
   ]
  },
  {
   "cell_type": "code",
   "execution_count": 58,
   "metadata": {
    "colab": {
     "base_uri": "https://localhost:8080/",
     "height": 462
    },
    "executionInfo": {
     "elapsed": 764,
     "status": "ok",
     "timestamp": 1601285122823,
     "user": {
      "displayName": "Тимур Венерович Аминов",
      "photoUrl": "",
      "userId": "01767416500508857561"
     },
     "user_tz": -180
    },
    "id": "k4Xt_MVqz-z7",
    "outputId": "b728e2ce-2ca9-4b2a-8df0-dda869fd2766"
   },
   "outputs": [
    {
     "data": {
      "text/html": [
       "<div>\n",
       "<style scoped>\n",
       "    .dataframe tbody tr th:only-of-type {\n",
       "        vertical-align: middle;\n",
       "    }\n",
       "\n",
       "    .dataframe tbody tr th {\n",
       "        vertical-align: top;\n",
       "    }\n",
       "\n",
       "    .dataframe thead th {\n",
       "        text-align: right;\n",
       "    }\n",
       "</style>\n",
       "<table border=\"1\" class=\"dataframe\">\n",
       "  <thead>\n",
       "    <tr style=\"text-align: right;\">\n",
       "      <th></th>\n",
       "      <th>outlook</th>\n",
       "      <th>temperature</th>\n",
       "      <th>humidity</th>\n",
       "      <th>windy</th>\n",
       "      <th>play</th>\n",
       "    </tr>\n",
       "  </thead>\n",
       "  <tbody>\n",
       "    <tr>\n",
       "      <th>0</th>\n",
       "      <td>overcast</td>\n",
       "      <td>hot</td>\n",
       "      <td>high</td>\n",
       "      <td>False</td>\n",
       "      <td>yes</td>\n",
       "    </tr>\n",
       "    <tr>\n",
       "      <th>1</th>\n",
       "      <td>overcast</td>\n",
       "      <td>cool</td>\n",
       "      <td>normal</td>\n",
       "      <td>True</td>\n",
       "      <td>yes</td>\n",
       "    </tr>\n",
       "    <tr>\n",
       "      <th>2</th>\n",
       "      <td>overcast</td>\n",
       "      <td>mild</td>\n",
       "      <td>high</td>\n",
       "      <td>True</td>\n",
       "      <td>yes</td>\n",
       "    </tr>\n",
       "    <tr>\n",
       "      <th>3</th>\n",
       "      <td>overcast</td>\n",
       "      <td>hot</td>\n",
       "      <td>normal</td>\n",
       "      <td>False</td>\n",
       "      <td>yes</td>\n",
       "    </tr>\n",
       "    <tr>\n",
       "      <th>4</th>\n",
       "      <td>rainy</td>\n",
       "      <td>mild</td>\n",
       "      <td>high</td>\n",
       "      <td>False</td>\n",
       "      <td>yes</td>\n",
       "    </tr>\n",
       "    <tr>\n",
       "      <th>5</th>\n",
       "      <td>rainy</td>\n",
       "      <td>cool</td>\n",
       "      <td>normal</td>\n",
       "      <td>False</td>\n",
       "      <td>yes</td>\n",
       "    </tr>\n",
       "    <tr>\n",
       "      <th>6</th>\n",
       "      <td>rainy</td>\n",
       "      <td>cool</td>\n",
       "      <td>normal</td>\n",
       "      <td>True</td>\n",
       "      <td>no</td>\n",
       "    </tr>\n",
       "    <tr>\n",
       "      <th>7</th>\n",
       "      <td>rainy</td>\n",
       "      <td>mild</td>\n",
       "      <td>normal</td>\n",
       "      <td>False</td>\n",
       "      <td>yes</td>\n",
       "    </tr>\n",
       "    <tr>\n",
       "      <th>8</th>\n",
       "      <td>rainy</td>\n",
       "      <td>mild</td>\n",
       "      <td>high</td>\n",
       "      <td>True</td>\n",
       "      <td>no</td>\n",
       "    </tr>\n",
       "    <tr>\n",
       "      <th>9</th>\n",
       "      <td>sunny</td>\n",
       "      <td>hot</td>\n",
       "      <td>high</td>\n",
       "      <td>False</td>\n",
       "      <td>no</td>\n",
       "    </tr>\n",
       "    <tr>\n",
       "      <th>10</th>\n",
       "      <td>sunny</td>\n",
       "      <td>hot</td>\n",
       "      <td>high</td>\n",
       "      <td>True</td>\n",
       "      <td>no</td>\n",
       "    </tr>\n",
       "    <tr>\n",
       "      <th>11</th>\n",
       "      <td>sunny</td>\n",
       "      <td>mild</td>\n",
       "      <td>high</td>\n",
       "      <td>False</td>\n",
       "      <td>no</td>\n",
       "    </tr>\n",
       "    <tr>\n",
       "      <th>12</th>\n",
       "      <td>sunny</td>\n",
       "      <td>cool</td>\n",
       "      <td>normal</td>\n",
       "      <td>False</td>\n",
       "      <td>yes</td>\n",
       "    </tr>\n",
       "    <tr>\n",
       "      <th>13</th>\n",
       "      <td>sunny</td>\n",
       "      <td>mild</td>\n",
       "      <td>normal</td>\n",
       "      <td>True</td>\n",
       "      <td>yes</td>\n",
       "    </tr>\n",
       "  </tbody>\n",
       "</table>\n",
       "</div>"
      ],
      "text/plain": [
       "     outlook temperature humidity  windy play\n",
       "0   overcast         hot     high  False  yes\n",
       "1   overcast        cool   normal   True  yes\n",
       "2   overcast        mild     high   True  yes\n",
       "3   overcast         hot   normal  False  yes\n",
       "4      rainy        mild     high  False  yes\n",
       "5      rainy        cool   normal  False  yes\n",
       "6      rainy        cool   normal   True   no\n",
       "7      rainy        mild   normal  False  yes\n",
       "8      rainy        mild     high   True   no\n",
       "9      sunny         hot     high  False   no\n",
       "10     sunny         hot     high   True   no\n",
       "11     sunny        mild     high  False   no\n",
       "12     sunny        cool   normal  False  yes\n",
       "13     sunny        mild   normal   True  yes"
      ]
     },
     "execution_count": 58,
     "metadata": {},
     "output_type": "execute_result"
    }
   ],
   "source": [
    "path_to_file = 'https://gist.githubusercontent.com/bigsnarfdude/515849391ad37fe593997fe0db98afaa/raw/f663366d17b7d05de61a145bbce7b2b961b3b07f/weather.csv'\n",
    "weather = pd.read_csv(path_to_file)\n",
    "\n",
    "weather"
   ]
  },
  {
   "cell_type": "code",
   "execution_count": 59,
   "metadata": {
    "colab": {
     "base_uri": "https://localhost:8080/",
     "height": 218
    },
    "executionInfo": {
     "elapsed": 645,
     "status": "ok",
     "timestamp": 1601285138271,
     "user": {
      "displayName": "Тимур Венерович Аминов",
      "photoUrl": "",
      "userId": "01767416500508857561"
     },
     "user_tz": -180
    },
    "id": "VF7dWfKs3gNh",
    "outputId": "75c5f663-7a6f-4c68-f1c7-3745295d31b8"
   },
   "outputs": [
    {
     "name": "stdout",
     "output_type": "stream",
     "text": [
      "<class 'pandas.core.frame.DataFrame'>\n",
      "RangeIndex: 14 entries, 0 to 13\n",
      "Data columns (total 5 columns):\n",
      " #   Column       Non-Null Count  Dtype \n",
      "---  ------       --------------  ----- \n",
      " 0   outlook      14 non-null     object\n",
      " 1   temperature  14 non-null     object\n",
      " 2   humidity     14 non-null     object\n",
      " 3   windy        14 non-null     bool  \n",
      " 4   play         14 non-null     object\n",
      "dtypes: bool(1), object(4)\n",
      "memory usage: 590.0+ bytes\n"
     ]
    }
   ],
   "source": [
    "weather.info()"
   ]
  },
  {
   "cell_type": "markdown",
   "metadata": {
    "id": "5TsOxBiT2bxs"
   },
   "source": [
    "**Задание:** создайте новую таблицу, в которой останутся только солнечные дни из предыдущей"
   ]
  },
  {
   "cell_type": "code",
   "execution_count": 60,
   "metadata": {
    "colab": {
     "base_uri": "https://localhost:8080/",
     "height": 195
    },
    "executionInfo": {
     "elapsed": 724,
     "status": "ok",
     "timestamp": 1601285318187,
     "user": {
      "displayName": "Тимур Венерович Аминов",
      "photoUrl": "",
      "userId": "01767416500508857561"
     },
     "user_tz": -180
    },
    "id": "UDtmZ-uo2bEG",
    "outputId": "c0a510de-5b33-49ec-a7a6-2bb9c6cb34d2"
   },
   "outputs": [
    {
     "data": {
      "text/html": [
       "<div>\n",
       "<style scoped>\n",
       "    .dataframe tbody tr th:only-of-type {\n",
       "        vertical-align: middle;\n",
       "    }\n",
       "\n",
       "    .dataframe tbody tr th {\n",
       "        vertical-align: top;\n",
       "    }\n",
       "\n",
       "    .dataframe thead th {\n",
       "        text-align: right;\n",
       "    }\n",
       "</style>\n",
       "<table border=\"1\" class=\"dataframe\">\n",
       "  <thead>\n",
       "    <tr style=\"text-align: right;\">\n",
       "      <th></th>\n",
       "      <th>outlook</th>\n",
       "      <th>temperature</th>\n",
       "      <th>humidity</th>\n",
       "      <th>windy</th>\n",
       "      <th>play</th>\n",
       "    </tr>\n",
       "  </thead>\n",
       "  <tbody>\n",
       "    <tr>\n",
       "      <th>9</th>\n",
       "      <td>sunny</td>\n",
       "      <td>hot</td>\n",
       "      <td>high</td>\n",
       "      <td>False</td>\n",
       "      <td>no</td>\n",
       "    </tr>\n",
       "    <tr>\n",
       "      <th>10</th>\n",
       "      <td>sunny</td>\n",
       "      <td>hot</td>\n",
       "      <td>high</td>\n",
       "      <td>True</td>\n",
       "      <td>no</td>\n",
       "    </tr>\n",
       "    <tr>\n",
       "      <th>11</th>\n",
       "      <td>sunny</td>\n",
       "      <td>mild</td>\n",
       "      <td>high</td>\n",
       "      <td>False</td>\n",
       "      <td>no</td>\n",
       "    </tr>\n",
       "    <tr>\n",
       "      <th>12</th>\n",
       "      <td>sunny</td>\n",
       "      <td>cool</td>\n",
       "      <td>normal</td>\n",
       "      <td>False</td>\n",
       "      <td>yes</td>\n",
       "    </tr>\n",
       "    <tr>\n",
       "      <th>13</th>\n",
       "      <td>sunny</td>\n",
       "      <td>mild</td>\n",
       "      <td>normal</td>\n",
       "      <td>True</td>\n",
       "      <td>yes</td>\n",
       "    </tr>\n",
       "  </tbody>\n",
       "</table>\n",
       "</div>"
      ],
      "text/plain": [
       "   outlook temperature humidity  windy play\n",
       "9    sunny         hot     high  False   no\n",
       "10   sunny         hot     high   True   no\n",
       "11   sunny        mild     high  False   no\n",
       "12   sunny        cool   normal  False  yes\n",
       "13   sunny        mild   normal   True  yes"
      ]
     },
     "execution_count": 60,
     "metadata": {},
     "output_type": "execute_result"
    }
   ],
   "source": [
    "df_new = weather[weather['outlook'] == 'sunny']\n",
    "df_new"
   ]
  },
  {
   "cell_type": "markdown",
   "metadata": {
    "id": "ZJC_saqsVBiy"
   },
   "source": [
    "# ответ"
   ]
  },
  {
   "cell_type": "code",
   "execution_count": 61,
   "metadata": {
    "colab": {
     "base_uri": "https://localhost:8080/",
     "height": 195
    },
    "executionInfo": {
     "elapsed": 559,
     "status": "ok",
     "timestamp": 1601285295111,
     "user": {
      "displayName": "Тимур Венерович Аминов",
      "photoUrl": "",
      "userId": "01767416500508857561"
     },
     "user_tz": -180
    },
    "id": "u31UCZ06VFGE",
    "outputId": "eb5fbcc1-2c0a-42c2-86f7-0134b16b3059"
   },
   "outputs": [
    {
     "data": {
      "text/html": [
       "<div>\n",
       "<style scoped>\n",
       "    .dataframe tbody tr th:only-of-type {\n",
       "        vertical-align: middle;\n",
       "    }\n",
       "\n",
       "    .dataframe tbody tr th {\n",
       "        vertical-align: top;\n",
       "    }\n",
       "\n",
       "    .dataframe thead th {\n",
       "        text-align: right;\n",
       "    }\n",
       "</style>\n",
       "<table border=\"1\" class=\"dataframe\">\n",
       "  <thead>\n",
       "    <tr style=\"text-align: right;\">\n",
       "      <th></th>\n",
       "      <th>outlook</th>\n",
       "      <th>temperature</th>\n",
       "      <th>humidity</th>\n",
       "      <th>windy</th>\n",
       "      <th>play</th>\n",
       "    </tr>\n",
       "  </thead>\n",
       "  <tbody>\n",
       "    <tr>\n",
       "      <th>9</th>\n",
       "      <td>sunny</td>\n",
       "      <td>hot</td>\n",
       "      <td>high</td>\n",
       "      <td>False</td>\n",
       "      <td>no</td>\n",
       "    </tr>\n",
       "    <tr>\n",
       "      <th>10</th>\n",
       "      <td>sunny</td>\n",
       "      <td>hot</td>\n",
       "      <td>high</td>\n",
       "      <td>True</td>\n",
       "      <td>no</td>\n",
       "    </tr>\n",
       "    <tr>\n",
       "      <th>11</th>\n",
       "      <td>sunny</td>\n",
       "      <td>mild</td>\n",
       "      <td>high</td>\n",
       "      <td>False</td>\n",
       "      <td>no</td>\n",
       "    </tr>\n",
       "    <tr>\n",
       "      <th>12</th>\n",
       "      <td>sunny</td>\n",
       "      <td>cool</td>\n",
       "      <td>normal</td>\n",
       "      <td>False</td>\n",
       "      <td>yes</td>\n",
       "    </tr>\n",
       "    <tr>\n",
       "      <th>13</th>\n",
       "      <td>sunny</td>\n",
       "      <td>mild</td>\n",
       "      <td>normal</td>\n",
       "      <td>True</td>\n",
       "      <td>yes</td>\n",
       "    </tr>\n",
       "  </tbody>\n",
       "</table>\n",
       "</div>"
      ],
      "text/plain": [
       "   outlook temperature humidity  windy play\n",
       "9    sunny         hot     high  False   no\n",
       "10   sunny         hot     high   True   no\n",
       "11   sunny        mild     high  False   no\n",
       "12   sunny        cool   normal  False  yes\n",
       "13   sunny        mild   normal   True  yes"
      ]
     },
     "execution_count": 61,
     "metadata": {},
     "output_type": "execute_result"
    }
   ],
   "source": [
    "weather[weather.outlook == 'sunny']"
   ]
  },
  {
   "cell_type": "markdown",
   "metadata": {
    "id": "V8hlFVuB0nhT"
   },
   "source": [
    "# **Задание:**\n",
    " посчитайте вероятность того, что погода будет ветренной, при условии, что:\n",
    "1. Температура низкая\n",
    "2. Температура средняя\n",
    "3. Температура высокая"
   ]
  },
  {
   "cell_type": "code",
   "execution_count": 62,
   "metadata": {
    "executionInfo": {
     "elapsed": 1609,
     "status": "ok",
     "timestamp": 1601239326353,
     "user": {
      "displayName": "Тимур Венерович Аминов",
      "photoUrl": "",
      "userId": "01767416500508857561"
     },
     "user_tz": -180
    },
    "id": "Xu9m_1uk0n4Y"
   },
   "outputs": [],
   "source": [
    "# YOUR CODE HERE"
   ]
  },
  {
   "cell_type": "markdown",
   "metadata": {
    "id": "9enRjS9UVoiG"
   },
   "source": [
    "# ответ\n"
   ]
  },
  {
   "cell_type": "code",
   "execution_count": 64,
   "metadata": {
    "colab": {
     "base_uri": "https://localhost:8080/",
     "height": 121
    },
    "executionInfo": {
     "elapsed": 632,
     "status": "ok",
     "timestamp": 1601240450673,
     "user": {
      "displayName": "Тимур Венерович Аминов",
      "photoUrl": "",
      "userId": "01767416500508857561"
     },
     "user_tz": -180
    },
    "id": "Wz3DnTaTVszW",
    "outputId": "42de7ab4-b808-4831-cced-69307f28ee6a"
   },
   "outputs": [
    {
     "name": "stdout",
     "output_type": "stream",
     "text": [
      "0.5\n",
      "0.5\n",
      "0.25\n"
     ]
    }
   ],
   "source": [
    "d  = weather.windy==True\n",
    "a = weather.temperature == 'cool'\n",
    "b = weather.temperature == 'mild'\n",
    "c = weather.temperature == 'hot'\n",
    "\n",
    "\n",
    "\n",
    "\n",
    "print(len( weather[d & a])/len(weather[a]))\n",
    "\n",
    "print(len( weather[d & b])/len(weather[b]))\n",
    "\n",
    "print(len( weather[d & c])/len(weather[c]))"
   ]
  },
  {
   "cell_type": "markdown",
   "metadata": {
    "id": "uE-wo_GHM2Vz"
   },
   "source": [
    "\n",
    "# Создадим таблицу из массива случайных чисел."
   ]
  },
  {
   "cell_type": "code",
   "execution_count": 65,
   "metadata": {
    "colab": {
     "base_uri": "https://localhost:8080/",
     "height": 343
    },
    "executionInfo": {
     "elapsed": 648,
     "status": "ok",
     "timestamp": 1601240465764,
     "user": {
      "displayName": "Тимур Венерович Аминов",
      "photoUrl": "",
      "userId": "01767416500508857561"
     },
     "user_tz": -180
    },
    "id": "d1XGpD66M2V0",
    "outputId": "d04270c9-d32f-4f88-a9af-a862d2a53d26"
   },
   "outputs": [
    {
     "data": {
      "text/html": [
       "<div>\n",
       "<style scoped>\n",
       "    .dataframe tbody tr th:only-of-type {\n",
       "        vertical-align: middle;\n",
       "    }\n",
       "\n",
       "    .dataframe tbody tr th {\n",
       "        vertical-align: top;\n",
       "    }\n",
       "\n",
       "    .dataframe thead th {\n",
       "        text-align: right;\n",
       "    }\n",
       "</style>\n",
       "<table border=\"1\" class=\"dataframe\">\n",
       "  <thead>\n",
       "    <tr style=\"text-align: right;\">\n",
       "      <th></th>\n",
       "      <th>A</th>\n",
       "      <th>B</th>\n",
       "      <th>C</th>\n",
       "      <th>D</th>\n",
       "    </tr>\n",
       "  </thead>\n",
       "  <tbody>\n",
       "    <tr>\n",
       "      <th>0</th>\n",
       "      <td>-1.193392</td>\n",
       "      <td>-0.998210</td>\n",
       "      <td>-0.910331</td>\n",
       "      <td>-0.646515</td>\n",
       "    </tr>\n",
       "    <tr>\n",
       "      <th>1</th>\n",
       "      <td>2.616247</td>\n",
       "      <td>0.054321</td>\n",
       "      <td>-1.268539</td>\n",
       "      <td>-1.427663</td>\n",
       "    </tr>\n",
       "    <tr>\n",
       "      <th>2</th>\n",
       "      <td>-1.612475</td>\n",
       "      <td>-0.505299</td>\n",
       "      <td>0.974428</td>\n",
       "      <td>1.477461</td>\n",
       "    </tr>\n",
       "    <tr>\n",
       "      <th>3</th>\n",
       "      <td>-0.218403</td>\n",
       "      <td>0.043052</td>\n",
       "      <td>1.015244</td>\n",
       "      <td>1.657747</td>\n",
       "    </tr>\n",
       "    <tr>\n",
       "      <th>4</th>\n",
       "      <td>0.575840</td>\n",
       "      <td>0.295130</td>\n",
       "      <td>0.048443</td>\n",
       "      <td>-0.464624</td>\n",
       "    </tr>\n",
       "    <tr>\n",
       "      <th>5</th>\n",
       "      <td>1.057350</td>\n",
       "      <td>1.324732</td>\n",
       "      <td>0.921436</td>\n",
       "      <td>-1.291878</td>\n",
       "    </tr>\n",
       "    <tr>\n",
       "      <th>6</th>\n",
       "      <td>1.938584</td>\n",
       "      <td>-0.602851</td>\n",
       "      <td>0.877917</td>\n",
       "      <td>-0.535864</td>\n",
       "    </tr>\n",
       "    <tr>\n",
       "      <th>7</th>\n",
       "      <td>0.087931</td>\n",
       "      <td>-0.496821</td>\n",
       "      <td>-0.055641</td>\n",
       "      <td>-0.544830</td>\n",
       "    </tr>\n",
       "    <tr>\n",
       "      <th>8</th>\n",
       "      <td>-0.321149</td>\n",
       "      <td>0.724244</td>\n",
       "      <td>-0.113266</td>\n",
       "      <td>-0.874996</td>\n",
       "    </tr>\n",
       "    <tr>\n",
       "      <th>9</th>\n",
       "      <td>0.589142</td>\n",
       "      <td>0.794439</td>\n",
       "      <td>-0.989838</td>\n",
       "      <td>2.584363</td>\n",
       "    </tr>\n",
       "  </tbody>\n",
       "</table>\n",
       "</div>"
      ],
      "text/plain": [
       "          A         B         C         D\n",
       "0 -1.193392 -0.998210 -0.910331 -0.646515\n",
       "1  2.616247  0.054321 -1.268539 -1.427663\n",
       "2 -1.612475 -0.505299  0.974428  1.477461\n",
       "3 -0.218403  0.043052  1.015244  1.657747\n",
       "4  0.575840  0.295130  0.048443 -0.464624\n",
       "5  1.057350  1.324732  0.921436 -1.291878\n",
       "6  1.938584 -0.602851  0.877917 -0.535864\n",
       "7  0.087931 -0.496821 -0.055641 -0.544830\n",
       "8 -0.321149  0.724244 -0.113266 -0.874996\n",
       "9  0.589142  0.794439 -0.989838  2.584363"
      ]
     },
     "execution_count": 65,
     "metadata": {},
     "output_type": "execute_result"
    }
   ],
   "source": [
    "df=pd.DataFrame(np.random.randn(10,4),\n",
    "                columns=['A','B','C','D'])\n",
    "df"
   ]
  },
  {
   "cell_type": "code",
   "execution_count": 66,
   "metadata": {
    "colab": {
     "base_uri": "https://localhost:8080/",
     "height": 343
    },
    "executionInfo": {
     "elapsed": 679,
     "status": "ok",
     "timestamp": 1601240466995,
     "user": {
      "displayName": "Тимур Венерович Аминов",
      "photoUrl": "",
      "userId": "01767416500508857561"
     },
     "user_tz": -180
    },
    "id": "IaZvs1QNM2V1",
    "outputId": "82b05547-cbb6-4452-f92d-8537f17d97dd"
   },
   "outputs": [
    {
     "data": {
      "text/html": [
       "<div>\n",
       "<style scoped>\n",
       "    .dataframe tbody tr th:only-of-type {\n",
       "        vertical-align: middle;\n",
       "    }\n",
       "\n",
       "    .dataframe tbody tr th {\n",
       "        vertical-align: top;\n",
       "    }\n",
       "\n",
       "    .dataframe thead th {\n",
       "        text-align: right;\n",
       "    }\n",
       "</style>\n",
       "<table border=\"1\" class=\"dataframe\">\n",
       "  <thead>\n",
       "    <tr style=\"text-align: right;\">\n",
       "      <th></th>\n",
       "      <th>A</th>\n",
       "      <th>B</th>\n",
       "      <th>C</th>\n",
       "      <th>D</th>\n",
       "    </tr>\n",
       "  </thead>\n",
       "  <tbody>\n",
       "    <tr>\n",
       "      <th>0</th>\n",
       "      <td>-0.368352</td>\n",
       "      <td>-0.879021</td>\n",
       "      <td>-1.885071</td>\n",
       "      <td>NaN</td>\n",
       "    </tr>\n",
       "    <tr>\n",
       "      <th>1</th>\n",
       "      <td>1.243018</td>\n",
       "      <td>0.178132</td>\n",
       "      <td>-0.786656</td>\n",
       "      <td>NaN</td>\n",
       "    </tr>\n",
       "    <tr>\n",
       "      <th>2</th>\n",
       "      <td>0.560158</td>\n",
       "      <td>-0.921156</td>\n",
       "      <td>2.056689</td>\n",
       "      <td>NaN</td>\n",
       "    </tr>\n",
       "    <tr>\n",
       "      <th>3</th>\n",
       "      <td>0.855240</td>\n",
       "      <td>-0.802991</td>\n",
       "      <td>0.525363</td>\n",
       "      <td>NaN</td>\n",
       "    </tr>\n",
       "    <tr>\n",
       "      <th>4</th>\n",
       "      <td>1.323882</td>\n",
       "      <td>1.310846</td>\n",
       "      <td>1.782414</td>\n",
       "      <td>NaN</td>\n",
       "    </tr>\n",
       "    <tr>\n",
       "      <th>5</th>\n",
       "      <td>-1.144900</td>\n",
       "      <td>0.969020</td>\n",
       "      <td>-0.165516</td>\n",
       "      <td>NaN</td>\n",
       "    </tr>\n",
       "    <tr>\n",
       "      <th>6</th>\n",
       "      <td>3.364037</td>\n",
       "      <td>-0.412587</td>\n",
       "      <td>1.088907</td>\n",
       "      <td>NaN</td>\n",
       "    </tr>\n",
       "    <tr>\n",
       "      <th>7</th>\n",
       "      <td>NaN</td>\n",
       "      <td>NaN</td>\n",
       "      <td>NaN</td>\n",
       "      <td>NaN</td>\n",
       "    </tr>\n",
       "    <tr>\n",
       "      <th>8</th>\n",
       "      <td>NaN</td>\n",
       "      <td>NaN</td>\n",
       "      <td>NaN</td>\n",
       "      <td>NaN</td>\n",
       "    </tr>\n",
       "    <tr>\n",
       "      <th>9</th>\n",
       "      <td>NaN</td>\n",
       "      <td>NaN</td>\n",
       "      <td>NaN</td>\n",
       "      <td>NaN</td>\n",
       "    </tr>\n",
       "  </tbody>\n",
       "</table>\n",
       "</div>"
      ],
      "text/plain": [
       "          A         B         C   D\n",
       "0 -0.368352 -0.879021 -1.885071 NaN\n",
       "1  1.243018  0.178132 -0.786656 NaN\n",
       "2  0.560158 -0.921156  2.056689 NaN\n",
       "3  0.855240 -0.802991  0.525363 NaN\n",
       "4  1.323882  1.310846  1.782414 NaN\n",
       "5 -1.144900  0.969020 -0.165516 NaN\n",
       "6  3.364037 -0.412587  1.088907 NaN\n",
       "7       NaN       NaN       NaN NaN\n",
       "8       NaN       NaN       NaN NaN\n",
       "9       NaN       NaN       NaN NaN"
      ]
     },
     "execution_count": 66,
     "metadata": {},
     "output_type": "execute_result"
    }
   ],
   "source": [
    "df2=pd.DataFrame(np.random.randn(7,3),columns=['A','B','C'])\n",
    "df+df2"
   ]
  },
  {
   "cell_type": "code",
   "execution_count": 67,
   "metadata": {
    "colab": {
     "base_uri": "https://localhost:8080/",
     "height": 343
    },
    "executionInfo": {
     "elapsed": 662,
     "status": "ok",
     "timestamp": 1601240494700,
     "user": {
      "displayName": "Тимур Венерович Аминов",
      "photoUrl": "",
      "userId": "01767416500508857561"
     },
     "user_tz": -180
    },
    "id": "QpTX2KqQM2V2",
    "outputId": "10368498-c83f-4cc9-c38d-a3ff3ca53d5f"
   },
   "outputs": [
    {
     "data": {
      "text/html": [
       "<div>\n",
       "<style scoped>\n",
       "    .dataframe tbody tr th:only-of-type {\n",
       "        vertical-align: middle;\n",
       "    }\n",
       "\n",
       "    .dataframe tbody tr th {\n",
       "        vertical-align: top;\n",
       "    }\n",
       "\n",
       "    .dataframe thead th {\n",
       "        text-align: right;\n",
       "    }\n",
       "</style>\n",
       "<table border=\"1\" class=\"dataframe\">\n",
       "  <thead>\n",
       "    <tr style=\"text-align: right;\">\n",
       "      <th></th>\n",
       "      <th>A</th>\n",
       "      <th>B</th>\n",
       "      <th>C</th>\n",
       "      <th>D</th>\n",
       "    </tr>\n",
       "  </thead>\n",
       "  <tbody>\n",
       "    <tr>\n",
       "      <th>0</th>\n",
       "      <td>0.613216</td>\n",
       "      <td>1.003580</td>\n",
       "      <td>1.179337</td>\n",
       "      <td>1.706971</td>\n",
       "    </tr>\n",
       "    <tr>\n",
       "      <th>1</th>\n",
       "      <td>8.232495</td>\n",
       "      <td>3.108642</td>\n",
       "      <td>0.462922</td>\n",
       "      <td>0.144675</td>\n",
       "    </tr>\n",
       "    <tr>\n",
       "      <th>2</th>\n",
       "      <td>-0.224951</td>\n",
       "      <td>1.989402</td>\n",
       "      <td>4.948856</td>\n",
       "      <td>5.954922</td>\n",
       "    </tr>\n",
       "    <tr>\n",
       "      <th>3</th>\n",
       "      <td>2.563194</td>\n",
       "      <td>3.086103</td>\n",
       "      <td>5.030488</td>\n",
       "      <td>6.315494</td>\n",
       "    </tr>\n",
       "    <tr>\n",
       "      <th>4</th>\n",
       "      <td>4.151680</td>\n",
       "      <td>3.590261</td>\n",
       "      <td>3.096885</td>\n",
       "      <td>2.070753</td>\n",
       "    </tr>\n",
       "    <tr>\n",
       "      <th>5</th>\n",
       "      <td>5.114700</td>\n",
       "      <td>5.649464</td>\n",
       "      <td>4.842872</td>\n",
       "      <td>0.416244</td>\n",
       "    </tr>\n",
       "    <tr>\n",
       "      <th>6</th>\n",
       "      <td>6.877168</td>\n",
       "      <td>1.794298</td>\n",
       "      <td>4.755834</td>\n",
       "      <td>1.928273</td>\n",
       "    </tr>\n",
       "    <tr>\n",
       "      <th>7</th>\n",
       "      <td>3.175861</td>\n",
       "      <td>2.006358</td>\n",
       "      <td>2.888718</td>\n",
       "      <td>1.910340</td>\n",
       "    </tr>\n",
       "    <tr>\n",
       "      <th>8</th>\n",
       "      <td>2.357702</td>\n",
       "      <td>4.448488</td>\n",
       "      <td>2.773469</td>\n",
       "      <td>1.250009</td>\n",
       "    </tr>\n",
       "    <tr>\n",
       "      <th>9</th>\n",
       "      <td>4.178283</td>\n",
       "      <td>4.588878</td>\n",
       "      <td>1.020323</td>\n",
       "      <td>8.168726</td>\n",
       "    </tr>\n",
       "  </tbody>\n",
       "</table>\n",
       "</div>"
      ],
      "text/plain": [
       "          A         B         C         D\n",
       "0  0.613216  1.003580  1.179337  1.706971\n",
       "1  8.232495  3.108642  0.462922  0.144675\n",
       "2 -0.224951  1.989402  4.948856  5.954922\n",
       "3  2.563194  3.086103  5.030488  6.315494\n",
       "4  4.151680  3.590261  3.096885  2.070753\n",
       "5  5.114700  5.649464  4.842872  0.416244\n",
       "6  6.877168  1.794298  4.755834  1.928273\n",
       "7  3.175861  2.006358  2.888718  1.910340\n",
       "8  2.357702  4.448488  2.773469  1.250009\n",
       "9  4.178283  4.588878  1.020323  8.168726"
      ]
     },
     "execution_count": 67,
     "metadata": {},
     "output_type": "execute_result"
    }
   ],
   "source": [
    "2*df+3"
   ]
  },
  {
   "cell_type": "code",
   "execution_count": 68,
   "metadata": {
    "colab": {
     "base_uri": "https://localhost:8080/",
     "height": 343
    },
    "executionInfo": {
     "elapsed": 388,
     "status": "ok",
     "timestamp": 1601240495037,
     "user": {
      "displayName": "Тимур Венерович Аминов",
      "photoUrl": "",
      "userId": "01767416500508857561"
     },
     "user_tz": -180
    },
    "id": "hg8QBQzKM2V9",
    "outputId": "f6b040c8-dd47-4a40-9a8b-d3dd072b1562"
   },
   "outputs": [
    {
     "data": {
      "text/html": [
       "<div>\n",
       "<style scoped>\n",
       "    .dataframe tbody tr th:only-of-type {\n",
       "        vertical-align: middle;\n",
       "    }\n",
       "\n",
       "    .dataframe tbody tr th {\n",
       "        vertical-align: top;\n",
       "    }\n",
       "\n",
       "    .dataframe thead th {\n",
       "        text-align: right;\n",
       "    }\n",
       "</style>\n",
       "<table border=\"1\" class=\"dataframe\">\n",
       "  <thead>\n",
       "    <tr style=\"text-align: right;\">\n",
       "      <th></th>\n",
       "      <th>A</th>\n",
       "      <th>B</th>\n",
       "      <th>C</th>\n",
       "      <th>D</th>\n",
       "    </tr>\n",
       "  </thead>\n",
       "  <tbody>\n",
       "    <tr>\n",
       "      <th>0</th>\n",
       "      <td>-0.929624</td>\n",
       "      <td>-0.840503</td>\n",
       "      <td>-0.789707</td>\n",
       "      <td>-0.602408</td>\n",
       "    </tr>\n",
       "    <tr>\n",
       "      <th>1</th>\n",
       "      <td>0.501512</td>\n",
       "      <td>0.054294</td>\n",
       "      <td>-0.954667</td>\n",
       "      <td>-0.989774</td>\n",
       "    </tr>\n",
       "    <tr>\n",
       "      <th>2</th>\n",
       "      <td>-0.999132</td>\n",
       "      <td>-0.484069</td>\n",
       "      <td>0.827381</td>\n",
       "      <td>0.995647</td>\n",
       "    </tr>\n",
       "    <tr>\n",
       "      <th>3</th>\n",
       "      <td>-0.216671</td>\n",
       "      <td>0.043038</td>\n",
       "      <td>0.849609</td>\n",
       "      <td>0.996222</td>\n",
       "    </tr>\n",
       "    <tr>\n",
       "      <th>4</th>\n",
       "      <td>0.544540</td>\n",
       "      <td>0.290865</td>\n",
       "      <td>0.048424</td>\n",
       "      <td>-0.448086</td>\n",
       "    </tr>\n",
       "    <tr>\n",
       "      <th>5</th>\n",
       "      <td>0.871057</td>\n",
       "      <td>0.969879</td>\n",
       "      <td>0.796471</td>\n",
       "      <td>-0.961354</td>\n",
       "    </tr>\n",
       "    <tr>\n",
       "      <th>6</th>\n",
       "      <td>0.933125</td>\n",
       "      <td>-0.566993</td>\n",
       "      <td>0.769410</td>\n",
       "      <td>-0.510584</td>\n",
       "    </tr>\n",
       "    <tr>\n",
       "      <th>7</th>\n",
       "      <td>0.087817</td>\n",
       "      <td>-0.476633</td>\n",
       "      <td>-0.055612</td>\n",
       "      <td>-0.518273</td>\n",
       "    </tr>\n",
       "    <tr>\n",
       "      <th>8</th>\n",
       "      <td>-0.315657</td>\n",
       "      <td>0.662569</td>\n",
       "      <td>-0.113024</td>\n",
       "      <td>-0.767541</td>\n",
       "    </tr>\n",
       "    <tr>\n",
       "      <th>9</th>\n",
       "      <td>0.555647</td>\n",
       "      <td>0.713471</td>\n",
       "      <td>-0.835937</td>\n",
       "      <td>0.528837</td>\n",
       "    </tr>\n",
       "  </tbody>\n",
       "</table>\n",
       "</div>"
      ],
      "text/plain": [
       "          A         B         C         D\n",
       "0 -0.929624 -0.840503 -0.789707 -0.602408\n",
       "1  0.501512  0.054294 -0.954667 -0.989774\n",
       "2 -0.999132 -0.484069  0.827381  0.995647\n",
       "3 -0.216671  0.043038  0.849609  0.996222\n",
       "4  0.544540  0.290865  0.048424 -0.448086\n",
       "5  0.871057  0.969879  0.796471 -0.961354\n",
       "6  0.933125 -0.566993  0.769410 -0.510584\n",
       "7  0.087817 -0.476633 -0.055612 -0.518273\n",
       "8 -0.315657  0.662569 -0.113024 -0.767541\n",
       "9  0.555647  0.713471 -0.835937  0.528837"
      ]
     },
     "execution_count": 68,
     "metadata": {},
     "output_type": "execute_result"
    }
   ],
   "source": [
    "np.sin(df)"
   ]
  },
  {
   "cell_type": "code",
   "execution_count": 69,
   "metadata": {
    "colab": {
     "base_uri": "https://localhost:8080/",
     "height": 284
    },
    "executionInfo": {
     "elapsed": 469,
     "status": "ok",
     "timestamp": 1601240495956,
     "user": {
      "displayName": "Тимур Венерович Аминов",
      "photoUrl": "",
      "userId": "01767416500508857561"
     },
     "user_tz": -180
    },
    "id": "ku1btLB0M2WA",
    "outputId": "09c45891-a9b9-4452-a8d6-45095e7ec191"
   },
   "outputs": [
    {
     "data": {
      "text/html": [
       "<div>\n",
       "<style scoped>\n",
       "    .dataframe tbody tr th:only-of-type {\n",
       "        vertical-align: middle;\n",
       "    }\n",
       "\n",
       "    .dataframe tbody tr th {\n",
       "        vertical-align: top;\n",
       "    }\n",
       "\n",
       "    .dataframe thead th {\n",
       "        text-align: right;\n",
       "    }\n",
       "</style>\n",
       "<table border=\"1\" class=\"dataframe\">\n",
       "  <thead>\n",
       "    <tr style=\"text-align: right;\">\n",
       "      <th></th>\n",
       "      <th>A</th>\n",
       "      <th>B</th>\n",
       "      <th>C</th>\n",
       "      <th>D</th>\n",
       "    </tr>\n",
       "  </thead>\n",
       "  <tbody>\n",
       "    <tr>\n",
       "      <th>count</th>\n",
       "      <td>10.000000</td>\n",
       "      <td>10.000000</td>\n",
       "      <td>10.000000</td>\n",
       "      <td>10.000000</td>\n",
       "    </tr>\n",
       "    <tr>\n",
       "      <th>mean</th>\n",
       "      <td>0.351967</td>\n",
       "      <td>0.063274</td>\n",
       "      <td>0.049985</td>\n",
       "      <td>-0.006680</td>\n",
       "    </tr>\n",
       "    <tr>\n",
       "      <th>std</th>\n",
       "      <td>1.305695</td>\n",
       "      <td>0.732155</td>\n",
       "      <td>0.882608</td>\n",
       "      <td>1.386448</td>\n",
       "    </tr>\n",
       "    <tr>\n",
       "      <th>min</th>\n",
       "      <td>-1.612475</td>\n",
       "      <td>-0.998210</td>\n",
       "      <td>-1.268539</td>\n",
       "      <td>-1.427663</td>\n",
       "    </tr>\n",
       "    <tr>\n",
       "      <th>25%</th>\n",
       "      <td>-0.295462</td>\n",
       "      <td>-0.503180</td>\n",
       "      <td>-0.711065</td>\n",
       "      <td>-0.817875</td>\n",
       "    </tr>\n",
       "    <tr>\n",
       "      <th>50%</th>\n",
       "      <td>0.331885</td>\n",
       "      <td>0.048686</td>\n",
       "      <td>-0.003599</td>\n",
       "      <td>-0.540347</td>\n",
       "    </tr>\n",
       "    <tr>\n",
       "      <th>75%</th>\n",
       "      <td>0.940298</td>\n",
       "      <td>0.616966</td>\n",
       "      <td>0.910556</td>\n",
       "      <td>0.991940</td>\n",
       "    </tr>\n",
       "    <tr>\n",
       "      <th>max</th>\n",
       "      <td>2.616247</td>\n",
       "      <td>1.324732</td>\n",
       "      <td>1.015244</td>\n",
       "      <td>2.584363</td>\n",
       "    </tr>\n",
       "  </tbody>\n",
       "</table>\n",
       "</div>"
      ],
      "text/plain": [
       "               A          B          C          D\n",
       "count  10.000000  10.000000  10.000000  10.000000\n",
       "mean    0.351967   0.063274   0.049985  -0.006680\n",
       "std     1.305695   0.732155   0.882608   1.386448\n",
       "min    -1.612475  -0.998210  -1.268539  -1.427663\n",
       "25%    -0.295462  -0.503180  -0.711065  -0.817875\n",
       "50%     0.331885   0.048686  -0.003599  -0.540347\n",
       "75%     0.940298   0.616966   0.910556   0.991940\n",
       "max     2.616247   1.324732   1.015244   2.584363"
      ]
     },
     "execution_count": 69,
     "metadata": {},
     "output_type": "execute_result"
    }
   ],
   "source": [
    "df.describe()"
   ]
  },
  {
   "cell_type": "code",
   "execution_count": 70,
   "metadata": {
    "colab": {
     "base_uri": "https://localhost:8080/",
     "height": 343
    },
    "executionInfo": {
     "elapsed": 465,
     "status": "ok",
     "timestamp": 1601240497063,
     "user": {
      "displayName": "Тимур Венерович Аминов",
      "photoUrl": "",
      "userId": "01767416500508857561"
     },
     "user_tz": -180
    },
    "id": "sMOlHDFsM2WG",
    "outputId": "9620ef38-336f-4aaa-f49a-89ca28763ee8"
   },
   "outputs": [
    {
     "data": {
      "text/html": [
       "<div>\n",
       "<style scoped>\n",
       "    .dataframe tbody tr th:only-of-type {\n",
       "        vertical-align: middle;\n",
       "    }\n",
       "\n",
       "    .dataframe tbody tr th {\n",
       "        vertical-align: top;\n",
       "    }\n",
       "\n",
       "    .dataframe thead th {\n",
       "        text-align: right;\n",
       "    }\n",
       "</style>\n",
       "<table border=\"1\" class=\"dataframe\">\n",
       "  <thead>\n",
       "    <tr style=\"text-align: right;\">\n",
       "      <th></th>\n",
       "      <th>A</th>\n",
       "      <th>B</th>\n",
       "      <th>C</th>\n",
       "      <th>D</th>\n",
       "    </tr>\n",
       "  </thead>\n",
       "  <tbody>\n",
       "    <tr>\n",
       "      <th>0</th>\n",
       "      <td>-1.193392</td>\n",
       "      <td>-0.998210</td>\n",
       "      <td>-0.910331</td>\n",
       "      <td>-0.646515</td>\n",
       "    </tr>\n",
       "    <tr>\n",
       "      <th>6</th>\n",
       "      <td>1.938584</td>\n",
       "      <td>-0.602851</td>\n",
       "      <td>0.877917</td>\n",
       "      <td>-0.535864</td>\n",
       "    </tr>\n",
       "    <tr>\n",
       "      <th>2</th>\n",
       "      <td>-1.612475</td>\n",
       "      <td>-0.505299</td>\n",
       "      <td>0.974428</td>\n",
       "      <td>1.477461</td>\n",
       "    </tr>\n",
       "    <tr>\n",
       "      <th>7</th>\n",
       "      <td>0.087931</td>\n",
       "      <td>-0.496821</td>\n",
       "      <td>-0.055641</td>\n",
       "      <td>-0.544830</td>\n",
       "    </tr>\n",
       "    <tr>\n",
       "      <th>3</th>\n",
       "      <td>-0.218403</td>\n",
       "      <td>0.043052</td>\n",
       "      <td>1.015244</td>\n",
       "      <td>1.657747</td>\n",
       "    </tr>\n",
       "    <tr>\n",
       "      <th>1</th>\n",
       "      <td>2.616247</td>\n",
       "      <td>0.054321</td>\n",
       "      <td>-1.268539</td>\n",
       "      <td>-1.427663</td>\n",
       "    </tr>\n",
       "    <tr>\n",
       "      <th>4</th>\n",
       "      <td>0.575840</td>\n",
       "      <td>0.295130</td>\n",
       "      <td>0.048443</td>\n",
       "      <td>-0.464624</td>\n",
       "    </tr>\n",
       "    <tr>\n",
       "      <th>8</th>\n",
       "      <td>-0.321149</td>\n",
       "      <td>0.724244</td>\n",
       "      <td>-0.113266</td>\n",
       "      <td>-0.874996</td>\n",
       "    </tr>\n",
       "    <tr>\n",
       "      <th>9</th>\n",
       "      <td>0.589142</td>\n",
       "      <td>0.794439</td>\n",
       "      <td>-0.989838</td>\n",
       "      <td>2.584363</td>\n",
       "    </tr>\n",
       "    <tr>\n",
       "      <th>5</th>\n",
       "      <td>1.057350</td>\n",
       "      <td>1.324732</td>\n",
       "      <td>0.921436</td>\n",
       "      <td>-1.291878</td>\n",
       "    </tr>\n",
       "  </tbody>\n",
       "</table>\n",
       "</div>"
      ],
      "text/plain": [
       "          A         B         C         D\n",
       "0 -1.193392 -0.998210 -0.910331 -0.646515\n",
       "6  1.938584 -0.602851  0.877917 -0.535864\n",
       "2 -1.612475 -0.505299  0.974428  1.477461\n",
       "7  0.087931 -0.496821 -0.055641 -0.544830\n",
       "3 -0.218403  0.043052  1.015244  1.657747\n",
       "1  2.616247  0.054321 -1.268539 -1.427663\n",
       "4  0.575840  0.295130  0.048443 -0.464624\n",
       "8 -0.321149  0.724244 -0.113266 -0.874996\n",
       "9  0.589142  0.794439 -0.989838  2.584363\n",
       "5  1.057350  1.324732  0.921436 -1.291878"
      ]
     },
     "execution_count": 70,
     "metadata": {},
     "output_type": "execute_result"
    }
   ],
   "source": [
    "df.sort_values(by='B')"
   ]
  },
  {
   "cell_type": "code",
   "execution_count": 71,
   "metadata": {
    "colab": {
     "base_uri": "https://localhost:8080/",
     "height": 343
    },
    "executionInfo": {
     "elapsed": 578,
     "status": "ok",
     "timestamp": 1601240498242,
     "user": {
      "displayName": "Тимур Венерович Аминов",
      "photoUrl": "",
      "userId": "01767416500508857561"
     },
     "user_tz": -180
    },
    "id": "BxG8rEgbM2WI",
    "outputId": "03e37c2d-8225-4b2e-fc8d-76b4a68d38b1"
   },
   "outputs": [
    {
     "data": {
      "text/html": [
       "<div>\n",
       "<style scoped>\n",
       "    .dataframe tbody tr th:only-of-type {\n",
       "        vertical-align: middle;\n",
       "    }\n",
       "\n",
       "    .dataframe tbody tr th {\n",
       "        vertical-align: top;\n",
       "    }\n",
       "\n",
       "    .dataframe thead th {\n",
       "        text-align: right;\n",
       "    }\n",
       "</style>\n",
       "<table border=\"1\" class=\"dataframe\">\n",
       "  <thead>\n",
       "    <tr style=\"text-align: right;\">\n",
       "      <th></th>\n",
       "      <th>A</th>\n",
       "      <th>B</th>\n",
       "      <th>C</th>\n",
       "      <th>D</th>\n",
       "    </tr>\n",
       "  </thead>\n",
       "  <tbody>\n",
       "    <tr>\n",
       "      <th>0</th>\n",
       "      <td>-2.386784</td>\n",
       "      <td>-1.996420</td>\n",
       "      <td>-1.820663</td>\n",
       "      <td>-1.293029</td>\n",
       "    </tr>\n",
       "    <tr>\n",
       "      <th>1</th>\n",
       "      <td>5.232495</td>\n",
       "      <td>0.108642</td>\n",
       "      <td>-2.537078</td>\n",
       "      <td>-2.855325</td>\n",
       "    </tr>\n",
       "    <tr>\n",
       "      <th>2</th>\n",
       "      <td>-3.224951</td>\n",
       "      <td>-1.010598</td>\n",
       "      <td>1.948856</td>\n",
       "      <td>2.954922</td>\n",
       "    </tr>\n",
       "    <tr>\n",
       "      <th>3</th>\n",
       "      <td>-0.436806</td>\n",
       "      <td>0.086103</td>\n",
       "      <td>2.030488</td>\n",
       "      <td>3.315494</td>\n",
       "    </tr>\n",
       "    <tr>\n",
       "      <th>4</th>\n",
       "      <td>1.151680</td>\n",
       "      <td>0.590261</td>\n",
       "      <td>0.096885</td>\n",
       "      <td>-0.929247</td>\n",
       "    </tr>\n",
       "    <tr>\n",
       "      <th>5</th>\n",
       "      <td>2.114700</td>\n",
       "      <td>2.649464</td>\n",
       "      <td>1.842872</td>\n",
       "      <td>-2.583756</td>\n",
       "    </tr>\n",
       "    <tr>\n",
       "      <th>6</th>\n",
       "      <td>3.877168</td>\n",
       "      <td>-1.205702</td>\n",
       "      <td>1.755834</td>\n",
       "      <td>-1.071727</td>\n",
       "    </tr>\n",
       "    <tr>\n",
       "      <th>7</th>\n",
       "      <td>0.175861</td>\n",
       "      <td>-0.993642</td>\n",
       "      <td>-0.111282</td>\n",
       "      <td>-1.089660</td>\n",
       "    </tr>\n",
       "    <tr>\n",
       "      <th>8</th>\n",
       "      <td>-0.642298</td>\n",
       "      <td>1.448488</td>\n",
       "      <td>-0.226531</td>\n",
       "      <td>-1.749991</td>\n",
       "    </tr>\n",
       "    <tr>\n",
       "      <th>9</th>\n",
       "      <td>1.178283</td>\n",
       "      <td>1.588878</td>\n",
       "      <td>-1.979677</td>\n",
       "      <td>5.168726</td>\n",
       "    </tr>\n",
       "  </tbody>\n",
       "</table>\n",
       "</div>"
      ],
      "text/plain": [
       "          A         B         C         D\n",
       "0 -2.386784 -1.996420 -1.820663 -1.293029\n",
       "1  5.232495  0.108642 -2.537078 -2.855325\n",
       "2 -3.224951 -1.010598  1.948856  2.954922\n",
       "3 -0.436806  0.086103  2.030488  3.315494\n",
       "4  1.151680  0.590261  0.096885 -0.929247\n",
       "5  2.114700  2.649464  1.842872 -2.583756\n",
       "6  3.877168 -1.205702  1.755834 -1.071727\n",
       "7  0.175861 -0.993642 -0.111282 -1.089660\n",
       "8 -0.642298  1.448488 -0.226531 -1.749991\n",
       "9  1.178283  1.588878 -1.979677  5.168726"
      ]
     },
     "execution_count": 71,
     "metadata": {},
     "output_type": "execute_result"
    }
   ],
   "source": [
    "df.sort_values(by='B')+df"
   ]
  },
  {
   "cell_type": "code",
   "execution_count": null,
   "metadata": {
    "executionInfo": {
     "elapsed": 666,
     "status": "ok",
     "timestamp": 1601240530504,
     "user": {
      "displayName": "Тимур Венерович Аминов",
      "photoUrl": "",
      "userId": "01767416500508857561"
     },
     "user_tz": -180
    },
    "id": "itQo61__M2WL"
   },
   "outputs": [],
   "source": []
  },
  {
   "cell_type": "markdown",
   "metadata": {
    "id": "AISWuE3GM2WM"
   },
   "source": [
    "Атрибут iloc подобен loc: первый индекс - номер строки, второй - номер столбца. Это целые числа, конец диапазона на включается (как обычно в питоне)."
   ]
  },
  {
   "cell_type": "code",
   "execution_count": 72,
   "metadata": {
    "colab": {
     "base_uri": "https://localhost:8080/",
     "height": 101
    },
    "executionInfo": {
     "elapsed": 534,
     "status": "ok",
     "timestamp": 1601240530968,
     "user": {
      "displayName": "Тимур Венерович Аминов",
      "photoUrl": "",
      "userId": "01767416500508857561"
     },
     "user_tz": -180
    },
    "id": "1jHMjQAnM2WM",
    "outputId": "78ec2ba7-8349-4672-8739-1e80bd136327"
   },
   "outputs": [
    {
     "data": {
      "text/plain": [
       "A   -1.612475\n",
       "B   -0.505299\n",
       "C    0.974428\n",
       "D    1.477461\n",
       "Name: 2, dtype: float64"
      ]
     },
     "execution_count": 72,
     "metadata": {},
     "output_type": "execute_result"
    }
   ],
   "source": [
    "df.iloc[2]"
   ]
  },
  {
   "cell_type": "code",
   "execution_count": 73,
   "metadata": {
    "colab": {
     "base_uri": "https://localhost:8080/",
     "height": 106
    },
    "executionInfo": {
     "elapsed": 499,
     "status": "ok",
     "timestamp": 1601240531752,
     "user": {
      "displayName": "Тимур Венерович Аминов",
      "photoUrl": "",
      "userId": "01767416500508857561"
     },
     "user_tz": -180
    },
    "id": "Mi3GNSZ7M2WO",
    "outputId": "7727d8c6-ac19-40d7-c76f-a81647a107f4"
   },
   "outputs": [
    {
     "data": {
      "text/html": [
       "<div>\n",
       "<style scoped>\n",
       "    .dataframe tbody tr th:only-of-type {\n",
       "        vertical-align: middle;\n",
       "    }\n",
       "\n",
       "    .dataframe tbody tr th {\n",
       "        vertical-align: top;\n",
       "    }\n",
       "\n",
       "    .dataframe thead th {\n",
       "        text-align: right;\n",
       "    }\n",
       "</style>\n",
       "<table border=\"1\" class=\"dataframe\">\n",
       "  <thead>\n",
       "    <tr style=\"text-align: right;\">\n",
       "      <th></th>\n",
       "      <th>A</th>\n",
       "      <th>B</th>\n",
       "      <th>C</th>\n",
       "      <th>D</th>\n",
       "    </tr>\n",
       "  </thead>\n",
       "  <tbody>\n",
       "    <tr>\n",
       "      <th>1</th>\n",
       "      <td>2.616247</td>\n",
       "      <td>0.054321</td>\n",
       "      <td>-1.268539</td>\n",
       "      <td>-1.427663</td>\n",
       "    </tr>\n",
       "    <tr>\n",
       "      <th>2</th>\n",
       "      <td>-1.612475</td>\n",
       "      <td>-0.505299</td>\n",
       "      <td>0.974428</td>\n",
       "      <td>1.477461</td>\n",
       "    </tr>\n",
       "  </tbody>\n",
       "</table>\n",
       "</div>"
      ],
      "text/plain": [
       "          A         B         C         D\n",
       "1  2.616247  0.054321 -1.268539 -1.427663\n",
       "2 -1.612475 -0.505299  0.974428  1.477461"
      ]
     },
     "execution_count": 73,
     "metadata": {},
     "output_type": "execute_result"
    }
   ],
   "source": [
    "df.iloc[1:3]"
   ]
  },
  {
   "cell_type": "code",
   "execution_count": 74,
   "metadata": {
    "colab": {
     "base_uri": "https://localhost:8080/",
     "height": 106
    },
    "executionInfo": {
     "elapsed": 692,
     "status": "ok",
     "timestamp": 1601240536729,
     "user": {
      "displayName": "Тимур Венерович Аминов",
      "photoUrl": "",
      "userId": "01767416500508857561"
     },
     "user_tz": -180
    },
    "id": "FxC3Tzx-M2WR",
    "outputId": "7ad4ae9e-681f-40ea-b3f8-df214bd76223"
   },
   "outputs": [
    {
     "data": {
      "text/html": [
       "<div>\n",
       "<style scoped>\n",
       "    .dataframe tbody tr th:only-of-type {\n",
       "        vertical-align: middle;\n",
       "    }\n",
       "\n",
       "    .dataframe tbody tr th {\n",
       "        vertical-align: top;\n",
       "    }\n",
       "\n",
       "    .dataframe thead th {\n",
       "        text-align: right;\n",
       "    }\n",
       "</style>\n",
       "<table border=\"1\" class=\"dataframe\">\n",
       "  <thead>\n",
       "    <tr style=\"text-align: right;\">\n",
       "      <th></th>\n",
       "      <th>A</th>\n",
       "      <th>B</th>\n",
       "    </tr>\n",
       "  </thead>\n",
       "  <tbody>\n",
       "    <tr>\n",
       "      <th>1</th>\n",
       "      <td>2.616247</td>\n",
       "      <td>0.054321</td>\n",
       "    </tr>\n",
       "    <tr>\n",
       "      <th>2</th>\n",
       "      <td>-1.612475</td>\n",
       "      <td>-0.505299</td>\n",
       "    </tr>\n",
       "  </tbody>\n",
       "</table>\n",
       "</div>"
      ],
      "text/plain": [
       "          A         B\n",
       "1  2.616247  0.054321\n",
       "2 -1.612475 -0.505299"
      ]
     },
     "execution_count": 74,
     "metadata": {},
     "output_type": "execute_result"
    }
   ],
   "source": [
    "df.iloc[1:3,0:2]"
   ]
  },
  {
   "cell_type": "markdown",
   "metadata": {
    "id": "iAfAnWt2M2WS"
   },
   "source": [
    "кумулятивные суммы"
   ]
  },
  {
   "cell_type": "code",
   "execution_count": 75,
   "metadata": {
    "colab": {
     "base_uri": "https://localhost:8080/",
     "height": 343
    },
    "executionInfo": {
     "elapsed": 791,
     "status": "ok",
     "timestamp": 1601240696418,
     "user": {
      "displayName": "Тимур Венерович Аминов",
      "photoUrl": "",
      "userId": "01767416500508857561"
     },
     "user_tz": -180
    },
    "id": "rGPy8XsfYffH",
    "outputId": "40ba8dc1-8a40-436b-ffcf-732c08a6483b"
   },
   "outputs": [
    {
     "data": {
      "text/html": [
       "<div>\n",
       "<style scoped>\n",
       "    .dataframe tbody tr th:only-of-type {\n",
       "        vertical-align: middle;\n",
       "    }\n",
       "\n",
       "    .dataframe tbody tr th {\n",
       "        vertical-align: top;\n",
       "    }\n",
       "\n",
       "    .dataframe thead th {\n",
       "        text-align: right;\n",
       "    }\n",
       "</style>\n",
       "<table border=\"1\" class=\"dataframe\">\n",
       "  <thead>\n",
       "    <tr style=\"text-align: right;\">\n",
       "      <th></th>\n",
       "      <th>A</th>\n",
       "      <th>B</th>\n",
       "      <th>C</th>\n",
       "      <th>D</th>\n",
       "    </tr>\n",
       "  </thead>\n",
       "  <tbody>\n",
       "    <tr>\n",
       "      <th>0</th>\n",
       "      <td>-1.193392</td>\n",
       "      <td>-0.998210</td>\n",
       "      <td>-0.910331</td>\n",
       "      <td>-0.646515</td>\n",
       "    </tr>\n",
       "    <tr>\n",
       "      <th>1</th>\n",
       "      <td>2.616247</td>\n",
       "      <td>0.054321</td>\n",
       "      <td>-1.268539</td>\n",
       "      <td>-1.427663</td>\n",
       "    </tr>\n",
       "    <tr>\n",
       "      <th>2</th>\n",
       "      <td>-1.612475</td>\n",
       "      <td>-0.505299</td>\n",
       "      <td>0.974428</td>\n",
       "      <td>1.477461</td>\n",
       "    </tr>\n",
       "    <tr>\n",
       "      <th>3</th>\n",
       "      <td>-0.218403</td>\n",
       "      <td>0.043052</td>\n",
       "      <td>1.015244</td>\n",
       "      <td>1.657747</td>\n",
       "    </tr>\n",
       "    <tr>\n",
       "      <th>4</th>\n",
       "      <td>0.575840</td>\n",
       "      <td>0.295130</td>\n",
       "      <td>0.048443</td>\n",
       "      <td>-0.464624</td>\n",
       "    </tr>\n",
       "    <tr>\n",
       "      <th>5</th>\n",
       "      <td>1.057350</td>\n",
       "      <td>1.324732</td>\n",
       "      <td>0.921436</td>\n",
       "      <td>-1.291878</td>\n",
       "    </tr>\n",
       "    <tr>\n",
       "      <th>6</th>\n",
       "      <td>1.938584</td>\n",
       "      <td>-0.602851</td>\n",
       "      <td>0.877917</td>\n",
       "      <td>-0.535864</td>\n",
       "    </tr>\n",
       "    <tr>\n",
       "      <th>7</th>\n",
       "      <td>0.087931</td>\n",
       "      <td>-0.496821</td>\n",
       "      <td>-0.055641</td>\n",
       "      <td>-0.544830</td>\n",
       "    </tr>\n",
       "    <tr>\n",
       "      <th>8</th>\n",
       "      <td>-0.321149</td>\n",
       "      <td>0.724244</td>\n",
       "      <td>-0.113266</td>\n",
       "      <td>-0.874996</td>\n",
       "    </tr>\n",
       "    <tr>\n",
       "      <th>9</th>\n",
       "      <td>0.589142</td>\n",
       "      <td>0.794439</td>\n",
       "      <td>-0.989838</td>\n",
       "      <td>2.584363</td>\n",
       "    </tr>\n",
       "  </tbody>\n",
       "</table>\n",
       "</div>"
      ],
      "text/plain": [
       "          A         B         C         D\n",
       "0 -1.193392 -0.998210 -0.910331 -0.646515\n",
       "1  2.616247  0.054321 -1.268539 -1.427663\n",
       "2 -1.612475 -0.505299  0.974428  1.477461\n",
       "3 -0.218403  0.043052  1.015244  1.657747\n",
       "4  0.575840  0.295130  0.048443 -0.464624\n",
       "5  1.057350  1.324732  0.921436 -1.291878\n",
       "6  1.938584 -0.602851  0.877917 -0.535864\n",
       "7  0.087931 -0.496821 -0.055641 -0.544830\n",
       "8 -0.321149  0.724244 -0.113266 -0.874996\n",
       "9  0.589142  0.794439 -0.989838  2.584363"
      ]
     },
     "execution_count": 75,
     "metadata": {},
     "output_type": "execute_result"
    }
   ],
   "source": [
    "df"
   ]
  },
  {
   "cell_type": "code",
   "execution_count": 76,
   "metadata": {
    "colab": {
     "base_uri": "https://localhost:8080/",
     "height": 343
    },
    "executionInfo": {
     "elapsed": 621,
     "status": "ok",
     "timestamp": 1601240713128,
     "user": {
      "displayName": "Тимур Венерович Аминов",
      "photoUrl": "",
      "userId": "01767416500508857561"
     },
     "user_tz": -180
    },
    "id": "okRBZTk8M2WT",
    "outputId": "5d5ebd98-ceac-43b0-d514-d0c527e27ee9"
   },
   "outputs": [
    {
     "data": {
      "text/html": [
       "<div>\n",
       "<style scoped>\n",
       "    .dataframe tbody tr th:only-of-type {\n",
       "        vertical-align: middle;\n",
       "    }\n",
       "\n",
       "    .dataframe tbody tr th {\n",
       "        vertical-align: top;\n",
       "    }\n",
       "\n",
       "    .dataframe thead th {\n",
       "        text-align: right;\n",
       "    }\n",
       "</style>\n",
       "<table border=\"1\" class=\"dataframe\">\n",
       "  <thead>\n",
       "    <tr style=\"text-align: right;\">\n",
       "      <th></th>\n",
       "      <th>A</th>\n",
       "      <th>B</th>\n",
       "      <th>C</th>\n",
       "      <th>D</th>\n",
       "    </tr>\n",
       "  </thead>\n",
       "  <tbody>\n",
       "    <tr>\n",
       "      <th>0</th>\n",
       "      <td>-1.193392</td>\n",
       "      <td>-0.998210</td>\n",
       "      <td>-0.910331</td>\n",
       "      <td>-0.646515</td>\n",
       "    </tr>\n",
       "    <tr>\n",
       "      <th>1</th>\n",
       "      <td>1.422855</td>\n",
       "      <td>-0.943889</td>\n",
       "      <td>-2.178871</td>\n",
       "      <td>-2.074177</td>\n",
       "    </tr>\n",
       "    <tr>\n",
       "      <th>2</th>\n",
       "      <td>-0.189620</td>\n",
       "      <td>-1.449188</td>\n",
       "      <td>-1.204443</td>\n",
       "      <td>-0.596716</td>\n",
       "    </tr>\n",
       "    <tr>\n",
       "      <th>3</th>\n",
       "      <td>-0.408023</td>\n",
       "      <td>-1.406137</td>\n",
       "      <td>-0.189198</td>\n",
       "      <td>1.061031</td>\n",
       "    </tr>\n",
       "    <tr>\n",
       "      <th>4</th>\n",
       "      <td>0.167817</td>\n",
       "      <td>-1.111006</td>\n",
       "      <td>-0.140756</td>\n",
       "      <td>0.596407</td>\n",
       "    </tr>\n",
       "    <tr>\n",
       "      <th>5</th>\n",
       "      <td>1.225167</td>\n",
       "      <td>0.213726</td>\n",
       "      <td>0.780680</td>\n",
       "      <td>-0.695471</td>\n",
       "    </tr>\n",
       "    <tr>\n",
       "      <th>6</th>\n",
       "      <td>3.163751</td>\n",
       "      <td>-0.389125</td>\n",
       "      <td>1.658597</td>\n",
       "      <td>-1.231334</td>\n",
       "    </tr>\n",
       "    <tr>\n",
       "      <th>7</th>\n",
       "      <td>3.251682</td>\n",
       "      <td>-0.885946</td>\n",
       "      <td>1.602956</td>\n",
       "      <td>-1.776164</td>\n",
       "    </tr>\n",
       "    <tr>\n",
       "      <th>8</th>\n",
       "      <td>2.930533</td>\n",
       "      <td>-0.161702</td>\n",
       "      <td>1.489691</td>\n",
       "      <td>-2.651160</td>\n",
       "    </tr>\n",
       "    <tr>\n",
       "      <th>9</th>\n",
       "      <td>3.519675</td>\n",
       "      <td>0.632737</td>\n",
       "      <td>0.499852</td>\n",
       "      <td>-0.066797</td>\n",
       "    </tr>\n",
       "  </tbody>\n",
       "</table>\n",
       "</div>"
      ],
      "text/plain": [
       "          A         B         C         D\n",
       "0 -1.193392 -0.998210 -0.910331 -0.646515\n",
       "1  1.422855 -0.943889 -2.178871 -2.074177\n",
       "2 -0.189620 -1.449188 -1.204443 -0.596716\n",
       "3 -0.408023 -1.406137 -0.189198  1.061031\n",
       "4  0.167817 -1.111006 -0.140756  0.596407\n",
       "5  1.225167  0.213726  0.780680 -0.695471\n",
       "6  3.163751 -0.389125  1.658597 -1.231334\n",
       "7  3.251682 -0.885946  1.602956 -1.776164\n",
       "8  2.930533 -0.161702  1.489691 -2.651160\n",
       "9  3.519675  0.632737  0.499852 -0.066797"
      ]
     },
     "execution_count": 76,
     "metadata": {},
     "output_type": "execute_result"
    }
   ],
   "source": [
    "cs=df.cumsum(axis=0)\n",
    "cs"
   ]
  },
  {
   "cell_type": "code",
   "execution_count": 77,
   "metadata": {
    "colab": {
     "base_uri": "https://localhost:8080/",
     "height": 265
    },
    "executionInfo": {
     "elapsed": 963,
     "status": "ok",
     "timestamp": 1601240724481,
     "user": {
      "displayName": "Тимур Венерович Аминов",
      "photoUrl": "",
      "userId": "01767416500508857561"
     },
     "user_tz": -180
    },
    "id": "qJ6npqeYM2WU",
    "outputId": "99a3a508-7deb-42b8-cc35-d9d8d82b9681"
   },
   "outputs": [
    {
     "data": {
      "image/png": "[encoded data removed]",
      "text/plain": [
       "<Figure size 432x288 with 1 Axes>"
      ]
     },
     "metadata": {
      "needs_background": "light"
     },
     "output_type": "display_data"
    }
   ],
   "source": [
    "import matplotlib.pyplot as plt\n",
    "plt.plot(cs);"
   ]
  },
  {
   "cell_type": "code",
   "execution_count": 78,
   "metadata": {},
   "outputs": [
    {
     "data": {
      "text/html": [
       "<div>\n",
       "<style scoped>\n",
       "    .dataframe tbody tr th:only-of-type {\n",
       "        vertical-align: middle;\n",
       "    }\n",
       "\n",
       "    .dataframe tbody tr th {\n",
       "        vertical-align: top;\n",
       "    }\n",
       "\n",
       "    .dataframe thead th {\n",
       "        text-align: right;\n",
       "    }\n",
       "</style>\n",
       "<table border=\"1\" class=\"dataframe\">\n",
       "  <thead>\n",
       "    <tr style=\"text-align: right;\">\n",
       "      <th></th>\n",
       "      <th>A</th>\n",
       "      <th>B</th>\n",
       "      <th>C</th>\n",
       "      <th>D</th>\n",
       "    </tr>\n",
       "  </thead>\n",
       "  <tbody>\n",
       "    <tr>\n",
       "      <th>0</th>\n",
       "      <td>-1.193392</td>\n",
       "      <td>-0.998210</td>\n",
       "      <td>-0.910331</td>\n",
       "      <td>-0.646515</td>\n",
       "    </tr>\n",
       "    <tr>\n",
       "      <th>1</th>\n",
       "      <td>2.616247</td>\n",
       "      <td>0.054321</td>\n",
       "      <td>-1.268539</td>\n",
       "      <td>-1.427663</td>\n",
       "    </tr>\n",
       "  </tbody>\n",
       "</table>\n",
       "</div>"
      ],
      "text/plain": [
       "          A         B         C         D\n",
       "0 -1.193392 -0.998210 -0.910331 -0.646515\n",
       "1  2.616247  0.054321 -1.268539 -1.427663"
      ]
     },
     "execution_count": 78,
     "metadata": {},
     "output_type": "execute_result"
    }
   ],
   "source": [
    "df.head(2)"
   ]
  },
  {
   "cell_type": "code",
   "execution_count": 79,
   "metadata": {},
   "outputs": [
    {
     "data": {
      "text/html": [
       "<div>\n",
       "<style scoped>\n",
       "    .dataframe tbody tr th:only-of-type {\n",
       "        vertical-align: middle;\n",
       "    }\n",
       "\n",
       "    .dataframe tbody tr th {\n",
       "        vertical-align: top;\n",
       "    }\n",
       "\n",
       "    .dataframe thead th {\n",
       "        text-align: right;\n",
       "    }\n",
       "</style>\n",
       "<table border=\"1\" class=\"dataframe\">\n",
       "  <thead>\n",
       "    <tr style=\"text-align: right;\">\n",
       "      <th></th>\n",
       "      <th>A</th>\n",
       "      <th>B</th>\n",
       "      <th>C</th>\n",
       "      <th>D</th>\n",
       "    </tr>\n",
       "  </thead>\n",
       "  <tbody>\n",
       "    <tr>\n",
       "      <th>7</th>\n",
       "      <td>0.087931</td>\n",
       "      <td>-0.496821</td>\n",
       "      <td>-0.055641</td>\n",
       "      <td>-0.544830</td>\n",
       "    </tr>\n",
       "    <tr>\n",
       "      <th>8</th>\n",
       "      <td>-0.321149</td>\n",
       "      <td>0.724244</td>\n",
       "      <td>-0.113266</td>\n",
       "      <td>-0.874996</td>\n",
       "    </tr>\n",
       "    <tr>\n",
       "      <th>9</th>\n",
       "      <td>0.589142</td>\n",
       "      <td>0.794439</td>\n",
       "      <td>-0.989838</td>\n",
       "      <td>2.584363</td>\n",
       "    </tr>\n",
       "  </tbody>\n",
       "</table>\n",
       "</div>"
      ],
      "text/plain": [
       "          A         B         C         D\n",
       "7  0.087931 -0.496821 -0.055641 -0.544830\n",
       "8 -0.321149  0.724244 -0.113266 -0.874996\n",
       "9  0.589142  0.794439 -0.989838  2.584363"
      ]
     },
     "execution_count": 79,
     "metadata": {},
     "output_type": "execute_result"
    }
   ],
   "source": [
    "df.tail(3)"
   ]
  },
  {
   "cell_type": "code",
   "execution_count": null,
   "metadata": {},
   "outputs": [],
   "source": []
  }
 ],
 "metadata": {
  "anaconda-cloud": {},
  "colab": {
   "collapsed_sections": [
    "ypSyHP9eM2Ul"
   ],
   "name": "3.pandas.ipynb",
   "provenance": [
    {
     "file_id": "https://github.com/hocop/sberbank_madmo/blob/master/day_2/%5Bseminar1%5Dpandas.ipynb",
     "timestamp": 1601073103972
    }
   ]
  },
  "kernelspec": {
   "display_name": "Python 3",
   "language": "python",
   "name": "python3"
  },
  "language_info": {
   "codemirror_mode": {
    "name": "ipython",
    "version": 3
   },
   "file_extension": ".py",
   "mimetype": "text/x-python",
   "name": "python",
   "nbconvert_exporter": "python",
   "pygments_lexer": "ipython3",
   "version": "3.8.5"
  }
 },
 "nbformat": 4,
 "nbformat_minor": 1
}
