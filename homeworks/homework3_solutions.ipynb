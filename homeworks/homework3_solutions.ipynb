{
 "cells": [
  {
   "cell_type": "markdown",
   "metadata": {
    "id": "abAk5AFDIq2s"
   },
   "source": [
    "### Чтение данных.\n",
    "Воспользуемся данными переписи населения. Целевая переменная - salary. Вам предлагается сделать бинарную классификацию, и определить по остальным признакам зарплату человека."
   ]
  },
  {
   "cell_type": "code",
   "execution_count": 2,
   "metadata": {
    "id": "tpNPvcvzIq2z"
   },
   "outputs": [
    {
     "data": {
      "text/html": [
       "<div>\n",
       "<style scoped>\n",
       "    .dataframe tbody tr th:only-of-type {\n",
       "        vertical-align: middle;\n",
       "    }\n",
       "\n",
       "    .dataframe tbody tr th {\n",
       "        vertical-align: top;\n",
       "    }\n",
       "\n",
       "    .dataframe thead th {\n",
       "        text-align: right;\n",
       "    }\n",
       "</style>\n",
       "<table border=\"1\" class=\"dataframe\">\n",
       "  <thead>\n",
       "    <tr style=\"text-align: right;\">\n",
       "      <th></th>\n",
       "      <th>age</th>\n",
       "      <th>workclass</th>\n",
       "      <th>fnlwgt</th>\n",
       "      <th>educ-num</th>\n",
       "      <th>marital-status</th>\n",
       "      <th>occupation</th>\n",
       "      <th>relationship</th>\n",
       "      <th>race</th>\n",
       "      <th>sex</th>\n",
       "      <th>capital-gain</th>\n",
       "      <th>capital-loss</th>\n",
       "      <th>hours-per-week</th>\n",
       "      <th>native-country</th>\n",
       "      <th>salary</th>\n",
       "      <th>salary&gt;50</th>\n",
       "    </tr>\n",
       "  </thead>\n",
       "  <tbody>\n",
       "    <tr>\n",
       "      <th>0</th>\n",
       "      <td>50</td>\n",
       "      <td>Self-emp-not-inc</td>\n",
       "      <td>83311</td>\n",
       "      <td>13</td>\n",
       "      <td>Married-civ-spouse</td>\n",
       "      <td>Exec-managerial</td>\n",
       "      <td>Husband</td>\n",
       "      <td>White</td>\n",
       "      <td>Male</td>\n",
       "      <td>0</td>\n",
       "      <td>0</td>\n",
       "      <td>13</td>\n",
       "      <td>United-States</td>\n",
       "      <td>&lt;=50K</td>\n",
       "      <td>0</td>\n",
       "    </tr>\n",
       "    <tr>\n",
       "      <th>1</th>\n",
       "      <td>38</td>\n",
       "      <td>Private</td>\n",
       "      <td>215646</td>\n",
       "      <td>9</td>\n",
       "      <td>Divorced</td>\n",
       "      <td>Handlers-cleaners</td>\n",
       "      <td>Not-in-family</td>\n",
       "      <td>White</td>\n",
       "      <td>Male</td>\n",
       "      <td>0</td>\n",
       "      <td>0</td>\n",
       "      <td>40</td>\n",
       "      <td>United-States</td>\n",
       "      <td>&lt;=50K</td>\n",
       "      <td>0</td>\n",
       "    </tr>\n",
       "    <tr>\n",
       "      <th>2</th>\n",
       "      <td>53</td>\n",
       "      <td>Private</td>\n",
       "      <td>234721</td>\n",
       "      <td>7</td>\n",
       "      <td>Married-civ-spouse</td>\n",
       "      <td>Handlers-cleaners</td>\n",
       "      <td>Husband</td>\n",
       "      <td>Black</td>\n",
       "      <td>Male</td>\n",
       "      <td>0</td>\n",
       "      <td>0</td>\n",
       "      <td>40</td>\n",
       "      <td>United-States</td>\n",
       "      <td>&lt;=50K</td>\n",
       "      <td>0</td>\n",
       "    </tr>\n",
       "    <tr>\n",
       "      <th>3</th>\n",
       "      <td>28</td>\n",
       "      <td>Private</td>\n",
       "      <td>338409</td>\n",
       "      <td>13</td>\n",
       "      <td>Married-civ-spouse</td>\n",
       "      <td>Prof-specialty</td>\n",
       "      <td>Wife</td>\n",
       "      <td>Black</td>\n",
       "      <td>Female</td>\n",
       "      <td>0</td>\n",
       "      <td>0</td>\n",
       "      <td>40</td>\n",
       "      <td>Cuba</td>\n",
       "      <td>&lt;=50K</td>\n",
       "      <td>0</td>\n",
       "    </tr>\n",
       "    <tr>\n",
       "      <th>4</th>\n",
       "      <td>37</td>\n",
       "      <td>Private</td>\n",
       "      <td>284582</td>\n",
       "      <td>14</td>\n",
       "      <td>Married-civ-spouse</td>\n",
       "      <td>Exec-managerial</td>\n",
       "      <td>Wife</td>\n",
       "      <td>White</td>\n",
       "      <td>Female</td>\n",
       "      <td>0</td>\n",
       "      <td>0</td>\n",
       "      <td>40</td>\n",
       "      <td>United-States</td>\n",
       "      <td>&lt;=50K</td>\n",
       "      <td>0</td>\n",
       "    </tr>\n",
       "  </tbody>\n",
       "</table>\n",
       "</div>"
      ],
      "text/plain": [
       "   age          workclass  fnlwgt  educ-num       marital-status  \\\n",
       "0   50   Self-emp-not-inc   83311        13   Married-civ-spouse   \n",
       "1   38            Private  215646         9             Divorced   \n",
       "2   53            Private  234721         7   Married-civ-spouse   \n",
       "3   28            Private  338409        13   Married-civ-spouse   \n",
       "4   37            Private  284582        14   Married-civ-spouse   \n",
       "\n",
       "           occupation    relationship    race      sex  capital-gain  \\\n",
       "0     Exec-managerial         Husband   White     Male             0   \n",
       "1   Handlers-cleaners   Not-in-family   White     Male             0   \n",
       "2   Handlers-cleaners         Husband   Black     Male             0   \n",
       "3      Prof-specialty            Wife   Black   Female             0   \n",
       "4     Exec-managerial            Wife   White   Female             0   \n",
       "\n",
       "   capital-loss  hours-per-week  native-country  salary  salary>50  \n",
       "0             0              13   United-States   <=50K          0  \n",
       "1             0              40   United-States   <=50K          0  \n",
       "2             0              40   United-States   <=50K          0  \n",
       "3             0              40            Cuba   <=50K          0  \n",
       "4             0              40   United-States   <=50K          0  "
      ]
     },
     "execution_count": 2,
     "metadata": {},
     "output_type": "execute_result"
    }
   ],
   "source": [
    "import pandas as pd\n",
    "import numpy as np\n",
    "\n",
    "# Считываем данные\n",
    "df = pd.read_csv('https://archive.ics.uci.edu/ml/machine-learning-databases/adult/adult.data',)\n",
    "\n",
    "# Назначаем имена колонок\n",
    "columns = ('age workclass fnlwgt education educ-num marital-status occupation relationship '\n",
    "           'race sex capital-gain capital-loss  hours-per-week native-country salary')\n",
    "\n",
    "df.columns = columns.split() #этот метод разделит датасет по колонкам как в массиве columns\n",
    "\n",
    "df.drop('education', 1, inplace=True) # это поле нам не понадобится, т.к. есть educ-num\n",
    "df['salary>50'] = df['salary'].map({' <=50K': 0, ' >50K': 1}) # подготовим целевую переменную\n",
    "\n",
    "df.head()"
   ]
  },
  {
   "cell_type": "markdown",
   "metadata": {
    "id": "Di7l0VLMIq20"
   },
   "source": [
    "### 1. Анализ данных\n",
    "1. Посмотрите, как вероятность зарабатывать >50K зависит от переменной `workclass`. (подсказка: `sns.barplot`)"
   ]
  },
  {
   "cell_type": "code",
   "execution_count": 3,
   "metadata": {
    "id": "y4pae3bYIq21"
   },
   "outputs": [
    {
     "data": {
      "image/png": "[encoded data removed]",
      "text/plain": [
       "<Figure size 576x360 with 1 Axes>"
      ]
     },
     "metadata": {
      "needs_background": "light"
     },
     "output_type": "display_data"
    }
   ],
   "source": [
    "import matplotlib.pyplot as plt\n",
    "import seaborn as sns\n",
    "\n",
    "fig, ax = plt.subplots(1, 1,  figsize=(8,5))\n",
    "\n",
    "sns.barplot(x='workclass', y='salary>50', data=df, ax=ax)\n",
    "plt.ylabel(\"Salary > 50K\")\n",
    "ax.set_title(\"Salary > 50K probability\")\n",
    "plt.show()"
   ]
  },
  {
   "cell_type": "markdown",
   "metadata": {
    "id": "mw8PS0SJIq21"
   },
   "source": [
    "2. Так же от `educ-num` и `race`"
   ]
  },
  {
   "cell_type": "code",
   "execution_count": 4,
   "metadata": {
    "id": "lg_yfJ4hIq21"
   },
   "outputs": [
    {
     "data": {
      "image/png": "[encoded data removed]",
      "text/plain": [
       "<Figure size 576x360 with 1 Axes>"
      ]
     },
     "metadata": {
      "needs_background": "light"
     },
     "output_type": "display_data"
    }
   ],
   "source": [
    "# YOUR CODE HERE\n",
    "fig, ax = plt.subplots(1, 1,  figsize=(8,5))\n",
    "\n",
    "sns.barplot(x='race', y='salary>50', data=df, ax=ax)\n",
    "plt.ylabel(\"Salary > 50K\")\n",
    "ax.set_title(\"Salary > 50K probability\")\n",
    "plt.show()"
   ]
  },
  {
   "cell_type": "code",
   "execution_count": 5,
   "metadata": {
    "id": "HmnSPeYhIq22"
   },
   "outputs": [
    {
     "data": {
      "image/png": "[encoded data removed]",
      "text/plain": [
       "<Figure size 576x360 with 1 Axes>"
      ]
     },
     "metadata": {
      "needs_background": "light"
     },
     "output_type": "display_data"
    }
   ],
   "source": [
    "# YOUR CODE HERE\n",
    "fig, ax = plt.subplots(1, 1,  figsize=(8,5))\n",
    "\n",
    "sns.barplot(x='educ-num', y='salary>50', data=df, ax=ax)\n",
    "plt.ylabel(\"Salary > 50K\")\n",
    "ax.set_title(\"Salary > 50K probability\")\n",
    "plt.show()"
   ]
  },
  {
   "cell_type": "markdown",
   "metadata": {
    "id": "SSBPmo6pIq22"
   },
   "source": [
    "3. Постройте распределения по возрасту для двух значений целевой переменной (подсказка: `sns.violonplot`)"
   ]
  },
  {
   "cell_type": "code",
   "execution_count": 6,
   "metadata": {
    "id": "65ilAauEIq22"
   },
   "outputs": [
    {
     "data": {
      "image/png": "[encoded data removed]",
      "text/plain": [
       "<Figure size 936x504 with 1 Axes>"
      ]
     },
     "metadata": {
      "needs_background": "light"
     },
     "output_type": "display_data"
    }
   ],
   "source": [
    "# YOUR CODE HERE\n",
    "cm_surv = [\"darkgrey\" , \"lightgreen\"]\n",
    "\n",
    "fig, ax = plt.subplots(figsize=(13,7))\n",
    "sns.violinplot(x='salary>50', y='age',  hue='salary>50', data=df, split=True, palette=cm_surv, ax=ax)\n",
    "plt.title('Age-Salary dependence')\n",
    "plt.show()"
   ]
  },
  {
   "cell_type": "markdown",
   "metadata": {
    "id": "e-fNifctIq22"
   },
   "source": [
    "Любые другие зависимости по желанию"
   ]
  },
  {
   "cell_type": "code",
   "execution_count": 7,
   "metadata": {
    "id": "hLlRBMAFIq23"
   },
   "outputs": [],
   "source": [
    "# YOUR CODE HERE"
   ]
  },
  {
   "cell_type": "markdown",
   "metadata": {
    "id": "mPhJ_2xNIq23"
   },
   "source": [
    "### 2. Подготовка данных"
   ]
  },
  {
   "cell_type": "code",
   "execution_count": 8,
   "metadata": {
    "id": "TnPQaw2NIq23"
   },
   "outputs": [
    {
     "data": {
      "text/plain": [
       "array([0, 1])"
      ]
     },
     "execution_count": 8,
     "metadata": {},
     "output_type": "execute_result"
    }
   ],
   "source": [
    "X = df.iloc[:, :-2]\n",
    "y = df['salary>50']\n",
    "y.unique()"
   ]
  },
  {
   "cell_type": "markdown",
   "metadata": {
    "id": "TOZtpNfGIq23"
   },
   "source": [
    "Разбейте датасет на тренировочную и тестовую части в соотношении 80:20. Используйте `random_state=42`"
   ]
  },
  {
   "cell_type": "code",
   "execution_count": 9,
   "metadata": {
    "id": "hDOcLesaIq24"
   },
   "outputs": [],
   "source": [
    "from sklearn.model_selection import train_test_split\n",
    "\n",
    "# YOUR CODE HERE\n",
    "X_train, X_test, y_train, y_test = train_test_split(X, y, random_state=42, test_size=0.2)"
   ]
  },
  {
   "cell_type": "markdown",
   "metadata": {
    "id": "AFAT0EyYIq24"
   },
   "source": [
    "#### One-hot encoding\n",
    "Сделайте one-hot-encoding категориальных признаков.  \n",
    "Только не используйте `pd.get_dummies`, потому что данные уже разбиты на трейн и тест.  \n",
    "Возможно, в тесте некоторых категорий не хватает.  \n",
    "К тому же, подумайте, как Вы будете использовать `get_dummies`, когда нужно будет разворачивать модель на продакшен?  \n",
    "На проде будет приходить по одному примеру, а `get_dummies` работает с целыми наборами данных.  \n",
    "\n",
    "Поэтому, используйте класс `sklearn.preprocessing.OneHotEncoder` (описание: https://scikit-learn.org/stable/modules/generated/sklearn.preprocessing.OneHotEncoder.html).  \n",
    "По использованию он похож на `StandardScaler`."
   ]
  },
  {
   "cell_type": "code",
   "execution_count": 10,
   "metadata": {},
   "outputs": [],
   "source": [
    "from sklearn.preprocessing import OneHotEncoder"
   ]
  },
  {
   "cell_type": "code",
   "execution_count": 11,
   "metadata": {
    "id": "8sfds3McIq24"
   },
   "outputs": [],
   "source": [
    "categorical_columns = 'workclass marital-status occupation relationship race sex native-country'.split()\n",
    "\n",
    "# YOUR CODE HERE\n",
    "num_columns = ['age', 'fnlwgt', 'educ-num', 'capital-gain', 'capital-loss', 'hours-per-week']\n",
    "ohe = OneHotEncoder(drop='first', sparse=False)\n",
    "\n",
    "X_train_ohe = ohe.fit_transform(X_train[categorical_columns])\n",
    "ohe_cols = ohe.get_feature_names()\n",
    "\n",
    "X_train_ohe = pd.DataFrame(X_train_ohe, columns=ohe_cols, index=X_train.index)\n",
    "X_train_ohe = pd.concat([X_train[num_columns], X_train_ohe], axis=1)\n",
    "\n",
    "X_test_ohe = ohe.transform(X_test[categorical_columns])\n",
    "X_test_ohe = pd.DataFrame(X_test_ohe, columns=ohe_cols, index=X_test.index)\n",
    "X_test_ohe = pd.concat([X_test[num_columns], X_test_ohe], axis=1)"
   ]
  },
  {
   "cell_type": "code",
   "execution_count": 12,
   "metadata": {},
   "outputs": [
    {
     "data": {
      "text/html": [
       "<div>\n",
       "<style scoped>\n",
       "    .dataframe tbody tr th:only-of-type {\n",
       "        vertical-align: middle;\n",
       "    }\n",
       "\n",
       "    .dataframe tbody tr th {\n",
       "        vertical-align: top;\n",
       "    }\n",
       "\n",
       "    .dataframe thead th {\n",
       "        text-align: right;\n",
       "    }\n",
       "</style>\n",
       "<table border=\"1\" class=\"dataframe\">\n",
       "  <thead>\n",
       "    <tr style=\"text-align: right;\">\n",
       "      <th></th>\n",
       "      <th>age</th>\n",
       "      <th>fnlwgt</th>\n",
       "      <th>educ-num</th>\n",
       "      <th>capital-gain</th>\n",
       "      <th>capital-loss</th>\n",
       "      <th>hours-per-week</th>\n",
       "      <th>x0_ Federal-gov</th>\n",
       "      <th>x0_ Local-gov</th>\n",
       "      <th>x0_ Never-worked</th>\n",
       "      <th>x0_ Private</th>\n",
       "      <th>...</th>\n",
       "      <th>x6_ Portugal</th>\n",
       "      <th>x6_ Puerto-Rico</th>\n",
       "      <th>x6_ Scotland</th>\n",
       "      <th>x6_ South</th>\n",
       "      <th>x6_ Taiwan</th>\n",
       "      <th>x6_ Thailand</th>\n",
       "      <th>x6_ Trinadad&amp;Tobago</th>\n",
       "      <th>x6_ United-States</th>\n",
       "      <th>x6_ Vietnam</th>\n",
       "      <th>x6_ Yugoslavia</th>\n",
       "    </tr>\n",
       "  </thead>\n",
       "  <tbody>\n",
       "    <tr>\n",
       "      <th>24639</th>\n",
       "      <td>20</td>\n",
       "      <td>385077</td>\n",
       "      <td>8</td>\n",
       "      <td>0</td>\n",
       "      <td>0</td>\n",
       "      <td>40</td>\n",
       "      <td>0.0</td>\n",
       "      <td>0.0</td>\n",
       "      <td>0.0</td>\n",
       "      <td>1.0</td>\n",
       "      <td>...</td>\n",
       "      <td>0.0</td>\n",
       "      <td>0.0</td>\n",
       "      <td>0.0</td>\n",
       "      <td>0.0</td>\n",
       "      <td>0.0</td>\n",
       "      <td>0.0</td>\n",
       "      <td>0.0</td>\n",
       "      <td>1.0</td>\n",
       "      <td>0.0</td>\n",
       "      <td>0.0</td>\n",
       "    </tr>\n",
       "    <tr>\n",
       "      <th>5514</th>\n",
       "      <td>21</td>\n",
       "      <td>140764</td>\n",
       "      <td>10</td>\n",
       "      <td>0</td>\n",
       "      <td>0</td>\n",
       "      <td>12</td>\n",
       "      <td>0.0</td>\n",
       "      <td>0.0</td>\n",
       "      <td>0.0</td>\n",
       "      <td>0.0</td>\n",
       "      <td>...</td>\n",
       "      <td>0.0</td>\n",
       "      <td>0.0</td>\n",
       "      <td>0.0</td>\n",
       "      <td>0.0</td>\n",
       "      <td>0.0</td>\n",
       "      <td>0.0</td>\n",
       "      <td>0.0</td>\n",
       "      <td>1.0</td>\n",
       "      <td>0.0</td>\n",
       "      <td>0.0</td>\n",
       "    </tr>\n",
       "    <tr>\n",
       "      <th>19777</th>\n",
       "      <td>64</td>\n",
       "      <td>312242</td>\n",
       "      <td>10</td>\n",
       "      <td>0</td>\n",
       "      <td>0</td>\n",
       "      <td>3</td>\n",
       "      <td>0.0</td>\n",
       "      <td>0.0</td>\n",
       "      <td>0.0</td>\n",
       "      <td>1.0</td>\n",
       "      <td>...</td>\n",
       "      <td>0.0</td>\n",
       "      <td>0.0</td>\n",
       "      <td>0.0</td>\n",
       "      <td>0.0</td>\n",
       "      <td>0.0</td>\n",
       "      <td>0.0</td>\n",
       "      <td>0.0</td>\n",
       "      <td>1.0</td>\n",
       "      <td>0.0</td>\n",
       "      <td>0.0</td>\n",
       "    </tr>\n",
       "    <tr>\n",
       "      <th>10781</th>\n",
       "      <td>26</td>\n",
       "      <td>227489</td>\n",
       "      <td>9</td>\n",
       "      <td>0</td>\n",
       "      <td>0</td>\n",
       "      <td>40</td>\n",
       "      <td>0.0</td>\n",
       "      <td>0.0</td>\n",
       "      <td>0.0</td>\n",
       "      <td>1.0</td>\n",
       "      <td>...</td>\n",
       "      <td>0.0</td>\n",
       "      <td>0.0</td>\n",
       "      <td>0.0</td>\n",
       "      <td>0.0</td>\n",
       "      <td>0.0</td>\n",
       "      <td>0.0</td>\n",
       "      <td>0.0</td>\n",
       "      <td>0.0</td>\n",
       "      <td>0.0</td>\n",
       "      <td>0.0</td>\n",
       "    </tr>\n",
       "    <tr>\n",
       "      <th>32239</th>\n",
       "      <td>21</td>\n",
       "      <td>180190</td>\n",
       "      <td>11</td>\n",
       "      <td>0</td>\n",
       "      <td>0</td>\n",
       "      <td>46</td>\n",
       "      <td>0.0</td>\n",
       "      <td>0.0</td>\n",
       "      <td>0.0</td>\n",
       "      <td>1.0</td>\n",
       "      <td>...</td>\n",
       "      <td>0.0</td>\n",
       "      <td>0.0</td>\n",
       "      <td>0.0</td>\n",
       "      <td>0.0</td>\n",
       "      <td>0.0</td>\n",
       "      <td>0.0</td>\n",
       "      <td>0.0</td>\n",
       "      <td>1.0</td>\n",
       "      <td>0.0</td>\n",
       "      <td>0.0</td>\n",
       "    </tr>\n",
       "  </tbody>\n",
       "</table>\n",
       "<p>5 rows × 85 columns</p>\n",
       "</div>"
      ],
      "text/plain": [
       "       age  fnlwgt  educ-num  capital-gain  capital-loss  hours-per-week  \\\n",
       "24639   20  385077         8             0             0              40   \n",
       "5514    21  140764        10             0             0              12   \n",
       "19777   64  312242        10             0             0               3   \n",
       "10781   26  227489         9             0             0              40   \n",
       "32239   21  180190        11             0             0              46   \n",
       "\n",
       "       x0_ Federal-gov  x0_ Local-gov  x0_ Never-worked  x0_ Private  ...  \\\n",
       "24639              0.0            0.0               0.0          1.0  ...   \n",
       "5514               0.0            0.0               0.0          0.0  ...   \n",
       "19777              0.0            0.0               0.0          1.0  ...   \n",
       "10781              0.0            0.0               0.0          1.0  ...   \n",
       "32239              0.0            0.0               0.0          1.0  ...   \n",
       "\n",
       "       x6_ Portugal  x6_ Puerto-Rico  x6_ Scotland  x6_ South  x6_ Taiwan  \\\n",
       "24639           0.0              0.0           0.0        0.0         0.0   \n",
       "5514            0.0              0.0           0.0        0.0         0.0   \n",
       "19777           0.0              0.0           0.0        0.0         0.0   \n",
       "10781           0.0              0.0           0.0        0.0         0.0   \n",
       "32239           0.0              0.0           0.0        0.0         0.0   \n",
       "\n",
       "       x6_ Thailand  x6_ Trinadad&Tobago  x6_ United-States  x6_ Vietnam  \\\n",
       "24639           0.0                  0.0                1.0          0.0   \n",
       "5514            0.0                  0.0                1.0          0.0   \n",
       "19777           0.0                  0.0                1.0          0.0   \n",
       "10781           0.0                  0.0                0.0          0.0   \n",
       "32239           0.0                  0.0                1.0          0.0   \n",
       "\n",
       "       x6_ Yugoslavia  \n",
       "24639             0.0  \n",
       "5514              0.0  \n",
       "19777             0.0  \n",
       "10781             0.0  \n",
       "32239             0.0  \n",
       "\n",
       "[5 rows x 85 columns]"
      ]
     },
     "execution_count": 12,
     "metadata": {},
     "output_type": "execute_result"
    }
   ],
   "source": [
    "X_train_ohe.head()"
   ]
  },
  {
   "cell_type": "code",
   "execution_count": 13,
   "metadata": {},
   "outputs": [
    {
     "data": {
      "text/html": [
       "<div>\n",
       "<style scoped>\n",
       "    .dataframe tbody tr th:only-of-type {\n",
       "        vertical-align: middle;\n",
       "    }\n",
       "\n",
       "    .dataframe tbody tr th {\n",
       "        vertical-align: top;\n",
       "    }\n",
       "\n",
       "    .dataframe thead th {\n",
       "        text-align: right;\n",
       "    }\n",
       "</style>\n",
       "<table border=\"1\" class=\"dataframe\">\n",
       "  <thead>\n",
       "    <tr style=\"text-align: right;\">\n",
       "      <th></th>\n",
       "      <th>age</th>\n",
       "      <th>fnlwgt</th>\n",
       "      <th>educ-num</th>\n",
       "      <th>capital-gain</th>\n",
       "      <th>capital-loss</th>\n",
       "      <th>hours-per-week</th>\n",
       "      <th>x0_ Federal-gov</th>\n",
       "      <th>x0_ Local-gov</th>\n",
       "      <th>x0_ Never-worked</th>\n",
       "      <th>x0_ Private</th>\n",
       "      <th>...</th>\n",
       "      <th>x6_ Portugal</th>\n",
       "      <th>x6_ Puerto-Rico</th>\n",
       "      <th>x6_ Scotland</th>\n",
       "      <th>x6_ South</th>\n",
       "      <th>x6_ Taiwan</th>\n",
       "      <th>x6_ Thailand</th>\n",
       "      <th>x6_ Trinadad&amp;Tobago</th>\n",
       "      <th>x6_ United-States</th>\n",
       "      <th>x6_ Vietnam</th>\n",
       "      <th>x6_ Yugoslavia</th>\n",
       "    </tr>\n",
       "  </thead>\n",
       "  <tbody>\n",
       "    <tr>\n",
       "      <th>14160</th>\n",
       "      <td>38</td>\n",
       "      <td>680390</td>\n",
       "      <td>9</td>\n",
       "      <td>0</td>\n",
       "      <td>0</td>\n",
       "      <td>20</td>\n",
       "      <td>0.0</td>\n",
       "      <td>0.0</td>\n",
       "      <td>0.0</td>\n",
       "      <td>1.0</td>\n",
       "      <td>...</td>\n",
       "      <td>0.0</td>\n",
       "      <td>0.0</td>\n",
       "      <td>0.0</td>\n",
       "      <td>0.0</td>\n",
       "      <td>0.0</td>\n",
       "      <td>0.0</td>\n",
       "      <td>0.0</td>\n",
       "      <td>1.0</td>\n",
       "      <td>0.0</td>\n",
       "      <td>0.0</td>\n",
       "    </tr>\n",
       "    <tr>\n",
       "      <th>27047</th>\n",
       "      <td>45</td>\n",
       "      <td>50567</td>\n",
       "      <td>9</td>\n",
       "      <td>0</td>\n",
       "      <td>0</td>\n",
       "      <td>40</td>\n",
       "      <td>0.0</td>\n",
       "      <td>0.0</td>\n",
       "      <td>0.0</td>\n",
       "      <td>0.0</td>\n",
       "      <td>...</td>\n",
       "      <td>0.0</td>\n",
       "      <td>0.0</td>\n",
       "      <td>0.0</td>\n",
       "      <td>0.0</td>\n",
       "      <td>0.0</td>\n",
       "      <td>0.0</td>\n",
       "      <td>0.0</td>\n",
       "      <td>1.0</td>\n",
       "      <td>0.0</td>\n",
       "      <td>0.0</td>\n",
       "    </tr>\n",
       "    <tr>\n",
       "      <th>28867</th>\n",
       "      <td>29</td>\n",
       "      <td>185908</td>\n",
       "      <td>13</td>\n",
       "      <td>0</td>\n",
       "      <td>0</td>\n",
       "      <td>55</td>\n",
       "      <td>0.0</td>\n",
       "      <td>0.0</td>\n",
       "      <td>0.0</td>\n",
       "      <td>1.0</td>\n",
       "      <td>...</td>\n",
       "      <td>0.0</td>\n",
       "      <td>0.0</td>\n",
       "      <td>0.0</td>\n",
       "      <td>0.0</td>\n",
       "      <td>0.0</td>\n",
       "      <td>0.0</td>\n",
       "      <td>0.0</td>\n",
       "      <td>1.0</td>\n",
       "      <td>0.0</td>\n",
       "      <td>0.0</td>\n",
       "    </tr>\n",
       "    <tr>\n",
       "      <th>5667</th>\n",
       "      <td>51</td>\n",
       "      <td>306108</td>\n",
       "      <td>16</td>\n",
       "      <td>0</td>\n",
       "      <td>0</td>\n",
       "      <td>40</td>\n",
       "      <td>0.0</td>\n",
       "      <td>0.0</td>\n",
       "      <td>0.0</td>\n",
       "      <td>1.0</td>\n",
       "      <td>...</td>\n",
       "      <td>0.0</td>\n",
       "      <td>0.0</td>\n",
       "      <td>0.0</td>\n",
       "      <td>0.0</td>\n",
       "      <td>0.0</td>\n",
       "      <td>0.0</td>\n",
       "      <td>0.0</td>\n",
       "      <td>1.0</td>\n",
       "      <td>0.0</td>\n",
       "      <td>0.0</td>\n",
       "    </tr>\n",
       "    <tr>\n",
       "      <th>7827</th>\n",
       "      <td>46</td>\n",
       "      <td>124071</td>\n",
       "      <td>14</td>\n",
       "      <td>0</td>\n",
       "      <td>0</td>\n",
       "      <td>44</td>\n",
       "      <td>0.0</td>\n",
       "      <td>0.0</td>\n",
       "      <td>0.0</td>\n",
       "      <td>1.0</td>\n",
       "      <td>...</td>\n",
       "      <td>0.0</td>\n",
       "      <td>0.0</td>\n",
       "      <td>0.0</td>\n",
       "      <td>0.0</td>\n",
       "      <td>0.0</td>\n",
       "      <td>0.0</td>\n",
       "      <td>0.0</td>\n",
       "      <td>1.0</td>\n",
       "      <td>0.0</td>\n",
       "      <td>0.0</td>\n",
       "    </tr>\n",
       "  </tbody>\n",
       "</table>\n",
       "<p>5 rows × 85 columns</p>\n",
       "</div>"
      ],
      "text/plain": [
       "       age  fnlwgt  educ-num  capital-gain  capital-loss  hours-per-week  \\\n",
       "14160   38  680390         9             0             0              20   \n",
       "27047   45   50567         9             0             0              40   \n",
       "28867   29  185908        13             0             0              55   \n",
       "5667    51  306108        16             0             0              40   \n",
       "7827    46  124071        14             0             0              44   \n",
       "\n",
       "       x0_ Federal-gov  x0_ Local-gov  x0_ Never-worked  x0_ Private  ...  \\\n",
       "14160              0.0            0.0               0.0          1.0  ...   \n",
       "27047              0.0            0.0               0.0          0.0  ...   \n",
       "28867              0.0            0.0               0.0          1.0  ...   \n",
       "5667               0.0            0.0               0.0          1.0  ...   \n",
       "7827               0.0            0.0               0.0          1.0  ...   \n",
       "\n",
       "       x6_ Portugal  x6_ Puerto-Rico  x6_ Scotland  x6_ South  x6_ Taiwan  \\\n",
       "14160           0.0              0.0           0.0        0.0         0.0   \n",
       "27047           0.0              0.0           0.0        0.0         0.0   \n",
       "28867           0.0              0.0           0.0        0.0         0.0   \n",
       "5667            0.0              0.0           0.0        0.0         0.0   \n",
       "7827            0.0              0.0           0.0        0.0         0.0   \n",
       "\n",
       "       x6_ Thailand  x6_ Trinadad&Tobago  x6_ United-States  x6_ Vietnam  \\\n",
       "14160           0.0                  0.0                1.0          0.0   \n",
       "27047           0.0                  0.0                1.0          0.0   \n",
       "28867           0.0                  0.0                1.0          0.0   \n",
       "5667            0.0                  0.0                1.0          0.0   \n",
       "7827            0.0                  0.0                1.0          0.0   \n",
       "\n",
       "       x6_ Yugoslavia  \n",
       "14160             0.0  \n",
       "27047             0.0  \n",
       "28867             0.0  \n",
       "5667              0.0  \n",
       "7827              0.0  \n",
       "\n",
       "[5 rows x 85 columns]"
      ]
     },
     "execution_count": 13,
     "metadata": {},
     "output_type": "execute_result"
    }
   ],
   "source": [
    "X_test_ohe.head()"
   ]
  },
  {
   "cell_type": "markdown",
   "metadata": {
    "id": "haI-q8n4Iq25"
   },
   "source": [
    "Отмасштабируйте признаки с помощью `StandardScaler`"
   ]
  },
  {
   "cell_type": "code",
   "execution_count": 14,
   "metadata": {
    "id": "yRRYU0btIq25"
   },
   "outputs": [],
   "source": [
    "# YOUR CODE HERE\n",
    "from sklearn.preprocessing import StandardScaler\n",
    "\n",
    "\n",
    "scaler = StandardScaler()\n",
    "\n",
    "X_train = scaler.fit_transform(X_train_ohe)\n",
    "X_test = scaler.transform(X_test_ohe)"
   ]
  },
  {
   "cell_type": "markdown",
   "metadata": {
    "id": "vbyccS7BIq25"
   },
   "source": [
    "### 3. Обучение моделей\n",
    "Создайте любую модель и обучите на этих тренировочных данных. Сделайте предсказания на тестовых данных и сохраните в переменной `predictions`. Добейтесь того, чтобы `f1_score` на тестовых данных был не меньше `0.66`"
   ]
  },
  {
   "cell_type": "code",
   "execution_count": 15,
   "metadata": {
    "id": "TdHhDWadIq26"
   },
   "outputs": [],
   "source": [
    "# YOUR CODE HERE\n",
    "\n",
    "from sklearn.model_selection import GridSearchCV\n",
    "from sklearn.ensemble import RandomForestClassifier"
   ]
  },
  {
   "cell_type": "code",
   "execution_count": 18,
   "metadata": {},
   "outputs": [],
   "source": [
    "params = {\n",
    "    'n_estimators': [50, 100, 150, 200, 250],\n",
    "    'max_depth': [5, 6, 7, 8, 10, 15],\n",
    "}\n",
    "\n",
    "gs = GridSearchCV(RandomForestClassifier(), params, cv=5, n_jobs=5, verbose=2, scoring='f1')"
   ]
  },
  {
   "cell_type": "code",
   "execution_count": 19,
   "metadata": {},
   "outputs": [
    {
     "name": "stdout",
     "output_type": "stream",
     "text": [
      "Fitting 5 folds for each of 30 candidates, totalling 150 fits\n"
     ]
    },
    {
     "data": {
      "text/plain": [
       "GridSearchCV(cv=5, estimator=RandomForestClassifier(), n_jobs=5,\n",
       "             param_grid={'max_depth': [5, 6, 7, 8, 10, 15],\n",
       "                         'n_estimators': [50, 100, 150, 200, 250]},\n",
       "             scoring='f1', verbose=2)"
      ]
     },
     "execution_count": 19,
     "metadata": {},
     "output_type": "execute_result"
    }
   ],
   "source": [
    "gs.fit(X_train, y_train)"
   ]
  },
  {
   "cell_type": "code",
   "execution_count": 22,
   "metadata": {},
   "outputs": [],
   "source": [
    "predictions = gs.predict(X_test)"
   ]
  },
  {
   "cell_type": "code",
   "execution_count": 23,
   "metadata": {
    "id": "QakHXAT8Iq27"
   },
   "outputs": [
    {
     "name": "stdout",
     "output_type": "stream",
     "text": [
      "f1_score: 0.6786743515850143\n"
     ]
    }
   ],
   "source": [
    "from sklearn.metrics import f1_score\n",
    "\n",
    "print('f1_score:', f1_score(y_test, predictions))"
   ]
  },
  {
   "cell_type": "markdown",
   "metadata": {
    "id": "53qMF_EpIq27"
   },
   "source": [
    "### *4. Кривая обучения"
   ]
  },
  {
   "cell_type": "markdown",
   "metadata": {
    "id": "uZdVJq4cIq27"
   },
   "source": [
    "Как зависит качество модели от количества обучающих данных?  \n",
    "Выясните это, построив график.  \n",
    "Обучите логистическую регрессию сначала на 1% обучающей выборки, потом на 2% и т.д. до 100%. Измеряйте каждый раз `f1_score` на тестовых данных. Постройте график зависимости `f1_score` от количества данных."
   ]
  },
  {
   "cell_type": "code",
   "execution_count": 74,
   "metadata": {
    "id": "635DjboOIq28"
   },
   "outputs": [],
   "source": [
    "# YOUR CODE HERE\n",
    "\n",
    "def get_random_subsample(X, y, sample_size=0.5):\n",
    "    n_samples = len(X)\n",
    "\n",
    "    indices = np.arange(n_samples)\n",
    "    np.random.shuffle(indices)\n",
    "    n_samples_to_take = int(n_samples * sample_size)\n",
    "    sample_indices = indices[:n_samples_to_take]\n",
    "    return X[sample_indices, :], y.iloc[sample_indices]"
   ]
  },
  {
   "cell_type": "code",
   "execution_count": 75,
   "metadata": {},
   "outputs": [],
   "source": [
    "from sklearn.linear_model import LogisticRegression"
   ]
  },
  {
   "cell_type": "code",
   "execution_count": 76,
   "metadata": {},
   "outputs": [
    {
     "data": {
      "text/plain": [
       "array([0.01, 0.02, 0.03, 0.04, 0.05, 0.06, 0.07, 0.08, 0.09, 0.1 , 0.11,\n",
       "       0.12, 0.13, 0.14, 0.15, 0.16, 0.17, 0.18, 0.19, 0.2 , 0.21, 0.22,\n",
       "       0.23, 0.24, 0.25, 0.26, 0.27, 0.28, 0.29, 0.3 , 0.31, 0.32, 0.33,\n",
       "       0.34, 0.35, 0.36, 0.37, 0.38, 0.39, 0.4 , 0.41, 0.42, 0.43, 0.44,\n",
       "       0.45, 0.46, 0.47, 0.48, 0.49, 0.5 , 0.51, 0.52, 0.53, 0.54, 0.55,\n",
       "       0.56, 0.57, 0.58, 0.59, 0.6 , 0.61, 0.62, 0.63, 0.64, 0.65, 0.66,\n",
       "       0.67, 0.68, 0.69, 0.7 , 0.71, 0.72, 0.73, 0.74, 0.75, 0.76, 0.77,\n",
       "       0.78, 0.79, 0.8 , 0.81, 0.82, 0.83, 0.84, 0.85, 0.86, 0.87, 0.88,\n",
       "       0.89, 0.9 , 0.91, 0.92, 0.93, 0.94, 0.95, 0.96, 0.97, 0.98, 0.99,\n",
       "       1.  ])"
      ]
     },
     "execution_count": 76,
     "metadata": {},
     "output_type": "execute_result"
    }
   ],
   "source": [
    "sizes = np.linspace(0.01, 1, 100)\n",
    "sizes"
   ]
  },
  {
   "cell_type": "code",
   "execution_count": 78,
   "metadata": {},
   "outputs": [],
   "source": [
    "from tqdm.notebook import tqdm"
   ]
  },
  {
   "cell_type": "code",
   "execution_count": 79,
   "metadata": {},
   "outputs": [
    {
     "data": {
      "application/vnd.jupyter.widget-view+json": {
       "model_id": "9aa8df09f7ad417484a36788799fdf82",
       "version_major": 2,
       "version_minor": 0
      },
      "text/plain": [
       "  0%|          | 0/100 [00:00<?, ?it/s]"
      ]
     },
     "metadata": {},
     "output_type": "display_data"
    }
   ],
   "source": [
    "f1_scores = []\n",
    "for sample_size in tqdm(sizes):\n",
    "    X, y = get_random_subsample(X_train, y_train, sample_size)\n",
    "    lr = LogisticRegression().fit(X, y)\n",
    "    f1_scores.append(f1_score(y_test, lr.predict(X_test)))"
   ]
  },
  {
   "cell_type": "code",
   "execution_count": 82,
   "metadata": {},
   "outputs": [
    {
     "data": {
      "image/png": "[encoded data removed]",
      "text/plain": [
       "<Figure size 864x720 with 1 Axes>"
      ]
     },
     "metadata": {
      "needs_background": "light"
     },
     "output_type": "display_data"
    }
   ],
   "source": [
    "plt.figure(figsize=(12, 10))\n",
    "plt.plot(sizes, f1_scores, label='f1 score on test')\n",
    "plt.grid(ls=\":\")\n",
    "plt.legend()\n",
    "plt.title('learning curve')\n",
    "plt.show()"
   ]
  },
  {
   "cell_type": "code",
   "execution_count": null,
   "metadata": {},
   "outputs": [],
   "source": []
  }
 ],
 "metadata": {
  "colab": {
   "name": "homework3_Фамилия_Имя",
   "provenance": []
  },
  "kernelspec": {
   "display_name": "Python 3",
   "language": "python",
   "name": "python3"
  },
  "language_info": {
   "codemirror_mode": {
    "name": "ipython",
    "version": 3
   },
   "file_extension": ".py",
   "mimetype": "text/x-python",
   "name": "python",
   "nbconvert_exporter": "python",
   "pygments_lexer": "ipython3",
   "version": "3.8.8"
  }
 },
 "nbformat": 4,
 "nbformat_minor": 1
}
