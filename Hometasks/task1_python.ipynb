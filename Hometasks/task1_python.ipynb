{
 "cells": [
  {
   "cell_type": "markdown",
   "metadata": {},
   "source": [
    "## ДЗ-1\n",
    "\n",
    "Данное задание посвящено стандратным средствам языка Python. \n",
    "\n",
    "Заполните ноутбук, вставив свой код в отведенные для этого ячейки.\n",
    "\n",
    "Выполненный ноутбук нужно отправить на почту *almarkv@yandex.ru*, указав тему письма **[МАДМО] Фамилия Имя Задание 1**"
   ]
  },
  {
   "cell_type": "markdown",
   "metadata": {},
   "source": [
    "**Задача 1:** напишите функцию, которая проверяет, является ли введенная строка палиндромом. "
   ]
  },
  {
   "cell_type": "code",
   "execution_count": 1,
   "metadata": {},
   "outputs": [],
   "source": [
    "def is_palindrome(s):\n",
    "    if s.upper() == s.upper()[::-1]:\n",
    "        return True\n",
    "    return False"
   ]
  },
  {
   "cell_type": "code",
   "execution_count": 2,
   "metadata": {},
   "outputs": [
    {
     "name": "stdout",
     "output_type": "stream",
     "text": [
      "True\n",
      "False\n"
     ]
    }
   ],
   "source": [
    "a = 'AbkBa'\n",
    "b = 'AbnA'\n",
    "print(is_palindrome(a),is_palindrome(b),sep='\\n')"
   ]
  },
  {
   "cell_type": "markdown",
   "metadata": {},
   "source": [
    "**Задача 2:** напишите функцию, которая принимает на вход два списка $[x_1, \\dots, x_n]$ и $[y_1, \\dots, y_n]$, а возвращает их скалярное произведение $$<x, y> = x_1 y_1 + x_2 y_2 + \\dots x_n y_n.$$"
   ]
  },
  {
   "cell_type": "code",
   "execution_count": 3,
   "metadata": {},
   "outputs": [],
   "source": [
    "def inner_product(x, y):\n",
    "    return sum(map(lambda X, Y : X * Y, x, y))"
   ]
  },
  {
   "cell_type": "code",
   "execution_count": 4,
   "metadata": {},
   "outputs": [
    {
     "data": {
      "text/plain": [
       "70"
      ]
     },
     "execution_count": 4,
     "metadata": {},
     "output_type": "execute_result"
    }
   ],
   "source": [
    "x = [1,2,3,5]\n",
    "y = [2,3,4,10]\n",
    "inner_product(x, y)"
   ]
  },
  {
   "cell_type": "markdown",
   "metadata": {},
   "source": [
    "**Задача 3:** по данному натуральному числу $n$ вычислите значение $1! + 2! + \\dots + n!$. В задаче можно использовать только один цикл ($n! = 1 \\cdot 2 \\cdot 3\\cdot n$)."
   ]
  },
  {
   "cell_type": "code",
   "execution_count": 5,
   "metadata": {},
   "outputs": [],
   "source": [
    "def factorial(x):\n",
    "    if x == 1 or x == 0:\n",
    "        return 1\n",
    "    else:\n",
    "        return x * factorial(x - 1)\n",
    "\n",
    "def sum_of_factorial(n):\n",
    "    return sum(map(lambda x: factorial(x), range(1, n + 1)))"
   ]
  },
  {
   "cell_type": "code",
   "execution_count": 6,
   "metadata": {},
   "outputs": [
    {
     "data": {
      "text/plain": [
       "153"
      ]
     },
     "execution_count": 6,
     "metadata": {},
     "output_type": "execute_result"
    }
   ],
   "source": [
    "sum_of_factorial(5)"
   ]
  },
  {
   "cell_type": "markdown",
   "metadata": {},
   "source": [
    "**Задача 4:** по данной последовательности молекулы ДНК постройте коплементарную молекулу, заменив нуклеотиды на парные им (A -> T, T -> A, G -> C, C -> G)."
   ]
  },
  {
   "cell_type": "code",
   "execution_count": 7,
   "metadata": {},
   "outputs": [],
   "source": [
    "def create_paired_dna(dna):\n",
    "    pair_dna = {\"A\":\"T\",\"T\":\"A\",\"G\":\"C\",\"C\":\"G\"}\n",
    "    return ''.join(list(map(lambda x : pair_dna.get(x), dna)))"
   ]
  },
  {
   "cell_type": "code",
   "execution_count": 8,
   "metadata": {},
   "outputs": [
    {
     "data": {
      "text/plain": [
       "'TACGT'"
      ]
     },
     "execution_count": 8,
     "metadata": {},
     "output_type": "execute_result"
    }
   ],
   "source": [
    "create_paired_dna('ATGCA')"
   ]
  },
  {
   "cell_type": "markdown",
   "metadata": {},
   "source": [
    "**Задача 5:** Используя список, реализуйте класс стэка -- это структура данных, которая поддерживает следующие операции: \n",
    "+ добавление элемента в конец (push)\n",
    "+ удалить элемент из конца и вернуть значение удаленного элемента (pop)\n",
    "+ узнать количество элементов в структуре данных\n",
    "\n",
    "Остальные операции стандартного списка (например, обращение по индексу) не должны поддерживаться."
   ]
  },
  {
   "cell_type": "code",
   "execution_count": 9,
   "metadata": {},
   "outputs": [],
   "source": [
    "class Stack(object):\n",
    "    def __init__(self):\n",
    "        self.stack = []\n",
    "    def push(self, elem):\n",
    "        self.stack.append(elem)\n",
    "    def pop(self):\n",
    "        return self.stack.pop()\n",
    "    def qnty_of_elements(self):\n",
    "        return len(self.stack)"
   ]
  },
  {
   "cell_type": "code",
   "execution_count": 10,
   "metadata": {},
   "outputs": [],
   "source": [
    "a = Stack()"
   ]
  },
  {
   "cell_type": "code",
   "execution_count": 11,
   "metadata": {},
   "outputs": [],
   "source": [
    "b = Stack()"
   ]
  },
  {
   "cell_type": "code",
   "execution_count": 12,
   "metadata": {},
   "outputs": [],
   "source": [
    "a.push(1)\n",
    "a.push(2)\n",
    "a.push(3)\n",
    "b.push(4)\n",
    "b.push(5)"
   ]
  },
  {
   "cell_type": "code",
   "execution_count": 13,
   "metadata": {},
   "outputs": [
    {
     "name": "stdout",
     "output_type": "stream",
     "text": [
      "[1, 2, 3]\n",
      "[4, 5]\n"
     ]
    }
   ],
   "source": [
    "print(a.stack, b.stack, sep = '\\n')"
   ]
  },
  {
   "cell_type": "code",
   "execution_count": 14,
   "metadata": {},
   "outputs": [
    {
     "data": {
      "text/plain": [
       "3"
      ]
     },
     "execution_count": 14,
     "metadata": {},
     "output_type": "execute_result"
    }
   ],
   "source": [
    "a.pop()"
   ]
  },
  {
   "cell_type": "code",
   "execution_count": 15,
   "metadata": {},
   "outputs": [
    {
     "data": {
      "text/plain": [
       "2"
      ]
     },
     "execution_count": 15,
     "metadata": {},
     "output_type": "execute_result"
    }
   ],
   "source": [
    "a.qnty_of_elements()"
   ]
  },
  {
   "cell_type": "markdown",
   "metadata": {},
   "source": [
    "**Задача 6:** Используя список, реализуйте класс очереди -- это структура данных, которая поддерживает следующие операции: \n",
    "+ добавление элемента в конец (push)\n",
    "+ удалить элемент из начала и вернуть значение удаленного элемента (pop)\n",
    "+ узнать количество элементов в структуре данных\n",
    "\n",
    "Остальные операции стандартного списка (например, обращение по индексу) не должны поддерживаться."
   ]
  },
  {
   "cell_type": "code",
   "execution_count": 16,
   "metadata": {},
   "outputs": [],
   "source": [
    "class Queue(object):\n",
    "    def __init__(self):\n",
    "        self.queue = []\n",
    "    def push(self, elem):\n",
    "        self.queue.append(elem)\n",
    "    def pop(self):\n",
    "        self.queue = self.queue[1:] + [self.queue[0]]\n",
    "        return self.queue.pop()\n",
    "    def qnty_of_elements(self):\n",
    "        return len(self.queue)"
   ]
  },
  {
   "cell_type": "code",
   "execution_count": 17,
   "metadata": {},
   "outputs": [],
   "source": [
    "a = Queue()"
   ]
  },
  {
   "cell_type": "code",
   "execution_count": 18,
   "metadata": {},
   "outputs": [],
   "source": [
    "for i in range(1,10):\n",
    "    a.push(i)"
   ]
  },
  {
   "cell_type": "code",
   "execution_count": 19,
   "metadata": {},
   "outputs": [
    {
     "data": {
      "text/plain": [
       "[1, 2, 3, 4, 5, 6, 7, 8, 9]"
      ]
     },
     "execution_count": 19,
     "metadata": {},
     "output_type": "execute_result"
    }
   ],
   "source": [
    "a.queue"
   ]
  },
  {
   "cell_type": "code",
   "execution_count": 20,
   "metadata": {},
   "outputs": [
    {
     "data": {
      "text/plain": [
       "1"
      ]
     },
     "execution_count": 20,
     "metadata": {},
     "output_type": "execute_result"
    }
   ],
   "source": [
    "a.pop()"
   ]
  },
  {
   "cell_type": "code",
   "execution_count": 21,
   "metadata": {},
   "outputs": [
    {
     "data": {
      "text/plain": [
       "[2, 3, 4, 5, 6, 7, 8, 9]"
      ]
     },
     "execution_count": 21,
     "metadata": {},
     "output_type": "execute_result"
    }
   ],
   "source": [
    "a.queue"
   ]
  },
  {
   "cell_type": "code",
   "execution_count": 22,
   "metadata": {},
   "outputs": [
    {
     "data": {
      "text/plain": [
       "8"
      ]
     },
     "execution_count": 22,
     "metadata": {},
     "output_type": "execute_result"
    }
   ],
   "source": [
    "a.qnty_of_elements()"
   ]
  },
  {
   "cell_type": "markdown",
   "metadata": {},
   "source": [
    "**Задача 7***:  Реализуйте класс \"хранилища банка\". Он должен хранить список клиентов (имена) вместе с паролями от их счетов и денежном балансом на этих счетах. Банк должен уметь пополнять счет клиента, снимать деньги с счета клиента, переводить деньги с одного счета на другой и добавлять нового клиента. \n",
    "\n",
    "+ У клиента может быть больше одного счета\n",
    "+ Корректность проводимых операций стоит проверять (например, что хватает денег чтобы их снять)\n",
    "\n",
    "Постарайтесь использовать как можно меньше памяти для хранения необходимых данных"
   ]
  },
  {
   "cell_type": "code",
   "execution_count": 23,
   "metadata": {},
   "outputs": [],
   "source": [
    "import itertools\n",
    "\n",
    "class Bank(object):\n",
    "    id_iter = itertools.count()\n",
    "    def __init__(self):\n",
    "        self.bank = {}\n",
    "    def new_client(self, client_name):\n",
    "        self.bank.update({client_name : {}})\n",
    "        print(f\"Новый клиент: {client_name}\")\n",
    "    def new_account(self, client_name, pswrd, summ=0):\n",
    "        self.bank.get(client_name).update({next(self.id_iter) : [pswrd, summ]})\n",
    "        print(f\"Создан новый счет № {list(self.bank.get(client_name).keys())[-1]} для клиента {client_name}\")\n",
    "    def update_account_sum(self, client_name, account_id_from, pswrd, summ, account_id_to = None):\n",
    "        if self.bank.get(client_name).get(account_id_from)[0] != pswrd:\n",
    "            print(\"Некорректный логин или пароль\")\n",
    "            return\n",
    "        elif account_id_to is None and summ >= 0:\n",
    "            self.bank.get(client_name).get(account_id_from)[1] += summ\n",
    "            print(f\"На ваш счет добавлено {summ} денежек. Всего на счету теперь {self.bank.get(client_name).get(account_id_from)[1]} денежек\")\n",
    "            return\n",
    "        elif -summ > self.bank.get(client_name).get(account_id_from)[1]:\n",
    "            print(\"У вас недостаточно денежек для снятия\")\n",
    "            return\n",
    "        elif account_id_to is None:\n",
    "            self.bank.get(client_name).get(account_id_from)[1] += summ\n",
    "            print(f\"Остаток на счете {self.bank.get(client_name).get(account_id_from)[1]} денежек\")\n",
    "            return\n",
    "        else:\n",
    "            self.bank.get(client_name).get(account_id_from)[1] -= abs(summ)\n",
    "            for K, V in list(self.bank.items()):\n",
    "                for k, v in V.items():\n",
    "                    if k == account_id_to:\n",
    "                        self.bank.get(K).get(k)[1] -= summ\n",
    "            print(\"Денежки переведены\")\n",
    "            return"
   ]
  },
  {
   "cell_type": "code",
   "execution_count": 24,
   "metadata": {},
   "outputs": [],
   "source": [
    "myBank = Bank()"
   ]
  },
  {
   "cell_type": "code",
   "execution_count": 25,
   "metadata": {},
   "outputs": [
    {
     "name": "stdout",
     "output_type": "stream",
     "text": [
      "Новый клиент: Tom\n",
      "Создан новый счет № 0 для клиента Tom\n",
      "Создан новый счет № 1 для клиента Tom\n",
      "Новый клиент: Tim\n",
      "Создан новый счет № 2 для клиента Tim\n"
     ]
    }
   ],
   "source": [
    "myBank.new_client(\"Tom\")\n",
    "myBank.new_account(\"Tom\",\"123\")\n",
    "myBank.new_account(\"Tom\",\"124\")\n",
    "myBank.new_client(\"Tim\")\n",
    "myBank.new_account(\"Tim\",\"111\")"
   ]
  },
  {
   "cell_type": "code",
   "execution_count": 26,
   "metadata": {},
   "outputs": [
    {
     "name": "stdout",
     "output_type": "stream",
     "text": [
      "На ваш счет добавлено 1000 денежек. Всего на счету теперь 1000 денежек\n"
     ]
    }
   ],
   "source": [
    "myBank.update_account_sum(\"Tom\",0,\"123\",1000)"
   ]
  },
  {
   "cell_type": "code",
   "execution_count": 27,
   "metadata": {},
   "outputs": [
    {
     "name": "stdout",
     "output_type": "stream",
     "text": [
      "Денежки переведены\n"
     ]
    }
   ],
   "source": [
    "myBank.update_account_sum(\"Tom\",0,\"123\",-100,2)"
   ]
  },
  {
   "cell_type": "code",
   "execution_count": 28,
   "metadata": {},
   "outputs": [
    {
     "data": {
      "text/plain": [
       "{2: ['111', 100]}"
      ]
     },
     "execution_count": 28,
     "metadata": {},
     "output_type": "execute_result"
    }
   ],
   "source": [
    "myBank.bank.get(\"Tim\")"
   ]
  },
  {
   "cell_type": "code",
   "execution_count": null,
   "metadata": {},
   "outputs": [],
   "source": []
  }
 ],
 "metadata": {
  "kernelspec": {
   "display_name": "Python 3",
   "language": "python",
   "name": "python3"
  },
  "language_info": {
   "codemirror_mode": {
    "name": "ipython",
    "version": 3
   },
   "file_extension": ".py",
   "mimetype": "text/x-python",
   "name": "python",
   "nbconvert_exporter": "python",
   "pygments_lexer": "ipython3",
   "version": "3.8.3"
  }
 },
 "nbformat": 4,
 "nbformat_minor": 5
}
