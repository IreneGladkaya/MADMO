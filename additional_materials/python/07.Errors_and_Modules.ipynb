{
 "cells": [
  {
   "cell_type": "markdown",
   "metadata": {
    "slideshow": {
     "slide_type": "slide"
    }
   },
   "source": [
    "<center>\n",
    "<br />\n",
    "<h1>Обработка ошибок. Модули. </h1>\n",
    "<h3>Python</h3>\n",
    "<br />\n"
   ]
  },
  {
   "cell_type": "markdown",
   "metadata": {
    "slideshow": {
     "slide_type": "slide"
    }
   },
   "source": [
    "# Ошибки в программах\n",
    "\n",
    "- Синтаксические (написали непонятно что)\n",
    "- Критические ошибки, несовместимые с жизнью  (выключился компьютер)\n",
    "- Рядовые ошибки, которые мы хотим уметь обрабатывать (поделили на ноль)"
   ]
  },
  {
   "cell_type": "markdown",
   "metadata": {
    "slideshow": {
     "slide_type": "slide"
    }
   },
   "source": [
    "### Синтаксические ошибки\n",
    "Обнаруживаются компилятором до запуска скрипта"
   ]
  },
  {
   "cell_type": "code",
   "execution_count": 8,
   "metadata": {},
   "outputs": [
    {
     "ename": "SyntaxError",
     "evalue": "invalid syntax (<string>, line 1)",
     "output_type": "error",
     "traceback": [
      "Traceback \u001b[0;36m(most recent call last)\u001b[0m:\n",
      "  File \u001b[1;32m\"/Users/alexandermarkov/anaconda3/lib/python3.7/site-packages/IPython/core/interactiveshell.py\"\u001b[0m, line \u001b[1;32m2961\u001b[0m, in \u001b[1;35mrun_code\u001b[0m\n    exec(code_obj, self.user_global_ns, self.user_ns)\n",
      "\u001b[0;36m  File \u001b[0;32m\"<ipython-input-8-37b3d66fe9b9>\"\u001b[0;36m, line \u001b[0;32m1\u001b[0;36m, in \u001b[0;35m<module>\u001b[0;36m\u001b[0m\n\u001b[0;31m    compile('a = 2 * 5 + 3)', '', 'exec')\u001b[0m\n",
      "\u001b[0;36m  File \u001b[0;32m\"<string>\"\u001b[0;36m, line \u001b[0;32m1\u001b[0m\n\u001b[0;31m    a = 2 * 5 + 3)\u001b[0m\n\u001b[0m                 ^\u001b[0m\n\u001b[0;31mSyntaxError\u001b[0m\u001b[0;31m:\u001b[0m invalid syntax\n"
     ]
    }
   ],
   "source": [
    "compile('a = 2 * 5 + 3)', '', 'exec')"
   ]
  },
  {
   "cell_type": "markdown",
   "metadata": {
    "slideshow": {
     "slide_type": "slide"
    }
   },
   "source": [
    "### Исключительные ситуации\n",
    "Ошибки, которые можно обрабатывать. Это удобно."
   ]
  },
  {
   "cell_type": "code",
   "execution_count": 3,
   "metadata": {
    "scrolled": true
   },
   "outputs": [
    {
     "ename": "TypeError",
     "evalue": "can only concatenate list (not \"int\") to list",
     "output_type": "error",
     "traceback": [
      "\u001b[0;31m---------------------------------------------------------------------------\u001b[0m",
      "\u001b[0;31mTypeError\u001b[0m                                 Traceback (most recent call last)",
      "\u001b[0;32m<ipython-input-3-0dd85b29c964>\u001b[0m in \u001b[0;36m<module>\u001b[0;34m()\u001b[0m\n\u001b[0;32m----> 1\u001b[0;31m \u001b[0;34m[\u001b[0m\u001b[0;36m1\u001b[0m\u001b[0;34m,\u001b[0m \u001b[0;36m2\u001b[0m\u001b[0;34m,\u001b[0m \u001b[0;36m3\u001b[0m\u001b[0;34m]\u001b[0m \u001b[0;34m+\u001b[0m \u001b[0;36m5\u001b[0m\u001b[0;34m\u001b[0m\u001b[0m\n\u001b[0m",
      "\u001b[0;31mTypeError\u001b[0m: can only concatenate list (not \"int\") to list"
     ]
    }
   ],
   "source": [
    "[1, 2, 3] + 5"
   ]
  },
  {
   "cell_type": "code",
   "execution_count": 4,
   "metadata": {},
   "outputs": [
    {
     "ename": "MemoryError",
     "evalue": "",
     "output_type": "error",
     "traceback": [
      "\u001b[0;31m---------------------------------------------------------------------------\u001b[0m",
      "\u001b[0;31mMemoryError\u001b[0m                               Traceback (most recent call last)",
      "\u001b[0;32m<ipython-input-4-3011dedebd3d>\u001b[0m in \u001b[0;36m<module>\u001b[0;34m()\u001b[0m\n\u001b[0;32m----> 1\u001b[0;31m \u001b[0;34m[\u001b[0m\u001b[0;36m1\u001b[0m\u001b[0;34m]\u001b[0m \u001b[0;34m*\u001b[0m \u001b[0mint\u001b[0m\u001b[0;34m(\u001b[0m\u001b[0;36m1e16\u001b[0m\u001b[0;34m)\u001b[0m\u001b[0;34m\u001b[0m\u001b[0m\n\u001b[0m",
      "\u001b[0;31mMemoryError\u001b[0m: "
     ]
    }
   ],
   "source": [
    "[1] * int(1e16)"
   ]
  },
  {
   "cell_type": "markdown",
   "metadata": {},
   "source": [
    "Нужно уметь делать 2 вещи:\n",
    "\n",
    "+ Создавать исключения и понимать когда они появляются\n",
    "+ Обрабатывать исключения"
   ]
  },
  {
   "cell_type": "markdown",
   "metadata": {},
   "source": [
    "Стратегии написания кода, которые позволяют избежать исключения"
   ]
  },
  {
   "cell_type": "markdown",
   "metadata": {
    "slideshow": {
     "slide_type": "slide"
    }
   },
   "source": [
    "### Стратегии обработки ошибок :: Look Before You Leap"
   ]
  },
  {
   "cell_type": "code",
   "execution_count": 15,
   "metadata": {},
   "outputs": [],
   "source": [
    "dict_ = {'key_': 3}\n",
    "value = 0"
   ]
  },
  {
   "cell_type": "code",
   "execution_count": 16,
   "metadata": {},
   "outputs": [
    {
     "name": "stdout",
     "output_type": "stream",
     "text": [
      "not done\n"
     ]
    }
   ],
   "source": [
    "if \"key\" in dict_:\n",
    "    value += dict_[\"key\"]\n",
    "    print('done')\n",
    "else:\n",
    "    print('not done')"
   ]
  },
  {
   "cell_type": "code",
   "execution_count": 6,
   "metadata": {},
   "outputs": [],
   "source": [
    "def add(a, b):\n",
    "    if not isinstance(a, (int, float)):\n",
    "        return 0\n",
    "\n",
    "    if not isinstance(b, (int, float)):\n",
    "        return 0\n",
    "    \n",
    "    return a + b"
   ]
  },
  {
   "cell_type": "code",
   "execution_count": 17,
   "metadata": {},
   "outputs": [
    {
     "name": "stdout",
     "output_type": "stream",
     "text": [
      "The Zen of Python, by Tim Peters\n",
      "\n",
      "Beautiful is better than ugly.\n",
      "Explicit is better than implicit.\n",
      "Simple is better than complex.\n",
      "Complex is better than complicated.\n",
      "Flat is better than nested.\n",
      "Sparse is better than dense.\n",
      "Readability counts.\n",
      "Special cases aren't special enough to break the rules.\n",
      "Although practicality beats purity.\n",
      "Errors should never pass silently.\n",
      "Unless explicitly silenced.\n",
      "In the face of ambiguity, refuse the temptation to guess.\n",
      "There should be one-- and preferably only one --obvious way to do it.\n",
      "Although that way may not be obvious at first unless you're Dutch.\n",
      "Now is better than never.\n",
      "Although never is often better than *right* now.\n",
      "If the implementation is hard to explain, it's a bad idea.\n",
      "If the implementation is easy to explain, it may be a good idea.\n",
      "Namespaces are one honking great idea -- let's do more of those!\n"
     ]
    }
   ],
   "source": [
    "import this"
   ]
  },
  {
   "cell_type": "markdown",
   "metadata": {},
   "source": [
    "Это не рекомендуется в питоне\n",
    "\n",
    "+ Код сложнее\n",
    "+ Код медленнее\n",
    "\n",
    "Поскольку чаще функции используются правильно, а не непавильно, хотелось бы чтобы корректные вызовы не сильно замедляли выполнение функции"
   ]
  },
  {
   "cell_type": "markdown",
   "metadata": {
    "slideshow": {
     "slide_type": "slide"
    }
   },
   "source": [
    "### Стратегии обработки ошибок :: It's easier to ask for forgiveness than permission"
   ]
  },
  {
   "cell_type": "code",
   "execution_count": 24,
   "metadata": {},
   "outputs": [],
   "source": [
    "dict_ = {'1': 1}\n",
    "value = 0"
   ]
  },
  {
   "cell_type": "code",
   "execution_count": 25,
   "metadata": {},
   "outputs": [
    {
     "ename": "KeyError",
     "evalue": "'key'",
     "output_type": "error",
     "traceback": [
      "\u001b[0;31m---------------------------------------------------------------------------\u001b[0m",
      "\u001b[0;31mKeyError\u001b[0m                                  Traceback (most recent call last)",
      "\u001b[0;32m<ipython-input-25-ea64d7209c9c>\u001b[0m in \u001b[0;36m<module>\u001b[0;34m()\u001b[0m\n\u001b[0;32m----> 1\u001b[0;31m \u001b[0mvalue\u001b[0m \u001b[0;34m+=\u001b[0m \u001b[0mdict_\u001b[0m\u001b[0;34m[\u001b[0m\u001b[0;34m'key'\u001b[0m\u001b[0;34m]\u001b[0m\u001b[0;34m\u001b[0m\u001b[0m\n\u001b[0m",
      "\u001b[0;31mKeyError\u001b[0m: 'key'"
     ]
    }
   ],
   "source": [
    "value += dict_['key']"
   ]
  },
  {
   "cell_type": "code",
   "execution_count": 29,
   "metadata": {},
   "outputs": [
    {
     "name": "stdout",
     "output_type": "stream",
     "text": [
      "in except\n"
     ]
    }
   ],
   "source": [
    "try:\n",
    "    value += dict_[\"key\"]\n",
    "except KeyError:\n",
    "    print('in except')"
   ]
  },
  {
   "cell_type": "code",
   "execution_count": 28,
   "metadata": {},
   "outputs": [
    {
     "data": {
      "text/plain": [
       "0"
      ]
     },
     "execution_count": 28,
     "metadata": {},
     "output_type": "execute_result"
    }
   ],
   "source": [
    "value"
   ]
  },
  {
   "cell_type": "code",
   "execution_count": 8,
   "metadata": {},
   "outputs": [],
   "source": [
    "def add(a, b):\n",
    "    try:\n",
    "        return a + b\n",
    "    except TypeError:\n",
    "        return 0"
   ]
  },
  {
   "cell_type": "markdown",
   "metadata": {
    "slideshow": {
     "slide_type": "slide"
    }
   },
   "source": [
    "### try ... except\n",
    "\n",
    "except (тип исключения или кортеж типов) (имя для перехваченного исключения)"
   ]
  },
  {
   "cell_type": "code",
   "execution_count": 32,
   "metadata": {},
   "outputs": [
    {
     "data": {
      "text/plain": [
       "<method '__format__' of 'object' objects>"
      ]
     },
     "execution_count": 32,
     "metadata": {},
     "output_type": "execute_result"
    }
   ],
   "source": [
    "TypeError.__format__"
   ]
  },
  {
   "cell_type": "code",
   "execution_count": 9,
   "metadata": {},
   "outputs": [
    {
     "name": "stdout",
     "output_type": "stream",
     "text": [
      "TypeError in dangerous(..) : can only concatenate str (not \"int\") to str\n"
     ]
    }
   ],
   "source": [
    "def dangerous(lst):\n",
    "    lst[2] += 1\n",
    "    return lst\n",
    "\n",
    "try:\n",
    "    dangerous(['1', '2', '4'])\n",
    "except TypeError as e:\n",
    "    print('TypeError in dangerous(..) : {}'.format(e))\n"
   ]
  },
  {
   "cell_type": "code",
   "execution_count": 10,
   "metadata": {
    "slideshow": {
     "slide_type": "subslide"
    }
   },
   "outputs": [
    {
     "name": "stdout",
     "output_type": "stream",
     "text": [
      "IndexError in dangerous(..) : list index out of range\n"
     ]
    }
   ],
   "source": [
    "def dangerous(lst):\n",
    "    lst[2] += 1\n",
    "    return lst\n",
    "\n",
    "try:\n",
    "    dangerous(['1', '2'])\n",
    "except TypeError as e:\n",
    "    print('TypeError in dangerous(..) : {}'.format(e))\n",
    "except IndexError as e:\n",
    "    print('IndexError in dangerous(..) : {}'.format(e))\n"
   ]
  },
  {
   "cell_type": "code",
   "execution_count": 33,
   "metadata": {
    "slideshow": {
     "slide_type": "subslide"
    }
   },
   "outputs": [
    {
     "name": "stdout",
     "output_type": "stream",
     "text": [
      "IndexError in dangerous(..) : list index out of range\n"
     ]
    }
   ],
   "source": [
    "def dangerous(lst):\n",
    "    lst[2] += 1\n",
    "    return lst\n",
    "\n",
    "try:\n",
    "    dangerous(['1', '2'])\n",
    "except (TypeError, IndexError) as e:\n",
    "    print('{} in dangerous(..) : {}'.format(e.__class__.__name__, e))\n",
    "\n"
   ]
  },
  {
   "cell_type": "markdown",
   "metadata": {},
   "source": [
    "except сопоставляет исключения с переданными ему типами с помощью isinstance"
   ]
  },
  {
   "cell_type": "markdown",
   "metadata": {
    "slideshow": {
     "slide_type": "slide"
    }
   },
   "source": [
    "### raise\n",
    "генерирует исключение"
   ]
  },
  {
   "cell_type": "code",
   "execution_count": 12,
   "metadata": {},
   "outputs": [
    {
     "ename": "TypeError",
     "evalue": "whatever",
     "output_type": "error",
     "traceback": [
      "\u001b[0;31m---------------------------------------------------------------------------\u001b[0m",
      "\u001b[0;31mTypeError\u001b[0m                                 Traceback (most recent call last)",
      "\u001b[0;32m<ipython-input-12-e43365dfbff4>\u001b[0m in \u001b[0;36m<module>\u001b[0;34m()\u001b[0m\n\u001b[0;32m----> 1\u001b[0;31m \u001b[0;32mraise\u001b[0m \u001b[0mTypeError\u001b[0m\u001b[0;34m(\u001b[0m\u001b[0;34m'whatever'\u001b[0m\u001b[0;34m)\u001b[0m\u001b[0;34m\u001b[0m\u001b[0m\n\u001b[0m",
      "\u001b[0;31mTypeError\u001b[0m: whatever"
     ]
    }
   ],
   "source": [
    "raise TypeError('whatever')"
   ]
  },
  {
   "cell_type": "markdown",
   "metadata": {
    "slideshow": {
     "slide_type": "slide"
    }
   },
   "source": [
    "## Встроенные исключения :: Иерархия"
   ]
  },
  {
   "cell_type": "markdown",
   "metadata": {},
   "source": [
    "Можно raise-ить все что угодно, что отнаследовано от BaseException"
   ]
  },
  {
   "cell_type": "code",
   "execution_count": 34,
   "metadata": {},
   "outputs": [
    {
     "data": {
      "text/plain": [
       "True"
      ]
     },
     "execution_count": 34,
     "metadata": {},
     "output_type": "execute_result"
    }
   ],
   "source": [
    "issubclass(Exception, BaseException)"
   ]
  },
  {
   "cell_type": "code",
   "execution_count": 13,
   "metadata": {},
   "outputs": [
    {
     "data": {
      "text/plain": [
       "True"
      ]
     },
     "execution_count": 13,
     "metadata": {},
     "output_type": "execute_result"
    }
   ],
   "source": [
    "issubclass(TypeError, BaseException)"
   ]
  },
  {
   "cell_type": "code",
   "execution_count": 14,
   "metadata": {},
   "outputs": [
    {
     "data": {
      "text/plain": [
       "True"
      ]
     },
     "execution_count": 14,
     "metadata": {},
     "output_type": "execute_result"
    }
   ],
   "source": [
    "issubclass(TypeError, Exception)"
   ]
  },
  {
   "cell_type": "markdown",
   "metadata": {},
   "source": [
    "При этом не все, что отнаследовано от BaseEexception, является ошибкой. Плохой паттерн, когда ошибки на самом деле контролируют выполнение кода, но в питоне в несколькоих местах он реализован"
   ]
  },
  {
   "cell_type": "code",
   "execution_count": 15,
   "metadata": {
    "slideshow": {
     "slide_type": "subslide"
    }
   },
   "outputs": [
    {
     "data": {
      "text/plain": [
       "True"
      ]
     },
     "execution_count": 15,
     "metadata": {},
     "output_type": "execute_result"
    }
   ],
   "source": [
    "issubclass(KeyboardInterrupt, BaseException)"
   ]
  },
  {
   "cell_type": "code",
   "execution_count": 16,
   "metadata": {},
   "outputs": [
    {
     "data": {
      "text/plain": [
       "False"
      ]
     },
     "execution_count": 16,
     "metadata": {},
     "output_type": "execute_result"
    }
   ],
   "source": [
    "issubclass(KeyboardInterrupt, Exception)"
   ]
  },
  {
   "cell_type": "code",
   "execution_count": 17,
   "metadata": {},
   "outputs": [
    {
     "data": {
      "text/plain": [
       "[Exception, GeneratorExit, SystemExit, KeyboardInterrupt]"
      ]
     },
     "execution_count": 17,
     "metadata": {},
     "output_type": "execute_result"
    }
   ],
   "source": [
    "BaseException.__subclasses__()"
   ]
  },
  {
   "cell_type": "markdown",
   "metadata": {
    "slideshow": {
     "slide_type": "subslide"
    }
   },
   "source": [
    "### Вывод - не делать так"
   ]
  },
  {
   "cell_type": "code",
   "execution_count": 18,
   "metadata": {},
   "outputs": [
    {
     "ename": "IndentationError",
     "evalue": "expected an indented block (<ipython-input-18-8bde34e14932>, line 3)",
     "output_type": "error",
     "traceback": [
      "\u001b[0;36m  File \u001b[0;32m\"<ipython-input-18-8bde34e14932>\"\u001b[0;36m, line \u001b[0;32m3\u001b[0m\n\u001b[0;31m    except:\u001b[0m\n\u001b[0m         ^\u001b[0m\n\u001b[0;31mIndentationError\u001b[0m\u001b[0;31m:\u001b[0m expected an indented block\n"
     ]
    }
   ],
   "source": [
    "try:\n",
    "    # code\n",
    "except:\n",
    "    # handling"
   ]
  },
  {
   "cell_type": "markdown",
   "metadata": {
    "slideshow": {
     "slide_type": "subslide"
    }
   },
   "source": [
    "### А так можно"
   ]
  },
  {
   "cell_type": "code",
   "execution_count": 19,
   "metadata": {},
   "outputs": [
    {
     "ename": "IndentationError",
     "evalue": "expected an indented block (<ipython-input-19-36f45a23f410>, line 3)",
     "output_type": "error",
     "traceback": [
      "\u001b[0;36m  File \u001b[0;32m\"<ipython-input-19-36f45a23f410>\"\u001b[0;36m, line \u001b[0;32m3\u001b[0m\n\u001b[0;31m    except Exception:\u001b[0m\n\u001b[0m         ^\u001b[0m\n\u001b[0;31mIndentationError\u001b[0m\u001b[0;31m:\u001b[0m expected an indented block\n"
     ]
    }
   ],
   "source": [
    "try:\n",
    "    # code\n",
    "except Exception:\n",
    "    # handling"
   ]
  },
  {
   "cell_type": "markdown",
   "metadata": {
    "slideshow": {
     "slide_type": "slide"
    }
   },
   "source": [
    "## Встроенные исключения :: AssertionError"
   ]
  },
  {
   "cell_type": "code",
   "execution_count": 36,
   "metadata": {},
   "outputs": [
    {
     "ename": "AssertionError",
     "evalue": "Math still works!",
     "output_type": "error",
     "traceback": [
      "\u001b[0;31m---------------------------------------------------------------------------\u001b[0m",
      "\u001b[0;31mAssertionError\u001b[0m                            Traceback (most recent call last)",
      "\u001b[0;32m<ipython-input-36-9652c74bfc91>\u001b[0m in \u001b[0;36m<module>\u001b[0;34m()\u001b[0m\n\u001b[0;32m----> 1\u001b[0;31m \u001b[0;32massert\u001b[0m \u001b[0;36m1\u001b[0m \u001b[0;34m==\u001b[0m \u001b[0;36m2\u001b[0m\u001b[0;34m,\u001b[0m \u001b[0;34m\"Math still works!\"\u001b[0m\u001b[0;34m\u001b[0m\u001b[0m\n\u001b[0m",
      "\u001b[0;31mAssertionError\u001b[0m: Math still works!"
     ]
    }
   ],
   "source": [
    "assert 1 == 2, \"Math still works!\""
   ]
  },
  {
   "cell_type": "markdown",
   "metadata": {},
   "source": [
    "AssertionError генерируется, как правило, из-за ошибки программиста, перехватывать его не нужно\n",
    "\n",
    "Ставить assert-ы в своих функциях - полезно"
   ]
  },
  {
   "cell_type": "markdown",
   "metadata": {
    "slideshow": {
     "slide_type": "slide"
    }
   },
   "source": [
    "## Встроенные исключения :: NameError, AttributeError, LookupError"
   ]
  },
  {
   "cell_type": "code",
   "execution_count": 37,
   "metadata": {},
   "outputs": [
    {
     "ename": "NameError",
     "evalue": "name 'no_such_name' is not defined",
     "output_type": "error",
     "traceback": [
      "\u001b[0;31m---------------------------------------------------------------------------\u001b[0m",
      "\u001b[0;31mNameError\u001b[0m                                 Traceback (most recent call last)",
      "\u001b[0;32m<ipython-input-37-36e5e5292677>\u001b[0m in \u001b[0;36m<module>\u001b[0;34m()\u001b[0m\n\u001b[0;32m----> 1\u001b[0;31m \u001b[0mno_such_name\u001b[0m\u001b[0;34m\u001b[0m\u001b[0m\n\u001b[0m",
      "\u001b[0;31mNameError\u001b[0m: name 'no_such_name' is not defined"
     ]
    }
   ],
   "source": [
    "no_such_name"
   ]
  },
  {
   "cell_type": "code",
   "execution_count": 38,
   "metadata": {
    "slideshow": {
     "slide_type": "subslide"
    }
   },
   "outputs": [
    {
     "ename": "AttributeError",
     "evalue": "'object' object has no attribute 'no_such_name'",
     "output_type": "error",
     "traceback": [
      "\u001b[0;31m---------------------------------------------------------------------------\u001b[0m",
      "\u001b[0;31mAttributeError\u001b[0m                            Traceback (most recent call last)",
      "\u001b[0;32m<ipython-input-38-76d09b52e2e2>\u001b[0m in \u001b[0;36m<module>\u001b[0;34m()\u001b[0m\n\u001b[0;32m----> 1\u001b[0;31m \u001b[0mobject\u001b[0m\u001b[0;34m(\u001b[0m\u001b[0;34m)\u001b[0m\u001b[0;34m.\u001b[0m\u001b[0mno_such_name\u001b[0m\u001b[0;34m\u001b[0m\u001b[0m\n\u001b[0m",
      "\u001b[0;31mAttributeError\u001b[0m: 'object' object has no attribute 'no_such_name'"
     ]
    }
   ],
   "source": [
    "object().no_such_name"
   ]
  },
  {
   "cell_type": "code",
   "execution_count": 22,
   "metadata": {
    "slideshow": {
     "slide_type": "subslide"
    }
   },
   "outputs": [
    {
     "data": {
      "text/plain": [
       "[IndexError,\n",
       " KeyError,\n",
       " encodings.CodecRegistryError,\n",
       " jinja2.exceptions.TemplateNotFound,\n",
       " jedi.evaluate.stdlib.NotInStdLib]"
      ]
     },
     "execution_count": 22,
     "metadata": {},
     "output_type": "execute_result"
    }
   ],
   "source": [
    "LookupError.__subclasses__()"
   ]
  },
  {
   "cell_type": "markdown",
   "metadata": {
    "slideshow": {
     "slide_type": "slide"
    }
   },
   "source": [
    "## Встроенные исключения :: ValueError, TypeError"
   ]
  },
  {
   "cell_type": "markdown",
   "metadata": {},
   "source": [
    "ValueError - стоит пользоваться, если непонятно что вызывать.  В примере ниже объясняется неплохо, но в общем случае тяжело"
   ]
  },
  {
   "cell_type": "code",
   "execution_count": 23,
   "metadata": {},
   "outputs": [
    {
     "ename": "ValueError",
     "evalue": "empty separator",
     "output_type": "error",
     "traceback": [
      "\u001b[0;31m---------------------------------------------------------------------------\u001b[0m",
      "\u001b[0;31mValueError\u001b[0m                                Traceback (most recent call last)",
      "\u001b[0;32m<ipython-input-23-873d7889a1e9>\u001b[0m in \u001b[0;36m<module>\u001b[0;34m()\u001b[0m\n\u001b[0;32m----> 1\u001b[0;31m \u001b[0;34m\"test string\"\u001b[0m\u001b[0;34m.\u001b[0m\u001b[0msplit\u001b[0m\u001b[0;34m(\u001b[0m\u001b[0;34m\"\"\u001b[0m\u001b[0;34m)\u001b[0m\u001b[0;34m\u001b[0m\u001b[0m\n\u001b[0m",
      "\u001b[0;31mValueError\u001b[0m: empty separator"
     ]
    }
   ],
   "source": [
    "\"test string\".split(\"\")"
   ]
  },
  {
   "cell_type": "code",
   "execution_count": 39,
   "metadata": {},
   "outputs": [
    {
     "ename": "TypeError",
     "evalue": "unsupported operand type(s) for +: 'int' and 'str'",
     "output_type": "error",
     "traceback": [
      "\u001b[0;31m---------------------------------------------------------------------------\u001b[0m",
      "\u001b[0;31mTypeError\u001b[0m                                 Traceback (most recent call last)",
      "\u001b[0;32m<ipython-input-39-8fd9dcfa4f42>\u001b[0m in \u001b[0;36m<module>\u001b[0;34m()\u001b[0m\n\u001b[0;32m----> 1\u001b[0;31m \u001b[0;36m2\u001b[0m \u001b[0;34m+\u001b[0m \u001b[0;34m'3'\u001b[0m\u001b[0;34m\u001b[0m\u001b[0m\n\u001b[0m",
      "\u001b[0;31mTypeError\u001b[0m: unsupported operand type(s) for +: 'int' and 'str'"
     ]
    }
   ],
   "source": [
    "2 + '3'"
   ]
  },
  {
   "cell_type": "markdown",
   "metadata": {
    "slideshow": {
     "slide_type": "slide"
    }
   },
   "source": [
    "## Полный список исключений лучше посмотреть в документации"
   ]
  },
  {
   "cell_type": "code",
   "execution_count": 41,
   "metadata": {},
   "outputs": [],
   "source": [
    "from math import log"
   ]
  },
  {
   "cell_type": "code",
   "execution_count": 25,
   "metadata": {
    "scrolled": false
   },
   "outputs": [
    {
     "data": {
      "text/plain": [
       "[TypeError,\n",
       " StopAsyncIteration,\n",
       " StopIteration,\n",
       " ImportError,\n",
       " OSError,\n",
       " EOFError,\n",
       " RuntimeError,\n",
       " NameError,\n",
       " AttributeError,\n",
       " SyntaxError,\n",
       " LookupError,\n",
       " ValueError,\n",
       " AssertionError,\n",
       " ArithmeticError,\n",
       " SystemError,\n",
       " ReferenceError,\n",
       " BufferError,\n",
       " MemoryError,\n",
       " Warning,\n",
       " locale.Error,\n",
       " sre_constants.error,\n",
       " sre_parse.Verbose,\n",
       " warnings._OptionError,\n",
       " subprocess.SubprocessError,\n",
       " tokenize.TokenError,\n",
       " tokenize.StopTokenizing,\n",
       " runpy._Error,\n",
       " copy.Error,\n",
       " zlib.error,\n",
       " _lzma.LZMAError,\n",
       " shutil.RegistryError,\n",
       " inspect.EndOfBlock,\n",
       " struct.error,\n",
       " traitlets.traitlets.TraitError,\n",
       " argparse.ArgumentError,\n",
       " argparse.ArgumentTypeError,\n",
       " traitlets.config.loader.ConfigError,\n",
       " traitlets.config.configurable.ConfigurableError,\n",
       " traitlets.config.application.ApplicationError,\n",
       " pydoc.ErrorDuringImport,\n",
       " bdb.BdbQuit,\n",
       " pygments.util.OptionError,\n",
       " pdb.Restart,\n",
       " pexpect.exceptions.ExceptionPexpect,\n",
       " termios.error,\n",
       " ptyprocess.ptyprocess.PtyProcessError,\n",
       " IPython.utils.process.FindCmdError,\n",
       " IPython.utils.path.HomeDirError,\n",
       " IPython.core.profiledir.ProfileDirError,\n",
       " IPython.core.error.IPythonCoreError,\n",
       " IPython.core.error.InputRejected,\n",
       " getopt.GetoptError,\n",
       " binascii.Incomplete,\n",
       " pygments.filters.ErrorToken,\n",
       " IPython.utils.tokenize2.TokenError,\n",
       " IPython.utils.tokenize2.StopTokenizing,\n",
       " pickle._Stop,\n",
       " _pickle.PickleError,\n",
       " IPython.core.prefilter.PrefilterError,\n",
       " IPython.core.alias.AliasError,\n",
       " sqlite3.Error,\n",
       " sqlite3.Warning,\n",
       " IPython.core.interactiveshell.SpaceInInput,\n",
       " prompt_toolkit.validation.ValidationError,\n",
       " prompt_toolkit.buffer.EditReadOnlyBuffer,\n",
       " prompt_toolkit.renderer.HeightIsUnknownError,\n",
       " jedi.common.UncaughtAttributeError,\n",
       " jedi.parser.pgen2.parse.InternalParseError,\n",
       " jedi.parser.parser.ParserSyntaxError,\n",
       " ctypes.ArgumentError,\n",
       " jedi.parser.python.diff._PositionUpdatingFinished,\n",
       " jedi.evaluate.compiled.fake.FakeDoesNotExist,\n",
       " jinja2.nodes.Impossible,\n",
       " jinja2.exceptions.TemplateError,\n",
       " jinja2.compiler.CompilerExit,\n",
       " concurrent.futures._base.Error,\n",
       " queue.Empty,\n",
       " queue.Full,\n",
       " socket._GiveupOnSendfile,\n",
       " multiprocessing.context.ProcessError,\n",
       " concurrent.futures.process._RemoteTraceback,\n",
       " asyncio.queues.QueueEmpty,\n",
       " asyncio.queues.QueueFull,\n",
       " asyncio.streams.LimitOverrunError,\n",
       " docutils.ApplicationError,\n",
       " docutils.nodes.TreePruningException,\n",
       " docutils.statemachine.StateMachineError,\n",
       " docutils.statemachine.TransitionCorrection,\n",
       " docutils.statemachine.StateCorrection,\n",
       " docutils.utils.roman.RomanError,\n",
       " docutils.parsers.rst.states.MarkupMismatch,\n",
       " configparser.Error,\n",
       " optparse.OptParseError,\n",
       " docutils.parsers.rst.DirectiveError,\n",
       " sphinx.errors.SphinxError,\n",
       " sphinx.errors.PycodeError,\n",
       " sphinx.util.docutils.ElementLookupError,\n",
       " babel.plural.RuleError,\n",
       " babel.core.UnknownLocaleError,\n",
       " pytz.exceptions.InvalidTimeError,\n",
       " email.errors.MessageError,\n",
       " uu.Error,\n",
       " babel.messages.catalog.TranslationError,\n",
       " docutils.transforms.references.CircularSubstitutionDefinitionError,\n",
       " http.client.HTTPException,\n",
       " cffi.error.FFIError,\n",
       " cffi.error.CDefError,\n",
       " cffi.error.VerificationError,\n",
       " cffi.error.VerificationMissing,\n",
       " _csv.Error,\n",
       " zipfile.BadZipFile,\n",
       " zipfile.LargeZipFile,\n",
       " xml.parsers.expat.ExpatError,\n",
       " pkg_resources._vendor.pyparsing.ParseBaseException,\n",
       " pkg_resources._vendor.pyparsing.RecursiveGrammarException,\n",
       " pkg_resources.ResolutionError,\n",
       " sphinxcontrib.websupport.errors.DocumentNotFoundError,\n",
       " sphinxcontrib.websupport.errors.UserNotAuthorizedError,\n",
       " sphinxcontrib.websupport.errors.CommentNotAllowedError,\n",
       " sphinxcontrib.websupport.errors.NullSearchException,\n",
       " sphinx.environment.NoUri,\n",
       " numpydoc.docscrape.ParseError,\n",
       " jedi.api.helpers.OnErrorLeaf,\n",
       " jedi.api.NotFoundError,\n",
       " IPython.core.magics.code.InteractivelyDefined,\n",
       " IPython.terminal.embed.KillEmbeded,\n",
       " zmq.error.ZMQBaseError,\n",
       " jupyter_client.localinterfaces.NoIPAddresses,\n",
       " jupyter_client.channels.InvalidPortNumber,\n",
       " _curses.error,\n",
       " tornado.stack_context.StackContextInconsistentError,\n",
       " tornado.concurrent.ReturnValueIgnoredError,\n",
       " tornado.ioloop.TimeoutError,\n",
       " jupyter_client.multikernelmanager.DuplicateKernelError]"
      ]
     },
     "execution_count": 25,
     "metadata": {},
     "output_type": "execute_result"
    }
   ],
   "source": [
    "Exception.__subclasses__()"
   ]
  },
  {
   "cell_type": "markdown",
   "metadata": {
    "slideshow": {
     "slide_type": "slide"
    }
   },
   "source": [
    "## Пользовательские исключения\n",
    "Достаточно пронаследоаться от класса Exception\n",
    "\n",
    "Лучше групировать свои исключения за одним базовым классом, чтобы пользовтель вашей библиотеки мог пеерехватить их все и только их"
   ]
  },
  {
   "cell_type": "code",
   "execution_count": 44,
   "metadata": {},
   "outputs": [
    {
     "ename": "WrongFootError",
     "evalue": "Try another one!",
     "output_type": "error",
     "traceback": [
      "\u001b[0;31m---------------------------------------------------------------------------\u001b[0m",
      "\u001b[0;31mWrongFootError\u001b[0m                            Traceback (most recent call last)",
      "\u001b[0;32m<ipython-input-44-ce6db777ecd1>\u001b[0m in \u001b[0;36m<module>\u001b[0;34m()\u001b[0m\n\u001b[1;32m      8\u001b[0m \u001b[0;31m# except ShoeError as e:\u001b[0m\u001b[0;34m\u001b[0m\u001b[0;34m\u001b[0m\u001b[0m\n\u001b[1;32m      9\u001b[0m \u001b[0;31m#     do_sth()\u001b[0m\u001b[0;34m\u001b[0m\u001b[0;34m\u001b[0m\u001b[0m\n\u001b[0;32m---> 10\u001b[0;31m \u001b[0;32mraise\u001b[0m \u001b[0mWrongFootError\u001b[0m\u001b[0;34m(\u001b[0m\u001b[0;34m)\u001b[0m\u001b[0;34m\u001b[0m\u001b[0m\n\u001b[0m",
      "\u001b[0;31mWrongFootError\u001b[0m: Try another one!"
     ]
    }
   ],
   "source": [
    "class ShoeError(Exception):\n",
    "    pass\n",
    "\n",
    "class WrongFootError(ShoeError):\n",
    "    def __str__(self):\n",
    "        return 'Try another one!'\n",
    "    \n",
    "# except ShoeError as e:\n",
    "#     do_sth()\n",
    "raise WrongFootError()"
   ]
  },
  {
   "cell_type": "markdown",
   "metadata": {},
   "source": [
    "Основные эксепшены просто хранят внутри себя args и все"
   ]
  },
  {
   "cell_type": "code",
   "execution_count": 47,
   "metadata": {
    "slideshow": {
     "slide_type": "subslide"
    }
   },
   "outputs": [
    {
     "ename": "UntiedShoelaceError",
     "evalue": "Right shoe laces are untied.",
     "output_type": "error",
     "traceback": [
      "\u001b[0;31m---------------------------------------------------------------------------\u001b[0m",
      "\u001b[0;31mUntiedShoelaceError\u001b[0m                       Traceback (most recent call last)",
      "\u001b[0;32m<ipython-input-47-328c9917b51d>\u001b[0m in \u001b[0;36m<module>\u001b[0;34m()\u001b[0m\n\u001b[1;32m      7\u001b[0m         \u001b[0;32mreturn\u001b[0m \u001b[0;34m'{} shoe laces are untied.'\u001b[0m\u001b[0;34m.\u001b[0m\u001b[0mformat\u001b[0m\u001b[0;34m(\u001b[0m\u001b[0mself\u001b[0m\u001b[0;34m.\u001b[0m\u001b[0mshoe\u001b[0m\u001b[0;34m)\u001b[0m\u001b[0;34m\u001b[0m\u001b[0m\n\u001b[1;32m      8\u001b[0m \u001b[0;34m\u001b[0m\u001b[0m\n\u001b[0;32m----> 9\u001b[0;31m \u001b[0;32mraise\u001b[0m \u001b[0mUntiedShoelaceError\u001b[0m\u001b[0;34m(\u001b[0m\u001b[0;34m'Right'\u001b[0m\u001b[0;34m,\u001b[0m \u001b[0;36m1\u001b[0m\u001b[0;34m,\u001b[0m \u001b[0;36m2\u001b[0m\u001b[0;34m,\u001b[0m \u001b[0;36m3\u001b[0m\u001b[0;34m)\u001b[0m\u001b[0;34m\u001b[0m\u001b[0m\n\u001b[0m",
      "\u001b[0;31mUntiedShoelaceError\u001b[0m: Right shoe laces are untied."
     ]
    }
   ],
   "source": [
    "class UntiedShoelaceError(ShoeError):\n",
    "    def __init__(self, shoe, *args):\n",
    "        super().__init__(*args)\n",
    "        self.shoe = shoe\n",
    "        \n",
    "    def __str__(self):\n",
    "        return '{} shoe laces are untied.'.format(self.shoe)\n",
    "\n",
    "raise UntiedShoelaceError('Right', 1, 2, 3)"
   ]
  },
  {
   "cell_type": "markdown",
   "metadata": {
    "slideshow": {
     "slide_type": "slide"
    }
   },
   "source": [
    "### Структура объекта исключения"
   ]
  },
  {
   "cell_type": "code",
   "execution_count": 50,
   "metadata": {},
   "outputs": [
    {
     "data": {
      "text/plain": [
       "('this', 'is', 'test')"
      ]
     },
     "execution_count": 50,
     "metadata": {},
     "output_type": "execute_result"
    }
   ],
   "source": [
    "try:\n",
    "    raise TypeError('this', 'is', 'test')\n",
    "except TypeError as e:\n",
    "    caught = e\n",
    "    \n",
    "caught.args"
   ]
  },
  {
   "cell_type": "code",
   "execution_count": 51,
   "metadata": {},
   "outputs": [
    {
     "data": {
      "text/plain": [
       "<traceback at 0x7fc5ca5b5188>"
      ]
     },
     "execution_count": 51,
     "metadata": {},
     "output_type": "execute_result"
    }
   ],
   "source": [
    "caught.__traceback__"
   ]
  },
  {
   "cell_type": "markdown",
   "metadata": {},
   "source": [
    "Объект исключения удаляется при выходи из эксепшена из-за бэктрейса, который может быть довольно большим"
   ]
  },
  {
   "cell_type": "code",
   "execution_count": 52,
   "metadata": {
    "slideshow": {
     "slide_type": "slide"
    }
   },
   "outputs": [
    {
     "name": "stderr",
     "output_type": "stream",
     "text": [
      "  File \"<ipython-input-50-94d12f8fb924>\", line 2, in <module>\n",
      "    raise TypeError('this', 'is', 'test')\n"
     ]
    }
   ],
   "source": [
    "import traceback\n",
    "\n",
    "traceback.print_tb(caught.__traceback__)"
   ]
  },
  {
   "cell_type": "markdown",
   "metadata": {},
   "source": [
    "Внутри исключеения хранятся args и traceback"
   ]
  },
  {
   "cell_type": "markdown",
   "metadata": {
    "slideshow": {
     "slide_type": "slide"
    }
   },
   "source": [
    "## Несколько деталей :: raise без аргументов"
   ]
  },
  {
   "cell_type": "code",
   "execution_count": 25,
   "metadata": {},
   "outputs": [
    {
     "name": "stdout",
     "output_type": "stream",
     "text": [
      "Billy was here!\n"
     ]
    },
    {
     "ename": "NameError",
     "evalue": "name 'Banana' is not defined",
     "output_type": "error",
     "traceback": [
      "\u001b[0;31m---------------------------------------------------------------------------\u001b[0m",
      "\u001b[0;31mNameError\u001b[0m                                 Traceback (most recent call last)",
      "\u001b[0;32m<ipython-input-25-919f27ba4ffa>\u001b[0m in \u001b[0;36m<module>\u001b[0;34m()\u001b[0m\n\u001b[1;32m      3\u001b[0m \u001b[0;34m\u001b[0m\u001b[0m\n\u001b[1;32m      4\u001b[0m \u001b[0;32mtry\u001b[0m\u001b[0;34m:\u001b[0m\u001b[0;34m\u001b[0m\u001b[0m\n\u001b[0;32m----> 5\u001b[0;31m     \u001b[0mbroken\u001b[0m\u001b[0;34m(\u001b[0m\u001b[0;34m)\u001b[0m\u001b[0;34m\u001b[0m\u001b[0m\n\u001b[0m\u001b[1;32m      6\u001b[0m \u001b[0;32mexcept\u001b[0m \u001b[0mException\u001b[0m \u001b[0;32mas\u001b[0m \u001b[0me\u001b[0m\u001b[0;34m:\u001b[0m\u001b[0;34m\u001b[0m\u001b[0m\n\u001b[1;32m      7\u001b[0m     \u001b[0mprint\u001b[0m\u001b[0;34m(\u001b[0m\u001b[0;34m'Billy was here!'\u001b[0m\u001b[0;34m)\u001b[0m\u001b[0;34m\u001b[0m\u001b[0m\n",
      "\u001b[0;32m<ipython-input-25-919f27ba4ffa>\u001b[0m in \u001b[0;36mbroken\u001b[0;34m()\u001b[0m\n\u001b[1;32m      1\u001b[0m \u001b[0;32mdef\u001b[0m \u001b[0mbroken\u001b[0m\u001b[0;34m(\u001b[0m\u001b[0;34m)\u001b[0m\u001b[0;34m:\u001b[0m\u001b[0;34m\u001b[0m\u001b[0m\n\u001b[0;32m----> 2\u001b[0;31m     \u001b[0;32mraise\u001b[0m \u001b[0mBanana\u001b[0m\u001b[0;34m\u001b[0m\u001b[0m\n\u001b[0m\u001b[1;32m      3\u001b[0m \u001b[0;34m\u001b[0m\u001b[0m\n\u001b[1;32m      4\u001b[0m \u001b[0;32mtry\u001b[0m\u001b[0;34m:\u001b[0m\u001b[0;34m\u001b[0m\u001b[0m\n\u001b[1;32m      5\u001b[0m     \u001b[0mbroken\u001b[0m\u001b[0;34m(\u001b[0m\u001b[0;34m)\u001b[0m\u001b[0;34m\u001b[0m\u001b[0m\n",
      "\u001b[0;31mNameError\u001b[0m: name 'Banana' is not defined"
     ]
    }
   ],
   "source": [
    "def broken():\n",
    "    raise Banana\n",
    "    \n",
    "try:\n",
    "    broken()\n",
    "except Exception as e:\n",
    "    print('Billy was here!')\n",
    "    raise  \n",
    "    # поднимает исключение, которое было отловлено\n",
    "    "
   ]
  },
  {
   "cell_type": "markdown",
   "metadata": {
    "slideshow": {
     "slide_type": "slide"
    }
   },
   "source": [
    "## Несколько деталей :: else в except"
   ]
  },
  {
   "cell_type": "code",
   "execution_count": 66,
   "metadata": {},
   "outputs": [
    {
     "name": "stdout",
     "output_type": "stream",
     "text": [
      "Unfortunate!\n",
      "Done\n"
     ]
    }
   ],
   "source": [
    "import random \n",
    "\n",
    "def maybe_broken():\n",
    "    if random.random() > 0.5:\n",
    "        raise ValueError('waisted')\n",
    "    else:\n",
    "        return 42\n",
    "    \n",
    "try:\n",
    "    maybe_broken()\n",
    "except ValueError as e:\n",
    "     print('Unfortunate!')\n",
    "else:\n",
    "     print('Fortunate!')\n",
    "\n",
    "print('Done')\n",
    "    "
   ]
  },
  {
   "cell_type": "markdown",
   "metadata": {
    "slideshow": {
     "slide_type": "slide"
    }
   },
   "source": [
    "## Несколько деталей :: finally"
   ]
  },
  {
   "cell_type": "code",
   "execution_count": 70,
   "metadata": {},
   "outputs": [
    {
     "name": "stdout",
     "output_type": "stream",
     "text": [
      "Done\n"
     ]
    },
    {
     "ename": "ValueError",
     "evalue": "waisted",
     "output_type": "error",
     "traceback": [
      "\u001b[0;31m---------------------------------------------------------------------------\u001b[0m",
      "\u001b[0;31mValueError\u001b[0m                                Traceback (most recent call last)",
      "\u001b[0;32m<ipython-input-70-50d083195ca7>\u001b[0m in \u001b[0;36m<module>\u001b[0;34m()\u001b[0m\n\u001b[1;32m      8\u001b[0m \u001b[0;34m\u001b[0m\u001b[0m\n\u001b[1;32m      9\u001b[0m \u001b[0;32mtry\u001b[0m\u001b[0;34m:\u001b[0m\u001b[0;34m\u001b[0m\u001b[0m\n\u001b[0;32m---> 10\u001b[0;31m     \u001b[0mmaybe_broken\u001b[0m\u001b[0;34m(\u001b[0m\u001b[0;34m)\u001b[0m\u001b[0;34m\u001b[0m\u001b[0m\n\u001b[0m\u001b[1;32m     11\u001b[0m \u001b[0;32mexcept\u001b[0m \u001b[0mTypeError\u001b[0m \u001b[0;32mas\u001b[0m \u001b[0me\u001b[0m\u001b[0;34m:\u001b[0m  \u001b[0;31m# заметьте, что здесь ловится другое исключение\u001b[0m\u001b[0;34m\u001b[0m\u001b[0m\n\u001b[1;32m     12\u001b[0m      \u001b[0mprint\u001b[0m\u001b[0;34m(\u001b[0m\u001b[0;34m'Unfortunate!'\u001b[0m\u001b[0;34m)\u001b[0m\u001b[0;34m\u001b[0m\u001b[0m\n",
      "\u001b[0;32m<ipython-input-70-50d083195ca7>\u001b[0m in \u001b[0;36mmaybe_broken\u001b[0;34m()\u001b[0m\n\u001b[1;32m      3\u001b[0m \u001b[0;32mdef\u001b[0m \u001b[0mmaybe_broken\u001b[0m\u001b[0;34m(\u001b[0m\u001b[0;34m)\u001b[0m\u001b[0;34m:\u001b[0m\u001b[0;34m\u001b[0m\u001b[0m\n\u001b[1;32m      4\u001b[0m     \u001b[0;32mif\u001b[0m \u001b[0mrandom\u001b[0m\u001b[0;34m.\u001b[0m\u001b[0mrandom\u001b[0m\u001b[0;34m(\u001b[0m\u001b[0;34m)\u001b[0m \u001b[0;34m>\u001b[0m \u001b[0;36m0.5\u001b[0m\u001b[0;34m:\u001b[0m\u001b[0;34m\u001b[0m\u001b[0m\n\u001b[0;32m----> 5\u001b[0;31m         \u001b[0;32mraise\u001b[0m \u001b[0mValueError\u001b[0m\u001b[0;34m(\u001b[0m\u001b[0;34m'waisted'\u001b[0m\u001b[0;34m)\u001b[0m\u001b[0;34m\u001b[0m\u001b[0m\n\u001b[0m\u001b[1;32m      6\u001b[0m     \u001b[0;32melse\u001b[0m\u001b[0;34m:\u001b[0m\u001b[0;34m\u001b[0m\u001b[0m\n\u001b[1;32m      7\u001b[0m         \u001b[0;32mreturn\u001b[0m \u001b[0;36m42\u001b[0m\u001b[0;34m\u001b[0m\u001b[0m\n",
      "\u001b[0;31mValueError\u001b[0m: waisted"
     ]
    }
   ],
   "source": [
    "import random \n",
    "\n",
    "def maybe_broken():\n",
    "    if random.random() > 0.5:\n",
    "        raise ValueError('waisted')\n",
    "    else:\n",
    "        return 42\n",
    "    \n",
    "try:\n",
    "    maybe_broken()\n",
    "except TypeError as e:  # заметьте, что здесь ловится другое исключение\n",
    "     print('Unfortunate!')\n",
    "else:\n",
    "     print('Fortunate!')\n",
    "finally:\n",
    "    print('Done')  # выполняется всегда в самом конце, нужно например для освобожения ресурсов\n",
    "    "
   ]
  },
  {
   "cell_type": "markdown",
   "metadata": {
    "slideshow": {
     "slide_type": "slide"
    }
   },
   "source": [
    "## Несколько деталей :: exception chain"
   ]
  },
  {
   "cell_type": "markdown",
   "metadata": {},
   "source": [
    "Есть цепочка exception-ов, которые позволяют сохранять последовательность эксепшенов, вылетающих при обработке других эксепшенов (уровень вложенности ограничен, но 3-4 исключения точно поддерживается)"
   ]
  },
  {
   "cell_type": "code",
   "execution_count": 29,
   "metadata": {
    "scrolled": true
   },
   "outputs": [
    {
     "ename": "TypeError",
     "evalue": "I don't know what to do!",
     "output_type": "error",
     "traceback": [
      "\u001b[0;31m---------------------------------------------------------------------------\u001b[0m",
      "\u001b[0;31mValueError\u001b[0m                                Traceback (most recent call last)",
      "\u001b[0;32m<ipython-input-29-299fa5229ee1>\u001b[0m in \u001b[0;36m<module>\u001b[0;34m()\u001b[0m\n\u001b[1;32m      7\u001b[0m \u001b[0;32mtry\u001b[0m\u001b[0;34m:\u001b[0m\u001b[0;34m\u001b[0m\u001b[0m\n\u001b[0;32m----> 8\u001b[0;31m     \u001b[0mbroken\u001b[0m\u001b[0;34m(\u001b[0m\u001b[0;36m1\u001b[0m\u001b[0;34m)\u001b[0m\u001b[0;34m\u001b[0m\u001b[0m\n\u001b[0m\u001b[1;32m      9\u001b[0m \u001b[0;32mexcept\u001b[0m \u001b[0mValueError\u001b[0m \u001b[0;32mas\u001b[0m \u001b[0me\u001b[0m\u001b[0;34m:\u001b[0m  \u001b[0;31m# note the wrong type of exception in except\u001b[0m\u001b[0;34m\u001b[0m\u001b[0m\n",
      "\u001b[0;32m<ipython-input-29-299fa5229ee1>\u001b[0m in \u001b[0;36mbroken\u001b[0;34m(*args)\u001b[0m\n\u001b[1;32m      4\u001b[0m     \u001b[0;32mif\u001b[0m \u001b[0margs\u001b[0m\u001b[0;34m:\u001b[0m\u001b[0;34m\u001b[0m\u001b[0m\n\u001b[0;32m----> 5\u001b[0;31m         \u001b[0;32mraise\u001b[0m \u001b[0mValueError\u001b[0m\u001b[0;34m(\u001b[0m\u001b[0;34m'too many args, i can\\'t handle it'\u001b[0m\u001b[0;34m)\u001b[0m\u001b[0;34m\u001b[0m\u001b[0m\n\u001b[0m\u001b[1;32m      6\u001b[0m \u001b[0;34m\u001b[0m\u001b[0m\n",
      "\u001b[0;31mValueError\u001b[0m: too many args, i can't handle it",
      "\nDuring handling of the above exception, another exception occurred:\n",
      "\u001b[0;31mTypeError\u001b[0m                                 Traceback (most recent call last)",
      "\u001b[0;32m<ipython-input-29-299fa5229ee1>\u001b[0m in \u001b[0;36m<module>\u001b[0;34m()\u001b[0m\n\u001b[1;32m      8\u001b[0m     \u001b[0mbroken\u001b[0m\u001b[0;34m(\u001b[0m\u001b[0;36m1\u001b[0m\u001b[0;34m)\u001b[0m\u001b[0;34m\u001b[0m\u001b[0m\n\u001b[1;32m      9\u001b[0m \u001b[0;32mexcept\u001b[0m \u001b[0mValueError\u001b[0m \u001b[0;32mas\u001b[0m \u001b[0me\u001b[0m\u001b[0;34m:\u001b[0m  \u001b[0;31m# note the wrong type of exception in except\u001b[0m\u001b[0;34m\u001b[0m\u001b[0m\n\u001b[0;32m---> 10\u001b[0;31m     \u001b[0;32mraise\u001b[0m \u001b[0mTypeError\u001b[0m\u001b[0;34m(\u001b[0m\u001b[0;34m'I don\\'t know what to do!'\u001b[0m\u001b[0;34m)\u001b[0m\u001b[0;34m\u001b[0m\u001b[0m\n\u001b[0m\u001b[1;32m     11\u001b[0m \u001b[0;34m\u001b[0m\u001b[0m\n\u001b[1;32m     12\u001b[0m \u001b[0;34m\u001b[0m\u001b[0m\n",
      "\u001b[0;31mTypeError\u001b[0m: I don't know what to do!"
     ]
    }
   ],
   "source": [
    "import random \n",
    "\n",
    "def broken(*args):\n",
    "    if args:\n",
    "        raise ValueError('too many args, i can\\'t handle it')\n",
    "\n",
    "try:\n",
    "    broken(1)\n",
    "except ValueError as e:  # note the wrong type of exception in except\n",
    "    raise TypeError('I don\\'t know what to do!')\n",
    "    "
   ]
  },
  {
   "cell_type": "markdown",
   "metadata": {
    "slideshow": {
     "slide_type": "slide"
    }
   },
   "source": [
    "# Менеджеры контекста"
   ]
  },
  {
   "cell_type": "code",
   "execution_count": 71,
   "metadata": {},
   "outputs": [
    {
     "name": "stdout",
     "output_type": "stream",
     "text": [
      "['{\\n', ' \"cells\": [\\n', '  {\\n']\n"
     ]
    }
   ],
   "source": [
    "with open('07.Errors_and_Modules.ipynb') as f:\n",
    "    print(f.readlines()[:3])"
   ]
  },
  {
   "cell_type": "markdown",
   "metadata": {
    "slideshow": {
     "slide_type": "slide"
    }
   },
   "source": [
    "## Позволяют выразить уже знакомый pattern"
   ]
  },
  {
   "cell_type": "code",
   "execution_count": null,
   "metadata": {},
   "outputs": [],
   "source": [
    "r = resource\n",
    "try:\n",
    "    use_resource(r)\n",
    "finally:\n",
    "    release_resource(r)"
   ]
  },
  {
   "cell_type": "code",
   "execution_count": null,
   "metadata": {
    "collapsed": true
   },
   "outputs": [],
   "source": [
    "with aquire_resource() as r:\n",
    "    use_resource(r)"
   ]
  },
  {
   "cell_type": "markdown",
   "metadata": {
    "slideshow": {
     "slide_type": "slide"
    }
   },
   "source": [
    "## Протокол контекстного менеджера"
   ]
  },
  {
   "cell_type": "code",
   "execution_count": 81,
   "metadata": {
    "scrolled": true
   },
   "outputs": [
    {
     "name": "stdout",
     "output_type": "stream",
     "text": [
      "File.__init__\n",
      "File.__enter__\n",
      "File.__exit__ (<class 'AttributeError'>, AttributeError(\"'_io.TextIOWrapper' object has no attribute 'no_such_name'\"), <traceback object at 0x7fc5ca5c32c8>)\n"
     ]
    }
   ],
   "source": [
    "class File():\n",
    "    def __init__(self, filename, mode):\n",
    "        print('File.__init__')\n",
    "        self.filename = filename\n",
    "        self.mode = mode\n",
    "\n",
    "    def __enter__(self):\n",
    "        print('File.__enter__')\n",
    "        self.open_file = open(self.filename, self.mode)\n",
    "        return self.open_file\n",
    "\n",
    "    def __exit__(self, *args):\n",
    "        print('File.__exit__', args)\n",
    "        self.open_file.close()\n",
    "        return True\n",
    "\n",
    "# все что угодно, у чего поддержаны __enter__ и  __exit__ \n",
    "with File('testmodule.py', 'r') as f:\n",
    "    f.no_such_name()\n",
    "    print(f.readlines()[:3])"
   ]
  },
  {
   "cell_type": "code",
   "execution_count": null,
   "metadata": {},
   "outputs": [],
   "source": [
    "# with torch.no_grad():\n",
    "#     predictions = network(x)\n",
    "    "
   ]
  },
  {
   "cell_type": "code",
   "execution_count": 82,
   "metadata": {},
   "outputs": [
    {
     "data": {
      "text/plain": [
       "True"
      ]
     },
     "execution_count": 82,
     "metadata": {},
     "output_type": "execute_result"
    }
   ],
   "source": [
    "f.closed"
   ]
  },
  {
   "cell_type": "markdown",
   "metadata": {
    "slideshow": {
     "slide_type": "subslide"
    }
   },
   "source": [
    "- \\_\\_enter\\_\\_ -- инициализирует контекст, например открывает файл, то что он вернет запишется в переменную стоящую после as \n",
    "- \\_\\_exit\\_\\_ -- вызывается при выходе из контекста, принимает три обьекта - Тип исключения, Обьект исключения и traceback.  (== результат работы sys.exc_info) метод должен вернуть True/False в зависимости от того хочет ли он подавить исключение или нет"
   ]
  },
  {
   "cell_type": "markdown",
   "metadata": {
    "slideshow": {
     "slide_type": "slide"
    }
   },
   "source": [
    "## В жизни\n",
    "Контекстные менеджеры удобны, поэтому добавлены в стандартную билиотеку в нескольких местах .  Помимо вышеназванного файла есть  Lock в threading, как и  zipfile.ZipFiles. subprocess.Popen, tarfile.TarFile, telnetlib.Telnet, pathlib.Path, tempfile.TemporaryFile... \n",
    "\n",
    "По сути большинство обьектов требующих какого-то закрытия после работы обернуты в контекстные менеджеры. А должны все."
   ]
  },
  {
   "cell_type": "markdown",
   "metadata": {
    "slideshow": {
     "slide_type": "slide"
    }
   },
   "source": [
    "### Полушуточный пример"
   ]
  },
  {
   "cell_type": "code",
   "execution_count": 83,
   "metadata": {},
   "outputs": [
    {
     "name": "stdout",
     "output_type": "stream",
     "text": [
      "<p>\n",
      "Awesome paragraph\n",
      "</p>\n"
     ]
    }
   ],
   "source": [
    "class Tag(object):\n",
    "    def __init__(self, name):\n",
    "        self.name = name\n",
    "    def __enter__(self):\n",
    "        print('<{}>'.format(self.name))\n",
    "    def __exit__(self, *args):\n",
    "        print('</{}>'.format(self.name))\n",
    "\n",
    "        \n",
    "with Tag('p'):\n",
    "    print('Awesome paragraph')\n"
   ]
  },
  {
   "cell_type": "markdown",
   "metadata": {},
   "source": [
    "Cерьезное использоание этой штуки я не видел"
   ]
  },
  {
   "cell_type": "code",
   "execution_count": 84,
   "metadata": {
    "slideshow": {
     "slide_type": "slide"
    }
   },
   "outputs": [
    {
     "name": "stdout",
     "output_type": "stream",
     "text": [
      "<p>\n",
      "Hi again!\n",
      "</p>\n"
     ]
    }
   ],
   "source": [
    "from contextlib import ContextDecorator\n",
    "\n",
    "class makeparagraph(ContextDecorator):\n",
    "    def __enter__(self):\n",
    "        print('<p>')\n",
    "        return self\n",
    "\n",
    "    def __exit__(self, *exc):\n",
    "        print('</p>')\n",
    "        return False\n",
    "\n",
    "@makeparagraph()\n",
    "def emit_html():\n",
    "    print('Hi again!')\n",
    "\n",
    "emit_html()"
   ]
  },
  {
   "cell_type": "markdown",
   "metadata": {
    "slideshow": {
     "slide_type": "slide"
    }
   },
   "source": [
    "###  redirect_stdout"
   ]
  },
  {
   "cell_type": "code",
   "execution_count": null,
   "metadata": {},
   "outputs": [],
   "source": [
    "try:\n",
    "    do_large_fn()\n",
    "except Exception as e:\n",
    "    pass"
   ]
  },
  {
   "cell_type": "code",
   "execution_count": 86,
   "metadata": {},
   "outputs": [
    {
     "name": "stderr",
     "output_type": "stream",
     "text": [
      "test\n"
     ]
    }
   ],
   "source": [
    "from contextlib import redirect_stdout\n",
    "import sys\n",
    "\n",
    "with redirect_stdout(sys.stderr):\n",
    "    print('test')"
   ]
  },
  {
   "cell_type": "markdown",
   "metadata": {
    "slideshow": {
     "slide_type": "slide"
    }
   },
   "source": [
    "## supress"
   ]
  },
  {
   "cell_type": "code",
   "execution_count": 85,
   "metadata": {},
   "outputs": [],
   "source": [
    "from contextlib import suppress\n",
    "\n",
    "with suppress(ValueError, TypeError):\n",
    "    print(2 + '3')"
   ]
  },
  {
   "cell_type": "markdown",
   "metadata": {
    "slideshow": {
     "slide_type": "slide"
    }
   },
   "source": [
    "# Модули\n",
    "\n",
    " - Модуль это файл с расширением .py\n",
    "\n",
    " - Модули можно импортировать командой import\n",
    "\n",
    " - При импорте модуль выполняется\n",
    "\n",
    " - Каждый модуль при импорте создаёт своё пространство имен, атрибуты которого соответствуют именам определенным в файле\n",
    "\n",
    " - Повторная попытка импорта ни к чему ни приведет\n"
   ]
  },
  {
   "cell_type": "markdown",
   "metadata": {
    "slideshow": {
     "slide_type": "slide"
    }
   },
   "source": [
    "### import"
   ]
  },
  {
   "cell_type": "code",
   "execution_count": 1,
   "metadata": {},
   "outputs": [
    {
     "name": "stdout",
     "output_type": "stream",
     "text": [
      "\"testmodule doc\"\r\n",
      "\r\n",
      "def test():\r\n",
      "    print('Hi')\r\n",
      "    \r\n",
      "var = 'foo'\r\n",
      "\r\n",
      "print('i am testmodule')\r\n",
      "\r\n",
      "if __name__ == \"__main__\":\r\n",
      "    print('tetstmodule main')"
     ]
    }
   ],
   "source": [
    "!cat testmodule.py"
   ]
  },
  {
   "cell_type": "code",
   "execution_count": 2,
   "metadata": {},
   "outputs": [
    {
     "name": "stdout",
     "output_type": "stream",
     "text": [
      "i am testmodule\n"
     ]
    }
   ],
   "source": [
    "import testmodule"
   ]
  },
  {
   "cell_type": "code",
   "execution_count": 3,
   "metadata": {},
   "outputs": [
    {
     "data": {
      "text/plain": [
       "'testmodule'"
      ]
     },
     "execution_count": 3,
     "metadata": {},
     "output_type": "execute_result"
    }
   ],
   "source": [
    "testmodule.__name__"
   ]
  },
  {
   "cell_type": "code",
   "execution_count": 4,
   "metadata": {},
   "outputs": [
    {
     "data": {
      "text/plain": [
       "'/Users/alexandermarkov/Documents/Work/HSE/python/seminars/testmodule.py'"
      ]
     },
     "execution_count": 4,
     "metadata": {},
     "output_type": "execute_result"
    }
   ],
   "source": [
    "testmodule.__file__"
   ]
  },
  {
   "cell_type": "code",
   "execution_count": 5,
   "metadata": {},
   "outputs": [
    {
     "data": {
      "text/plain": [
       "'testmodule doc'"
      ]
     },
     "execution_count": 5,
     "metadata": {},
     "output_type": "execute_result"
    }
   ],
   "source": [
    "testmodule.__doc__  # первая строка "
   ]
  },
  {
   "cell_type": "code",
   "execution_count": 7,
   "metadata": {},
   "outputs": [],
   "source": [
    "import numpy\n",
    "import numpy as np\n",
    "\n",
    "from numpy import absolute \n",
    "from numpy import absolute  as abs\n",
    "from numpy import * # don't do this"
   ]
  },
  {
   "cell_type": "code",
   "execution_count": 8,
   "metadata": {},
   "outputs": [
    {
     "data": {
      "text/plain": [
       "<ufunc 'absolute'>"
      ]
     },
     "execution_count": 8,
     "metadata": {},
     "output_type": "execute_result"
    }
   ],
   "source": [
    "absolute"
   ]
  },
  {
   "cell_type": "code",
   "execution_count": 9,
   "metadata": {},
   "outputs": [
    {
     "data": {
      "text/plain": [
       "<ufunc 'absolute'>"
      ]
     },
     "execution_count": 9,
     "metadata": {},
     "output_type": "execute_result"
    }
   ],
   "source": [
    "abs"
   ]
  },
  {
   "cell_type": "markdown",
   "metadata": {
    "slideshow": {
     "slide_type": "slide"
    }
   },
   "source": [
    "### import :: правила хорошего тона\n",
    "\n",
    "- Все импорты в начале модуля\n",
    "- Сначала import потом from ... import \n",
    "- Сортируйте импорты в лексикографическом порядке\n",
    "- Помните что в момент импорта модкль выполняется"
   ]
  },
  {
   "cell_type": "markdown",
   "metadata": {
    "slideshow": {
     "slide_type": "slide"
    }
   },
   "source": [
    "# Регулярные выражения\n",
    "\n",
    "Более мощный способ взаимодействия со строками, живут в модуле re\n",
    "\n",
    "__.__ \tЛюбой символ <br />\n",
    "__[789]__ Любой символ из набора <br / >\n",
    "__\\d__ \tЦифра [0-9]<br />\n",
    "__\\D__ \tНе Цифра [^0-9]<br />\n",
    "__\\s__ \tПробельный символ [ \\t\\n\\r\\f\\v]<br />\n",
    "__\\S__ \tНе пробельный символ [^ \\t\\n\\r\\f\\v]<br />\n",
    "__\\w__ \tЦифра или буква [a-zA-Z0-9_]<br />\n",
    "__\\W__ \tНе цифра или буква [^a-zA-Z0-9]<br />"
   ]
  },
  {
   "cell_type": "markdown",
   "metadata": {
    "slideshow": {
     "slide_type": "slide"
    }
   },
   "source": [
    "### Quantifiers -- повторяют предыдущее выражение нужное число раз\n",
    "\n",
    "__\\d\\*__   0 чисел или больше <br />\n",
    "__\\w+__    1 буква или больше <br />\n",
    "__a{1, 3}__  от одной до 3 букв <br />"
   ]
  },
  {
   "cell_type": "markdown",
   "metadata": {
    "slideshow": {
     "slide_type": "slide"
    }
   },
   "source": [
    "### Примеры: \n",
    "\n",
    "\n",
    "\\+\\d{1, 3}\\(\\d{3}) \\d{3}\\-\\d{2}\\-\\d{2} -- один из форматов мобильного телефона\n",
    "\n",
    "[-\\_\\w]+@[\\w\\_-]+\\\\.\\w{,3} --- имейл (простая версия)"
   ]
  },
  {
   "cell_type": "markdown",
   "metadata": {
    "slideshow": {
     "slide_type": "slide"
    }
   },
   "source": [
    "### Операции"
   ]
  },
  {
   "cell_type": "code",
   "execution_count": 10,
   "metadata": {},
   "outputs": [
    {
     "data": {
      "text/plain": [
       "<re.Match object; span=(14, 17), match='007'>"
      ]
     },
     "execution_count": 10,
     "metadata": {},
     "output_type": "execute_result"
    }
   ],
   "source": [
    "import re \n",
    "\n",
    "txt = \"This is agent 007, his name is James Bond 008\"\n",
    "result = re.search('\\d{3}', txt)\n",
    "result"
   ]
  },
  {
   "cell_type": "code",
   "execution_count": 11,
   "metadata": {},
   "outputs": [
    {
     "data": {
      "text/plain": [
       "(14, 17, '007')"
      ]
     },
     "execution_count": 11,
     "metadata": {},
     "output_type": "execute_result"
    }
   ],
   "source": [
    "result.start(), result.end(),  result.group()"
   ]
  },
  {
   "cell_type": "markdown",
   "metadata": {
    "slideshow": {
     "slide_type": "slide"
    }
   },
   "source": [
    "### Другие операции\n",
    "\n",
    "- search\n",
    "- match\n",
    "- split\n",
    "- sub \n",
    "- findall"
   ]
  },
  {
   "cell_type": "code",
   "execution_count": null,
   "metadata": {
    "collapsed": true
   },
   "outputs": [],
   "source": []
  }
 ],
 "metadata": {
  "kernelspec": {
   "display_name": "Python 3",
   "language": "python",
   "name": "python3"
  },
  "language_info": {
   "codemirror_mode": {
    "name": "ipython",
    "version": 3
   },
   "file_extension": ".py",
   "mimetype": "text/x-python",
   "name": "python",
   "nbconvert_exporter": "python",
   "pygments_lexer": "ipython3",
   "version": "3.7.0"
  },
  "livereveal": {
   "theme": "Serif",
   "transition": "fade"
  }
 },
 "nbformat": 4,
 "nbformat_minor": 2
}
