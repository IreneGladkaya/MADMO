{
 "cells": [
  {
   "cell_type": "markdown",
   "metadata": {
    "slideshow": {
     "slide_type": "slide"
    }
   },
   "source": [
    "<center>\n",
    "<br />\n",
    "<h1>Пространства имен, области видимости, замыкания, декораторы</h1>\n",
    "<h3>Python</h3>\n",
    "<br />\n"
   ]
  },
  {
   "cell_type": "markdown",
   "metadata": {
    "slideshow": {
     "slide_type": "slide"
    }
   },
   "source": [
    "# Анонимные функции"
   ]
  },
  {
   "cell_type": "code",
   "execution_count": 61,
   "metadata": {},
   "outputs": [],
   "source": [
    "func = lambda x : print(x)"
   ]
  },
  {
   "cell_type": "code",
   "execution_count": 62,
   "metadata": {},
   "outputs": [
    {
     "name": "stdout",
     "output_type": "stream",
     "text": [
      "3\n"
     ]
    }
   ],
   "source": [
    "func(3)"
   ]
  },
  {
   "cell_type": "code",
   "execution_count": 63,
   "metadata": {
    "slideshow": {
     "slide_type": "slide"
    }
   },
   "outputs": [
    {
     "data": {
      "text/plain": [
       "[0, 1, 4, 9, 16, 25, 36, 49, 64, 81]"
      ]
     },
     "execution_count": 63,
     "metadata": {},
     "output_type": "execute_result"
    }
   ],
   "source": [
    "list(map(lambda x : x ** 2, range(10)))"
   ]
  },
  {
   "cell_type": "code",
   "execution_count": 65,
   "metadata": {},
   "outputs": [
    {
     "data": {
      "text/plain": [
       "[4, 3, 2, 1]"
      ]
     },
     "execution_count": 65,
     "metadata": {},
     "output_type": "execute_result"
    }
   ],
   "source": [
    "sorted([1, 2, 3, 4], key = lambda x : -x)"
   ]
  },
  {
   "cell_type": "markdown",
   "metadata": {
    "slideshow": {
     "slide_type": "slide"
    }
   },
   "source": [
    "# Пространства имен [Namespaces]\n",
    "\n",
    "Пространство имён -- мэппинг из имен переменных в объекты.\n",
    "\n",
    "В каком-то смысле это dict, где ключи - имена объектов, а значения - ссылки на них\n",
    "\n",
    "В коде может быть несколько пространств имён (более того, скорее всего их будет больше одного)\n",
    "\n",
    "В частности, _внутри_ функции переменные не те же, что _снаружи_. Значит и пространство имен в ней другое\n"
   ]
  },
  {
   "cell_type": "markdown",
   "metadata": {
    "slideshow": {
     "slide_type": "slide"
    }
   },
   "source": [
    "### Локальная область видимости"
   ]
  },
  {
   "cell_type": "code",
   "execution_count": 66,
   "metadata": {},
   "outputs": [
    {
     "name": "stdout",
     "output_type": "stream",
     "text": [
      "{'x': 'Hello', 'y': ' World!'}\n"
     ]
    }
   ],
   "source": [
    "def show_scope(x):\n",
    "    y = \" World!\"\n",
    "    print(locals())  # текущее пространство имен \n",
    "\n",
    "show_scope(\"Hello\")"
   ]
  },
  {
   "cell_type": "markdown",
   "metadata": {
    "slideshow": {
     "slide_type": "slide"
    }
   },
   "source": [
    "### Глобальная область видимости"
   ]
  },
  {
   "cell_type": "code",
   "execution_count": 67,
   "metadata": {},
   "outputs": [
    {
     "name": "stdout",
     "output_type": "stream",
     "text": [
      "{'__name__': '__main__', '__doc__': 'Automatically created module for IPython interactive environment', '__package__': None, '__loader__': None, '__spec__': None, '__builtin__': <module 'builtins' (built-in)>, '__builtins__': <module 'builtins' (built-in)>, '_ih': ['', 'func = lambda x : print(x)', 'func(3)', 'def show_scope(x):\\n    y = \" World!\"\\n    print(locals())\\n\\nshow_scope(\"Hello\")', 'def show_scope(x):\\n    y = \" World!\"\\n    print(locals())  # текущее пространство имен \\n\\nshow_scope(\"Hello\")', 'def show_scope(x):\\n    y = \" World!\"\\n    print(globals())  # namespace глобальной области видимости. Все что доступно в коде\\n\\nshow_scope(\"Hello\")', 'locals() == globals()', 'locals() == globals()  # если мы находимся в глобальной области', 'def f():\\n    in_func = 2\\n\\nf()\\nin_func', 'def test(x):\\n    print(locals())\\n    print(locals() == globals())\\n\\ntest(1)', \"global_var = 'global_var'\\n\\ndef test():\\n    global_var = 'global_var_modified'\\n    print('func  :', global_var)  # global_var shadows another variable with same name\\n\\n\\ntest()\\nprint('global:', global_var)\", 'global_var = \\'global_var\\'\\n\\ndef test():\\n    a = global_var\\n    a = \\'global_var_modified\\'\\n    print(\\'func  :\\', global_var)  # global_var shadows another variable with same name\\n    a = \"a\"\\n\\n\\ntest()\\nprint(\\'global:\\', global_var)', 'global_var = \\'global_var\\'\\n\\ndef test():\\n    global_var = \\'global_var_modified\\'\\n    print(\\'func  :\\', global_var)  # global_var shadows another variable with same name\\n    a = \"a\"\\n\\n\\ntest()\\nprint(\\'global:\\', global_var)', \"global_var = 'global_var'\\n\\ndef test():\\n    a = global_var\\n    a = 'global_var_modified'\\n    print('func  :', a)  # global_var shadows another variable with same name\\n\\n\\ntest()\\nprint('global:', global_var)\", \"global_var = 'global_var'\\n\\ndef test():\\n    global_var = 'global_var'\\n    a = global_var\\n    a = 'global_var_modified'\\n    print('func  :', a)  # global_var shadows another variable with same name\\n\\n\\ntest()\\nprint('global:', global_var)\", \"global_var = 'global_var'\\n\\ndef test():\\n    global_var = 'global_var_modified'\\n    print('func  :', global_var)  # global_var shadows another variable with same name\\n\\n\\ntest()\\nprint('global:', global_var)\", \"def outer():\\n    outer_var = 'foo'\\n    \\n    def inner():\\n        inner_var = 'bar'\\n        print('inner:', outer_var)\\n        print('inner:', inner_var)\\n\\n    inner()\\n    \\n    print('outer:', outer_var)\\n    print('outer:', inner_var)\\n\\nouter()\", \"def outer(): \\n    outer.var = 'v1'    # нужно помнить, что outer.var для inner будет как атрибут класса а не инстанса\\n\\n    def inner():\\n        outer.var = 'v2'\\n        print('inner:', outer.var)\\n\\n    inner()\\n    \\n    print('outer:', outer.var)\\n    # return inner\\n\\nouter()\\n\\nprint(outer.var)\", \"def outer():\\n    nonlocal_var = 'v1'\\n\\n    def inner():\\n        print('inner:', nonlocal_var)\\n\\n    return inner\\n    \\nf = outer()\\n\\nf()\", \"def outer():\\n    nonlocal_var = 'v1'\\n\\n    def inner():\\n        print('inner:', nonlocal_var)\\n\\n    return inner\\n    \\nf = outer()\\n\\nf()\", 'add_two  = make_adder(2)\\nadd_five = make_adder(5)\\n\\nadd_two(7) + add_five(10)', 'def make_adder(x):\\n    def adder(y):\\n        return x + y\\n    return adder', 'add_two  = make_adder(2)\\nadd_five = make_adder(5)\\n\\nadd_two(7) + add_five(10)', 'make_adder(2)(7)', 'add_two  = make_adder(2)  # все корректно работает, хотя 2 тепереь лежит непонятно где\\nadd_five = make_adder(5)\\n\\nadd_two(7) + add_five(10)', 'def cell(value = 10):\\n    def get():\\n        return value\\n\\n    def set(new_value):\\n        nonlocal value\\n        value = new_value\\n        return value\\n    \\n    value = 20\\n    return get, set\\n\\nget, set = cell()  # две функции, неявно связанные друг с другом через общий контекст\\nprint(get())\\n\\nset(20000000000000)\\n\\nprint(get())', 'def make_adder(x):\\n    \\n    def add(y):\\n        return x + y\\n    \\n    def update(new_x):\\n        nonlocal x\\n        x = new_x\\n\\n    add.update = update\\n    return add\\n\\nadder = make_adder(10)\\nprint(adder(10))\\n\\nadder.update(100)\\n\\nprint(adder(10))\\ntype(added)', 'def make_adder(x):\\n    \\n    def add(y):\\n        return x + y\\n    \\n    def update(new_x):\\n        nonlocal x\\n        x = new_x\\n\\n    add.update = update\\n    return add\\n\\nadder = make_adder(10)\\nprint(adder(10))\\n\\nadder.update(100)\\n\\nprint(adder(10))\\ntype(adder)', 'def make_adder(x):\\n    \\n    def add(y):\\n        return x + y\\n    \\n    def update(new_x):\\n        nonlocal x\\n        x = new_x\\n\\n    add.update = update\\n    return add\\n\\nadder = make_adder(10)\\nprint(adder(10))\\n\\nadder.update(100)\\n\\nprint(adder(10))', 'def make_adder(x):\\n    \\n    def add(y):\\n        return x + y\\n    \\n    def update(new_x):\\n        nonlocal x\\n        x = new_x\\n\\n    add.update = update\\n    return add\\n\\nadder = make_adder(10)\\nprint(adder(10))\\n\\nadder.update(100)\\n\\nprint(adder(10))', 'print(adder.__closure__)\\nprint(repr(adder.__closure__[0].cell_contents))', 'adder.update.__closure__ == adder.__closure__ ', 'def make_adder(x):\\n    \\n    def add(y):\\n        return x + y\\n    \\n    def update(new_x):\\n        nonlocal x\\n        x = new_x\\n\\n    add.update = update\\n    return add\\n\\nadder = make_adder(10)\\nprint(adder(10))\\n\\nadder.update(100)\\n\\nprint(adder(10))', 'print(adder.__closure__)\\nprint(repr(adder.__closure__[0].cell_contents))', 'adder.update.__closure__ == adder.__closure__ ', \"import sys\\n\\ndef deprecated(func):\\n    def wrapper(*args, **kwargs):\\n        print('{} is deprecated'.format(func.__name__), file=sys.stderr)\\n        return func(*args, **kwargs)\\n    return wrapper\\n\\n@deprecated\\ndef add(x, y):\\n    return x + y\\n\\nadd(1, 2)\", 'from IPython import display\\n\\ndef bananize(func):\\n    return display.HTML(\\'<img src=\"http://www.sherv.net/cm/emo/funny/2/big-dancing-banana-smiley-emoticon.gif\">\\')\\n\\n@bananize\\ndef show(x):\\n    print(x)\\n    \\nshow', 'from IPython import display\\n\\ndef bananize(func):\\n    return display.HTML(\\'<img src=\"http://www.sherv.net/cm/emo/funny/2/big-dancing-banana-smiley-emoticon.gif\">\\')\\n\\n@bananize\\ndef show(x):\\n    print(x)\\n    \\nshow(1)', 'from IPython import display\\n\\ndef bananize(func):\\n    return display.HTML(\\'<img src=\"http://www.sherv.net/cm/emo/funny/2/big-dancing-banana-smiley-emoticon.gif\">\\')\\n\\n@bananize\\ndef show(x):\\n    print(x)\\n    \\nshow', 'from IPython import display\\n\\ndef bananize(func):\\n    return display.HTML(\\'<img src=\"http://www.sherv.net/cm/emo/funny/2/big-dancing-banana-smiley-emoticon.gif\">\\')\\n\\n@bananize\\ndef show(x):\\n    print(x)\\n    \\nshow', \"@deprecated\\ndef show(x):\\n    'This is a really nice looking docstring'\\n    print(x)\\n\\nprint(show.__name__)\\nprint(show.__doc__)\", \"import functools \\n\\ndef trace(dest):\\n    def wraps(func):\\n        @functools.wraps(func)\\n        def wrapper(*args, **kwargs):\\n            print(\\n                '{} called with args {}, kwargs {}!'.format(func.__name__, args, kwargs),\\n                file = dest\\n            )\\n            return func(*args, **kwargs)\\n        return wrapper\\n    return wraps\\n\\n@trace()\\ndef f(x, test):\\n     if test > 1:\\n         return f(x, test / 2)\\n\\nf('Hi!', test=42)\", \"import functools \\n\\ndef trace(dest):\\n    def wraps(func):\\n        @functools.wraps(func)\\n        def wrapper(*args, **kwargs):\\n            print(\\n                '{} called with args {}, kwargs {}!'.format(func.__name__, args, kwargs),\\n                file = dest\\n            )\\n            return func(*args, **kwargs)\\n        return wrapper\\n    return wraps\\n\\n@trace()\\ndef f(x, test):\\n     if test > 1:\\n        return f(x, test / 2)\\n\\nf('Hi!', test=42)\", \"import functools \\n\\ndef trace(dest=sys.stderr):\\n    def wraps(func):\\n        @functools.wraps(func)\\n        def wrapper(*args, **kwargs):\\n            print(\\n                '{} called with args {}, kwargs {}!'.format(func.__name__, args, kwargs),\\n                file = dest\\n            )\\n            return func(*args, **kwargs)\\n        return wrapper\\n    return wraps\\n\\n@trace()\\ndef f(x, test):\\n     if test > 1:\\n        return f(x, test / 2)\\n\\nf('Hi!', test=42)\", \"import functools \\n\\ndef trace(dest=sys.stderr):\\n    def wraps(func):\\n        @functools.wraps(func)\\n        def wrapper(*args, **kwargs):\\n            print(\\n                '{} called with args {}, kwargs {}!'.format(func.__name__, args, kwargs),\\n                file = dest\\n            )\\n            return func(*args, **kwargs)\\n        return wrapper\\n    return wraps\\n\\n@trace(sys.stdout)\\ndef f(x, test):\\n     if test > 1:\\n        return f(x, test / 2)\\n\\nf('Hi!', test=42)\", \"import functools \\n\\ndef trace(dest=sys.stderr):\\n    def wraps(func):\\n        @functools.wraps(func)\\n        def wrapper(*args, **kwargs):\\n            print(\\n                '{} called with args {}, kwargs {}!'.format(func.__name__, args, kwargs),\\n                file = dest\\n            )\\n            return func(*args, **kwargs)\\n        return wrapper\\n    return wraps\\n\\n@trace\\ndef f(x, test):\\n     if test > 1:\\n        return f(x, test / 2)\\n\\nf('Hi!', test=42)\", \"import functools \\n\\ndef trace(dest=sys.stderr):\\n    def wraps(func):\\n        @functools.wraps(func)\\n        def wrapper(*args, **kwargs):\\n            print(\\n                '{} called with args {}, kwargs {}!'.format(func.__name__, args, kwargs),\\n                file = dest\\n            )\\n            return func(*args, **kwargs)\\n        return wrapper\\n    return wraps\\n\\n@trace()\\ndef f(x, test):\\n     if test > 1:\\n        return f(x, test / 2)\\n\\nf('Hi!', test=42)\", \"import functools \\n\\ndef trace(dest=sys.stderr):\\n    def wraps(func):\\n        @functools.wraps(func)\\n        def wrapper(*args, **kwargs):\\n            print(\\n                '{} called with args {}, kwargs {}!'.format(func.__name__, args, kwargs),\\n                file = dest\\n            )\\n            return func(*args, **kwargs)\\n        return wrapper\\n    return wraps\\n\\n@trace()  # нужно теперь писать скобки, даже если ничего не подавать\\ndef f(x, test):\\n     if test > 1:\\n        return f(x, test / 2)\\n\\nf('Hi!', test=42)\", '@deprecated\\n@logged()\\ndef f(x):\\n    return x\\n\\nf(1)', 'def logged(n_vals=1):\\n    results = dict()\\n    def wraps(func):\\n        @functools.wraps(func)\\n        def wrapper(*args, **kwargs):\\n            value = results.get((args, kwargs))\\n            if value is None:\\n                value = func(*args, **kwargs)\\n                if len(resuts) < n_vals:\\n                    results[(args, kwargs)] = value\\n            else:\\n                return value\\n        return wrapper\\n    return wraps', '@deprecated\\n@logged\\ndef f(x):\\n    return x\\n\\nf(1)', 'def logged(n_vals=1):\\n    results = dict()\\n    def wraps(func):\\n        @functools.wraps(func)\\n        def wrapper(*args, **kwargs):\\n            value = results.get((args, kwargs))\\n            if value is None:\\n                value = func(*args, **kwargs)\\n                if len(resuts) < n_vals:\\n                    results[(args, kwargs)] = value\\n                    return value\\n            else:\\n                return value\\n        return wrapper\\n    return wraps', '@deprecated\\n@logged\\ndef f(x):\\n    return x\\n\\nf(1)', '@deprecated\\n@once\\ndef f(x):\\n    return x\\n\\nf(1)', \"def once(func):\\n    called = False\\n    \\n    def wrapper(*args, **kwargs):\\n        nonlocal called\\n        if not called:\\n            called = True\\n            return func(*args, **kwargs)\\n\\n    return wrapper\\n\\n@once\\ndef f():\\n    print('Hi!')\\n\\nf()\\nf()\", '@deprecated\\n@once\\ndef f(x):\\n    return x\\n\\nf(1)', '@deprecated\\n@trace()\\ndef f(x):\\n    return x\\n\\nf(1)', '@deprecated\\n@trace(sys.stdout)\\ndef f(x):\\n    return x\\n\\nf(1)', '@deprecated\\n@trace(sys.stdout)\\ndef f(x):\\n    return x\\n\\nf(1)\\nf(2)', 'def f():\\n    print(it)\\n\\nfor it in range(10):\\n    f()', '1', 'func = lambda x : print(x)', 'func(3)', 'list(map(lambda x : x ** 2, range(10)))', 'sorted([1, 2, 3, 4], key = lambda x : 1 / x)', 'sorted([1, 2, 3, 4], key = lambda x : -x)', 'def show_scope(x):\\n    y = \" World!\"\\n    print(locals())  # текущее пространство имен \\n\\nshow_scope(\"Hello\")', 'def show_scope(x):\\n    y = \" World!\"\\n    print(globals())  # namespace глобальной области видимости. Все что доступно в коде\\n\\nshow_scope(\"Hello\")'], '_oh': {6: True, 7: True, 22: 24, 23: 9, 24: 24, 27: <class 'function'>, 31: True, 34: True, 35: 3, 36: <IPython.core.display.HTML object>, 38: <IPython.core.display.HTML object>, 39: <IPython.core.display.HTML object>, 50: <function logged.<locals>.wraps.<locals>.wrapper at 0x7f9d4ef35790>, 52: <function logged.<locals>.wraps.<locals>.wrapper at 0x7f9d4ef35670>, 55: 1, 56: 1, 57: 1, 58: 2, 60: 1, 63: [0, 1, 4, 9, 16, 25, 36, 49, 64, 81], 64: [4, 3, 2, 1], 65: [4, 3, 2, 1]}, '_dh': ['/Users/alexandermarkov/Documents/Work/HSE/python/seminars'], 'In': ['', 'func = lambda x : print(x)', 'func(3)', 'def show_scope(x):\\n    y = \" World!\"\\n    print(locals())\\n\\nshow_scope(\"Hello\")', 'def show_scope(x):\\n    y = \" World!\"\\n    print(locals())  # текущее пространство имен \\n\\nshow_scope(\"Hello\")', 'def show_scope(x):\\n    y = \" World!\"\\n    print(globals())  # namespace глобальной области видимости. Все что доступно в коде\\n\\nshow_scope(\"Hello\")', 'locals() == globals()', 'locals() == globals()  # если мы находимся в глобальной области', 'def f():\\n    in_func = 2\\n\\nf()\\nin_func', 'def test(x):\\n    print(locals())\\n    print(locals() == globals())\\n\\ntest(1)', \"global_var = 'global_var'\\n\\ndef test():\\n    global_var = 'global_var_modified'\\n    print('func  :', global_var)  # global_var shadows another variable with same name\\n\\n\\ntest()\\nprint('global:', global_var)\", 'global_var = \\'global_var\\'\\n\\ndef test():\\n    a = global_var\\n    a = \\'global_var_modified\\'\\n    print(\\'func  :\\', global_var)  # global_var shadows another variable with same name\\n    a = \"a\"\\n\\n\\ntest()\\nprint(\\'global:\\', global_var)', 'global_var = \\'global_var\\'\\n\\ndef test():\\n    global_var = \\'global_var_modified\\'\\n    print(\\'func  :\\', global_var)  # global_var shadows another variable with same name\\n    a = \"a\"\\n\\n\\ntest()\\nprint(\\'global:\\', global_var)', \"global_var = 'global_var'\\n\\ndef test():\\n    a = global_var\\n    a = 'global_var_modified'\\n    print('func  :', a)  # global_var shadows another variable with same name\\n\\n\\ntest()\\nprint('global:', global_var)\", \"global_var = 'global_var'\\n\\ndef test():\\n    global_var = 'global_var'\\n    a = global_var\\n    a = 'global_var_modified'\\n    print('func  :', a)  # global_var shadows another variable with same name\\n\\n\\ntest()\\nprint('global:', global_var)\", \"global_var = 'global_var'\\n\\ndef test():\\n    global_var = 'global_var_modified'\\n    print('func  :', global_var)  # global_var shadows another variable with same name\\n\\n\\ntest()\\nprint('global:', global_var)\", \"def outer():\\n    outer_var = 'foo'\\n    \\n    def inner():\\n        inner_var = 'bar'\\n        print('inner:', outer_var)\\n        print('inner:', inner_var)\\n\\n    inner()\\n    \\n    print('outer:', outer_var)\\n    print('outer:', inner_var)\\n\\nouter()\", \"def outer(): \\n    outer.var = 'v1'    # нужно помнить, что outer.var для inner будет как атрибут класса а не инстанса\\n\\n    def inner():\\n        outer.var = 'v2'\\n        print('inner:', outer.var)\\n\\n    inner()\\n    \\n    print('outer:', outer.var)\\n    # return inner\\n\\nouter()\\n\\nprint(outer.var)\", \"def outer():\\n    nonlocal_var = 'v1'\\n\\n    def inner():\\n        print('inner:', nonlocal_var)\\n\\n    return inner\\n    \\nf = outer()\\n\\nf()\", \"def outer():\\n    nonlocal_var = 'v1'\\n\\n    def inner():\\n        print('inner:', nonlocal_var)\\n\\n    return inner\\n    \\nf = outer()\\n\\nf()\", 'add_two  = make_adder(2)\\nadd_five = make_adder(5)\\n\\nadd_two(7) + add_five(10)', 'def make_adder(x):\\n    def adder(y):\\n        return x + y\\n    return adder', 'add_two  = make_adder(2)\\nadd_five = make_adder(5)\\n\\nadd_two(7) + add_five(10)', 'make_adder(2)(7)', 'add_two  = make_adder(2)  # все корректно работает, хотя 2 тепереь лежит непонятно где\\nadd_five = make_adder(5)\\n\\nadd_two(7) + add_five(10)', 'def cell(value = 10):\\n    def get():\\n        return value\\n\\n    def set(new_value):\\n        nonlocal value\\n        value = new_value\\n        return value\\n    \\n    value = 20\\n    return get, set\\n\\nget, set = cell()  # две функции, неявно связанные друг с другом через общий контекст\\nprint(get())\\n\\nset(20000000000000)\\n\\nprint(get())', 'def make_adder(x):\\n    \\n    def add(y):\\n        return x + y\\n    \\n    def update(new_x):\\n        nonlocal x\\n        x = new_x\\n\\n    add.update = update\\n    return add\\n\\nadder = make_adder(10)\\nprint(adder(10))\\n\\nadder.update(100)\\n\\nprint(adder(10))\\ntype(added)', 'def make_adder(x):\\n    \\n    def add(y):\\n        return x + y\\n    \\n    def update(new_x):\\n        nonlocal x\\n        x = new_x\\n\\n    add.update = update\\n    return add\\n\\nadder = make_adder(10)\\nprint(adder(10))\\n\\nadder.update(100)\\n\\nprint(adder(10))\\ntype(adder)', 'def make_adder(x):\\n    \\n    def add(y):\\n        return x + y\\n    \\n    def update(new_x):\\n        nonlocal x\\n        x = new_x\\n\\n    add.update = update\\n    return add\\n\\nadder = make_adder(10)\\nprint(adder(10))\\n\\nadder.update(100)\\n\\nprint(adder(10))', 'def make_adder(x):\\n    \\n    def add(y):\\n        return x + y\\n    \\n    def update(new_x):\\n        nonlocal x\\n        x = new_x\\n\\n    add.update = update\\n    return add\\n\\nadder = make_adder(10)\\nprint(adder(10))\\n\\nadder.update(100)\\n\\nprint(adder(10))', 'print(adder.__closure__)\\nprint(repr(adder.__closure__[0].cell_contents))', 'adder.update.__closure__ == adder.__closure__ ', 'def make_adder(x):\\n    \\n    def add(y):\\n        return x + y\\n    \\n    def update(new_x):\\n        nonlocal x\\n        x = new_x\\n\\n    add.update = update\\n    return add\\n\\nadder = make_adder(10)\\nprint(adder(10))\\n\\nadder.update(100)\\n\\nprint(adder(10))', 'print(adder.__closure__)\\nprint(repr(adder.__closure__[0].cell_contents))', 'adder.update.__closure__ == adder.__closure__ ', \"import sys\\n\\ndef deprecated(func):\\n    def wrapper(*args, **kwargs):\\n        print('{} is deprecated'.format(func.__name__), file=sys.stderr)\\n        return func(*args, **kwargs)\\n    return wrapper\\n\\n@deprecated\\ndef add(x, y):\\n    return x + y\\n\\nadd(1, 2)\", 'from IPython import display\\n\\ndef bananize(func):\\n    return display.HTML(\\'<img src=\"http://www.sherv.net/cm/emo/funny/2/big-dancing-banana-smiley-emoticon.gif\">\\')\\n\\n@bananize\\ndef show(x):\\n    print(x)\\n    \\nshow', 'from IPython import display\\n\\ndef bananize(func):\\n    return display.HTML(\\'<img src=\"http://www.sherv.net/cm/emo/funny/2/big-dancing-banana-smiley-emoticon.gif\">\\')\\n\\n@bananize\\ndef show(x):\\n    print(x)\\n    \\nshow(1)', 'from IPython import display\\n\\ndef bananize(func):\\n    return display.HTML(\\'<img src=\"http://www.sherv.net/cm/emo/funny/2/big-dancing-banana-smiley-emoticon.gif\">\\')\\n\\n@bananize\\ndef show(x):\\n    print(x)\\n    \\nshow', 'from IPython import display\\n\\ndef bananize(func):\\n    return display.HTML(\\'<img src=\"http://www.sherv.net/cm/emo/funny/2/big-dancing-banana-smiley-emoticon.gif\">\\')\\n\\n@bananize\\ndef show(x):\\n    print(x)\\n    \\nshow', \"@deprecated\\ndef show(x):\\n    'This is a really nice looking docstring'\\n    print(x)\\n\\nprint(show.__name__)\\nprint(show.__doc__)\", \"import functools \\n\\ndef trace(dest):\\n    def wraps(func):\\n        @functools.wraps(func)\\n        def wrapper(*args, **kwargs):\\n            print(\\n                '{} called with args {}, kwargs {}!'.format(func.__name__, args, kwargs),\\n                file = dest\\n            )\\n            return func(*args, **kwargs)\\n        return wrapper\\n    return wraps\\n\\n@trace()\\ndef f(x, test):\\n     if test > 1:\\n         return f(x, test / 2)\\n\\nf('Hi!', test=42)\", \"import functools \\n\\ndef trace(dest):\\n    def wraps(func):\\n        @functools.wraps(func)\\n        def wrapper(*args, **kwargs):\\n            print(\\n                '{} called with args {}, kwargs {}!'.format(func.__name__, args, kwargs),\\n                file = dest\\n            )\\n            return func(*args, **kwargs)\\n        return wrapper\\n    return wraps\\n\\n@trace()\\ndef f(x, test):\\n     if test > 1:\\n        return f(x, test / 2)\\n\\nf('Hi!', test=42)\", \"import functools \\n\\ndef trace(dest=sys.stderr):\\n    def wraps(func):\\n        @functools.wraps(func)\\n        def wrapper(*args, **kwargs):\\n            print(\\n                '{} called with args {}, kwargs {}!'.format(func.__name__, args, kwargs),\\n                file = dest\\n            )\\n            return func(*args, **kwargs)\\n        return wrapper\\n    return wraps\\n\\n@trace()\\ndef f(x, test):\\n     if test > 1:\\n        return f(x, test / 2)\\n\\nf('Hi!', test=42)\", \"import functools \\n\\ndef trace(dest=sys.stderr):\\n    def wraps(func):\\n        @functools.wraps(func)\\n        def wrapper(*args, **kwargs):\\n            print(\\n                '{} called with args {}, kwargs {}!'.format(func.__name__, args, kwargs),\\n                file = dest\\n            )\\n            return func(*args, **kwargs)\\n        return wrapper\\n    return wraps\\n\\n@trace(sys.stdout)\\ndef f(x, test):\\n     if test > 1:\\n        return f(x, test / 2)\\n\\nf('Hi!', test=42)\", \"import functools \\n\\ndef trace(dest=sys.stderr):\\n    def wraps(func):\\n        @functools.wraps(func)\\n        def wrapper(*args, **kwargs):\\n            print(\\n                '{} called with args {}, kwargs {}!'.format(func.__name__, args, kwargs),\\n                file = dest\\n            )\\n            return func(*args, **kwargs)\\n        return wrapper\\n    return wraps\\n\\n@trace\\ndef f(x, test):\\n     if test > 1:\\n        return f(x, test / 2)\\n\\nf('Hi!', test=42)\", \"import functools \\n\\ndef trace(dest=sys.stderr):\\n    def wraps(func):\\n        @functools.wraps(func)\\n        def wrapper(*args, **kwargs):\\n            print(\\n                '{} called with args {}, kwargs {}!'.format(func.__name__, args, kwargs),\\n                file = dest\\n            )\\n            return func(*args, **kwargs)\\n        return wrapper\\n    return wraps\\n\\n@trace()\\ndef f(x, test):\\n     if test > 1:\\n        return f(x, test / 2)\\n\\nf('Hi!', test=42)\", \"import functools \\n\\ndef trace(dest=sys.stderr):\\n    def wraps(func):\\n        @functools.wraps(func)\\n        def wrapper(*args, **kwargs):\\n            print(\\n                '{} called with args {}, kwargs {}!'.format(func.__name__, args, kwargs),\\n                file = dest\\n            )\\n            return func(*args, **kwargs)\\n        return wrapper\\n    return wraps\\n\\n@trace()  # нужно теперь писать скобки, даже если ничего не подавать\\ndef f(x, test):\\n     if test > 1:\\n        return f(x, test / 2)\\n\\nf('Hi!', test=42)\", '@deprecated\\n@logged()\\ndef f(x):\\n    return x\\n\\nf(1)', 'def logged(n_vals=1):\\n    results = dict()\\n    def wraps(func):\\n        @functools.wraps(func)\\n        def wrapper(*args, **kwargs):\\n            value = results.get((args, kwargs))\\n            if value is None:\\n                value = func(*args, **kwargs)\\n                if len(resuts) < n_vals:\\n                    results[(args, kwargs)] = value\\n            else:\\n                return value\\n        return wrapper\\n    return wraps', '@deprecated\\n@logged\\ndef f(x):\\n    return x\\n\\nf(1)', 'def logged(n_vals=1):\\n    results = dict()\\n    def wraps(func):\\n        @functools.wraps(func)\\n        def wrapper(*args, **kwargs):\\n            value = results.get((args, kwargs))\\n            if value is None:\\n                value = func(*args, **kwargs)\\n                if len(resuts) < n_vals:\\n                    results[(args, kwargs)] = value\\n                    return value\\n            else:\\n                return value\\n        return wrapper\\n    return wraps', '@deprecated\\n@logged\\ndef f(x):\\n    return x\\n\\nf(1)', '@deprecated\\n@once\\ndef f(x):\\n    return x\\n\\nf(1)', \"def once(func):\\n    called = False\\n    \\n    def wrapper(*args, **kwargs):\\n        nonlocal called\\n        if not called:\\n            called = True\\n            return func(*args, **kwargs)\\n\\n    return wrapper\\n\\n@once\\ndef f():\\n    print('Hi!')\\n\\nf()\\nf()\", '@deprecated\\n@once\\ndef f(x):\\n    return x\\n\\nf(1)', '@deprecated\\n@trace()\\ndef f(x):\\n    return x\\n\\nf(1)', '@deprecated\\n@trace(sys.stdout)\\ndef f(x):\\n    return x\\n\\nf(1)', '@deprecated\\n@trace(sys.stdout)\\ndef f(x):\\n    return x\\n\\nf(1)\\nf(2)', 'def f():\\n    print(it)\\n\\nfor it in range(10):\\n    f()', '1', 'func = lambda x : print(x)', 'func(3)', 'list(map(lambda x : x ** 2, range(10)))', 'sorted([1, 2, 3, 4], key = lambda x : 1 / x)', 'sorted([1, 2, 3, 4], key = lambda x : -x)', 'def show_scope(x):\\n    y = \" World!\"\\n    print(locals())  # текущее пространство имен \\n\\nshow_scope(\"Hello\")', 'def show_scope(x):\\n    y = \" World!\"\\n    print(globals())  # namespace глобальной области видимости. Все что доступно в коде\\n\\nshow_scope(\"Hello\")'], 'Out': {6: True, 7: True, 22: 24, 23: 9, 24: 24, 27: <class 'function'>, 31: True, 34: True, 35: 3, 36: <IPython.core.display.HTML object>, 38: <IPython.core.display.HTML object>, 39: <IPython.core.display.HTML object>, 50: <function logged.<locals>.wraps.<locals>.wrapper at 0x7f9d4ef35790>, 52: <function logged.<locals>.wraps.<locals>.wrapper at 0x7f9d4ef35670>, 55: 1, 56: 1, 57: 1, 58: 2, 60: 1, 63: [0, 1, 4, 9, 16, 25, 36, 49, 64, 81], 64: [4, 3, 2, 1], 65: [4, 3, 2, 1]}, 'get_ipython': <bound method InteractiveShell.get_ipython of <ipykernel.zmqshell.ZMQInteractiveShell object at 0x7f9d4ed98d60>>, 'exit': <IPython.core.autocall.ZMQExitAutocall object at 0x7f9d4edbae50>, 'quit': <IPython.core.autocall.ZMQExitAutocall object at 0x7f9d4edbae50>, '_': [4, 3, 2, 1], '__': [4, 3, 2, 1], '___': [0, 1, 4, 9, 16, 25, 36, 49, 64, 81], '_i': 'def show_scope(x):\\n    y = \" World!\"\\n    print(locals())  # текущее пространство имен \\n\\nshow_scope(\"Hello\")', '_ii': 'sorted([1, 2, 3, 4], key = lambda x : -x)', '_iii': 'sorted([1, 2, 3, 4], key = lambda x : 1 / x)', '_i1': 'func = lambda x : print(x)', 'func': <function <lambda> at 0x7f9d4ef35040>, '_i2': 'func(3)', '_i3': 'def show_scope(x):\\n    y = \" World!\"\\n    print(locals())\\n\\nshow_scope(\"Hello\")', 'show_scope': <function show_scope at 0x7f9d5112a9d0>, '_i4': 'def show_scope(x):\\n    y = \" World!\"\\n    print(locals())  # текущее пространство имен \\n\\nshow_scope(\"Hello\")', '_i5': 'def show_scope(x):\\n    y = \" World!\"\\n    print(globals())  # namespace глобальной области видимости. Все что доступно в коде\\n\\nshow_scope(\"Hello\")', '_i6': 'locals() == globals()', '_6': True, '_i7': 'locals() == globals()  # если мы находимся в глобальной области', '_7': True, '_i8': 'def f():\\n    in_func = 2\\n\\nf()\\nin_func', 'f': <function f at 0x7f9d4ef353a0>, '_i9': 'def test(x):\\n    print(locals())\\n    print(locals() == globals())\\n\\ntest(1)', 'test': <function test at 0x7f9d4ef23a60>, '_i10': \"global_var = 'global_var'\\n\\ndef test():\\n    global_var = 'global_var_modified'\\n    print('func  :', global_var)  # global_var shadows another variable with same name\\n\\n\\ntest()\\nprint('global:', global_var)\", 'global_var': 'global_var', '_i11': 'global_var = \\'global_var\\'\\n\\ndef test():\\n    a = global_var\\n    a = \\'global_var_modified\\'\\n    print(\\'func  :\\', global_var)  # global_var shadows another variable with same name\\n    a = \"a\"\\n\\n\\ntest()\\nprint(\\'global:\\', global_var)', '_i12': 'global_var = \\'global_var\\'\\n\\ndef test():\\n    global_var = \\'global_var_modified\\'\\n    print(\\'func  :\\', global_var)  # global_var shadows another variable with same name\\n    a = \"a\"\\n\\n\\ntest()\\nprint(\\'global:\\', global_var)', '_i13': \"global_var = 'global_var'\\n\\ndef test():\\n    a = global_var\\n    a = 'global_var_modified'\\n    print('func  :', a)  # global_var shadows another variable with same name\\n\\n\\ntest()\\nprint('global:', global_var)\", '_i14': \"global_var = 'global_var'\\n\\ndef test():\\n    global_var = 'global_var'\\n    a = global_var\\n    a = 'global_var_modified'\\n    print('func  :', a)  # global_var shadows another variable with same name\\n\\n\\ntest()\\nprint('global:', global_var)\", '_i15': \"global_var = 'global_var'\\n\\ndef test():\\n    global_var = 'global_var_modified'\\n    print('func  :', global_var)  # global_var shadows another variable with same name\\n\\n\\ntest()\\nprint('global:', global_var)\", '_i16': \"def outer():\\n    outer_var = 'foo'\\n    \\n    def inner():\\n        inner_var = 'bar'\\n        print('inner:', outer_var)\\n        print('inner:', inner_var)\\n\\n    inner()\\n    \\n    print('outer:', outer_var)\\n    print('outer:', inner_var)\\n\\nouter()\", 'outer': <function outer at 0x7f9d4ef23820>, '_i17': \"def outer(): \\n    outer.var = 'v1'    # нужно помнить, что outer.var для inner будет как атрибут класса а не инстанса\\n\\n    def inner():\\n        outer.var = 'v2'\\n        print('inner:', outer.var)\\n\\n    inner()\\n    \\n    print('outer:', outer.var)\\n    # return inner\\n\\nouter()\\n\\nprint(outer.var)\", '_i18': \"def outer():\\n    nonlocal_var = 'v1'\\n\\n    def inner():\\n        print('inner:', nonlocal_var)\\n\\n    return inner\\n    \\nf = outer()\\n\\nf()\", '_i19': \"def outer():\\n    nonlocal_var = 'v1'\\n\\n    def inner():\\n        print('inner:', nonlocal_var)\\n\\n    return inner\\n    \\nf = outer()\\n\\nf()\", '_i20': 'add_two  = make_adder(2)\\nadd_five = make_adder(5)\\n\\nadd_two(7) + add_five(10)', '_i21': 'def make_adder(x):\\n    def adder(y):\\n        return x + y\\n    return adder', 'make_adder': <function make_adder at 0x7f9d4ef1d0d0>, '_i22': 'add_two  = make_adder(2)\\nadd_five = make_adder(5)\\n\\nadd_two(7) + add_five(10)', 'add_two': <function make_adder.<locals>.adder at 0x7f9d4ef03a60>, 'add_five': <function make_adder.<locals>.adder at 0x7f9d4ef23f70>, '_22': 24, '_i23': 'make_adder(2)(7)', '_23': 9, '_i24': 'add_two  = make_adder(2)  # все корректно работает, хотя 2 тепереь лежит непонятно где\\nadd_five = make_adder(5)\\n\\nadd_two(7) + add_five(10)', '_24': 24, '_i25': 'def cell(value = 10):\\n    def get():\\n        return value\\n\\n    def set(new_value):\\n        nonlocal value\\n        value = new_value\\n        return value\\n    \\n    value = 20\\n    return get, set\\n\\nget, set = cell()  # две функции, неявно связанные друг с другом через общий контекст\\nprint(get())\\n\\nset(20000000000000)\\n\\nprint(get())', 'cell': <function cell at 0x7f9d4ef23dc0>, 'get': <function cell.<locals>.get at 0x7f9d4ef23ca0>, 'set': <function cell.<locals>.set at 0x7f9d4ef23ee0>, '_i26': 'def make_adder(x):\\n    \\n    def add(y):\\n        return x + y\\n    \\n    def update(new_x):\\n        nonlocal x\\n        x = new_x\\n\\n    add.update = update\\n    return add\\n\\nadder = make_adder(10)\\nprint(adder(10))\\n\\nadder.update(100)\\n\\nprint(adder(10))\\ntype(added)', 'adder': <function make_adder.<locals>.add at 0x7f9d4ee4af70>, '_i27': 'def make_adder(x):\\n    \\n    def add(y):\\n        return x + y\\n    \\n    def update(new_x):\\n        nonlocal x\\n        x = new_x\\n\\n    add.update = update\\n    return add\\n\\nadder = make_adder(10)\\nprint(adder(10))\\n\\nadder.update(100)\\n\\nprint(adder(10))\\ntype(adder)', '_27': <class 'function'>, '_i28': 'def make_adder(x):\\n    \\n    def add(y):\\n        return x + y\\n    \\n    def update(new_x):\\n        nonlocal x\\n        x = new_x\\n\\n    add.update = update\\n    return add\\n\\nadder = make_adder(10)\\nprint(adder(10))\\n\\nadder.update(100)\\n\\nprint(adder(10))', '_i29': 'def make_adder(x):\\n    \\n    def add(y):\\n        return x + y\\n    \\n    def update(new_x):\\n        nonlocal x\\n        x = new_x\\n\\n    add.update = update\\n    return add\\n\\nadder = make_adder(10)\\nprint(adder(10))\\n\\nadder.update(100)\\n\\nprint(adder(10))', '_i30': 'print(adder.__closure__)\\nprint(repr(adder.__closure__[0].cell_contents))', '_i31': 'adder.update.__closure__ == adder.__closure__ ', '_31': True, '_i32': 'def make_adder(x):\\n    \\n    def add(y):\\n        return x + y\\n    \\n    def update(new_x):\\n        nonlocal x\\n        x = new_x\\n\\n    add.update = update\\n    return add\\n\\nadder = make_adder(10)\\nprint(adder(10))\\n\\nadder.update(100)\\n\\nprint(adder(10))', '_i33': 'print(adder.__closure__)\\nprint(repr(adder.__closure__[0].cell_contents))', '_i34': 'adder.update.__closure__ == adder.__closure__ ', '_34': True, '_i35': \"import sys\\n\\ndef deprecated(func):\\n    def wrapper(*args, **kwargs):\\n        print('{} is deprecated'.format(func.__name__), file=sys.stderr)\\n        return func(*args, **kwargs)\\n    return wrapper\\n\\n@deprecated\\ndef add(x, y):\\n    return x + y\\n\\nadd(1, 2)\", 'sys': <module 'sys' (built-in)>, 'deprecated': <function deprecated at 0x7f9d4ef23e50>, 'add': <function deprecated.<locals>.wrapper at 0x7f9d4ef35160>, '_35': 3, '_i36': 'from IPython import display\\n\\ndef bananize(func):\\n    return display.HTML(\\'<img src=\"http://www.sherv.net/cm/emo/funny/2/big-dancing-banana-smiley-emoticon.gif\">\\')\\n\\n@bananize\\ndef show(x):\\n    print(x)\\n    \\nshow', 'display': <module 'IPython.display' from '/Users/alexandermarkov/anaconda3/envs/MADMO/lib/python3.8/site-packages/IPython/display.py'>, 'bananize': <function bananize at 0x7f9d4ef351f0>, 'show': <function deprecated.<locals>.wrapper at 0x7f9d4ef35430>, '_36': <IPython.core.display.HTML object>, '_i37': 'from IPython import display\\n\\ndef bananize(func):\\n    return display.HTML(\\'<img src=\"http://www.sherv.net/cm/emo/funny/2/big-dancing-banana-smiley-emoticon.gif\">\\')\\n\\n@bananize\\ndef show(x):\\n    print(x)\\n    \\nshow(1)', '_i38': 'from IPython import display\\n\\ndef bananize(func):\\n    return display.HTML(\\'<img src=\"http://www.sherv.net/cm/emo/funny/2/big-dancing-banana-smiley-emoticon.gif\">\\')\\n\\n@bananize\\ndef show(x):\\n    print(x)\\n    \\nshow', '_38': <IPython.core.display.HTML object>, '_i39': 'from IPython import display\\n\\ndef bananize(func):\\n    return display.HTML(\\'<img src=\"http://www.sherv.net/cm/emo/funny/2/big-dancing-banana-smiley-emoticon.gif\">\\')\\n\\n@bananize\\ndef show(x):\\n    print(x)\\n    \\nshow', '_39': <IPython.core.display.HTML object>, '_i40': \"@deprecated\\ndef show(x):\\n    'This is a really nice looking docstring'\\n    print(x)\\n\\nprint(show.__name__)\\nprint(show.__doc__)\", '_i41': \"import functools \\n\\ndef trace(dest):\\n    def wraps(func):\\n        @functools.wraps(func)\\n        def wrapper(*args, **kwargs):\\n            print(\\n                '{} called with args {}, kwargs {}!'.format(func.__name__, args, kwargs),\\n                file = dest\\n            )\\n            return func(*args, **kwargs)\\n        return wrapper\\n    return wraps\\n\\n@trace()\\ndef f(x, test):\\n     if test > 1:\\n         return f(x, test / 2)\\n\\nf('Hi!', test=42)\", 'functools': <module 'functools' from '/Users/alexandermarkov/anaconda3/envs/MADMO/lib/python3.8/functools.py'>, 'trace': <function trace at 0x7f9d4ef35d30>, '_i42': \"import functools \\n\\ndef trace(dest):\\n    def wraps(func):\\n        @functools.wraps(func)\\n        def wrapper(*args, **kwargs):\\n            print(\\n                '{} called with args {}, kwargs {}!'.format(func.__name__, args, kwargs),\\n                file = dest\\n            )\\n            return func(*args, **kwargs)\\n        return wrapper\\n    return wraps\\n\\n@trace()\\ndef f(x, test):\\n     if test > 1:\\n        return f(x, test / 2)\\n\\nf('Hi!', test=42)\", '_i43': \"import functools \\n\\ndef trace(dest=sys.stderr):\\n    def wraps(func):\\n        @functools.wraps(func)\\n        def wrapper(*args, **kwargs):\\n            print(\\n                '{} called with args {}, kwargs {}!'.format(func.__name__, args, kwargs),\\n                file = dest\\n            )\\n            return func(*args, **kwargs)\\n        return wrapper\\n    return wraps\\n\\n@trace()\\ndef f(x, test):\\n     if test > 1:\\n        return f(x, test / 2)\\n\\nf('Hi!', test=42)\", '_i44': \"import functools \\n\\ndef trace(dest=sys.stderr):\\n    def wraps(func):\\n        @functools.wraps(func)\\n        def wrapper(*args, **kwargs):\\n            print(\\n                '{} called with args {}, kwargs {}!'.format(func.__name__, args, kwargs),\\n                file = dest\\n            )\\n            return func(*args, **kwargs)\\n        return wrapper\\n    return wraps\\n\\n@trace(sys.stdout)\\ndef f(x, test):\\n     if test > 1:\\n        return f(x, test / 2)\\n\\nf('Hi!', test=42)\", '_i45': \"import functools \\n\\ndef trace(dest=sys.stderr):\\n    def wraps(func):\\n        @functools.wraps(func)\\n        def wrapper(*args, **kwargs):\\n            print(\\n                '{} called with args {}, kwargs {}!'.format(func.__name__, args, kwargs),\\n                file = dest\\n            )\\n            return func(*args, **kwargs)\\n        return wrapper\\n    return wraps\\n\\n@trace\\ndef f(x, test):\\n     if test > 1:\\n        return f(x, test / 2)\\n\\nf('Hi!', test=42)\", '_i46': \"import functools \\n\\ndef trace(dest=sys.stderr):\\n    def wraps(func):\\n        @functools.wraps(func)\\n        def wrapper(*args, **kwargs):\\n            print(\\n                '{} called with args {}, kwargs {}!'.format(func.__name__, args, kwargs),\\n                file = dest\\n            )\\n            return func(*args, **kwargs)\\n        return wrapper\\n    return wraps\\n\\n@trace()\\ndef f(x, test):\\n     if test > 1:\\n        return f(x, test / 2)\\n\\nf('Hi!', test=42)\", '_i47': \"import functools \\n\\ndef trace(dest=sys.stderr):\\n    def wraps(func):\\n        @functools.wraps(func)\\n        def wrapper(*args, **kwargs):\\n            print(\\n                '{} called with args {}, kwargs {}!'.format(func.__name__, args, kwargs),\\n                file = dest\\n            )\\n            return func(*args, **kwargs)\\n        return wrapper\\n    return wraps\\n\\n@trace()  # нужно теперь писать скобки, даже если ничего не подавать\\ndef f(x, test):\\n     if test > 1:\\n        return f(x, test / 2)\\n\\nf('Hi!', test=42)\", '_i48': '@deprecated\\n@logged()\\ndef f(x):\\n    return x\\n\\nf(1)', '_i49': 'def logged(n_vals=1):\\n    results = dict()\\n    def wraps(func):\\n        @functools.wraps(func)\\n        def wrapper(*args, **kwargs):\\n            value = results.get((args, kwargs))\\n            if value is None:\\n                value = func(*args, **kwargs)\\n                if len(resuts) < n_vals:\\n                    results[(args, kwargs)] = value\\n            else:\\n                return value\\n        return wrapper\\n    return wraps', 'logged': <function logged at 0x7f9d4ef35b80>, '_i50': '@deprecated\\n@logged\\ndef f(x):\\n    return x\\n\\nf(1)', '_50': <function logged.<locals>.wraps.<locals>.wrapper at 0x7f9d4ef35790>, '_i51': 'def logged(n_vals=1):\\n    results = dict()\\n    def wraps(func):\\n        @functools.wraps(func)\\n        def wrapper(*args, **kwargs):\\n            value = results.get((args, kwargs))\\n            if value is None:\\n                value = func(*args, **kwargs)\\n                if len(resuts) < n_vals:\\n                    results[(args, kwargs)] = value\\n                    return value\\n            else:\\n                return value\\n        return wrapper\\n    return wraps', '_i52': '@deprecated\\n@logged\\ndef f(x):\\n    return x\\n\\nf(1)', '_52': <function logged.<locals>.wraps.<locals>.wrapper at 0x7f9d4ef35670>, '_i53': '@deprecated\\n@once\\ndef f(x):\\n    return x\\n\\nf(1)', '_i54': \"def once(func):\\n    called = False\\n    \\n    def wrapper(*args, **kwargs):\\n        nonlocal called\\n        if not called:\\n            called = True\\n            return func(*args, **kwargs)\\n\\n    return wrapper\\n\\n@once\\ndef f():\\n    print('Hi!')\\n\\nf()\\nf()\", 'once': <function once at 0x7f9d4ee5c0d0>, '_i55': '@deprecated\\n@once\\ndef f(x):\\n    return x\\n\\nf(1)', '_55': 1, '_i56': '@deprecated\\n@trace()\\ndef f(x):\\n    return x\\n\\nf(1)', '_56': 1, '_i57': '@deprecated\\n@trace(sys.stdout)\\ndef f(x):\\n    return x\\n\\nf(1)', '_57': 1, '_i58': '@deprecated\\n@trace(sys.stdout)\\ndef f(x):\\n    return x\\n\\nf(1)\\nf(2)', '_58': 2, '_i59': 'def f():\\n    print(it)\\n\\nfor it in range(10):\\n    f()', 'it': 9, '_i60': '1', '_60': 1, '_i61': 'func = lambda x : print(x)', '_i62': 'func(3)', '_i63': 'list(map(lambda x : x ** 2, range(10)))', '_63': [0, 1, 4, 9, 16, 25, 36, 49, 64, 81], '_i64': 'sorted([1, 2, 3, 4], key = lambda x : 1 / x)', '_64': [4, 3, 2, 1], '_i65': 'sorted([1, 2, 3, 4], key = lambda x : -x)', '_65': [4, 3, 2, 1], '_i66': 'def show_scope(x):\\n    y = \" World!\"\\n    print(locals())  # текущее пространство имен \\n\\nshow_scope(\"Hello\")', '_i67': 'def show_scope(x):\\n    y = \" World!\"\\n    print(globals())  # namespace глобальной области видимости. Все что доступно в коде\\n\\nshow_scope(\"Hello\")'}\n"
     ]
    }
   ],
   "source": [
    "def show_scope(x):\n",
    "    y = \" World!\"\n",
    "    print(globals())  # namespace глобальной области видимости. Все что доступно в коде\n",
    "\n",
    "show_scope(\"Hello\")"
   ]
  },
  {
   "cell_type": "code",
   "execution_count": 68,
   "metadata": {
    "slideshow": {
     "slide_type": "slide"
    }
   },
   "outputs": [
    {
     "data": {
      "text/plain": [
       "True"
      ]
     },
     "execution_count": 68,
     "metadata": {},
     "output_type": "execute_result"
    }
   ],
   "source": [
    "locals() == globals()  # если мы находимся в глобальной области"
   ]
  },
  {
   "cell_type": "markdown",
   "metadata": {
    "slideshow": {
     "slide_type": "slide"
    }
   },
   "source": [
    "### Встроенная область видимости"
   ]
  },
  {
   "cell_type": "markdown",
   "metadata": {},
   "source": [
    "Большая часть функций, доступных в языке, лежит в globals, но не все"
   ]
  },
  {
   "cell_type": "code",
   "execution_count": 69,
   "metadata": {},
   "outputs": [
    {
     "data": {
      "text/plain": [
       "False"
      ]
     },
     "execution_count": 69,
     "metadata": {},
     "output_type": "execute_result"
    }
   ],
   "source": [
    "'range' in globals()"
   ]
  },
  {
   "cell_type": "code",
   "execution_count": 70,
   "metadata": {},
   "outputs": [
    {
     "data": {
      "text/plain": [
       "range(0, 3)"
      ]
     },
     "execution_count": 70,
     "metadata": {},
     "output_type": "execute_result"
    }
   ],
   "source": [
    "range(3)"
   ]
  },
  {
   "cell_type": "markdown",
   "metadata": {},
   "source": [
    "builtins - самый низкий уровень объектов (ниже чем globals), определенных в языке. \n",
    "\n",
    "Объекты в builtins это не питонячие объекты, а примитивы интерпритатора, написанные на С и доступные через имя (но об этом можно не думать)"
   ]
  },
  {
   "cell_type": "code",
   "execution_count": 71,
   "metadata": {
    "slideshow": {
     "slide_type": "fragment"
    }
   },
   "outputs": [
    {
     "data": {
      "text/plain": [
       "True"
      ]
     },
     "execution_count": 71,
     "metadata": {},
     "output_type": "execute_result"
    }
   ],
   "source": [
    "'range' in dir(__builtins__)  # доступен через 2 подчеркивания т.к. не предполагается, \n",
    "                              # что программист будет туда лазить"
   ]
  },
  {
   "cell_type": "markdown",
   "metadata": {
    "slideshow": {
     "slide_type": "slide"
    }
   },
   "source": [
    "### Функции создают своё пространство имён"
   ]
  },
  {
   "cell_type": "code",
   "execution_count": 72,
   "metadata": {},
   "outputs": [
    {
     "ename": "NameError",
     "evalue": "name 'in_func' is not defined",
     "output_type": "error",
     "traceback": [
      "\u001b[0;31m---------------------------------------------------------------------------\u001b[0m",
      "\u001b[0;31mNameError\u001b[0m                                 Traceback (most recent call last)",
      "\u001b[0;32m<ipython-input-72-1fe8b4151885>\u001b[0m in \u001b[0;36m<module>\u001b[0;34m\u001b[0m\n\u001b[1;32m      3\u001b[0m \u001b[0;34m\u001b[0m\u001b[0m\n\u001b[1;32m      4\u001b[0m \u001b[0mf\u001b[0m\u001b[0;34m(\u001b[0m\u001b[0;34m)\u001b[0m\u001b[0;34m\u001b[0m\u001b[0;34m\u001b[0m\u001b[0m\n\u001b[0;32m----> 5\u001b[0;31m \u001b[0min_func\u001b[0m\u001b[0;34m\u001b[0m\u001b[0;34m\u001b[0m\u001b[0m\n\u001b[0m",
      "\u001b[0;31mNameError\u001b[0m: name 'in_func' is not defined"
     ]
    }
   ],
   "source": [
    "def f():\n",
    "    in_func = 2\n",
    "\n",
    "f()\n",
    "in_func"
   ]
  },
  {
   "cell_type": "code",
   "execution_count": 73,
   "metadata": {
    "slideshow": {
     "slide_type": "subslide"
    }
   },
   "outputs": [
    {
     "name": "stdout",
     "output_type": "stream",
     "text": [
      "{'x': 1}\n",
      "False\n"
     ]
    }
   ],
   "source": [
    "def test(x):\n",
    "    print(locals())\n",
    "    print(locals() == globals())\n",
    "\n",
    "test(1)"
   ]
  },
  {
   "cell_type": "code",
   "execution_count": null,
   "metadata": {},
   "outputs": [],
   "source": [
    "{}"
   ]
  },
  {
   "cell_type": "markdown",
   "metadata": {
    "slideshow": {
     "slide_type": "slide"
    }
   },
   "source": [
    "### Циклы и условия не создают своё пространство имён"
   ]
  },
  {
   "cell_type": "markdown",
   "metadata": {},
   "source": [
    "В отличии от С++, не все вложенные конструкции в питоне создают свое пространство имен (только функции, классы и генераторы)"
   ]
  },
  {
   "cell_type": "code",
   "execution_count": 76,
   "metadata": {},
   "outputs": [
    {
     "name": "stdout",
     "output_type": "stream",
     "text": [
      "4\n",
      "2\n"
     ]
    }
   ],
   "source": [
    "for i in range(3):\n",
    "    in_for = i ** 2\n",
    "    pass\n",
    "\n",
    "print(in_for)\n",
    "print(i)"
   ]
  },
  {
   "cell_type": "code",
   "execution_count": 77,
   "metadata": {},
   "outputs": [
    {
     "name": "stdout",
     "output_type": "stream",
     "text": [
      "2\n"
     ]
    }
   ],
   "source": [
    "if True:\n",
    "    in_if = 2\n",
    "    \n",
    "print(in_if)"
   ]
  },
  {
   "cell_type": "markdown",
   "metadata": {
    "slideshow": {
     "slide_type": "slide"
    }
   },
   "source": [
    "### *Выражения-генераторы создают"
   ]
  },
  {
   "cell_type": "code",
   "execution_count": 80,
   "metadata": {},
   "outputs": [
    {
     "data": {
      "text/plain": [
       "'Hello'"
      ]
     },
     "execution_count": 80,
     "metadata": {},
     "output_type": "execute_result"
    }
   ],
   "source": [
    "i = 'Hello'\n",
    "\n",
    "[i ** 2 for i in range(10)]\n",
    "i"
   ]
  },
  {
   "cell_type": "markdown",
   "metadata": {},
   "source": [
    "Для удобства лучше считать, что в циклах тоже создается свое пространство имен"
   ]
  },
  {
   "cell_type": "markdown",
   "metadata": {},
   "source": [
    "_____"
   ]
  },
  {
   "cell_type": "markdown",
   "metadata": {},
   "source": [
    "Как выполняется поиск переменных интерпритатором: (не путать с другой похожей аббревиатурой) "
   ]
  },
  {
   "cell_type": "markdown",
   "metadata": {
    "slideshow": {
     "slide_type": "slide"
    }
   },
   "source": [
    "## Правило LEGB\n",
    "\n",
    "### Local\n",
    "\n",
    "Внутри функции\n",
    "\n",
    "\n",
    "### Enclosing*\n",
    "\n",
    "Одна или несколько (до бесконечности) внешних областей видимости,  внутри которой определена функция\n",
    "\n",
    "\n",
    "### Global\n",
    "\n",
    "### Built-in"
   ]
  },
  {
   "cell_type": "markdown",
   "metadata": {},
   "source": [
    "Последовательность очевидна -- просто идем по стеку вверх"
   ]
  },
  {
   "cell_type": "code",
   "execution_count": 82,
   "metadata": {
    "slideshow": {
     "slide_type": "slide"
    }
   },
   "outputs": [
    {
     "name": "stdout",
     "output_type": "stream",
     "text": [
      "{'local_var': 'local_var'}\n",
      "func: global_var\n",
      "func: local_var\n",
      "global_var\n"
     ]
    },
    {
     "ename": "NameError",
     "evalue": "name 'local_var' is not defined",
     "output_type": "error",
     "traceback": [
      "\u001b[0;31m---------------------------------------------------------------------------\u001b[0m",
      "\u001b[0;31mNameError\u001b[0m                                 Traceback (most recent call last)",
      "\u001b[0;32m<ipython-input-82-5a9fea84a315>\u001b[0m in \u001b[0;36m<module>\u001b[0;34m\u001b[0m\n\u001b[1;32m     10\u001b[0m \u001b[0;34m\u001b[0m\u001b[0m\n\u001b[1;32m     11\u001b[0m \u001b[0mprint\u001b[0m\u001b[0;34m(\u001b[0m\u001b[0mglobal_var\u001b[0m\u001b[0;34m)\u001b[0m\u001b[0;34m\u001b[0m\u001b[0;34m\u001b[0m\u001b[0m\n\u001b[0;32m---> 12\u001b[0;31m \u001b[0mprint\u001b[0m\u001b[0;34m(\u001b[0m\u001b[0mlocal_var\u001b[0m\u001b[0;34m)\u001b[0m\u001b[0;34m\u001b[0m\u001b[0;34m\u001b[0m\u001b[0m\n\u001b[0m",
      "\u001b[0;31mNameError\u001b[0m: name 'local_var' is not defined"
     ]
    }
   ],
   "source": [
    "global_var = 'global_var'\n",
    "\n",
    "def test(): \n",
    "    local_var = 'local_var'\n",
    "    print(locals())\n",
    "    print('func:', global_var)  # global_var is in enclosing namespaces\n",
    "    print('func:', local_var)\n",
    "\n",
    "test()\n",
    "\n",
    "print(global_var)\n",
    "print(local_var)"
   ]
  },
  {
   "cell_type": "code",
   "execution_count": 84,
   "metadata": {
    "slideshow": {
     "slide_type": "slide"
    }
   },
   "outputs": [
    {
     "name": "stdout",
     "output_type": "stream",
     "text": [
      "func  : global_var_modified\n",
      "global: global_var\n"
     ]
    }
   ],
   "source": [
    "global_var = 'global_var'\n",
    "\n",
    "def test():\n",
    "    global_var = 'global_var_modified'\n",
    "    print('func  :', global_var)  # global_var shadows another variable with same name\n",
    "\n",
    "\n",
    "test()\n",
    "print('global:', global_var)"
   ]
  },
  {
   "cell_type": "markdown",
   "metadata": {},
   "source": [
    "Операция присваения не имеет ничего общего с mutability, это операция над неймспейсами\n",
    "\n",
    "Есть способы с этим справиться"
   ]
  },
  {
   "cell_type": "markdown",
   "metadata": {
    "slideshow": {
     "slide_type": "slide"
    }
   },
   "source": [
    "### global"
   ]
  },
  {
   "cell_type": "code",
   "execution_count": 86,
   "metadata": {},
   "outputs": [
    {
     "name": "stdout",
     "output_type": "stream",
     "text": [
      "global_var\n",
      "global_var_modified\n",
      "global_var_modified\n"
     ]
    }
   ],
   "source": [
    "global_var = 'global_var'\n",
    "\n",
    "def test():\n",
    "    global global_var\n",
    "    global_var = 'global_var_modified'\n",
    "    print(global_var)  # global_var is in enclosing namespaces\n",
    "\n",
    "\n",
    "print(global_var)\n",
    "test()\n",
    "print(global_var)\n"
   ]
  },
  {
   "cell_type": "markdown",
   "metadata": {
    "slideshow": {
     "slide_type": "slide"
    }
   },
   "source": [
    "### Вложенные функции"
   ]
  },
  {
   "cell_type": "code",
   "execution_count": 87,
   "metadata": {
    "slideshow": {
     "slide_type": "-"
    }
   },
   "outputs": [
    {
     "name": "stdout",
     "output_type": "stream",
     "text": [
      "inner: foo\n",
      "inner: bar\n",
      "outer: foo\n"
     ]
    },
    {
     "ename": "NameError",
     "evalue": "name 'inner_var' is not defined",
     "output_type": "error",
     "traceback": [
      "\u001b[0;31m---------------------------------------------------------------------------\u001b[0m",
      "\u001b[0;31mNameError\u001b[0m                                 Traceback (most recent call last)",
      "\u001b[0;32m<ipython-input-87-247ce9c5ee74>\u001b[0m in \u001b[0;36m<module>\u001b[0;34m\u001b[0m\n\u001b[1;32m     12\u001b[0m     \u001b[0mprint\u001b[0m\u001b[0;34m(\u001b[0m\u001b[0;34m'outer:'\u001b[0m\u001b[0;34m,\u001b[0m \u001b[0minner_var\u001b[0m\u001b[0;34m)\u001b[0m\u001b[0;34m\u001b[0m\u001b[0;34m\u001b[0m\u001b[0m\n\u001b[1;32m     13\u001b[0m \u001b[0;34m\u001b[0m\u001b[0m\n\u001b[0;32m---> 14\u001b[0;31m \u001b[0mouter\u001b[0m\u001b[0;34m(\u001b[0m\u001b[0;34m)\u001b[0m\u001b[0;34m\u001b[0m\u001b[0;34m\u001b[0m\u001b[0m\n\u001b[0m",
      "\u001b[0;32m<ipython-input-87-247ce9c5ee74>\u001b[0m in \u001b[0;36mouter\u001b[0;34m()\u001b[0m\n\u001b[1;32m     10\u001b[0m \u001b[0;34m\u001b[0m\u001b[0m\n\u001b[1;32m     11\u001b[0m     \u001b[0mprint\u001b[0m\u001b[0;34m(\u001b[0m\u001b[0;34m'outer:'\u001b[0m\u001b[0;34m,\u001b[0m \u001b[0mouter_var\u001b[0m\u001b[0;34m)\u001b[0m\u001b[0;34m\u001b[0m\u001b[0;34m\u001b[0m\u001b[0m\n\u001b[0;32m---> 12\u001b[0;31m     \u001b[0mprint\u001b[0m\u001b[0;34m(\u001b[0m\u001b[0;34m'outer:'\u001b[0m\u001b[0;34m,\u001b[0m \u001b[0minner_var\u001b[0m\u001b[0;34m)\u001b[0m\u001b[0;34m\u001b[0m\u001b[0;34m\u001b[0m\u001b[0m\n\u001b[0m\u001b[1;32m     13\u001b[0m \u001b[0;34m\u001b[0m\u001b[0m\n\u001b[1;32m     14\u001b[0m \u001b[0mouter\u001b[0m\u001b[0;34m(\u001b[0m\u001b[0;34m)\u001b[0m\u001b[0;34m\u001b[0m\u001b[0;34m\u001b[0m\u001b[0m\n",
      "\u001b[0;31mNameError\u001b[0m: name 'inner_var' is not defined"
     ]
    }
   ],
   "source": [
    "def outer():\n",
    "    outer_var = 'foo'\n",
    "    \n",
    "    def inner():\n",
    "        inner_var = 'bar'\n",
    "        print('inner:', outer_var)\n",
    "        print('inner:', inner_var)\n",
    "\n",
    "    inner()\n",
    "    \n",
    "    print('outer:', outer_var)\n",
    "    print('outer:', inner_var)\n",
    "\n",
    "outer()"
   ]
  },
  {
   "cell_type": "markdown",
   "metadata": {
    "slideshow": {
     "slide_type": "slide"
    }
   },
   "source": [
    "### Замечение\n",
    "\n",
    "__Функции имеют доступ к внешним пространствам имён относительно того места где они были _определены_, а не _вызваны_ __"
   ]
  },
  {
   "cell_type": "code",
   "execution_count": 92,
   "metadata": {},
   "outputs": [
    {
     "ename": "NameError",
     "evalue": "name 'it_' is not defined",
     "output_type": "error",
     "traceback": [
      "\u001b[0;31m---------------------------------------------------------------------------\u001b[0m",
      "\u001b[0;31mNameError\u001b[0m                                 Traceback (most recent call last)",
      "\u001b[0;32m<ipython-input-92-d4f3725fdd57>\u001b[0m in \u001b[0;36m<module>\u001b[0;34m\u001b[0m\n\u001b[1;32m      7\u001b[0m     \u001b[0mprint\u001b[0m\u001b[0;34m(\u001b[0m\u001b[0mit_\u001b[0m\u001b[0;34m)\u001b[0m\u001b[0;34m\u001b[0m\u001b[0;34m\u001b[0m\u001b[0m\n\u001b[1;32m      8\u001b[0m \u001b[0;34m\u001b[0m\u001b[0m\n\u001b[0;32m----> 9\u001b[0;31m \u001b[0mq\u001b[0m\u001b[0;34m(\u001b[0m\u001b[0mf\u001b[0m\u001b[0;34m)\u001b[0m\u001b[0;34m\u001b[0m\u001b[0;34m\u001b[0m\u001b[0m\n\u001b[0m",
      "\u001b[0;32m<ipython-input-92-d4f3725fdd57>\u001b[0m in \u001b[0;36mq\u001b[0;34m(func)\u001b[0m\n\u001b[1;32m      4\u001b[0m \u001b[0;32mdef\u001b[0m \u001b[0mq\u001b[0m\u001b[0;34m(\u001b[0m\u001b[0mfunc\u001b[0m\u001b[0;34m)\u001b[0m\u001b[0;34m:\u001b[0m\u001b[0;34m\u001b[0m\u001b[0;34m\u001b[0m\u001b[0m\n\u001b[1;32m      5\u001b[0m     \u001b[0;32mfor\u001b[0m \u001b[0mit_\u001b[0m \u001b[0;32min\u001b[0m \u001b[0mrange\u001b[0m\u001b[0;34m(\u001b[0m\u001b[0;36m10\u001b[0m\u001b[0;34m)\u001b[0m\u001b[0;34m:\u001b[0m\u001b[0;34m\u001b[0m\u001b[0;34m\u001b[0m\u001b[0m\n\u001b[0;32m----> 6\u001b[0;31m         \u001b[0mfunc\u001b[0m\u001b[0;34m(\u001b[0m\u001b[0;34m)\u001b[0m\u001b[0;34m\u001b[0m\u001b[0;34m\u001b[0m\u001b[0m\n\u001b[0m\u001b[1;32m      7\u001b[0m     \u001b[0mprint\u001b[0m\u001b[0;34m(\u001b[0m\u001b[0mit_\u001b[0m\u001b[0;34m)\u001b[0m\u001b[0;34m\u001b[0m\u001b[0;34m\u001b[0m\u001b[0m\n\u001b[1;32m      8\u001b[0m \u001b[0;34m\u001b[0m\u001b[0m\n",
      "\u001b[0;32m<ipython-input-92-d4f3725fdd57>\u001b[0m in \u001b[0;36mf\u001b[0;34m()\u001b[0m\n\u001b[1;32m      1\u001b[0m \u001b[0;32mdef\u001b[0m \u001b[0mf\u001b[0m\u001b[0;34m(\u001b[0m\u001b[0;34m)\u001b[0m\u001b[0;34m:\u001b[0m\u001b[0;34m\u001b[0m\u001b[0;34m\u001b[0m\u001b[0m\n\u001b[0;32m----> 2\u001b[0;31m     \u001b[0mprint\u001b[0m\u001b[0;34m(\u001b[0m\u001b[0mit_\u001b[0m\u001b[0;34m)\u001b[0m\u001b[0;34m\u001b[0m\u001b[0;34m\u001b[0m\u001b[0m\n\u001b[0m\u001b[1;32m      3\u001b[0m \u001b[0;34m\u001b[0m\u001b[0m\n\u001b[1;32m      4\u001b[0m \u001b[0;32mdef\u001b[0m \u001b[0mq\u001b[0m\u001b[0;34m(\u001b[0m\u001b[0mfunc\u001b[0m\u001b[0;34m)\u001b[0m\u001b[0;34m:\u001b[0m\u001b[0;34m\u001b[0m\u001b[0;34m\u001b[0m\u001b[0m\n\u001b[1;32m      5\u001b[0m     \u001b[0;32mfor\u001b[0m \u001b[0mit_\u001b[0m \u001b[0;32min\u001b[0m \u001b[0mrange\u001b[0m\u001b[0;34m(\u001b[0m\u001b[0;36m10\u001b[0m\u001b[0;34m)\u001b[0m\u001b[0;34m:\u001b[0m\u001b[0;34m\u001b[0m\u001b[0;34m\u001b[0m\u001b[0m\n",
      "\u001b[0;31mNameError\u001b[0m: name 'it_' is not defined"
     ]
    }
   ],
   "source": [
    "def f():\n",
    "    print(it_)\n",
    "\n",
    "def q(func):\n",
    "    for it_ in range(10):\n",
    "        func()\n",
    "    print(it_)\n",
    "\n",
    "q(f)"
   ]
  },
  {
   "cell_type": "code",
   "execution_count": 93,
   "metadata": {},
   "outputs": [
    {
     "name": "stdout",
     "output_type": "stream",
     "text": [
      "0\n",
      "1\n",
      "2\n",
      "3\n",
      "4\n",
      "5\n",
      "6\n",
      "7\n",
      "8\n",
      "9\n"
     ]
    }
   ],
   "source": [
    "def f():\n",
    "    print(it)\n",
    "\n",
    "for it in range(10):\n",
    "    f()"
   ]
  },
  {
   "cell_type": "markdown",
   "metadata": {
    "slideshow": {
     "slide_type": "slide"
    }
   },
   "source": [
    "### Проблема"
   ]
  },
  {
   "cell_type": "markdown",
   "metadata": {},
   "source": [
    "Две функции, конкурирующие за одну и ту же переменную"
   ]
  },
  {
   "cell_type": "code",
   "execution_count": 94,
   "metadata": {},
   "outputs": [
    {
     "name": "stdout",
     "output_type": "stream",
     "text": [
      "inner : v1_up\n",
      "outer : v1\n",
      "global: v1_up\n"
     ]
    }
   ],
   "source": [
    "def outer():\n",
    "    var = 'v1'\n",
    "\n",
    "    def inner():\n",
    "        global var\n",
    "        var = 'v1_up'\n",
    "        print('inner :', var)\n",
    "\n",
    "    inner()    \n",
    "    print('outer :', var)\n",
    "    \n",
    "outer()\n",
    "print('global:', var)"
   ]
  },
  {
   "cell_type": "markdown",
   "metadata": {},
   "source": [
    "Видим, что var попал в глобальный скоуп, но не в локальный enclosing скоуп (global идет c L сразу в G, пропуская E)"
   ]
  },
  {
   "cell_type": "markdown",
   "metadata": {
    "slideshow": {
     "slide_type": "slide"
    }
   },
   "source": [
    "### Решение : nonlocal"
   ]
  },
  {
   "cell_type": "markdown",
   "metadata": {},
   "source": [
    "Эту проблему решает ключевое слово __nonlocal__ (экспортирует объект на одну область видимости выше)"
   ]
  },
  {
   "cell_type": "code",
   "execution_count": 96,
   "metadata": {},
   "outputs": [
    {
     "name": "stdout",
     "output_type": "stream",
     "text": [
      "inner : v1_up\n",
      "outer : v1_up\n"
     ]
    },
    {
     "ename": "NameError",
     "evalue": "name 'var_' is not defined",
     "output_type": "error",
     "traceback": [
      "\u001b[0;31m---------------------------------------------------------------------------\u001b[0m",
      "\u001b[0;31mNameError\u001b[0m                                 Traceback (most recent call last)",
      "\u001b[0;32m<ipython-input-96-6582dfda9367>\u001b[0m in \u001b[0;36m<module>\u001b[0;34m\u001b[0m\n\u001b[1;32m     11\u001b[0m \u001b[0;34m\u001b[0m\u001b[0m\n\u001b[1;32m     12\u001b[0m \u001b[0mouter\u001b[0m\u001b[0;34m(\u001b[0m\u001b[0;34m)\u001b[0m\u001b[0;34m\u001b[0m\u001b[0;34m\u001b[0m\u001b[0m\n\u001b[0;32m---> 13\u001b[0;31m \u001b[0mprint\u001b[0m\u001b[0;34m(\u001b[0m\u001b[0;34m'global:'\u001b[0m\u001b[0;34m,\u001b[0m \u001b[0mvar_\u001b[0m\u001b[0;34m)\u001b[0m\u001b[0;34m\u001b[0m\u001b[0;34m\u001b[0m\u001b[0m\n\u001b[0m",
      "\u001b[0;31mNameError\u001b[0m: name 'var_' is not defined"
     ]
    }
   ],
   "source": [
    "def outer():\n",
    "    var_ = 'v1'\n",
    "\n",
    "    def inner():\n",
    "        nonlocal var_\n",
    "        var_ = 'v1_up'\n",
    "        print('inner :', var_)\n",
    "\n",
    "    inner()    \n",
    "    print('outer :', var_)\n",
    "    \n",
    "outer()\n",
    "print('global:', var_)"
   ]
  },
  {
   "cell_type": "markdown",
   "metadata": {},
   "source": [
    "По возможности, глобальный неймспейс лучше вообще не трогать"
   ]
  },
  {
   "cell_type": "markdown",
   "metadata": {},
   "source": [
    "Nonlocal был придумал в Python-3, а до этого были разные другие решения:"
   ]
  },
  {
   "cell_type": "markdown",
   "metadata": {
    "slideshow": {
     "slide_type": "slide"
    }
   },
   "source": [
    "### Другое странное решение"
   ]
  },
  {
   "cell_type": "markdown",
   "metadata": {},
   "source": [
    "Поскольку функция это объект, то в нее можно положить любой атрибут"
   ]
  },
  {
   "cell_type": "code",
   "execution_count": 97,
   "metadata": {},
   "outputs": [
    {
     "name": "stdout",
     "output_type": "stream",
     "text": [
      "inner: v2\n",
      "outer: v2\n",
      "v2\n"
     ]
    }
   ],
   "source": [
    "def outer(): \n",
    "    outer.var = 'v1'  # нужно помнить, что outer.var для inner будет как атрибут класса а не инстанса\n",
    "\n",
    "    def inner():\n",
    "        outer.var = 'v2'\n",
    "        print('inner:', outer.var)\n",
    "\n",
    "    inner()\n",
    "    \n",
    "    print('outer:', outer.var)\n",
    "    # return inner\n",
    "\n",
    "outer()\n",
    "\n",
    "print(outer.var)"
   ]
  },
  {
   "cell_type": "markdown",
   "metadata": {
    "slideshow": {
     "slide_type": "slide"
    }
   },
   "source": [
    "### Где теперь лежит переменная?"
   ]
  },
  {
   "cell_type": "code",
   "execution_count": 98,
   "metadata": {},
   "outputs": [
    {
     "name": "stdout",
     "output_type": "stream",
     "text": [
      "inner: v1\n"
     ]
    }
   ],
   "source": [
    "def outer():\n",
    "    nonlocal_var = 'v1'\n",
    "\n",
    "    def inner():\n",
    "        print('inner:', nonlocal_var)\n",
    "\n",
    "    return inner\n",
    "    \n",
    "f = outer()\n",
    "\n",
    "f()"
   ]
  },
  {
   "cell_type": "markdown",
   "metadata": {},
   "source": [
    "Функция outer() давно закончилась, но переменная из outer все равно сохранилась, хотя в момент вызова inner () функция outer() уже мертва (т.к. мы из нее вышли)"
   ]
  },
  {
   "cell_type": "markdown",
   "metadata": {},
   "source": [
    "Работает это потому что\n",
    "\n",
    "+ Доступны enclosing namespaces\n",
    "+ Поиск происходит по неймспейсам, доступным во время создания функции, а не во время вызова"
   ]
  },
  {
   "cell_type": "markdown",
   "metadata": {},
   "source": [
    "Для каждой функции нужно хранить состояние стэка неймспейсов, какое оно было во время создания функции"
   ]
  },
  {
   "cell_type": "markdown",
   "metadata": {
    "collapsed": true,
    "slideshow": {
     "slide_type": "slide"
    }
   },
   "source": [
    "# Замыкания [Closures]\n",
    "*In computer programming languages, a closure is a function together with a referencing environment of that function. A closure function is any function that uses a variable that is defined in an environment (or scope) that is external to that function, and is accessible within the function when invoked from a scope in which that free variable is not defined.*\n",
    "\n",
    "Существования замыканий следует из правила LEGB и возможностью оперировать с функциями как обьектами.\n",
    "\n",
    "Придумано это довольно давно в функциональных языках, в питоне реазиловано тоже довольно давно, в С++ кажется начиная с С++14 появилось"
   ]
  },
  {
   "cell_type": "markdown",
   "metadata": {},
   "source": [
    "Функция похищает ссылки на объекты, которые уже умерли, заставляя их жить"
   ]
  },
  {
   "cell_type": "code",
   "execution_count": 102,
   "metadata": {
    "slideshow": {
     "slide_type": "slide"
    }
   },
   "outputs": [],
   "source": [
    "def make_adder(x):\n",
    "    def adder(y):\n",
    "        return x + y\n",
    "    return adder"
   ]
  },
  {
   "cell_type": "code",
   "execution_count": 103,
   "metadata": {},
   "outputs": [
    {
     "data": {
      "text/plain": [
       "24"
      ]
     },
     "execution_count": 103,
     "metadata": {},
     "output_type": "execute_result"
    }
   ],
   "source": [
    "add_two  = make_adder(2)  # все корректно работает, хотя 2 тепереь лежит непонятно где\n",
    "add_five = make_adder(5)\n",
    "\n",
    "add_two(7) + add_five(10)"
   ]
  },
  {
   "cell_type": "code",
   "execution_count": 104,
   "metadata": {},
   "outputs": [
    {
     "data": {
      "text/plain": [
       "9"
      ]
     },
     "execution_count": 104,
     "metadata": {},
     "output_type": "execute_result"
    }
   ],
   "source": [
    "make_adder(2)(7)"
   ]
  },
  {
   "cell_type": "code",
   "execution_count": 105,
   "metadata": {
    "slideshow": {
     "slide_type": "slide"
    }
   },
   "outputs": [
    {
     "name": "stdout",
     "output_type": "stream",
     "text": [
      "20\n",
      "20000000000000\n"
     ]
    }
   ],
   "source": [
    "def cell(value = 10):\n",
    "    def get():\n",
    "        return value\n",
    "\n",
    "    def set(new_value):\n",
    "        nonlocal value\n",
    "        value = new_value\n",
    "        return value\n",
    "    \n",
    "    value = 20\n",
    "    return get, set\n",
    "\n",
    "get, set = cell()  # две функции, неявно связанные друг с другом через общий контекст\n",
    "print(get())\n",
    "\n",
    "set(20000000000000)\n",
    "\n",
    "print(get())"
   ]
  },
  {
   "cell_type": "code",
   "execution_count": 107,
   "metadata": {
    "slideshow": {
     "slide_type": "slide"
    }
   },
   "outputs": [
    {
     "name": "stdout",
     "output_type": "stream",
     "text": [
      "20\n",
      "110\n"
     ]
    }
   ],
   "source": [
    "def make_adder(x):\n",
    "    \n",
    "    def add(y):\n",
    "        return x + y\n",
    "    \n",
    "    def update(new_x):\n",
    "        nonlocal x\n",
    "        x = new_x\n",
    "\n",
    "    add.update = update\n",
    "    return add\n",
    "\n",
    "adder = make_adder(10)\n",
    "print(adder(10))\n",
    "\n",
    "adder.update(100)  # функция, у которой есть метод, меняющий ее поведение\n",
    "\n",
    "print(adder(10))"
   ]
  },
  {
   "cell_type": "markdown",
   "metadata": {
    "slideshow": {
     "slide_type": "slide"
    }
   },
   "source": [
    "### Посмотрим внутрь"
   ]
  },
  {
   "cell_type": "markdown",
   "metadata": {},
   "source": [
    "При выходе из make_adder его неймспейс вместо того, чтобы умереть, перекладывается в __ closure __ того, что из него вернулось"
   ]
  },
  {
   "cell_type": "code",
   "execution_count": 109,
   "metadata": {},
   "outputs": [
    {
     "name": "stdout",
     "output_type": "stream",
     "text": [
      "(<cell at 0x7f9d5062e5e0: int object at 0x10ee105c0>,)\n",
      "100\n"
     ]
    }
   ],
   "source": [
    "print(adder.__closure__)\n",
    "print(repr(adder.__closure__[0].cell_contents))"
   ]
  },
  {
   "cell_type": "code",
   "execution_count": 110,
   "metadata": {},
   "outputs": [
    {
     "data": {
      "text/plain": [
       "True"
      ]
     },
     "execution_count": 110,
     "metadata": {},
     "output_type": "execute_result"
    }
   ],
   "source": [
    "adder.update.__closure__ == adder.__closure__ "
   ]
  },
  {
   "cell_type": "markdown",
   "metadata": {
    "slideshow": {
     "slide_type": "slide"
    }
   },
   "source": [
    "# Декораторы\n",
    "\n",
    "Замыкания как способ быстро изменить поведение функции"
   ]
  },
  {
   "cell_type": "code",
   "execution_count": 33,
   "metadata": {},
   "outputs": [
    {
     "name": "stdout",
     "output_type": "stream",
     "text": [
      "[1, 2, 3]\n"
     ]
    },
    {
     "name": "stderr",
     "output_type": "stream",
     "text": [
      "print is deprecated\n"
     ]
    }
   ],
   "source": [
    "import sys\n",
    "def deprecate(func):\n",
    "    def inner(*args, **kwargs):\n",
    "        print('{} is deprecated'.format(func.__name__), file=sys.stderr)\n",
    "        return func(*args, **kwargs)\n",
    "    return inner\n",
    "\n",
    "pprint = deprecate(print)\n",
    "\n",
    "pprint([1, 2, 3])"
   ]
  },
  {
   "cell_type": "markdown",
   "metadata": {
    "slideshow": {
     "slide_type": "slide"
    }
   },
   "source": [
    "### Синтаксис декораторов"
   ]
  },
  {
   "cell_type": "code",
   "execution_count": 35,
   "metadata": {},
   "outputs": [
    {
     "name": "stderr",
     "output_type": "stream",
     "text": [
      "add is deprecated\n"
     ]
    },
    {
     "data": {
      "text/plain": [
       "3"
      ]
     },
     "execution_count": 35,
     "metadata": {},
     "output_type": "execute_result"
    }
   ],
   "source": [
    "import sys\n",
    "\n",
    "def deprecated(func):\n",
    "    def wrapper(*args, **kwargs):\n",
    "        print('{} is deprecated'.format(func.__name__), file=sys.stderr)\n",
    "        return func(*args, **kwargs)\n",
    "    return wrapper\n",
    "\n",
    "@deprecated\n",
    "def add(x, y):\n",
    "    return x + y\n",
    "\n",
    "add(1, 2)"
   ]
  },
  {
   "cell_type": "code",
   "execution_count": 111,
   "metadata": {},
   "outputs": [
    {
     "data": {
      "text/plain": [
       "'wrapper'"
      ]
     },
     "execution_count": 111,
     "metadata": {},
     "output_type": "execute_result"
    }
   ],
   "source": [
    "add.__name__"
   ]
  },
  {
   "cell_type": "markdown",
   "metadata": {},
   "source": [
    "Функция объявляется, создается, ее объект подается декоратору, декоратор что-то возвращает и эт что-то перезаписывается вместо функции"
   ]
  },
  {
   "cell_type": "markdown",
   "metadata": {
    "slideshow": {
     "slide_type": "slide"
    }
   },
   "source": [
    "### Bananize"
   ]
  },
  {
   "cell_type": "markdown",
   "metadata": {},
   "source": [
    "Из-за динамической типизации никто не проверяет реализацию декораторов, если что-то не так, то все просто упадет"
   ]
  },
  {
   "cell_type": "code",
   "execution_count": 113,
   "metadata": {},
   "outputs": [
    {
     "data": {
      "text/html": [
       "<img src=\"http://www.sherv.net/cm/emo/funny/2/big-dancing-banana-smiley-emoticon.gif\">"
      ],
      "text/plain": [
       "<IPython.core.display.HTML object>"
      ]
     },
     "execution_count": 113,
     "metadata": {},
     "output_type": "execute_result"
    }
   ],
   "source": [
    "from IPython import display\n",
    "\n",
    "def bananize(func):\n",
    "    return display.HTML('<img src=\"http://www.sherv.net/cm/emo/funny/2/big-dancing-banana-smiley-emoticon.gif\">')\n",
    "\n",
    "@bananize\n",
    "def show(x):\n",
    "    print(x)\n",
    "    \n",
    "show"
   ]
  },
  {
   "cell_type": "markdown",
   "metadata": {
    "slideshow": {
     "slide_type": "slide"
    }
   },
   "source": [
    "### Проблема"
   ]
  },
  {
   "cell_type": "code",
   "execution_count": 114,
   "metadata": {
    "scrolled": true
   },
   "outputs": [
    {
     "name": "stdout",
     "output_type": "stream",
     "text": [
      "wrapper\n",
      "None\n"
     ]
    }
   ],
   "source": [
    "@deprecated\n",
    "def show(x):\n",
    "    'This is a really nice looking docstring'\n",
    "    print(x)\n",
    "\n",
    "print(show.__name__)\n",
    "print(show.__doc__)"
   ]
  },
  {
   "cell_type": "markdown",
   "metadata": {},
   "source": [
    "Действительно, это теперь не show, а то что вернул декоратор"
   ]
  },
  {
   "cell_type": "markdown",
   "metadata": {
    "slideshow": {
     "slide_type": "slide"
    }
   },
   "source": [
    "### Решение 1 (грубой силой)"
   ]
  },
  {
   "cell_type": "code",
   "execution_count": 115,
   "metadata": {},
   "outputs": [
    {
     "name": "stdout",
     "output_type": "stream",
     "text": [
      "show\n",
      "This is a really nice looking docstring\n"
     ]
    }
   ],
   "source": [
    "def deprecated(func):\n",
    "    def wrapper(*args, **kwargs):\n",
    "        print('{} is deprecated!'.format(func.__name__), file=sys.stderr)\n",
    "        return func(*args, **kwargs)\n",
    "    wrapper.__name__ = func.__name__\n",
    "    wrapper.__doc__ = func.__doc__\n",
    "    wrapper.__module__ = func.__module__\n",
    "    return wrapper\n",
    "\n",
    "@deprecated\n",
    "def show(x):\n",
    "    'This is a really nice looking docstring'\n",
    "    print(x)\n",
    "\n",
    "print(show.__name__)\n",
    "print(show.__doc__)"
   ]
  },
  {
   "cell_type": "markdown",
   "metadata": {
    "slideshow": {
     "slide_type": "slide"
    }
   },
   "source": [
    "### Решение 2"
   ]
  },
  {
   "cell_type": "markdown",
   "metadata": {},
   "source": [
    "Используем декоратор на wrapper"
   ]
  },
  {
   "cell_type": "code",
   "execution_count": 116,
   "metadata": {},
   "outputs": [
    {
     "name": "stdout",
     "output_type": "stream",
     "text": [
      "show\n",
      "This is a really nice looking docstring\n"
     ]
    }
   ],
   "source": [
    "import functools\n",
    "\n",
    "def deprecated(func):\n",
    "    @functools.wraps(func) \n",
    "    def wrapper(*args, **kwargs):\n",
    "        print('{} is deprecated!'.format(func.__name__), file=sys.stderr)\n",
    "        return func(*args, **kwargs)\n",
    "    return wrapper\n",
    "\n",
    "@deprecated\n",
    "def show(x):\n",
    "    'This is a really nice looking docstring'\n",
    "    print(x)\n",
    "\n",
    "print(show.__name__)\n",
    "print(show.__doc__)"
   ]
  },
  {
   "cell_type": "markdown",
   "metadata": {},
   "source": [
    "Заметим, что до этого декоратор был штукой, принимающей функцию и возвращающей функцию\n",
    "\n",
    "Сейчас это функция, которая возвращает функцию, которая возвращает функцию и принимает функцию\n"
   ]
  },
  {
   "cell_type": "markdown",
   "metadata": {
    "slideshow": {
     "slide_type": "slide"
    }
   },
   "source": [
    "<img src='http://i0.kym-cdn.com/photos/images/original/000/384/176/d2f.jpg' />"
   ]
  },
  {
   "cell_type": "code",
   "execution_count": 120,
   "metadata": {
    "slideshow": {
     "slide_type": "slide"
    }
   },
   "outputs": [
    {
     "name": "stderr",
     "output_type": "stream",
     "text": [
      "f called with args ('Hi!',), kwargs {'test': 42}!\n",
      "f called with args ('Hi!', 21.0), kwargs {}!\n",
      "f called with args ('Hi!', 10.5), kwargs {}!\n",
      "f called with args ('Hi!', 5.25), kwargs {}!\n",
      "f called with args ('Hi!', 2.625), kwargs {}!\n",
      "f called with args ('Hi!', 1.3125), kwargs {}!\n",
      "f called with args ('Hi!', 0.65625), kwargs {}!\n"
     ]
    }
   ],
   "source": [
    "import functools \n",
    "\n",
    "\n",
    "def trace(dest=sys.stderr):\n",
    "    def wraps(func):\n",
    "        @functools.wraps(func)\n",
    "        def wrapper(*args, **kwargs):\n",
    "            print(\n",
    "                '{} called with args {}, kwargs {}!'.format(func.__name__, args, kwargs),\n",
    "                file = dest\n",
    "            )\n",
    "            return func(*args, **kwargs)\n",
    "        return wrapper\n",
    "    return wraps\n",
    "\n",
    "@trace()  # нужно теперь писать скобки, даже если ничего не подавать\n",
    "def f(x, test):\n",
    "     if test > 1:\n",
    "        return f(x, test / 2)\n",
    "\n",
    "f('Hi!', test=42)"
   ]
  },
  {
   "cell_type": "markdown",
   "metadata": {
    "slideshow": {
     "slide_type": "slide"
    }
   },
   "source": [
    "### Практика :: Декоратор Once"
   ]
  },
  {
   "cell_type": "code",
   "execution_count": 121,
   "metadata": {},
   "outputs": [
    {
     "name": "stdout",
     "output_type": "stream",
     "text": [
      "Hi!\n"
     ]
    }
   ],
   "source": [
    "def once(func):\n",
    "    called = False\n",
    "    \n",
    "    def wrapper(*args, **kwargs):\n",
    "        nonlocal called\n",
    "        if not called:\n",
    "            called = True\n",
    "            return func(*args, **kwargs)\n",
    "\n",
    "    return wrapper\n",
    "\n",
    "@once\n",
    "def f():\n",
    "    print('Hi!')\n",
    "\n",
    "f()\n",
    "f()"
   ]
  },
  {
   "cell_type": "markdown",
   "metadata": {
    "slideshow": {
     "slide_type": "slide"
    }
   },
   "source": [
    "### Цепочки декораторов"
   ]
  },
  {
   "cell_type": "markdown",
   "metadata": {},
   "source": [
    "Работают снизу вверх"
   ]
  },
  {
   "cell_type": "code",
   "execution_count": 122,
   "metadata": {},
   "outputs": [
    {
     "name": "stdout",
     "output_type": "stream",
     "text": [
      "f called with args (1,), kwargs {}!\n",
      "f called with args (2,), kwargs {}!\n"
     ]
    },
    {
     "name": "stderr",
     "output_type": "stream",
     "text": [
      "f is deprecated!\n",
      "f is deprecated!\n"
     ]
    },
    {
     "data": {
      "text/plain": [
       "2"
      ]
     },
     "execution_count": 122,
     "metadata": {},
     "output_type": "execute_result"
    }
   ],
   "source": [
    "@deprecated\n",
    "@trace(sys.stdout)\n",
    "def f(x):\n",
    "    return x\n",
    "\n",
    "f(1)\n",
    "f(2)"
   ]
  }
 ],
 "metadata": {
  "kernelspec": {
   "display_name": "Python 3",
   "language": "python",
   "name": "python3"
  },
  "language_info": {
   "codemirror_mode": {
    "name": "ipython",
    "version": 3
   },
   "file_extension": ".py",
   "mimetype": "text/x-python",
   "name": "python",
   "nbconvert_exporter": "python",
   "pygments_lexer": "ipython3",
   "version": "3.8.5"
  },
  "livereveal": {
   "theme": "Serif",
   "transition": "fade"
  }
 },
 "nbformat": 4,
 "nbformat_minor": 2
}
