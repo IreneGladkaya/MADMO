{
 "cells": [
  {
   "cell_type": "markdown",
   "metadata": {
    "id": "LYCbBYAoK01P"
   },
   "source": [
    "<h3 style=\"text-align: center;\"><b>Физтех-Школа Прикладной математики и информатики (ФПМИ) МФТИ</b></h3>\n",
    "\n",
    "Материал взят из репозитория [Deep Learning Shcool](https://www.dlschool.org/) и доработан мной."
   ]
  },
  {
   "cell_type": "markdown",
   "metadata": {
    "id": "WCndMFM25mhM"
   },
   "source": [
    "---"
   ]
  },
  {
   "cell_type": "markdown",
   "metadata": {
    "id": "Jv3wM2EJK01Q"
   },
   "source": [
    "<h2 style=\"text-align: center;\"><b>Python. Занятие 2: Numpy, Scipy</b></h2>"
   ]
  },
  {
   "cell_type": "markdown",
   "metadata": {
    "id": "ZFb530GdK01R"
   },
   "source": [
    "<img align=left src=\"https://cdn.fedoramagazine.org/wp-content/uploads/2015/11/Python_logo.png\" width=400 height=250/>\n",
    "\n",
    "<img src=\"https://numpy.org/images/logos/numpy.svg\" width=150 height=150 />"
   ]
  },
  {
   "cell_type": "markdown",
   "metadata": {
    "id": "6FcX8uOqK01S"
   },
   "source": [
    "#### При подготовке ноутбука использовался сайт: http://www.inp.nsk.su/~grozin/python/"
   ]
  },
  {
   "cell_type": "markdown",
   "metadata": {
    "id": "GB_0NqPUK01T"
   },
   "source": [
    "---"
   ]
  },
  {
   "cell_type": "markdown",
   "metadata": {
    "id": "kBGnvjStK01T"
   },
   "source": [
    "## Библиотека NumPy"
   ]
  },
  {
   "cell_type": "markdown",
   "metadata": {
    "id": "Iug83l7wK01U"
   },
   "source": [
    "Пакет **`NumPy`** предоставляет $n$-мерные однородные массивы (все элементы одного типа); в них нельзя вставить или удалить элемент в произвольном месте. В `numpy` реализовано много операций над массивами в целом. Если задачу можно решить, произведя некоторую последовательность операций над массивами, то это будет столь же эффективно, как в `C` или `matlab`, поскольку функции этой библиотеки реализованы на C, и мы просто вызываем из из питона."
   ]
  },
  {
   "cell_type": "code",
   "execution_count": 2,
   "metadata": {
    "executionInfo": {
     "elapsed": 853,
     "status": "ok",
     "timestamp": 1601281371501,
     "user": {
      "displayName": "Тимур Венерович Аминов",
      "photoUrl": "",
      "userId": "01767416500508857561"
     },
     "user_tz": -180
    },
    "id": "zB8-qzXEK01V"
   },
   "outputs": [],
   "source": [
    "# стандартное название для импорта numpy - np\n",
    "import numpy as np\n",
    "import math"
   ]
  },
  {
   "cell_type": "code",
   "execution_count": 2,
   "metadata": {
    "executionInfo": {
     "elapsed": 732,
     "status": "ok",
     "timestamp": 1601281375408,
     "user": {
      "displayName": "Тимур Венерович Аминов",
      "photoUrl": "",
      "userId": "01767416500508857561"
     },
     "user_tz": -180
    },
    "id": "2_IOYl5-K01Y"
   },
   "outputs": [],
   "source": [
    "# from numpy import *\n",
    "# как и влюбом другом языке и библиотке, так делать нельзя. Вы очень быстро запутаетесь в функциях из numpy \n",
    "# и запутаете всех, кто читает ваш код"
   ]
  },
  {
   "cell_type": "markdown",
   "metadata": {
    "id": "f6y8_ITBK01Y"
   },
   "source": [
    "## Векторы и матрицы в numpy"
   ]
  },
  {
   "cell_type": "markdown",
   "metadata": {
    "id": "3k5eaQgGHLJD"
   },
   "source": [
    "* **Одномерные массивы**. Я предполагаю, что почти все знают про обычные массивы и про операции над ними. Они выглядят следующим образом:"
   ]
  },
  {
   "cell_type": "code",
   "execution_count": 7,
   "metadata": {
    "colab": {
     "base_uri": "https://localhost:8080/",
     "height": 34
    },
    "executionInfo": {
     "elapsed": 759,
     "status": "ok",
     "timestamp": 1601281377949,
     "user": {
      "displayName": "Тимур Венерович Аминов",
      "photoUrl": "",
      "userId": "01767416500508857561"
     },
     "user_tz": -180
    },
    "id": "A8y4lFcdHLJD",
    "outputId": "7e787b22-bfda-40bf-9a0a-9dbfc3cad230"
   },
   "outputs": [
    {
     "name": "stdout",
     "output_type": "stream",
     "text": [
      "[3, 4, 1]\n"
     ]
    }
   ],
   "source": [
    "x = [3, 4, 1]\n",
    "print(x)"
   ]
  },
  {
   "cell_type": "markdown",
   "metadata": {
    "id": "dHYKof4KK01b"
   },
   "source": [
    "Давайте преобразуем наш массив в __numpy__ массив:"
   ]
  },
  {
   "cell_type": "code",
   "execution_count": 8,
   "metadata": {
    "colab": {
     "base_uri": "https://localhost:8080/",
     "height": 34
    },
    "executionInfo": {
     "elapsed": 929,
     "status": "ok",
     "timestamp": 1601281392866,
     "user": {
      "displayName": "Тимур Венерович Аминов",
      "photoUrl": "",
      "userId": "01767416500508857561"
     },
     "user_tz": -180
    },
    "id": "rffXuWJaK01c",
    "outputId": "14f15f45-9695-4529-8f64-3d10b1dbf6dd"
   },
   "outputs": [
    {
     "name": "stdout",
     "output_type": "stream",
     "text": [
      "[3 4 1] <class 'numpy.ndarray'>\n"
     ]
    }
   ],
   "source": [
    "a = np.array(x)\n",
    "print(a, type(a))"
   ]
  },
  {
   "cell_type": "markdown",
   "metadata": {
    "id": "iLQtJmH0K01g"
   },
   "source": [
    "`print` печатает массивы в удобной форме."
   ]
  },
  {
   "cell_type": "code",
   "execution_count": 12,
   "metadata": {
    "colab": {
     "base_uri": "https://localhost:8080/",
     "height": 34
    },
    "executionInfo": {
     "elapsed": 649,
     "status": "ok",
     "timestamp": 1601281430220,
     "user": {
      "displayName": "Тимур Венерович Аминов",
      "photoUrl": "",
      "userId": "01767416500508857561"
     },
     "user_tz": -180
    },
    "id": "QGFfGuPtK01h",
    "outputId": "38e67b4c-c7b8-47de-b710-11331d38f42e"
   },
   "outputs": [
    {
     "name": "stdout",
     "output_type": "stream",
     "text": [
      "[12 16  4]\n"
     ]
    }
   ],
   "source": [
    "print(2 * a * 2)"
   ]
  },
  {
   "cell_type": "code",
   "execution_count": 13,
   "metadata": {},
   "outputs": [
    {
     "data": {
      "text/plain": [
       "(array([3, 4, 1]), array([4, 5, 2]), array([11, 14,  5]))"
      ]
     },
     "execution_count": 13,
     "metadata": {},
     "output_type": "execute_result"
    }
   ],
   "source": [
    "a, a + 1, a * 3 + 2  # broadcasting # 3x + 2"
   ]
  },
  {
   "cell_type": "markdown",
   "metadata": {
    "id": "Kxxjms2DaSBX"
   },
   "source": [
    "* **Многомерные массивы**"
   ]
  },
  {
   "cell_type": "code",
   "execution_count": 14,
   "metadata": {
    "colab": {
     "base_uri": "https://localhost:8080/",
     "height": 34
    },
    "executionInfo": {
     "elapsed": 809,
     "status": "ok",
     "timestamp": 1601281433227,
     "user": {
      "displayName": "Тимур Венерович Аминов",
      "photoUrl": "",
      "userId": "01767416500508857561"
     },
     "user_tz": -180
    },
    "id": "9J22jldfaSBZ",
    "outputId": "f553501c-6caa-4e4b-b8de-d3990913fcb4"
   },
   "outputs": [
    {
     "name": "stdout",
     "output_type": "stream",
     "text": [
      "[[3, 4, 1], [1, 2, 3]]\n"
     ]
    }
   ],
   "source": [
    "# Простая матричка\n",
    "x = [[3, 4, 1],\n",
    "     [1, 2, 3]]\n",
    "print(x)"
   ]
  },
  {
   "cell_type": "code",
   "execution_count": 15,
   "metadata": {
    "colab": {
     "base_uri": "https://localhost:8080/",
     "height": 50
    },
    "executionInfo": {
     "elapsed": 728,
     "status": "ok",
     "timestamp": 1601281449051,
     "user": {
      "displayName": "Тимур Венерович Аминов",
      "photoUrl": "",
      "userId": "01767416500508857561"
     },
     "user_tz": -180
    },
    "id": "wvbw-zhdaSBe",
    "outputId": "281ad697-b4a3-4f28-9135-3e5f1a82e24b"
   },
   "outputs": [
    {
     "name": "stdout",
     "output_type": "stream",
     "text": [
      "[[3 4 1]\n",
      " [1 2 3]]\n"
     ]
    }
   ],
   "source": [
    "a = np.array(x)\n",
    "print(a)"
   ]
  },
  {
   "cell_type": "code",
   "execution_count": 16,
   "metadata": {
    "colab": {
     "base_uri": "https://localhost:8080/",
     "height": 34
    },
    "executionInfo": {
     "elapsed": 875,
     "status": "ok",
     "timestamp": 1601281492422,
     "user": {
      "displayName": "Тимур Венерович Аминов",
      "photoUrl": "",
      "userId": "01767416500508857561"
     },
     "user_tz": -180
    },
    "id": "GPeALYOLaSBi",
    "outputId": "52ec55be-9775-4721-99fe-a58651552e97",
    "scrolled": true
   },
   "outputs": [
    {
     "name": "stdout",
     "output_type": "stream",
     "text": [
      "[[[1, 2, 3], [4, 5, 6]], [[7, 8, 9], [10, 11, 12]]]\n"
     ]
    }
   ],
   "source": [
    "# Реально многомерный массив\n",
    "x = [\n",
    "        [ [1, 2, 3], [4, 5, 6]],\n",
    "        [ [7, 8, 9], [10, 11, 12]] \n",
    "    ]\n",
    "print(x)"
   ]
  },
  {
   "cell_type": "code",
   "execution_count": 17,
   "metadata": {
    "colab": {
     "base_uri": "https://localhost:8080/",
     "height": 118
    },
    "executionInfo": {
     "elapsed": 719,
     "status": "ok",
     "timestamp": 1601281512007,
     "user": {
      "displayName": "Тимур Венерович Аминов",
      "photoUrl": "",
      "userId": "01767416500508857561"
     },
     "user_tz": -180
    },
    "id": "-SeTuAAjaSBl",
    "outputId": "461fc9c4-0b99-4ac3-9b70-c24bb3a6fb7b",
    "scrolled": true
   },
   "outputs": [
    {
     "name": "stdout",
     "output_type": "stream",
     "text": [
      "(2, 2, 3)\n",
      "[[[ 1  2  3]\n",
      "  [ 4  5  6]]\n",
      "\n",
      " [[ 7  8  9]\n",
      "  [10 11 12]]]\n"
     ]
    }
   ],
   "source": [
    "a = np.array(x)\n",
    "print(a.shape)\n",
    "print(a)"
   ]
  },
  {
   "cell_type": "code",
   "execution_count": 18,
   "metadata": {
    "executionInfo": {
     "elapsed": 566,
     "status": "ok",
     "timestamp": 1601242058459,
     "user": {
      "displayName": "Тимур Венерович Аминов",
      "photoUrl": "",
      "userId": "01767416500508857561"
     },
     "user_tz": -180
    },
    "id": "8eVQAIcpiVbQ"
   },
   "outputs": [
    {
     "data": {
      "text/plain": [
       "array([[[ 2,  3,  4],\n",
       "        [ 5,  6,  7]],\n",
       "\n",
       "       [[ 8,  9, 10],\n",
       "        [11, 12, 13]]])"
      ]
     },
     "execution_count": 18,
     "metadata": {},
     "output_type": "execute_result"
    }
   ],
   "source": [
    "a + 1"
   ]
  },
  {
   "cell_type": "markdown",
   "metadata": {
    "id": "tv2xp3kjaSBo"
   },
   "source": [
    "Как мы видим, для numpy нет никакой разницы, сколько измерений у матрицы, все они представляются numpy.ndarray"
   ]
  },
  {
   "cell_type": "code",
   "execution_count": 19,
   "metadata": {},
   "outputs": [
    {
     "data": {
      "text/plain": [
       "dtype('int64')"
      ]
     },
     "execution_count": 19,
     "metadata": {},
     "output_type": "execute_result"
    }
   ],
   "source": [
    "a.dtype"
   ]
  },
  {
   "cell_type": "markdown",
   "metadata": {
    "id": "Tjm58y2OaSBq"
   },
   "source": [
    "# Типы данных в numpy"
   ]
  },
  {
   "cell_type": "markdown",
   "metadata": {
    "id": "6tBmi8DrHLJR"
   },
   "source": [
    "`numpy` предоставляет несколько типов для целых (`int16`, `int32`, `int64`) и чисел с плавающей точкой (`float32`, `float64`)."
   ]
  },
  {
   "cell_type": "code",
   "execution_count": 20,
   "metadata": {
    "colab": {
     "base_uri": "https://localhost:8080/",
     "height": 34
    },
    "executionInfo": {
     "elapsed": 599,
     "status": "ok",
     "timestamp": 1601242061438,
     "user": {
      "displayName": "Тимур Венерович Аминов",
      "photoUrl": "",
      "userId": "01767416500508857561"
     },
     "user_tz": -180
    },
    "id": "XROlITuVHLJR",
    "outputId": "aca15b36-451f-4f26-f243-6ab2ad8fa498"
   },
   "outputs": [
    {
     "data": {
      "text/plain": [
       "(dtype('int64'), 'int64', 8)"
      ]
     },
     "execution_count": 20,
     "metadata": {},
     "output_type": "execute_result"
    }
   ],
   "source": [
    "a.dtype, a.dtype.name, a.itemsize"
   ]
  },
  {
   "cell_type": "code",
   "execution_count": 22,
   "metadata": {
    "colab": {
     "base_uri": "https://localhost:8080/",
     "height": 34
    },
    "executionInfo": {
     "elapsed": 606,
     "status": "ok",
     "timestamp": 1601242062651,
     "user": {
      "displayName": "Тимур Венерович Аминов",
      "photoUrl": "",
      "userId": "01767416500508857561"
     },
     "user_tz": -180
    },
    "id": "bYMWEBdmHLJV",
    "outputId": "6623aa00-fc96-4f23-e129-a8f128571148"
   },
   "outputs": [
    {
     "data": {
      "text/plain": [
       "(dtype('float64'), array([0.1, 2. , 1. ]))"
      ]
     },
     "execution_count": 22,
     "metadata": {},
     "output_type": "execute_result"
    }
   ],
   "source": [
    "b = np.array([0.1, 2, 1])\n",
    "b.dtype, b"
   ]
  },
  {
   "cell_type": "markdown",
   "metadata": {
    "id": "4gsvp2fjHLJY"
   },
   "source": [
    "Точно такой же массив."
   ]
  },
  {
   "cell_type": "code",
   "execution_count": 23,
   "metadata": {
    "colab": {
     "base_uri": "https://localhost:8080/",
     "height": 34
    },
    "executionInfo": {
     "elapsed": 581,
     "status": "ok",
     "timestamp": 1601242064553,
     "user": {
      "displayName": "Тимур Венерович Аминов",
      "photoUrl": "",
      "userId": "01767416500508857561"
     },
     "user_tz": -180
    },
    "id": "ZrJbtW3OHLJY",
    "outputId": "6d3a6ae7-906b-4f69-b35d-18917816d5fc"
   },
   "outputs": [
    {
     "name": "stdout",
     "output_type": "stream",
     "text": [
      "[0.1 2.  1. ]\n"
     ]
    }
   ],
   "source": [
    "c = np.array([0.1, 2, 1], dtype=np.float64)  # np.int32, np.int16, np.float32, ...\n",
    "print(c)"
   ]
  },
  {
   "cell_type": "markdown",
   "metadata": {
    "id": "-U7vEzu-HLJe"
   },
   "source": [
    "Преобразование данных"
   ]
  },
  {
   "cell_type": "code",
   "execution_count": 25,
   "metadata": {
    "colab": {
     "base_uri": "https://localhost:8080/",
     "height": 67
    },
    "executionInfo": {
     "elapsed": 559,
     "status": "ok",
     "timestamp": 1601242066353,
     "user": {
      "displayName": "Тимур Венерович Аминов",
      "photoUrl": "",
      "userId": "01767416500508857561"
     },
     "user_tz": -180
    },
    "id": "51ZSoCJJHLJg",
    "outputId": "3609b81d-24e3-4220-b6af-bcd5ad2905d2"
   },
   "outputs": [
    {
     "name": "stdout",
     "output_type": "stream",
     "text": [
      "float64\n",
      "[0 2 1]\n",
      "['0.1' '2.0' '1.0']\n"
     ]
    }
   ],
   "source": [
    "print(c.dtype)\n",
    "print(c.astype(np.int16))\n",
    "print(c.astype(str))"
   ]
  },
  {
   "cell_type": "markdown",
   "metadata": {
    "id": "AhMuoHJ3HLJm"
   },
   "source": [
    "Так для чего нам нужны эти массивы, почему нам может не хватать возможностей обычных массивов?"
   ]
  },
  {
   "cell_type": "markdown",
   "metadata": {
    "id": "49Hkkuc0K01k"
   },
   "source": [
    "# Методы массивов в numpy\n",
    "Класс `ndarray` имеет много методов."
   ]
  },
  {
   "cell_type": "code",
   "execution_count": null,
   "metadata": {},
   "outputs": [],
   "source": [
    "dir()"
   ]
  },
  {
   "cell_type": "code",
   "execution_count": 28,
   "metadata": {},
   "outputs": [
    {
     "data": {
      "text/plain": [
       "['__add__',\n",
       " '__class__',\n",
       " '__contains__',\n",
       " '__delattr__',\n",
       " '__delitem__',\n",
       " '__dir__',\n",
       " '__doc__',\n",
       " '__eq__',\n",
       " '__format__',\n",
       " '__ge__',\n",
       " '__getattribute__',\n",
       " '__getitem__',\n",
       " '__gt__',\n",
       " '__hash__',\n",
       " '__iadd__',\n",
       " '__imul__',\n",
       " '__init__',\n",
       " '__init_subclass__',\n",
       " '__iter__',\n",
       " '__le__',\n",
       " '__len__',\n",
       " '__lt__',\n",
       " '__mul__',\n",
       " '__ne__',\n",
       " '__new__',\n",
       " '__reduce__',\n",
       " '__reduce_ex__',\n",
       " '__repr__',\n",
       " '__reversed__',\n",
       " '__rmul__',\n",
       " '__setattr__',\n",
       " '__setitem__',\n",
       " '__sizeof__',\n",
       " '__str__',\n",
       " '__subclasshook__',\n",
       " 'append',\n",
       " 'clear',\n",
       " 'copy',\n",
       " 'count',\n",
       " 'extend',\n",
       " 'index',\n",
       " 'insert',\n",
       " 'pop',\n",
       " 'remove',\n",
       " 'reverse',\n",
       " 'sort']"
      ]
     },
     "execution_count": 28,
     "metadata": {},
     "output_type": "execute_result"
    }
   ],
   "source": [
    "dir(list([1]))"
   ]
  },
  {
   "cell_type": "code",
   "execution_count": 26,
   "metadata": {
    "colab": {
     "base_uri": "https://localhost:8080/",
     "height": 54
    },
    "executionInfo": {
     "elapsed": 666,
     "status": "ok",
     "timestamp": 1601242069213,
     "user": {
      "displayName": "Тимур Венерович Аминов",
      "photoUrl": "",
      "userId": "01767416500508857561"
     },
     "user_tz": -180
    },
    "id": "j7W2JXyH9Yy9",
    "outputId": "44f36a2d-977b-47f0-9f7c-8542376b8018"
   },
   "outputs": [
    {
     "name": "stdout",
     "output_type": "stream",
     "text": [
      "{'setfield', 'var', 'clip', 'getfield', '__array_priority__', 'partition', '__deepcopy__', 'squeeze', '__divmod__', 'cumprod', '__rshift__', 'conj', '__imod__', '__rsub__', '__setstate__', 'tobytes', 'all', 'trace', 'flags', 'size', 'mean', 'astype', '__array__', 'T', '__rmatmul__', '__neg__', '__array_ufunc__', 'take', 'repeat', '__ifloordiv__', 'nbytes', 'dump', 'sum', 'flatten', '__array_struct__', '__isub__', '__ror__', 'transpose', 'imag', 'item', 'itemset', 'itemsize', '__array_prepare__', 'put', '__invert__', 'ctypes', '__xor__', '__rtruediv__', 'byteswap', 'tofile', 'view', '__complex__', 'setflags', 'max', 'std', 'argmin', '__pow__', '__rrshift__', '__matmul__', 'prod', '__rlshift__', '__rmod__', 'strides', 'any', 'conjugate', '__radd__', 'shape', '__and__', '__floordiv__', '__float__', '__iand__', '__copy__', '__mod__', 'searchsorted', '__bool__', 'base', 'min', '__index__', '__itruediv__', 'cumsum', '__rxor__', 'compress', '__rand__', '__ilshift__', '__lshift__', 'reshape', 'ndim', '__truediv__', 'resize', '__array_function__', 'newbyteorder', '__rdivmod__', '__int__', '__array_finalize__', '__sub__', '__rfloordiv__', 'flat', '__array_interface__', 'argmax', 'argsort', '__rpow__', '__pos__', 'dumps', 'choose', '__imatmul__', 'swapaxes', '__or__', 'nonzero', '__irshift__', 'tolist', 'real', 'diagonal', 'argpartition', 'ptp', 'dot', '__array_wrap__', 'ravel', 'dtype', '__abs__', '__ipow__', '__ior__', 'round', 'data', 'tostring', '__ixor__', 'fill'}\n"
     ]
    }
   ],
   "source": [
    "print(set(dir(a)) - set(dir(list)))"
   ]
  },
  {
   "cell_type": "markdown",
   "metadata": {
    "id": "fkxB2f57aSCC"
   },
   "source": [
    "## Одномерные массивы\n",
    "* числовые операции и нахождение статистик"
   ]
  },
  {
   "cell_type": "code",
   "execution_count": 29,
   "metadata": {
    "executionInfo": {
     "elapsed": 667,
     "status": "ok",
     "timestamp": 1601281651539,
     "user": {
      "displayName": "Тимур Венерович Аминов",
      "photoUrl": "",
      "userId": "01767416500508857561"
     },
     "user_tz": -180
    },
    "id": "t43hJQPyaSCD"
   },
   "outputs": [],
   "source": [
    "x = [1, 2, 0, 3, 4]\n",
    "a = np.array(x)"
   ]
  },
  {
   "cell_type": "code",
   "execution_count": 30,
   "metadata": {
    "colab": {
     "base_uri": "https://localhost:8080/",
     "height": 34
    },
    "executionInfo": {
     "elapsed": 745,
     "status": "ok",
     "timestamp": 1601281701504,
     "user": {
      "displayName": "Тимур Венерович Аминов",
      "photoUrl": "",
      "userId": "01767416500508857561"
     },
     "user_tz": -180
    },
    "id": "SLqJ9iQu8h9J",
    "outputId": "c9e07ecb-03f7-4e5c-8623-a7982b908b28",
    "scrolled": true
   },
   "outputs": [
    {
     "data": {
      "text/plain": [
       "(1.4142135623730951, 10, 0, 0, 4, 2.0)"
      ]
     },
     "execution_count": 30,
     "metadata": {},
     "output_type": "execute_result"
    }
   ],
   "source": [
    "# У массивов можно легко и быстро посчитать разные статистики\n",
    "a.std(), a.sum(), a.prod(), a.min(), a.max(), a.mean()"
   ]
  },
  {
   "cell_type": "code",
   "execution_count": 31,
   "metadata": {
    "colab": {
     "base_uri": "https://localhost:8080/",
     "height": 84
    },
    "executionInfo": {
     "elapsed": 1223,
     "status": "ok",
     "timestamp": 1601242076225,
     "user": {
      "displayName": "Тимур Венерович Аминов",
      "photoUrl": "",
      "userId": "01767416500508857561"
     },
     "user_tz": -180
    },
    "id": "VRnGSSDXaSCK",
    "outputId": "40ca8d43-21bd-41be-a5a6-2586f75baa3a"
   },
   "outputs": [
    {
     "data": {
      "text/plain": [
       "(array([2, 4, 0, 6, 8]),\n",
       " array([0.5, 1. , 0. , 1.5, 2. ]),\n",
       " array([2, 3, 1, 4, 5]),\n",
       " array([ 0,  1, -1,  2,  3]))"
      ]
     },
     "execution_count": 31,
     "metadata": {},
     "output_type": "execute_result"
    }
   ],
   "source": [
    "# массивы можно умножать и складывать со скалярами и другими массивами, операции проходят поэлементно\n",
    "a * 2, a / 2, a + 1, a - 1"
   ]
  },
  {
   "cell_type": "code",
   "execution_count": 32,
   "metadata": {},
   "outputs": [
    {
     "name": "stderr",
     "output_type": "stream",
     "text": [
      "<ipython-input-32-025c907bf4fb>:1: RuntimeWarning: divide by zero encountered in true_divide\n",
      "  np.array([1]) / np.array([0])\n"
     ]
    },
    {
     "data": {
      "text/plain": [
       "array([inf])"
      ]
     },
     "execution_count": 32,
     "metadata": {},
     "output_type": "execute_result"
    }
   ],
   "source": [
    "np.array([1]) / np.array([0])"
   ]
  },
  {
   "cell_type": "code",
   "execution_count": 33,
   "metadata": {
    "colab": {
     "base_uri": "https://localhost:8080/",
     "height": 118
    },
    "executionInfo": {
     "elapsed": 608,
     "status": "ok",
     "timestamp": 1601242079533,
     "user": {
      "displayName": "Тимур Венерович Аминов",
      "photoUrl": "",
      "userId": "01767416500508857561"
     },
     "user_tz": -180
    },
    "id": "Hm-9q9XGaSCN",
    "outputId": "10468834-90cb-4a2d-c0bf-140676a972fe"
   },
   "outputs": [
    {
     "name": "stderr",
     "output_type": "stream",
     "text": [
      "<ipython-input-33-c919162a4ba8>:1: RuntimeWarning: invalid value encountered in true_divide\n",
      "  a, a + a, a * a, a / a, a ** 2\n"
     ]
    },
    {
     "data": {
      "text/plain": [
       "(array([1, 2, 0, 3, 4]),\n",
       " array([2, 4, 0, 6, 8]),\n",
       " array([ 1,  4,  0,  9, 16]),\n",
       " array([ 1.,  1., nan,  1.,  1.]),\n",
       " array([ 1,  4,  0,  9, 16]))"
      ]
     },
     "execution_count": 33,
     "metadata": {},
     "output_type": "execute_result"
    }
   ],
   "source": [
    "a, a + a, a * a, a / a, a ** 2"
   ]
  },
  {
   "cell_type": "code",
   "execution_count": 34,
   "metadata": {
    "colab": {
     "base_uri": "https://localhost:8080/",
     "height": 262
    },
    "executionInfo": {
     "elapsed": 635,
     "status": "error",
     "timestamp": 1601242083428,
     "user": {
      "displayName": "Тимур Венерович Аминов",
      "photoUrl": "",
      "userId": "01767416500508857561"
     },
     "user_tz": -180
    },
    "id": "29ugcejkHLJs",
    "outputId": "3e01ccdf-c068-40db-ab1e-67e6f1b25071"
   },
   "outputs": [
    {
     "name": "stdout",
     "output_type": "stream",
     "text": [
      "<class 'list'>\n",
      "[1, 2, 0, 3, 4]\n",
      "[1, 2, 0, 3, 4, 1, 2, 0, 3, 4]\n",
      "[1, 2, 0, 3, 4, 1, 2, 0, 3, 4]\n"
     ]
    },
    {
     "ename": "TypeError",
     "evalue": "unsupported operand type(s) for ** or pow(): 'list' and 'int'",
     "output_type": "error",
     "traceback": [
      "\u001b[0;31m---------------------------------------------------------------------------\u001b[0m",
      "\u001b[0;31mTypeError\u001b[0m                                 Traceback (most recent call last)",
      "\u001b[0;32m<ipython-input-34-5204a47c1fd4>\u001b[0m in \u001b[0;36m<module>\u001b[0;34m\u001b[0m\n\u001b[1;32m      4\u001b[0m \u001b[0mprint\u001b[0m\u001b[0;34m(\u001b[0m\u001b[0mx\u001b[0m \u001b[0;34m+\u001b[0m \u001b[0mx\u001b[0m\u001b[0;34m)\u001b[0m\u001b[0;34m\u001b[0m\u001b[0;34m\u001b[0m\u001b[0m\n\u001b[1;32m      5\u001b[0m \u001b[0mprint\u001b[0m\u001b[0;34m(\u001b[0m\u001b[0mx\u001b[0m \u001b[0;34m*\u001b[0m \u001b[0;36m2\u001b[0m\u001b[0;34m)\u001b[0m\u001b[0;34m\u001b[0m\u001b[0;34m\u001b[0m\u001b[0m\n\u001b[0;32m----> 6\u001b[0;31m \u001b[0mprint\u001b[0m\u001b[0;34m(\u001b[0m\u001b[0mx\u001b[0m \u001b[0;34m**\u001b[0m \u001b[0;36m2\u001b[0m\u001b[0;34m)\u001b[0m\u001b[0;34m\u001b[0m\u001b[0;34m\u001b[0m\u001b[0m\n\u001b[0m",
      "\u001b[0;31mTypeError\u001b[0m: unsupported operand type(s) for ** or pow(): 'list' and 'int'"
     ]
    }
   ],
   "source": [
    "# (с листами из питона так не получится, для них сложение означает конкатенацию)\n",
    "print(type(x))\n",
    "print(x)\n",
    "print(x + x)\n",
    "print(x * 2)\n",
    "print(x ** 2)"
   ]
  },
  {
   "cell_type": "markdown",
   "metadata": {
    "id": "8Fg3G3MgaSCU"
   },
   "source": [
    "* Поэлементные операции"
   ]
  },
  {
   "cell_type": "code",
   "execution_count": 36,
   "metadata": {
    "colab": {
     "base_uri": "https://localhost:8080/",
     "height": 84
    },
    "executionInfo": {
     "elapsed": 782,
     "status": "ok",
     "timestamp": 1601281908018,
     "user": {
      "displayName": "Тимур Венерович Аминов",
      "photoUrl": "",
      "userId": "01767416500508857561"
     },
     "user_tz": -180
    },
    "id": "FCXExpERaSCV",
    "outputId": "4a651fc5-78a6-4bbe-e70e-3792e6fce7ff"
   },
   "outputs": [
    {
     "name": "stderr",
     "output_type": "stream",
     "text": [
      "<ipython-input-36-47f8d08aced6>:2: RuntimeWarning: divide by zero encountered in log\n",
      "  np.exp(a), np.sin(a), np.cos(a), np.round(a), np.log(a) # и много других, лучше просто загуглить, когда вам что-то понадобится\n"
     ]
    },
    {
     "data": {
      "text/plain": [
       "(array([ 2.71828183,  7.3890561 ,  1.        , 20.08553692, 54.59815003]),\n",
       " array([ 0.84147098,  0.90929743,  0.        ,  0.14112001, -0.7568025 ]),\n",
       " array([ 0.54030231, -0.41614684,  1.        , -0.9899925 , -0.65364362]),\n",
       " array([1, 2, 0, 3, 4]),\n",
       " array([0.        , 0.69314718,       -inf, 1.09861229, 1.38629436]))"
      ]
     },
     "execution_count": 36,
     "metadata": {},
     "output_type": "execute_result"
    }
   ],
   "source": [
    "# В numpy есть почти функции, которых хватает для построения почти любого расчета\n",
    "np.exp(a), np.sin(a), np.cos(a), np.round(a), np.log(a) # и много других, лучше просто загуглить, когда вам что-то понадобится"
   ]
  },
  {
   "cell_type": "markdown",
   "metadata": {},
   "source": [
    "Пример одной функции потерь в машинном обучении:\n",
    "\n",
    "$$f(a) = \\sum_{k} \\log(1 + \\exp(-a_k))$$"
   ]
  },
  {
   "cell_type": "code",
   "execution_count": 39,
   "metadata": {},
   "outputs": [],
   "source": [
    "f_a = np.sum(np.log1p(np.exp(-a)))"
   ]
  },
  {
   "cell_type": "code",
   "execution_count": 40,
   "metadata": {},
   "outputs": [
    {
     "data": {
      "text/plain": [
       "1.2000741586126924"
      ]
     },
     "execution_count": 40,
     "metadata": {},
     "output_type": "execute_result"
    }
   ],
   "source": [
    "f_a"
   ]
  },
  {
   "cell_type": "markdown",
   "metadata": {
    "id": "9-yZuXHFaSCY"
   },
   "source": [
    "* сортировка/добавление/удаление элементов массива"
   ]
  },
  {
   "cell_type": "code",
   "execution_count": 41,
   "metadata": {
    "colab": {
     "base_uri": "https://localhost:8080/",
     "height": 84
    },
    "executionInfo": {
     "elapsed": 758,
     "status": "ok",
     "timestamp": 1601281912388,
     "user": {
      "displayName": "Тимур Венерович Аминов",
      "photoUrl": "",
      "userId": "01767416500508857561"
     },
     "user_tz": -180
    },
    "id": "FZ442SUWHLLF",
    "outputId": "26218d20-f3ad-4fe6-d66b-e68d2f9fd8e9"
   },
   "outputs": [
    {
     "name": "stdout",
     "output_type": "stream",
     "text": [
      "[9 8 7 6 5 4 3 2 1 0]\n",
      "sorted b [0 1 2 3 4 5 6 7 8 9]\n",
      "original b [9 8 7 6 5 4 3 2 1 0]\n",
      "original b after inplace sort [0 1 2 3 4 5 6 7 8 9]\n"
     ]
    }
   ],
   "source": [
    "b = np.arange(9, -1,-1)\n",
    "print(b)\n",
    "print(f'sorted b {np.sort(b)}')\n",
    "print(f'original b {b}')\n",
    "b.sort()\n",
    "print(f'original b after inplace sort {b}')"
   ]
  },
  {
   "cell_type": "markdown",
   "metadata": {
    "id": "JtLygbXuHLLH"
   },
   "source": [
    "Функции delete, insert и append не меняют массив на месте, а возвращают новый массив, в котором удалены, вставлены в середину или добавлены в конец какие-то элементы.\n"
   ]
  },
  {
   "cell_type": "code",
   "execution_count": 42,
   "metadata": {
    "colab": {
     "base_uri": "https://localhost:8080/",
     "height": 34
    },
    "executionInfo": {
     "elapsed": 707,
     "status": "ok",
     "timestamp": 1601281991307,
     "user": {
      "displayName": "Тимур Венерович Аминов",
      "photoUrl": "",
      "userId": "01767416500508857561"
     },
     "user_tz": -180
    },
    "id": "FR2hIiO6HLLH",
    "outputId": "c48f033a-7f76-4cf4-a803-c1680cee1ff3"
   },
   "outputs": [
    {
     "name": "stdout",
     "output_type": "stream",
     "text": [
      "[10  9  8  7  6  4  2  1  0]\n"
     ]
    }
   ],
   "source": [
    "a = np.arange(10, -1, -1)\n",
    "\n",
    "a = np.delete(a, [5, 7])\n",
    "print(a)"
   ]
  },
  {
   "cell_type": "code",
   "execution_count": 43,
   "metadata": {
    "colab": {
     "base_uri": "https://localhost:8080/",
     "height": 34
    },
    "executionInfo": {
     "elapsed": 1238,
     "status": "ok",
     "timestamp": 1601281993442,
     "user": {
      "displayName": "Тимур Венерович Аминов",
      "photoUrl": "",
      "userId": "01767416500508857561"
     },
     "user_tz": -180
    },
    "id": "TXpfhNR4HLLJ",
    "outputId": "950a8dbb-115b-4892-d4f7-15ff2076a744"
   },
   "outputs": [
    {
     "name": "stdout",
     "output_type": "stream",
     "text": [
      "[ 10   9 100   8 200   7   6   4   2   1   0]\n"
     ]
    }
   ],
   "source": [
    "a = np.insert(a, [2, 3], [100, 200])\n",
    "print(a)"
   ]
  },
  {
   "cell_type": "code",
   "execution_count": 44,
   "metadata": {
    "colab": {
     "base_uri": "https://localhost:8080/",
     "height": 34
    },
    "executionInfo": {
     "elapsed": 938,
     "status": "ok",
     "timestamp": 1601281994225,
     "user": {
      "displayName": "Тимур Венерович Аминов",
      "photoUrl": "",
      "userId": "01767416500508857561"
     },
     "user_tz": -180
    },
    "id": "edUJplmjHLLM",
    "outputId": "f894fc2f-e37a-4984-d3ca-1359e1522ce0"
   },
   "outputs": [
    {
     "name": "stdout",
     "output_type": "stream",
     "text": [
      "[ 10   9 100   8 200   7   6   4   2   1   0   1   2   3]\n"
     ]
    }
   ],
   "source": [
    "a = np.append(a, [1, 2, 3])\n",
    "print(a)"
   ]
  },
  {
   "cell_type": "markdown",
   "metadata": {
    "id": "L3UEus76Y_vg"
   },
   "source": [
    "Еще одна группа полезных операций: кумулятивные суммы и произведения"
   ]
  },
  {
   "cell_type": "code",
   "execution_count": 45,
   "metadata": {
    "colab": {
     "base_uri": "https://localhost:8080/",
     "height": 34
    },
    "executionInfo": {
     "elapsed": 598,
     "status": "ok",
     "timestamp": 1601242339333,
     "user": {
      "displayName": "Тимур Венерович Аминов",
      "photoUrl": "",
      "userId": "01767416500508857561"
     },
     "user_tz": -180
    },
    "id": "cX4BfDYNY_vh",
    "outputId": "927cf3ce-913d-4187-db2e-12e30ec38d7b"
   },
   "outputs": [
    {
     "data": {
      "text/plain": [
       "array([ 2,  4,  6,  8,  8,  9, 10])"
      ]
     },
     "execution_count": 45,
     "metadata": {},
     "output_type": "execute_result"
    }
   ],
   "source": [
    "a = np.array([2, 2, 2, 2, 0, 1, 1])\n",
    "\n",
    "# кумулятивная (накопительная) сумма - сумма всех элементов массива от нулевого до текущего\n",
    "np.cumsum(a)  #  b_j = a_1 + a_2 + ... + a_j"
   ]
  },
  {
   "cell_type": "code",
   "execution_count": 46,
   "metadata": {
    "colab": {
     "base_uri": "https://localhost:8080/",
     "height": 34
    },
    "executionInfo": {
     "elapsed": 535,
     "status": "ok",
     "timestamp": 1601242340081,
     "user": {
      "displayName": "Тимур Венерович Аминов",
      "photoUrl": "",
      "userId": "01767416500508857561"
     },
     "user_tz": -180
    },
    "id": "FNspG721Y_vj",
    "outputId": "b543e147-c003-4856-d9c5-515f54136844"
   },
   "outputs": [
    {
     "data": {
      "text/plain": [
       "array([ 2,  4,  8, 16,  0,  0,  0])"
      ]
     },
     "execution_count": 46,
     "metadata": {},
     "output_type": "execute_result"
    }
   ],
   "source": [
    "# кумулятивное произведение\n",
    "np.cumprod(a)"
   ]
  },
  {
   "cell_type": "code",
   "execution_count": 47,
   "metadata": {},
   "outputs": [],
   "source": [
    "x = np.arange(1, 10 ** 5)"
   ]
  },
  {
   "cell_type": "code",
   "execution_count": 49,
   "metadata": {},
   "outputs": [],
   "source": [
    "ns = [1, 10, 100, 1000, 5000]"
   ]
  },
  {
   "cell_type": "code",
   "execution_count": null,
   "metadata": {},
   "outputs": [],
   "source": [
    "for n in ns:\n",
    "    stat = 1 / n * np.sum(x[:n])#calculate_stat(x, n) \n",
    "    # check_stat(stat)\n",
    "    \n",
    "stats = np.cumsum(x) / np.arange(1, len(x) + 1)\n",
    "# stats[i] = mean over x_1, .... x_i\n",
    "stats[ns]"
   ]
  },
  {
   "cell_type": "markdown",
   "metadata": {
    "id": "9s-fpupQaSCl"
   },
   "source": [
    "## Многомерные массивы\n",
    "\n",
    "В случае многомерных массивов работает все, что мы только что попробовали для одномерных, но появляются и новые возможности.\n",
    "\n",
    "* работа с shape массива\n",
    "\n",
    "У многомерны массивов есть понятие осей (их еще можно назвать измерениями). Так как одни и те же данные могут храниться в массивах разной формы, в numpy есть методы, чтобы эту форму менять"
   ]
  },
  {
   "cell_type": "markdown",
   "metadata": {
    "id": "4nnvpsEIK01s"
   },
   "source": [
    "`ndarray.shape` — размеры массива, его форма. Это кортеж натуральных чисел, показывающий длину массива по каждой оси. Для матрицы из n строк и m столбов, shape будет (n,m). "
   ]
  },
  {
   "cell_type": "markdown",
   "metadata": {
    "id": "aeRIBlpSK01s"
   },
   "source": [
    "В $n$-мерном случае возвращается кортеж размеров по каждой координате."
   ]
  },
  {
   "cell_type": "code",
   "execution_count": 54,
   "metadata": {
    "colab": {
     "base_uri": "https://localhost:8080/",
     "height": 84
    },
    "executionInfo": {
     "elapsed": 647,
     "status": "ok",
     "timestamp": 1601282102526,
     "user": {
      "displayName": "Тимур Венерович Аминов",
      "photoUrl": "",
      "userId": "01767416500508857561"
     },
     "user_tz": -180
    },
    "id": "k65UpbDEaSCp",
    "outputId": "6b3ac303-9daa-4291-9c41-6f48b4601d50"
   },
   "outputs": [
    {
     "name": "stdout",
     "output_type": "stream",
     "text": [
      "[[1 2 3]\n",
      " [4 5 6]]\n",
      "shape: (2, 3) \n",
      "ndim: 2 \n",
      "size: 6 \n",
      "len(): 2\n"
     ]
    }
   ],
   "source": [
    "x = [[1, 2, 3],\n",
    "     [4, 5, 6]]\n",
    "\n",
    "a = np.array(x)\n",
    "print(a)\n",
    "print('shape:', a.shape, '\\nndim:', a.ndim, '\\nsize:', a.size, '\\nlen():', len(a))"
   ]
  },
  {
   "cell_type": "code",
   "execution_count": null,
   "metadata": {},
   "outputs": [],
   "source": [
    "# shape\n",
    "# ndim = len(shape)\n",
    "# size = np.prod(shape)\n",
    "# len() = shape[0]"
   ]
  },
  {
   "cell_type": "markdown",
   "metadata": {
    "id": "Hq1rOe4FK018"
   },
   "source": [
    "**Вопрос:** \n",
    " >Как связаны элементы кортежа shape, ndim, size?"
   ]
  },
  {
   "cell_type": "markdown",
   "metadata": {
    "id": "KQrw6IV-p-S1"
   },
   "source": [
    "**Ответ:**"
   ]
  },
  {
   "cell_type": "markdown",
   "metadata": {
    "id": "tUA07amuo1jt"
   },
   "source": [
    "**Вопрос:**\n",
    ">Каковы значения shape, ndim, size, len для картинки RGB 160x100? \n",
    "\n",
    ">А для массива из 1000 таких картинок?"
   ]
  },
  {
   "cell_type": "code",
   "execution_count": 55,
   "metadata": {},
   "outputs": [],
   "source": [
    "# 1000 x 160 x 100 x 3\n",
    "# shape = (1000, 160, 100, 3); array[0] - first picture, array[0].shape = (160, 100, 3)\n",
    "# ndim = 4\n",
    "# size = 1000 * 160 * 100 * 3\n",
    "# len() = 1000\n",
    "# i want: array.shape = [1000; 160 * 100 * 3]\n",
    "# array.reshape(len(array), -1)\n",
    "# -----------------------------------------------\n",
    "\n",
    "\n",
    "# array.reshape(-1, 100)"
   ]
  },
  {
   "cell_type": "markdown",
   "metadata": {
    "id": "_LuF70JEK018"
   },
   "source": [
    "**Ответ:**"
   ]
  },
  {
   "cell_type": "markdown",
   "metadata": {
    "id": "F7WqCNImaSCx"
   },
   "source": [
    "Для смены shape есть методы reshape, flatten, ravel"
   ]
  },
  {
   "cell_type": "code",
   "execution_count": 61,
   "metadata": {
    "colab": {
     "base_uri": "https://localhost:8080/",
     "height": 168
    },
    "executionInfo": {
     "elapsed": 590,
     "status": "ok",
     "timestamp": 1601242382808,
     "user": {
      "displayName": "Тимур Венерович Аминов",
      "photoUrl": "",
      "userId": "01767416500508857561"
     },
     "user_tz": -180
    },
    "id": "Knm6SxbraSCy",
    "outputId": "36713c67-45a7-4b8e-c3f0-2cb63c784c32"
   },
   "outputs": [
    {
     "name": "stdout",
     "output_type": "stream",
     "text": [
      "[[1 2 3]\n",
      " [4 5 6]]\n",
      "[[1 2]\n",
      " [3 4]\n",
      " [5 6]]\n",
      "[[1 2 3]\n",
      " [4 5 6]]\n",
      "[1 2 3 4 5 6]\n"
     ]
    }
   ],
   "source": [
    "x = [[1, 2, 3],\n",
    "     [4, 5, 6]]\n",
    "a = np.array(x)\n",
    "print(a)\n",
    "\n",
    "# reshape\n",
    "print(a.reshape(3, 2))\n",
    "# вместо одной из осей можно просто вставить -1, тогда numpy попытается сам понять, какое там должно быть число\n",
    "print(a.reshape(-1, 3))\n",
    "# если такое число не получится найти, то будет ошибка\n",
    "print(a.reshape(-1))"
   ]
  },
  {
   "cell_type": "code",
   "execution_count": 69,
   "metadata": {
    "colab": {
     "base_uri": "https://localhost:8080/",
     "height": 101
    },
    "executionInfo": {
     "elapsed": 774,
     "status": "ok",
     "timestamp": 1601242792586,
     "user": {
      "displayName": "Тимур Венерович Аминов",
      "photoUrl": "",
      "userId": "01767416500508857561"
     },
     "user_tz": -180
    },
    "id": "H9Ts_O-7aSC1",
    "outputId": "281559e9-a43a-4b62-eb79-1b7750996aeb"
   },
   "outputs": [
    {
     "name": "stdout",
     "output_type": "stream",
     "text": [
      "[1000    2    3    4    5    6]\n",
      "[[1 2 3]\n",
      " [4 5 6]]\n",
      "[[1000    2    3]\n",
      " [   4    5    6]]\n"
     ]
    }
   ],
   "source": [
    "# flatten и ravel очень похожи, они вытягивают матрицу любой размерности в строчку\n",
    "# Единственно отличие в том, что flatten возвращает копию массива, вытянутую в строчку\n",
    "# а ravel - просто view(т.е. не происходит реального копирования значений)\n",
    "# Пример снизу показывает это отличие\n",
    "flattened = a.flatten()\n",
    "flattened[0] = 1000\n",
    "print(flattened)\n",
    "print(a)\n",
    "raveled = a.ravel()\n",
    "raveled[0] = 1000\n",
    "print(a)"
   ]
  },
  {
   "cell_type": "code",
   "execution_count": 70,
   "metadata": {},
   "outputs": [
    {
     "data": {
      "text/plain": [
       "array([1000,    2,    3,    4,    5,    6])"
      ]
     },
     "execution_count": 70,
     "metadata": {},
     "output_type": "execute_result"
    }
   ],
   "source": [
    "raveled"
   ]
  },
  {
   "cell_type": "markdown",
   "metadata": {
    "id": "mZwb98wiaSC3"
   },
   "source": [
    "* Подсчет статистик по осям"
   ]
  },
  {
   "cell_type": "code",
   "execution_count": 62,
   "metadata": {
    "colab": {
     "base_uri": "https://localhost:8080/",
     "height": 50
    },
    "executionInfo": {
     "elapsed": 784,
     "status": "ok",
     "timestamp": 1601282960866,
     "user": {
      "displayName": "Тимур Венерович Аминов",
      "photoUrl": "",
      "userId": "01767416500508857561"
     },
     "user_tz": -180
    },
    "id": "J1Ue3z9FaSC4",
    "outputId": "863e1dc2-6498-471d-ed1b-13efb9e0c6d5"
   },
   "outputs": [
    {
     "name": "stdout",
     "output_type": "stream",
     "text": [
      "[[1 2 3]\n",
      " [4 5 6]]\n"
     ]
    }
   ],
   "source": [
    "print(a)"
   ]
  },
  {
   "cell_type": "code",
   "execution_count": 65,
   "metadata": {},
   "outputs": [],
   "source": [
    "a = np.random.rand(2, 3)"
   ]
  },
  {
   "cell_type": "code",
   "execution_count": 72,
   "metadata": {},
   "outputs": [
    {
     "data": {
      "text/plain": [
       "array([[0.65685766, 0.37335358, 0.60157657],\n",
       "       [0.07227068, 0.56007624, 0.41675173]])"
      ]
     },
     "execution_count": 72,
     "metadata": {},
     "output_type": "execute_result"
    }
   ],
   "source": [
    "a"
   ]
  },
  {
   "cell_type": "code",
   "execution_count": 73,
   "metadata": {},
   "outputs": [
    {
     "data": {
      "text/plain": [
       "(0.19471389386164797, 2.6808864683494327, 0.0024886808502153006)"
      ]
     },
     "execution_count": 73,
     "metadata": {},
     "output_type": "execute_result"
    }
   ],
   "source": [
    "a.std(), a.sum(), a.prod(), "
   ]
  },
  {
   "cell_type": "code",
   "execution_count": 74,
   "metadata": {},
   "outputs": [
    {
     "data": {
      "text/plain": [
       "(2, 3)"
      ]
     },
     "execution_count": 74,
     "metadata": {},
     "output_type": "execute_result"
    }
   ],
   "source": [
    "a.shape"
   ]
  },
  {
   "cell_type": "code",
   "execution_count": 75,
   "metadata": {
    "colab": {
     "base_uri": "https://localhost:8080/",
     "height": 118
    },
    "executionInfo": {
     "elapsed": 872,
     "status": "ok",
     "timestamp": 1601283020472,
     "user": {
      "displayName": "Тимур Венерович Аминов",
      "photoUrl": "",
      "userId": "01767416500508857561"
     },
     "user_tz": -180
    },
    "id": "lMFOHDVTaSC6",
    "outputId": "7bfd708a-01fd-46a6-d38c-bc0c24d2c049",
    "scrolled": true
   },
   "outputs": [
    {
     "data": {
      "text/plain": [
       "(array([0.29229349, 0.09336133, 0.09241242]),\n",
       " array([0.72912834, 0.93342982, 1.01832831]),\n",
       " array([0.04747155, 0.20910647, 0.25070808]),\n",
       " array([0.07227068, 0.37335358, 0.41675173]),\n",
       " array([0.65685766, 0.56007624, 0.60157657]),\n",
       " array([0.36456417, 0.46671491, 0.50916415]))"
      ]
     },
     "execution_count": 75,
     "metadata": {},
     "output_type": "execute_result"
    }
   ],
   "source": [
    "# Если не написать axis, то статистика посчиатется по всем массиву\n",
    "# Если axis=1, то для трехмерной матрицы суммирование (например) будет идти по элементам с индексами (i, *, j)\n",
    "# Если axis=(1, 2), то для трехмерной матрицы суммирование (например) будет идти по элементам с индексами (i, *, *)\n",
    "a.std(axis=0), a.sum(axis=0), a.prod(axis=0), a.min(axis=0), a.max(axis=0), a.mean(axis=0)"
   ]
  },
  {
   "cell_type": "code",
   "execution_count": 70,
   "metadata": {
    "colab": {
     "base_uri": "https://localhost:8080/",
     "height": 118
    },
    "executionInfo": {
     "elapsed": 718,
     "status": "ok",
     "timestamp": 1601283136153,
     "user": {
      "displayName": "Тимур Венерович Аминов",
      "photoUrl": "",
      "userId": "01767416500508857561"
     },
     "user_tz": -180
    },
    "id": "f8E9einlaSC8",
    "outputId": "5c51d17f-455e-47f7-8b8e-7f3e82da66b4",
    "scrolled": true
   },
   "outputs": [
    {
     "data": {
      "text/plain": [
       "(array([0.12270846, 0.2047121 ]),\n",
       " array([1.63178781, 1.04909865]),\n",
       " array([0.14753073, 0.0168689 ]),\n",
       " array([0.37335358, 0.07227068]),\n",
       " array([0.65685766, 0.56007624]),\n",
       " array([0.54392927, 0.34969955]))"
      ]
     },
     "execution_count": 70,
     "metadata": {},
     "output_type": "execute_result"
    }
   ],
   "source": [
    "# Посчитаем, итерируясь по 1 оси\n",
    "a.std(axis=1), a.sum(axis=1), a.prod(axis=1), a.min(axis=1), a.max(axis=1), a.mean(axis=1)"
   ]
  },
  {
   "cell_type": "markdown",
   "metadata": {
    "id": "IBZg2BrkaSC-"
   },
   "source": [
    "## Булевы массивы\n",
    "Булевы массивы не настолько особенны, чтобы выделять их в отдельную категорию, но у них есть несколько интересных свойств, которые нам помогут. Булевы массивы естественно возникают в нашей программе при сравнении каких-то двух массивов в numpy (==,>,>=,<,<=)."
   ]
  },
  {
   "cell_type": "code",
   "execution_count": 80,
   "metadata": {
    "colab": {
     "base_uri": "https://localhost:8080/",
     "height": 101
    },
    "executionInfo": {
     "elapsed": 703,
     "status": "ok",
     "timestamp": 1601283268513,
     "user": {
      "displayName": "Тимур Венерович Аминов",
      "photoUrl": "",
      "userId": "01767416500508857561"
     },
     "user_tz": -180
    },
    "id": "tTYLjXS-aSC-",
    "outputId": "bddf4e6f-25e0-44f4-ae4d-e49b205385cb"
   },
   "outputs": [
    {
     "data": {
      "text/plain": [
       "(array([ True,  True, False]),\n",
       " array([False, False,  True]),\n",
       " array([ True,  True,  True]),\n",
       " array([False, False, False]),\n",
       " array([ True,  True, False]))"
      ]
     },
     "execution_count": 80,
     "metadata": {},
     "output_type": "execute_result"
    }
   ],
   "source": [
    "a = np.array([1, 2, 3])\n",
    "b = np.array([1, 2, 0])\n",
    "\n",
    "a == b, a > b, a >= b, a < b, a <= b"
   ]
  },
  {
   "cell_type": "markdown",
   "metadata": {
    "id": "zAIjHDPJaSDB"
   },
   "source": [
    "Посмотрим, что мы можем делать с такими массивами"
   ]
  },
  {
   "cell_type": "code",
   "execution_count": 77,
   "metadata": {},
   "outputs": [],
   "source": [
    "a = np.array([True, False, True])\n",
    "b = np.array([1, 2, 3])"
   ]
  },
  {
   "cell_type": "code",
   "execution_count": 83,
   "metadata": {},
   "outputs": [
    {
     "ename": "ValueError",
     "evalue": "The truth value of an array with more than one element is ambiguous. Use a.any() or a.all()",
     "output_type": "error",
     "traceback": [
      "\u001b[0;31m---------------------------------------------------------------------------\u001b[0m",
      "\u001b[0;31mValueError\u001b[0m                                Traceback (most recent call last)",
      "\u001b[0;32m<ipython-input-83-6cc380097817>\u001b[0m in \u001b[0;36m<module>\u001b[0;34m\u001b[0m\n\u001b[0;32m----> 1\u001b[0;31m \u001b[0mb\u001b[0m\u001b[0;34m[\u001b[0m\u001b[0mb\u001b[0m \u001b[0;34m>\u001b[0m \u001b[0;36m2\u001b[0m \u001b[0;34m|\u001b[0m \u001b[0mb\u001b[0m \u001b[0;34m<\u001b[0m \u001b[0;36m1.5\u001b[0m\u001b[0;34m]\u001b[0m\u001b[0;34m\u001b[0m\u001b[0;34m\u001b[0m\u001b[0m\n\u001b[0m",
      "\u001b[0;31mValueError\u001b[0m: The truth value of an array with more than one element is ambiguous. Use a.any() or a.all()"
     ]
    }
   ],
   "source": [
    "b[b > 2 | b < 1.5]"
   ]
  },
  {
   "cell_type": "code",
   "execution_count": 76,
   "metadata": {
    "colab": {
     "base_uri": "https://localhost:8080/",
     "height": 84
    },
    "executionInfo": {
     "elapsed": 811,
     "status": "ok",
     "timestamp": 1601283338560,
     "user": {
      "displayName": "Тимур Венерович Аминов",
      "photoUrl": "",
      "userId": "01767416500508857561"
     },
     "user_tz": -180
    },
    "id": "NDJw37SAaSDC",
    "outputId": "229bf441-26a2-4fa4-b8ba-b11210d0145c"
   },
   "outputs": [
    {
     "name": "stdout",
     "output_type": "stream",
     "text": [
      "a and b [False False  True]\n",
      "a or b [ True False  True]\n",
      "not a [False  True False]\n",
      "a xor b [ True False False]\n"
     ]
    }
   ],
   "source": [
    "a = np.array([True, False, True])\n",
    "b = np.array([False, False, True])\n",
    "\n",
    "# Логические поэлементные операции\n",
    "print(f'a and b {a & b}')\n",
    "print(f'a or b {a | b}')\n",
    "print(f'not a {~a}')\n",
    "print(f'a xor b {a ^ b}')"
   ]
  },
  {
   "cell_type": "code",
   "execution_count": 84,
   "metadata": {},
   "outputs": [
    {
     "ename": "ValueError",
     "evalue": "The truth value of an array with more than one element is ambiguous. Use a.any() or a.all()",
     "output_type": "error",
     "traceback": [
      "\u001b[0;31m---------------------------------------------------------------------------\u001b[0m",
      "\u001b[0;31mValueError\u001b[0m                                Traceback (most recent call last)",
      "\u001b[0;32m<ipython-input-84-96c0c8c08beb>\u001b[0m in \u001b[0;36m<module>\u001b[0;34m\u001b[0m\n\u001b[0;32m----> 1\u001b[0;31m \u001b[0;32mif\u001b[0m \u001b[0ma\u001b[0m\u001b[0;34m:\u001b[0m\u001b[0;34m\u001b[0m\u001b[0;34m\u001b[0m\u001b[0m\n\u001b[0m\u001b[1;32m      2\u001b[0m     \u001b[0;32mpass\u001b[0m\u001b[0;34m\u001b[0m\u001b[0;34m\u001b[0m\u001b[0m\n",
      "\u001b[0;31mValueError\u001b[0m: The truth value of an array with more than one element is ambiguous. Use a.any() or a.all()"
     ]
    }
   ],
   "source": [
    "# a = [True, True , False]\n",
    "if a.any(): \n",
    "    pass"
   ]
  },
  {
   "cell_type": "code",
   "execution_count": 85,
   "metadata": {
    "colab": {
     "base_uri": "https://localhost:8080/",
     "height": 34
    },
    "executionInfo": {
     "elapsed": 710,
     "status": "ok",
     "timestamp": 1601283364571,
     "user": {
      "displayName": "Тимур Венерович Аминов",
      "photoUrl": "",
      "userId": "01767416500508857561"
     },
     "user_tz": -180
    },
    "id": "6cSvHdOpaSDE",
    "outputId": "953db5a9-4ca3-4249-a67a-7dc81db7b9c5"
   },
   "outputs": [
    {
     "data": {
      "text/plain": [
       "(array([ True, False,  True]), True, False)"
      ]
     },
     "execution_count": 85,
     "metadata": {},
     "output_type": "execute_result"
    }
   ],
   "source": [
    "# Логические операции над всеми элементами массива, в них тоже можно использовать параметр axis\n",
    "a, a.any(), a.all()"
   ]
  },
  {
   "cell_type": "code",
   "execution_count": 86,
   "metadata": {
    "colab": {
     "base_uri": "https://localhost:8080/",
     "height": 34
    },
    "executionInfo": {
     "elapsed": 1434,
     "status": "ok",
     "timestamp": 1601283391565,
     "user": {
      "displayName": "Тимур Венерович Аминов",
      "photoUrl": "",
      "userId": "01767416500508857561"
     },
     "user_tz": -180
    },
    "id": "7XZ8pcHiaSDI",
    "outputId": "2c002308-b8ef-4cfe-9e3d-c4853355494e"
   },
   "outputs": [
    {
     "data": {
      "text/plain": [
       "(0.6666666666666666, True, 2, 0.4714045207910317)"
      ]
     },
     "execution_count": 86,
     "metadata": {},
     "output_type": "execute_result"
    }
   ],
   "source": [
    "# Если к булевому массиву применить функции, предназначенные только для чисел, \n",
    "# то перед применением все True сконвертируются в 1, а False в 0\n",
    "# Здесь также можно добавить параметр axis\n",
    "a.mean(), a.max(), a.sum(), a.std()"
   ]
  },
  {
   "cell_type": "markdown",
   "metadata": {
    "id": "cak7YP_NaSDL"
   },
   "source": [
    "**Задание на булевы массивы:**\n",
    "> Пусть у нас есть два одномерных массива y_pred - предсказанный нашей моделью класс, и y_true - настоящий класс. Посчитайте accuracy нашего классификатора на этих данных (долю случаев, в которых реальный класс совпал с предсказанием)"
   ]
  },
  {
   "cell_type": "code",
   "execution_count": 88,
   "metadata": {
    "colab": {
     "base_uri": "https://localhost:8080/",
     "height": 34
    },
    "executionInfo": {
     "elapsed": 2054,
     "status": "ok",
     "timestamp": 1601283484320,
     "user": {
      "displayName": "Тимур Венерович Аминов",
      "photoUrl": "",
      "userId": "01767416500508857561"
     },
     "user_tz": -180
    },
    "id": "K5g7mFm5aSDL",
    "outputId": "8f75e871-25fb-4523-906c-cb88e50fcebf"
   },
   "outputs": [
    {
     "data": {
      "text/plain": [
       "(0.8333333333333334, 0.8333333333333334)"
      ]
     },
     "execution_count": 88,
     "metadata": {},
     "output_type": "execute_result"
    }
   ],
   "source": [
    "import numpy as np\n",
    "\n",
    "y_pred = np.array([1, 2, 1, 2, 1, 1])\n",
    "y_true = np.array([1, 2, 1, 1, 1, 1])\n",
    "\n",
    "sum(y_pred==y_true)/len(y_pred), 5/6"
   ]
  },
  {
   "cell_type": "markdown",
   "metadata": {
    "id": "WUyvxPIXaSDO"
   },
   "source": [
    "# Полезные функции из numpy"
   ]
  },
  {
   "cell_type": "markdown",
   "metadata": {
    "id": "jjNg7ndbaSDP"
   },
   "source": [
    "Также в numpy есть много полезных методов для получения готовых массивов какого-то вида"
   ]
  },
  {
   "cell_type": "markdown",
   "metadata": {
    "id": "-ihFsBq-HLJ3"
   },
   "source": [
    "* Функция **arange** подобна range. Аргументы могут быть с плавающей точкой. Следует избегать ситуаций, когда (конец−начало)/шаг - целое число, потому что в этом случае включение последнего элемента зависит от ошибок округления. Лучше, чтобы конец диапазона был где-то посредине шага."
   ]
  },
  {
   "cell_type": "code",
   "execution_count": 88,
   "metadata": {
    "colab": {
     "base_uri": "https://localhost:8080/",
     "height": 34
    },
    "executionInfo": {
     "elapsed": 778,
     "status": "ok",
     "timestamp": 1601283518234,
     "user": {
      "displayName": "Тимур Венерович Аминов",
      "photoUrl": "",
      "userId": "01767416500508857561"
     },
     "user_tz": -180
    },
    "id": "XyLV0bszHLJ3",
    "outputId": "bcc4cfdf-7b2e-4f80-c2bc-2892f3642fad"
   },
   "outputs": [
    {
     "name": "stdout",
     "output_type": "stream",
     "text": [
      "[0, 1, 2, 3, 4, 5, 6, 7]\n"
     ]
    }
   ],
   "source": [
    "# поиграемся с питоновским методом range\n",
    "print(list(range(8)))\n",
    "# print(*range(0, 8))\n",
    "# print(*[2,5])\n",
    "# print(2,5)"
   ]
  },
  {
   "cell_type": "code",
   "execution_count": 89,
   "metadata": {
    "colab": {
     "base_uri": "https://localhost:8080/",
     "height": 178
    },
    "executionInfo": {
     "elapsed": 831,
     "status": "error",
     "timestamp": 1601283531538,
     "user": {
      "displayName": "Тимур Венерович Аминов",
      "photoUrl": "",
      "userId": "01767416500508857561"
     },
     "user_tz": -180
    },
    "id": "ajsJU8KyHLJ8",
    "outputId": "5312d7ce-922d-47ce-c8e0-0533abbc4417"
   },
   "outputs": [
    {
     "ename": "TypeError",
     "evalue": "'float' object cannot be interpreted as an integer",
     "output_type": "error",
     "traceback": [
      "\u001b[0;31m---------------------------------------------------------------------------\u001b[0m",
      "\u001b[0;31mTypeError\u001b[0m                                 Traceback (most recent call last)",
      "\u001b[0;32m<ipython-input-89-dd5a2c3993fe>\u001b[0m in \u001b[0;36m<module>\u001b[0;34m\u001b[0m\n\u001b[1;32m      1\u001b[0m \u001b[0;31m# в нем нельзя использовать не целый шаг\u001b[0m\u001b[0;34m\u001b[0m\u001b[0;34m\u001b[0m\u001b[0;34m\u001b[0m\u001b[0m\n\u001b[0;32m----> 2\u001b[0;31m \u001b[0mprint\u001b[0m\u001b[0;34m(\u001b[0m\u001b[0;34m*\u001b[0m\u001b[0mrange\u001b[0m\u001b[0;34m(\u001b[0m\u001b[0;36m0\u001b[0m\u001b[0;34m,\u001b[0m \u001b[0;36m8\u001b[0m\u001b[0;34m,\u001b[0m \u001b[0;36m0.5\u001b[0m\u001b[0;34m)\u001b[0m\u001b[0;34m)\u001b[0m\u001b[0;34m\u001b[0m\u001b[0;34m\u001b[0m\u001b[0m\n\u001b[0m",
      "\u001b[0;31mTypeError\u001b[0m: 'float' object cannot be interpreted as an integer"
     ]
    }
   ],
   "source": [
    "# в нем нельзя использовать не целый шаг\n",
    "print(*range(0, 8, 0.5))"
   ]
  },
  {
   "cell_type": "code",
   "execution_count": 90,
   "metadata": {
    "colab": {
     "base_uri": "https://localhost:8080/",
     "height": 67
    },
    "executionInfo": {
     "elapsed": 708,
     "status": "ok",
     "timestamp": 1601283537476,
     "user": {
      "displayName": "Тимур Венерович Аминов",
      "photoUrl": "",
      "userId": "01767416500508857561"
     },
     "user_tz": -180
    },
    "id": "t8qoTrmZHLJ_",
    "outputId": "eede52a5-a221-48c2-b0e1-1e68c80260b6"
   },
   "outputs": [
    {
     "name": "stdout",
     "output_type": "stream",
     "text": [
      "<class 'numpy.ndarray'>\n",
      "[ 0.  -0.5 -1.  -1.5 -2.  -2.5 -3.  -3.5 -4.  -4.5 -5.  -5.5 -6.  -6.5\n",
      " -7.  -7.5]\n"
     ]
    }
   ],
   "source": [
    "# перейдем к arange\n",
    "# здесь не целый шаг использовать уже можно\n",
    "print(type(np.arange(0, 8)))\n",
    "print(np.arange(0, -8, -0.5))"
   ]
  },
  {
   "cell_type": "code",
   "execution_count": 54,
   "metadata": {
    "colab": {
     "base_uri": "https://localhost:8080/",
     "height": 34
    },
    "executionInfo": {
     "elapsed": 780,
     "status": "ok",
     "timestamp": 1601283550407,
     "user": {
      "displayName": "Тимур Венерович Аминов",
      "photoUrl": "",
      "userId": "01767416500508857561"
     },
     "user_tz": -180
    },
    "id": "yzlqxNrXaSDX",
    "outputId": "828c85a1-f57a-4ddb-ad44-95f0f4fc6240"
   },
   "outputs": [
    {
     "name": "stdout",
     "output_type": "stream",
     "text": [
      "[0.  0.5 1.  1.5 2.  2.5 3.  3.5 4.  4.5 5.  5.5 6.  6.5 7.  7.5]\n"
     ]
    }
   ],
   "source": [
    "print(np.arange(0, 8, 0.5))"
   ]
  },
  {
   "cell_type": "markdown",
   "metadata": {
    "id": "ouxSb-QvHLKB"
   },
   "source": [
    "Но самое главное:"
   ]
  },
  {
   "cell_type": "code",
   "execution_count": 92,
   "metadata": {
    "colab": {
     "base_uri": "https://localhost:8080/",
     "height": 118
    },
    "executionInfo": {
     "elapsed": 2625,
     "status": "ok",
     "timestamp": 1601283556977,
     "user": {
      "displayName": "Тимур Венерович Аминов",
      "photoUrl": "",
      "userId": "01767416500508857561"
     },
     "user_tz": -180
    },
    "id": "aaFIwlCqHLKC",
    "outputId": "a5bb1467-5539-47e4-a3b0-00d80ef47e25"
   },
   "outputs": [
    {
     "name": "stdout",
     "output_type": "stream",
     "text": [
      "CPU times: user 93.2 ms, sys: 105 ms, total: 198 ms\n",
      "Wall time: 202 ms\n",
      "CPU times: user 4.87 s, sys: 987 ms, total: 5.86 s\n",
      "Wall time: 5.94 s\n",
      "CPU times: user 6 µs, sys: 1 µs, total: 7 µs\n",
      "Wall time: 8.11 µs\n"
     ]
    }
   ],
   "source": [
    "%time np.arange(0, 50000000)\n",
    "%time np.array(list(range(0, 50000000)))\n",
    "%time a = range(0, 50000000)\n"
   ]
  },
  {
   "cell_type": "code",
   "execution_count": 48,
   "metadata": {
    "colab": {
     "base_uri": "https://localhost:8080/",
     "height": 34
    },
    "executionInfo": {
     "elapsed": 579,
     "status": "ok",
     "timestamp": 1601242897022,
     "user": {
      "displayName": "Тимур Венерович Аминов",
      "photoUrl": "",
      "userId": "01767416500508857561"
     },
     "user_tz": -180
    },
    "id": "cZlED6t3kg50",
    "outputId": "4e0ce9ad-8ee0-40df-e940-ead073ca77fd"
   },
   "outputs": [
    {
     "data": {
      "text/plain": [
       "range"
      ]
     },
     "execution_count": 48,
     "metadata": {
      "tags": []
     },
     "output_type": "execute_result"
    }
   ],
   "source": [
    "type(a)"
   ]
  },
  {
   "cell_type": "markdown",
   "metadata": {
    "id": "94th67WKaSDb"
   },
   "source": [
    "**Вопрос на знание питона**: почему просто range занял 7 мкс, даже меньше, чем numpy?"
   ]
  },
  {
   "cell_type": "markdown",
   "metadata": {
    "id": "r_i9uX70HLKF"
   },
   "source": [
    "* Еще один метод, похожий на arange это **linspace**. С его помощью можно создавать последовательности чисел с постоянным шагом. Начало и конец диапазона включаются; последний аргумент - число точек."
   ]
  },
  {
   "cell_type": "code",
   "execution_count": 89,
   "metadata": {
    "colab": {
     "base_uri": "https://localhost:8080/",
     "height": 118
    },
    "executionInfo": {
     "elapsed": 1855,
     "status": "ok",
     "timestamp": 1601283702558,
     "user": {
      "displayName": "Тимур Венерович Аминов",
      "photoUrl": "",
      "userId": "01767416500508857561"
     },
     "user_tz": -180
    },
    "id": "1R3y2u7kHLKF",
    "outputId": "4e1ddd49-d7ce-48a2-89b2-86c46ab7ec91"
   },
   "outputs": [
    {
     "name": "stdout",
     "output_type": "stream",
     "text": [
      "CPU times: user 134 µs, sys: 9 µs, total: 143 µs\n",
      "Wall time: 140 µs\n",
      "[0.         0.14285714 0.28571429 0.42857143 0.57142857 0.71428571\n",
      " 0.85714286 1.        ]\n",
      "CPU times: user 279 µs, sys: 5 µs, total: 284 µs\n",
      "Wall time: 288 µs\n"
     ]
    }
   ],
   "source": [
    "%time a = np.linspace(0, 1, 8)\n",
    "%time print(a)"
   ]
  },
  {
   "cell_type": "markdown",
   "metadata": {
    "id": "7pykEjWGHLKI"
   },
   "source": [
    "* **Быстродействие**. Массивы, разумеется, можно использовать в `for` циклах. Но при этом теряется главное преимущество `numpy` - быстродействие. Всегда, когда это возможно, лучше использовать операции, определенные в numpy."
   ]
  },
  {
   "cell_type": "code",
   "execution_count": 98,
   "metadata": {
    "executionInfo": {
     "elapsed": 970,
     "status": "ok",
     "timestamp": 1601283726754,
     "user": {
      "displayName": "Тимур Венерович Аминов",
      "photoUrl": "",
      "userId": "01767416500508857561"
     },
     "user_tz": -180
    },
    "id": "pHeoRQL8VBOl"
   },
   "outputs": [],
   "source": [
    "a = np.linspace(0, 8, 50000000)"
   ]
  },
  {
   "cell_type": "code",
   "execution_count": 99,
   "metadata": {
    "colab": {
     "base_uri": "https://localhost:8080/",
     "height": 50
    },
    "executionInfo": {
     "elapsed": 726,
     "status": "ok",
     "timestamp": 1601283730244,
     "user": {
      "displayName": "Тимур Венерович Аминов",
      "photoUrl": "",
      "userId": "01767416500508857561"
     },
     "user_tz": -180
    },
    "id": "XOcvgxP8HLKI",
    "outputId": "046ea9ca-0b2e-4204-d790-f4a45682c86f"
   },
   "outputs": [
    {
     "name": "stdout",
     "output_type": "stream",
     "text": [
      "CPU times: user 151 ms, sys: 149 ms, total: 300 ms\n",
      "Wall time: 308 ms\n"
     ]
    }
   ],
   "source": [
    "%%time \n",
    "res = a + a"
   ]
  },
  {
   "cell_type": "code",
   "execution_count": 100,
   "metadata": {
    "colab": {
     "base_uri": "https://localhost:8080/",
     "height": 50
    },
    "executionInfo": {
     "elapsed": 14390,
     "status": "ok",
     "timestamp": 1601283745001,
     "user": {
      "displayName": "Тимур Венерович Аминов",
      "photoUrl": "",
      "userId": "01767416500508857561"
     },
     "user_tz": -180
    },
    "id": "33yWW6tzHLKK",
    "outputId": "e886a32d-461d-4c5a-a7f8-bd54b55c3d10"
   },
   "outputs": [
    {
     "name": "stdout",
     "output_type": "stream",
     "text": [
      "CPU times: user 12.8 s, sys: 1.25 s, total: 14.1 s\n",
      "Wall time: 14.6 s\n"
     ]
    }
   ],
   "source": [
    "%%time\n",
    "res = []\n",
    "for value in a:\n",
    "    res.append(value + value)"
   ]
  },
  {
   "cell_type": "markdown",
   "metadata": {
    "id": "XWLsgd8uaSDj"
   },
   "source": [
    "(в совсем простых операциях, таких как сложение двух чисел, питон не уступает в скорости C++ или C, а поэтому использование numpy не дает ввыигрыша, но в более тяжелых вычислениях разница становится колоссальнной)"
   ]
  },
  {
   "cell_type": "markdown",
   "metadata": {
    "id": "rXe3ZDApHLL-"
   },
   "source": [
    "* Еще один способ создавать стандартные массивы - __`numpy.eye(N, M=None, ...)`__, __`numpy.zeros(shape, ...)`__, __`numpy.ones(shape, ...)`__.\n",
    "\n",
    "Первая функция создает единичную матрицу размера $N \\times M$; если $M$ не задан, то $M = N$. \n",
    "\n",
    "Вторая и третья функции создают матрицы, состоящие целиком из нулей или единиц соответственно. В качестве первого аргумента необходимо задать размерность массива — кортеж целых чисел. В двумерном случае это набор из двух чисел: количество строк и столбцов матрицы.\n",
    "\n",
    "__Примеры:__"
   ]
  },
  {
   "cell_type": "code",
   "execution_count": 91,
   "metadata": {
    "colab": {
     "base_uri": "https://localhost:8080/",
     "height": 118
    },
    "executionInfo": {
     "elapsed": 572,
     "status": "ok",
     "timestamp": 1601243006277,
     "user": {
      "displayName": "Тимур Венерович Аминов",
      "photoUrl": "",
      "userId": "01767416500508857561"
     },
     "user_tz": -180
    },
    "id": "2j4wk0IJHLL_",
    "outputId": "6cd87745-39ef-4154-a2d6-750a4da82847"
   },
   "outputs": [
    {
     "name": "stdout",
     "output_type": "stream",
     "text": [
      "Единичная матрица:\n",
      " [[1. 0. 0. 0.]\n",
      " [0. 1. 0. 0.]\n",
      " [0. 0. 1. 0.]\n",
      " [0. 0. 0. 1.]\n",
      " [0. 0. 0. 0.]]\n"
     ]
    }
   ],
   "source": [
    "b = np.eye(5, 4)\n",
    "print(\"Единичная матрица:\\n\", b)"
   ]
  },
  {
   "cell_type": "code",
   "execution_count": 92,
   "metadata": {
    "colab": {
     "base_uri": "https://localhost:8080/",
     "height": 151
    },
    "executionInfo": {
     "elapsed": 624,
     "status": "ok",
     "timestamp": 1601243007460,
     "user": {
      "displayName": "Тимур Венерович Аминов",
      "photoUrl": "",
      "userId": "01767416500508857561"
     },
     "user_tz": -180
    },
    "id": "wskPIk0pHLME",
    "outputId": "b8ae3efc-2ad6-4413-9795-6bedbe2e1610"
   },
   "outputs": [
    {
     "name": "stdout",
     "output_type": "stream",
     "text": [
      "Матрица, состоящая из одних единиц:\n",
      " [[1. 1. 1. 1. 1.]\n",
      " [1. 1. 1. 1. 1.]\n",
      " [1. 1. 1. 1. 1.]\n",
      " [1. 1. 1. 1. 1.]\n",
      " [1. 1. 1. 1. 1.]\n",
      " [1. 1. 1. 1. 1.]\n",
      " [1. 1. 1. 1. 1.]]\n"
     ]
    }
   ],
   "source": [
    "c = np.ones((7, 5))\n",
    "print(\"Матрица, состоящая из одних единиц:\\n\", c)"
   ]
  },
  {
   "cell_type": "code",
   "execution_count": 94,
   "metadata": {},
   "outputs": [
    {
     "data": {
      "text/plain": [
       "array([[[[0.],\n",
       "         [0.],\n",
       "         [0.]],\n",
       "\n",
       "        [[0.],\n",
       "         [0.],\n",
       "         [0.]]],\n",
       "\n",
       "\n",
       "       [[[0.],\n",
       "         [0.],\n",
       "         [0.]],\n",
       "\n",
       "        [[0.],\n",
       "         [0.],\n",
       "         [0.]]]])"
      ]
     },
     "execution_count": 94,
     "metadata": {},
     "output_type": "execute_result"
    }
   ],
   "source": [
    "np.zeros((2, 2, 3, 1))"
   ]
  },
  {
   "cell_type": "markdown",
   "metadata": {
    "id": "p_VsgozbHLMF"
   },
   "source": [
    "__Обратите внимание: размерность массива задается не двумя аргументами функции, а одним — кортежем!__ \n",
    "\n",
    "Вот так —  __`np.ones(7, 5)`__ — создать массив не получится, так как функции в качестве параметра `shape` передается `7`, а не кортеж `(7, 5)`."
   ]
  },
  {
   "cell_type": "markdown",
   "metadata": {
    "id": "_EWNyOMzBHWd"
   },
   "source": [
    "**Задание на создание матриц:**\n",
    "> Создайте матрицу размера 4х5, у которой все элементы стоящие на диагонали равны -1, а все остальные равны 0.5"
   ]
  },
  {
   "cell_type": "code",
   "execution_count": 95,
   "metadata": {
    "colab": {
     "base_uri": "https://localhost:8080/",
     "height": 67
    },
    "executionInfo": {
     "elapsed": 671,
     "status": "ok",
     "timestamp": 1601243010759,
     "user": {
      "displayName": "Тимур Венерович Аминов",
      "photoUrl": "",
      "userId": "01767416500508857561"
     },
     "user_tz": -180
    },
    "id": "cf_IFxe5lDmb",
    "outputId": "6b5b2b5f-9d79-4647-d844-32a94f09f5ef"
   },
   "outputs": [
    {
     "data": {
      "text/plain": [
       "array([[-1. ,  0.5,  0.5],\n",
       "       [ 0.5, -1. ,  0.5],\n",
       "       [ 0.5,  0.5, -1. ]])"
      ]
     },
     "execution_count": 95,
     "metadata": {},
     "output_type": "execute_result"
    }
   ],
   "source": [
    "np.diag([-1.5 , -1.5 , -1.5], 0) + 0.5"
   ]
  },
  {
   "cell_type": "code",
   "execution_count": 106,
   "metadata": {
    "executionInfo": {
     "elapsed": 635,
     "status": "ok",
     "timestamp": 1601243011918,
     "user": {
      "displayName": "Тимур Венерович Аминов",
      "photoUrl": "",
      "userId": "01767416500508857561"
     },
     "user_tz": -180
    },
    "id": "lT-TsytjBGky"
   },
   "outputs": [],
   "source": [
    "a = np.ones((4, 5))\n",
    "a *= 0.5\n",
    "a[np.arange(len(a)), np.arange(len(a))] = -1\n",
    "\n",
    "# np.array(0, 1, 2, 3)\n",
    "# np.array(0, 1, 2, 3)\n",
    "# -> a[0, 0], a[1, 1], a[2, 2], a[3, 3]"
   ]
  },
  {
   "cell_type": "code",
   "execution_count": 107,
   "metadata": {},
   "outputs": [
    {
     "data": {
      "text/plain": [
       "array([[-1. ,  0.5,  0.5,  0.5,  0.5],\n",
       "       [ 0.5, -1. ,  0.5,  0.5,  0.5],\n",
       "       [ 0.5,  0.5, -1. ,  0.5,  0.5],\n",
       "       [ 0.5,  0.5,  0.5, -1. ,  0.5]])"
      ]
     },
     "execution_count": 107,
     "metadata": {},
     "output_type": "execute_result"
    }
   ],
   "source": [
    "a"
   ]
  },
  {
   "cell_type": "markdown",
   "metadata": {
    "id": "ULmaIAMTHLKP"
   },
   "source": [
    "# Slices, Fancy Indexing and stuff"
   ]
  },
  {
   "cell_type": "markdown",
   "metadata": {
    "id": "Aax0h2xWaSDp"
   },
   "source": [
    "* Обращение по слайсам\n",
    "\n",
    "Так же как и для обычных листов, для numpy массивов доступно обращение по слайсам (a[2:5:2], 2:5:2 - слайс). Но есть одно отличие. В numpy можно писать несколько слайсов через запятую, чтобы сделать _срез_ сразу по нескольким осям - a[2:5, 1:4]. "
   ]
  },
  {
   "cell_type": "code",
   "execution_count": 108,
   "metadata": {
    "colab": {
     "base_uri": "https://localhost:8080/",
     "height": 101
    },
    "executionInfo": {
     "elapsed": 699,
     "status": "ok",
     "timestamp": 1601283904948,
     "user": {
      "displayName": "Тимур Венерович Аминов",
      "photoUrl": "",
      "userId": "01767416500508857561"
     },
     "user_tz": -180
    },
    "id": "QwEvyLoNaSDq",
    "outputId": "b49293c3-014a-479b-eac0-2be72937ccfb"
   },
   "outputs": [
    {
     "name": "stdout",
     "output_type": "stream",
     "text": [
      "[[ 1  2  3  4]\n",
      " [ 5  6  7  8]\n",
      " [ 9 10 11 12]]\n",
      "[[2 3]\n",
      " [6 7]]\n"
     ]
    }
   ],
   "source": [
    "a = np.array([\n",
    "                [1, 2, 3, 4],\n",
    "                [5, 6, 7, 8],\n",
    "                [9, 10, 11, 12]\n",
    "             ])\n",
    "print(a)\n",
    "print(a[0:2, 1:3])"
   ]
  },
  {
   "cell_type": "markdown",
   "metadata": {
    "id": "KdzPmxUaHLL5"
   },
   "source": [
    "* Обращение по слайсам с добавлением новых осей. \n",
    "\n",
    "В NumPy к размерностям объектов можно добавлять фиктивные оси с помощью np.newaxis. Для того, чтобы понять, как это сделать, рассмотрим пример:"
   ]
  },
  {
   "cell_type": "code",
   "execution_count": 112,
   "metadata": {
    "colab": {
     "base_uri": "https://localhost:8080/",
     "height": 84
    },
    "executionInfo": {
     "elapsed": 708,
     "status": "ok",
     "timestamp": 1601283912324,
     "user": {
      "displayName": "Тимур Венерович Аминов",
      "photoUrl": "",
      "userId": "01767416500508857561"
     },
     "user_tz": -180
    },
    "id": "-hUON9TIHLL5",
    "outputId": "1b6ddbdb-98bb-46a4-fe0d-17b5610caa87"
   },
   "outputs": [
    {
     "name": "stdout",
     "output_type": "stream",
     "text": [
      "[1 2 3] (3,)\n",
      "Вектор a с newaxis --> вектор-строка:\n",
      " [[1 2 3]] (1, 3)\n",
      "Полученная размерность: (3, 1)\n"
     ]
    }
   ],
   "source": [
    "a = np.arange(1, 4, 1)\n",
    "print(a, a.shape)\n",
    "print('Вектор a с newaxis --> вектор-строка:\\n', a[None, :], a[None, :].shape)\n",
    "print('Полученная размерность:', a[:, np.newaxis].shape)\n",
    "\n",
    "# x - [b, c, h, w]\n",
    "# mask - [b, h, w]\n",
    "\n",
    "# for color_val in x[0; :, 1, 1]:\n",
    "\n",
    "#  result = x * mask[:, None, :, :] --: [b, h, w] -> [b, 1, h, w] and broadcast"
   ]
  },
  {
   "cell_type": "markdown",
   "metadata": {
    "id": "gqyenIEhaSDy"
   },
   "source": [
    "* Обращение по индексам\n",
    "\n",
    "в numpy можно обращаться сразу к нескольким элементам массива, которые не идут подряд, передав в качестве аргумента list или numpy array индексов"
   ]
  },
  {
   "cell_type": "code",
   "execution_count": 113,
   "metadata": {
    "colab": {
     "base_uri": "https://localhost:8080/",
     "height": 34
    },
    "executionInfo": {
     "elapsed": 710,
     "status": "ok",
     "timestamp": 1601283918790,
     "user": {
      "displayName": "Тимур Венерович Аминов",
      "photoUrl": "",
      "userId": "01767416500508857561"
     },
     "user_tz": -180
    },
    "id": "aN79z1QtaSDz",
    "outputId": "c8e242b9-dd66-458b-bd76-baabad091ba0"
   },
   "outputs": [
    {
     "data": {
      "text/plain": [
       "(0, array([0, 1, 1, 2]), array([0, 1, 1, 2]))"
      ]
     },
     "execution_count": 113,
     "metadata": {},
     "output_type": "execute_result"
    }
   ],
   "source": [
    "a = np.array([0, 1, 2, 3])\n",
    "a[0], a[[0, 1, 1, 2]], a[np.array([0, 1, 1, 2])]"
   ]
  },
  {
   "cell_type": "code",
   "execution_count": 114,
   "metadata": {
    "colab": {
     "base_uri": "https://localhost:8080/",
     "height": 67
    },
    "executionInfo": {
     "elapsed": 652,
     "status": "ok",
     "timestamp": 1601283920540,
     "user": {
      "displayName": "Тимур Венерович Аминов",
      "photoUrl": "",
      "userId": "01767416500508857561"
     },
     "user_tz": -180
    },
    "id": "a9aN9JaLaSD1",
    "outputId": "9e65151a-9f20-4d54-eaea-67881e1189e7"
   },
   "outputs": [
    {
     "name": "stdout",
     "output_type": "stream",
     "text": [
      "[[1 2]\n",
      " [3 4]]\n",
      "[1 4]\n"
     ]
    }
   ],
   "source": [
    "# многомерный случай\n",
    "z = np.array([[1,2], [3,4]])\n",
    "print(z)\n",
    "# можно передать лист с индексами для каждого из измерений. \n",
    "# В данном случае выберутся элементы с индексами (0, 0) и (1, 1). Результат - одномерный массив\n",
    "print(z[[0,1], [0,1]])"
   ]
  },
  {
   "cell_type": "markdown",
   "metadata": {
    "id": "nb8G_LUdaSD3"
   },
   "source": [
    "* Обращение по булевому массиву"
   ]
  },
  {
   "cell_type": "code",
   "execution_count": 116,
   "metadata": {
    "colab": {
     "base_uri": "https://localhost:8080/",
     "height": 67
    },
    "executionInfo": {
     "elapsed": 620,
     "status": "ok",
     "timestamp": 1601283926940,
     "user": {
      "displayName": "Тимур Венерович Аминов",
      "photoUrl": "",
      "userId": "01767416500508857561"
     },
     "user_tz": -180
    },
    "id": "VP7UZPrnHLKS",
    "outputId": "1a163710-9725-48b0-f477-3aee33d85adf"
   },
   "outputs": [
    {
     "name": "stdout",
     "output_type": "stream",
     "text": [
      "[0 1 2 3]\n",
      "[False False  True  True]\n",
      "[2 3]\n"
     ]
    }
   ],
   "source": [
    "print(a)\n",
    "print(a > 1)\n",
    "#print(a[[True, False, True, True]])\n",
    "# Как мы уже выяснили, в результате сравнения numpy массивов получается булев массив, \n",
    "# его очень удобно использовать, чтобы обращаться к элементам, удовлетворяющим какому-то условию\n",
    "print(a[a > 1])"
   ]
  },
  {
   "cell_type": "markdown",
   "metadata": {
    "id": "RCp7hSc6Zl23"
   },
   "source": [
    "* Присвоение значений во view\n",
    "\n",
    "Когда мы используем слайсы для выборки каких-то элементов массива, нам возвращается не новый массив с этими элементами, а просто объект view, который ссылается на какие-то ячейки в реальном массиве. Поэтому мы можем сделать так:"
   ]
  },
  {
   "cell_type": "code",
   "execution_count": 117,
   "metadata": {
    "colab": {
     "base_uri": "https://localhost:8080/",
     "height": 67
    },
    "executionInfo": {
     "elapsed": 638,
     "status": "ok",
     "timestamp": 1601283938227,
     "user": {
      "displayName": "Тимур Венерович Аминов",
      "photoUrl": "",
      "userId": "01767416500508857561"
     },
     "user_tz": -180
    },
    "id": "B8SBwz_MZlkA",
    "outputId": "65b5113d-b7ce-483e-dd24-ba324e707e80"
   },
   "outputs": [
    {
     "name": "stdout",
     "output_type": "stream",
     "text": [
      "[1 2]\n",
      "[100   2]\n",
      "[100   2   3]\n"
     ]
    }
   ],
   "source": [
    "a = np.array([1, 2, 3])\n",
    "b = a[0:2]\n",
    "print(b)\n",
    "b[0] = 100\n",
    "print(b)\n",
    "print(a)"
   ]
  },
  {
   "cell_type": "markdown",
   "metadata": {
    "id": "PfdoN87ZaSED"
   },
   "source": [
    "Изменив элемент во view b, мы поменяли элемент и в массиве а. Если же обратиться по списку координат или булевому массиву, так не получится"
   ]
  },
  {
   "cell_type": "code",
   "execution_count": 118,
   "metadata": {
    "colab": {
     "base_uri": "https://localhost:8080/",
     "height": 67
    },
    "executionInfo": {
     "elapsed": 715,
     "status": "ok",
     "timestamp": 1601283942507,
     "user": {
      "displayName": "Тимур Венерович Аминов",
      "photoUrl": "",
      "userId": "01767416500508857561"
     },
     "user_tz": -180
    },
    "id": "brYHL8v4aSED",
    "outputId": "813e3d41-a3d2-4ca0-8b68-8bd9bb3cec49"
   },
   "outputs": [
    {
     "name": "stdout",
     "output_type": "stream",
     "text": [
      "[1 2]\n",
      "[100   2]\n",
      "[1 2 3]\n"
     ]
    }
   ],
   "source": [
    "a = np.array([1, 2, 3])\n",
    "b = a[[0, 1]]\n",
    "print(b)\n",
    "b[0] = 100\n",
    "print(b)\n",
    "print(a)"
   ]
  },
  {
   "cell_type": "code",
   "execution_count": 119,
   "metadata": {
    "colab": {
     "base_uri": "https://localhost:8080/",
     "height": 67
    },
    "executionInfo": {
     "elapsed": 656,
     "status": "ok",
     "timestamp": 1601283944035,
     "user": {
      "displayName": "Тимур Венерович Аминов",
      "photoUrl": "",
      "userId": "01767416500508857561"
     },
     "user_tz": -180
    },
    "id": "x-PVgDYAaSEF",
    "outputId": "a8ca7a50-3c9d-43de-ad10-7d5561aee059"
   },
   "outputs": [
    {
     "name": "stdout",
     "output_type": "stream",
     "text": [
      "[1 2]\n",
      "[100   2]\n",
      "[1 2 3]\n"
     ]
    }
   ],
   "source": [
    "a = np.array([1, 2, 3])\n",
    "b = a[[True, True, False]]\n",
    "print(b)\n",
    "b[0] = 100\n",
    "print(b)\n",
    "print(a)"
   ]
  },
  {
   "cell_type": "markdown",
   "metadata": {
    "id": "TR5bSBAsaSEH"
   },
   "source": [
    "Означает ли это, что не сработают выражения вида:\n",
    "> a[[0, 1]] = 100\n",
    "\n",
    "> a[[True, True, False]] = 100\n",
    "\n",
    "Присваивания сработают, потому что в данном случае копия массива создаваться не будет, вместо этого вызовется магический метод питона \\_\\_setitem\\_\\_. Очень удобная особенность питона, про которую не стоит забывать."
   ]
  },
  {
   "cell_type": "code",
   "execution_count": 67,
   "metadata": {
    "colab": {
     "base_uri": "https://localhost:8080/",
     "height": 34
    },
    "executionInfo": {
     "elapsed": 585,
     "status": "ok",
     "timestamp": 1601243195260,
     "user": {
      "displayName": "Тимур Венерович Аминов",
      "photoUrl": "",
      "userId": "01767416500508857561"
     },
     "user_tz": -180
    },
    "id": "dqLwgnxYaSEH",
    "outputId": "b4a69535-0835-448c-b39e-6f525cbabcc6"
   },
   "outputs": [
    {
     "name": "stdout",
     "output_type": "stream",
     "text": [
      "[100 100   3]\n"
     ]
    }
   ],
   "source": [
    "a = np.array([1, 2, 3])\n",
    "a[[True, True, False]] = 100\n",
    "print(a)"
   ]
  },
  {
   "cell_type": "markdown",
   "metadata": {
    "id": "4px-96mmaSEK"
   },
   "source": [
    "Если же слева будет не просто обращение по индексу, а двойное обращение по индексу, то питону придется вычислить значение \n",
    "> a[[True, True, False]]\n",
    "\n",
    "тем самым создав копию, и только потом взять у него нулевой элемент. Поэтому 0 присвоится в массив-копию, который тут же уничтожится."
   ]
  },
  {
   "cell_type": "code",
   "execution_count": 68,
   "metadata": {
    "colab": {
     "base_uri": "https://localhost:8080/",
     "height": 34
    },
    "executionInfo": {
     "elapsed": 636,
     "status": "ok",
     "timestamp": 1601243224930,
     "user": {
      "displayName": "Тимур Венерович Аминов",
      "photoUrl": "",
      "userId": "01767416500508857561"
     },
     "user_tz": -180
    },
    "id": "HUryf9tWaSEL",
    "outputId": "8521ac14-a37d-4936-9b13-5c1ad0a8fc2e"
   },
   "outputs": [
    {
     "name": "stdout",
     "output_type": "stream",
     "text": [
      "[1 2 3]\n"
     ]
    }
   ],
   "source": [
    "a = np.array([1, 2, 3])\n",
    "a[[True, True, False]][0] = 100\n",
    "print(a)"
   ]
  },
  {
   "cell_type": "markdown",
   "metadata": {
    "id": "AM3HRmx5aSEM"
   },
   "source": [
    "# Линейная Алгебра\n",
    "\n",
    "До этого мы рассматривали разные операции numpy, которые не связаны напрямую с линейной алгеброй. Пришло время это изменить)"
   ]
  },
  {
   "cell_type": "markdown",
   "metadata": {
    "id": "WfqfXImaHLKg"
   },
   "source": [
    "* Скалярное произведение \n",
    "$a~\\cdot~b = (a_1, a_2, .., a_n) \\cdot (b_1, b_2, .., b_n) = a_1b_1 + a_2b_2 + .. + b_nb_n = \\sum_{i=1}^{n} a_ib_i$:\n"
   ]
  },
  {
   "cell_type": "code",
   "execution_count": 128,
   "metadata": {
    "colab": {
     "base_uri": "https://localhost:8080/",
     "height": 34
    },
    "executionInfo": {
     "elapsed": 806,
     "status": "ok",
     "timestamp": 1601284000814,
     "user": {
      "displayName": "Тимур Венерович Аминов",
      "photoUrl": "",
      "userId": "01767416500508857561"
     },
     "user_tz": -180
    },
    "id": "47c57Q62EQmw",
    "outputId": "d465e285-f0e6-4908-e11c-ed9e243affb8"
   },
   "outputs": [
    {
     "name": "stdout",
     "output_type": "stream",
     "text": [
      "[1 2 3] [2 3 4]\n"
     ]
    }
   ],
   "source": [
    "a = np.array([1, 2, 3])\n",
    "b = np.array([2, 3, 4])\n",
    "print(a,b)"
   ]
  },
  {
   "cell_type": "code",
   "execution_count": 129,
   "metadata": {
    "colab": {
     "base_uri": "https://localhost:8080/",
     "height": 34
    },
    "executionInfo": {
     "elapsed": 797,
     "status": "ok",
     "timestamp": 1601284005210,
     "user": {
      "displayName": "Тимур Венерович Аминов",
      "photoUrl": "",
      "userId": "01767416500508857561"
     },
     "user_tz": -180
    },
    "id": "zae5Ebopvf5t",
    "outputId": "e32933bc-1de3-4915-eb8f-49a656dd4415"
   },
   "outputs": [
    {
     "data": {
      "text/plain": [
       "20"
      ]
     },
     "execution_count": 129,
     "metadata": {},
     "output_type": "execute_result"
    }
   ],
   "source": [
    "a @ b"
   ]
  },
  {
   "cell_type": "code",
   "execution_count": 131,
   "metadata": {
    "colab": {
     "base_uri": "https://localhost:8080/",
     "height": 34
    },
    "executionInfo": {
     "elapsed": 801,
     "status": "ok",
     "timestamp": 1601284028662,
     "user": {
      "displayName": "Тимур Венерович Аминов",
      "photoUrl": "",
      "userId": "01767416500508857561"
     },
     "user_tz": -180
    },
    "id": "YXx9wDsyHLKi",
    "outputId": "148561be-126f-4683-cbb3-ee3221ba6f69"
   },
   "outputs": [
    {
     "name": "stdout",
     "output_type": "stream",
     "text": [
      "20\n"
     ]
    }
   ],
   "source": [
    "print(np.matmul(a, b))"
   ]
  },
  {
   "cell_type": "markdown",
   "metadata": {
    "colab": {
     "base_uri": "https://localhost:8080/",
     "height": 128
    },
    "executionInfo": {
     "elapsed": 973,
     "status": "error",
     "timestamp": 1601284029325,
     "user": {
      "displayName": "Тимур Венерович Аминов",
      "photoUrl": "",
      "userId": "01767416500508857561"
     },
     "user_tz": -180
    },
    "id": "JY03g_bEHLLe",
    "outputId": "7be30011-d230-421d-bafd-eae00ad197cc"
   },
   "source": [
    "### Векторы и матрицы"
   ]
  },
  {
   "cell_type": "code",
   "execution_count": 120,
   "metadata": {
    "executionInfo": {
     "elapsed": 584,
     "status": "ok",
     "timestamp": 1601284029715,
     "user": {
      "displayName": "Тимур Венерович Аминов",
      "photoUrl": "",
      "userId": "01767416500508857561"
     },
     "user_tz": -180
    },
    "id": "HKDz1cB9aSEU"
   },
   "outputs": [],
   "source": [
    "b = np.array([\n",
    "    [1, 2, 3],\n",
    "    [4, 5, 6]\n",
    "])"
   ]
  },
  {
   "cell_type": "markdown",
   "metadata": {
    "id": "FFiel6s3HLLp"
   },
   "source": [
    "Наш 2-мерный массив __b__, также его можно назвать матрицей, имеет 2 строки и 3 столбца.\n",
    "То есть наша матрица состоит из 2 вектор-строк:"
   ]
  },
  {
   "cell_type": "code",
   "execution_count": 121,
   "metadata": {
    "colab": {
     "base_uri": "https://localhost:8080/",
     "height": 84
    },
    "executionInfo": {
     "elapsed": 880,
     "status": "ok",
     "timestamp": 1601284042693,
     "user": {
      "displayName": "Тимур Венерович Аминов",
      "photoUrl": "",
      "userId": "01767416500508857561"
     },
     "user_tz": -180
    },
    "id": "LxQ6e7GCHLLq",
    "outputId": "8794965f-5c7c-4813-a20b-f6911461a123"
   },
   "outputs": [
    {
     "name": "stdout",
     "output_type": "stream",
     "text": [
      "[[1 2 3]\n",
      " [4 5 6]]\n"
     ]
    },
    {
     "data": {
      "text/plain": [
       "array([[1],\n",
       "       [4]])"
      ]
     },
     "execution_count": 121,
     "metadata": {},
     "output_type": "execute_result"
    }
   ],
   "source": [
    "print(b)\n",
    "b[0:2,0:1]"
   ]
  },
  {
   "cell_type": "code",
   "execution_count": 122,
   "metadata": {
    "colab": {
     "base_uri": "https://localhost:8080/",
     "height": 34
    },
    "executionInfo": {
     "elapsed": 1051,
     "status": "ok",
     "timestamp": 1601284051879,
     "user": {
      "displayName": "Тимур Венерович Аминов",
      "photoUrl": "",
      "userId": "01767416500508857561"
     },
     "user_tz": -180
    },
    "id": "q1V4QuJvHLLs",
    "outputId": "85592912-9aa4-45d5-d7b4-4c69d7466a4d"
   },
   "outputs": [
    {
     "data": {
      "text/plain": [
       "array([[4, 5, 6]])"
      ]
     },
     "execution_count": 122,
     "metadata": {},
     "output_type": "execute_result"
    }
   ],
   "source": [
    "b[1:2]"
   ]
  },
  {
   "cell_type": "markdown",
   "metadata": {
    "id": "UX0T5yRzHLLv"
   },
   "source": [
    "Обычно в линейной алгебре под любым вектором подразумевается вектор-столбец. Наша матрица содержит 3 вектор-стобца:"
   ]
  },
  {
   "cell_type": "code",
   "execution_count": 123,
   "metadata": {
    "colab": {
     "base_uri": "https://localhost:8080/",
     "height": 50
    },
    "executionInfo": {
     "elapsed": 1763,
     "status": "ok",
     "timestamp": 1601284053821,
     "user": {
      "displayName": "Тимур Венерович Аминов",
      "photoUrl": "",
      "userId": "01767416500508857561"
     },
     "user_tz": -180
    },
    "id": "0kWqkkhmHLLv",
    "outputId": "f89f5983-eb9b-4ae7-cfdd-315897fc6a16"
   },
   "outputs": [
    {
     "data": {
      "text/plain": [
       "array([[1],\n",
       "       [4]])"
      ]
     },
     "execution_count": 123,
     "metadata": {},
     "output_type": "execute_result"
    }
   ],
   "source": [
    "b[:, 0:1]"
   ]
  },
  {
   "cell_type": "code",
   "execution_count": 124,
   "metadata": {
    "colab": {
     "base_uri": "https://localhost:8080/",
     "height": 50
    },
    "executionInfo": {
     "elapsed": 880,
     "status": "ok",
     "timestamp": 1601284053826,
     "user": {
      "displayName": "Тимур Венерович Аминов",
      "photoUrl": "",
      "userId": "01767416500508857561"
     },
     "user_tz": -180
    },
    "id": "CxUwuDqUHLLx",
    "outputId": "16d40749-5df4-483a-f991-024afc336006"
   },
   "outputs": [
    {
     "data": {
      "text/plain": [
       "array([[2],\n",
       "       [5]])"
      ]
     },
     "execution_count": 124,
     "metadata": {},
     "output_type": "execute_result"
    }
   ],
   "source": [
    "b[:, 1:2]"
   ]
  },
  {
   "cell_type": "code",
   "execution_count": 125,
   "metadata": {
    "colab": {
     "base_uri": "https://localhost:8080/",
     "height": 50
    },
    "executionInfo": {
     "elapsed": 611,
     "status": "ok",
     "timestamp": 1601284054228,
     "user": {
      "displayName": "Тимур Венерович Аминов",
      "photoUrl": "",
      "userId": "01767416500508857561"
     },
     "user_tz": -180
    },
    "id": "ulY47VBJHLL1",
    "outputId": "17f78600-750a-474b-825e-2e1f8de90546"
   },
   "outputs": [
    {
     "data": {
      "text/plain": [
       "array([[3],\n",
       "       [6]])"
      ]
     },
     "execution_count": 125,
     "metadata": {},
     "output_type": "execute_result"
    }
   ],
   "source": [
    "b[:, 2:3]"
   ]
  },
  {
   "cell_type": "code",
   "execution_count": 126,
   "metadata": {
    "colab": {
     "base_uri": "https://localhost:8080/",
     "height": 84
    },
    "executionInfo": {
     "elapsed": 693,
     "status": "ok",
     "timestamp": 1601284055203,
     "user": {
      "displayName": "Тимур Венерович Аминов",
      "photoUrl": "",
      "userId": "01767416500508857561"
     },
     "user_tz": -180
    },
    "id": "yoGzfSxbvbdJ",
    "outputId": "8c7de973-36ad-42c5-8a2f-170276ba72b5"
   },
   "outputs": [
    {
     "name": "stdout",
     "output_type": "stream",
     "text": [
      "(3, 2) (2, 3)\n"
     ]
    },
    {
     "data": {
      "text/plain": [
       "array([[ 9, 12, 15],\n",
       "       [24, 33, 42],\n",
       "       [24, 33, 42]])"
      ]
     },
     "execution_count": 126,
     "metadata": {},
     "output_type": "execute_result"
    }
   ],
   "source": [
    "a = np.array([\n",
    "    [1, 2],\n",
    "    [4, 5],\n",
    "    [4, 5]\n",
    "])\n",
    "print(a.shape, b.shape)\n",
    "a @ b"
   ]
  },
  {
   "cell_type": "markdown",
   "metadata": {
    "id": "j5YLEr1YHLMe"
   },
   "source": [
    "## Операции с матрицами"
   ]
  },
  {
   "cell_type": "code",
   "execution_count": 127,
   "metadata": {
    "executionInfo": {
     "elapsed": 621,
     "status": "ok",
     "timestamp": 1601284075700,
     "user": {
      "displayName": "Тимур Венерович Аминов",
      "photoUrl": "",
      "userId": "01767416500508857561"
     },
     "user_tz": -180
    },
    "id": "LuHvQIYYHLMe"
   },
   "outputs": [],
   "source": [
    "A = np.array([[1, 0], [0, 1]])\n",
    "B = np.array([[4, 1], [2, 2]])"
   ]
  },
  {
   "cell_type": "markdown",
   "metadata": {
    "id": "Y7CJCuL5HLMl"
   },
   "source": [
    "__Напоминание теории.__ __Транспонированной матрицей__ $A^{T}$ называется матрица, полученная из исходной матрицы $A$ заменой строк на столбцы. Формально: элементы матрицы $A^{T}$ определяются как $a^{T}_{ij} = a_{ji}$, где $a^{T}_{ij}$ — элемент матрицы $A^{T}$, стоящий на пересечении строки с номером $i$ и столбца с номером $j$.\n",
    "\n",
    "В `NumPy` транспонированная матрица вычисляется с помощью функции __`numpy.transpose()`__ или с помощью _метода_ __`array.T`__, где __`array`__ — нужный двумерный массив."
   ]
  },
  {
   "cell_type": "code",
   "execution_count": 128,
   "metadata": {
    "executionInfo": {
     "elapsed": 952,
     "status": "ok",
     "timestamp": 1601284086112,
     "user": {
      "displayName": "Тимур Венерович Аминов",
      "photoUrl": "",
      "userId": "01767416500508857561"
     },
     "user_tz": -180
    },
    "id": "Q6G6FzQ3HLMl"
   },
   "outputs": [],
   "source": [
    "a = np.array([[1, 2], [3, 4]])\n",
    "b = np.transpose(a)\n",
    "c = a.T"
   ]
  },
  {
   "cell_type": "code",
   "execution_count": 129,
   "metadata": {
    "colab": {
     "base_uri": "https://localhost:8080/",
     "height": 168
    },
    "executionInfo": {
     "elapsed": 575,
     "status": "ok",
     "timestamp": 1601284086505,
     "user": {
      "displayName": "Тимур Венерович Аминов",
      "photoUrl": "",
      "userId": "01767416500508857561"
     },
     "user_tz": -180
    },
    "id": "_dBqecA2HLMn",
    "outputId": "4ffda0f8-3717-4d12-9f33-51f5245bf0e9"
   },
   "outputs": [
    {
     "name": "stdout",
     "output_type": "stream",
     "text": [
      "Матрица:\n",
      " [[1 2]\n",
      " [3 4]]\n",
      "Транспонирование функцией:\n",
      " [[1 3]\n",
      " [2 4]]\n",
      "Транспонирование методом:\n",
      " [[1 3]\n",
      " [2 4]]\n"
     ]
    }
   ],
   "source": [
    "print(\"Матрица:\\n\", a)\n",
    "print(\"Транспонирование функцией:\\n\", b)\n",
    "print(\"Транспонирование методом:\\n\",  c)"
   ]
  },
  {
   "cell_type": "code",
   "execution_count": 130,
   "metadata": {
    "colab": {
     "base_uri": "https://localhost:8080/",
     "height": 52
    },
    "id": "xRH5WThdwJ_m",
    "outputId": "435fe004-79b1-430c-dce5-da72ff78011d"
   },
   "outputs": [
    {
     "data": {
      "text/plain": [
       "array([[ 5, 11],\n",
       "       [11, 25]])"
      ]
     },
     "execution_count": 130,
     "metadata": {},
     "output_type": "execute_result"
    }
   ],
   "source": [
    "a @ b"
   ]
  },
  {
   "cell_type": "markdown",
   "metadata": {
    "id": "gPABHln8HLMp"
   },
   "source": [
    "__Напоминание теории.__ Операция __умножения__ определена для двух матриц, таких что число столбцов первой равно числу строк второй. \n",
    "\n",
    "Пусть матрицы $A$ и $B$ таковы, что $A \\in \\mathbb{R}^{n \\times k}$ и $B \\in \\mathbb{R}^{k \\times m}$. __Произведением__ матриц $A$ и $B$ называется матрица $C$, такая что $c_{ij} = \\sum_{r=1}^{k} a_{ir}b_{rj}$, где $c_{ij}$ — элемент матрицы $C$, стоящий на пересечении строки с номером $i$ и столбца с номером $j$.\n",
    "\n",
    "В `NumPy` произведение матриц вычисляется с помощью функции __`numpy.dot(a, b, ...)`__ или с помощью _метода_ __`array1.dot(array2)`__, где __`array1`__ и __`array2`__ — перемножаемые матрицы."
   ]
  },
  {
   "cell_type": "code",
   "execution_count": 131,
   "metadata": {
    "executionInfo": {
     "elapsed": 836,
     "status": "ok",
     "timestamp": 1601284146298,
     "user": {
      "displayName": "Тимур Венерович Аминов",
      "photoUrl": "",
      "userId": "01767416500508857561"
     },
     "user_tz": -180
    },
    "id": "nvmP9mmLHLMq"
   },
   "outputs": [],
   "source": [
    "y = np.array([1, 0])\n",
    "z = A @ y"
   ]
  },
  {
   "cell_type": "markdown",
   "metadata": {
    "id": "4t6WW1poHLMs"
   },
   "source": [
    "#### Линейная алгебра (модуль `np.linalg`)"
   ]
  },
  {
   "cell_type": "code",
   "execution_count": 84,
   "metadata": {
    "colab": {
     "base_uri": "https://localhost:8080/",
     "height": 50
    },
    "executionInfo": {
     "elapsed": 1455,
     "status": "ok",
     "timestamp": 1601284173363,
     "user": {
      "displayName": "Тимур Венерович Аминов",
      "photoUrl": "",
      "userId": "01767416500508857561"
     },
     "user_tz": -180
    },
    "id": "UyCMO5DvHLMt",
    "outputId": "55c90e2e-0203-457a-db9f-da6c84f49f55"
   },
   "outputs": [
    {
     "name": "stdout",
     "output_type": "stream",
     "text": [
      "[[4 1]\n",
      " [6 3]]\n"
     ]
    }
   ],
   "source": [
    "A = np.array([[1, 0], [1, 1]])\n",
    "x = np.array([[4, 1], [2, 2]])\n",
    "b = A @ x\n",
    "print(b)"
   ]
  },
  {
   "cell_type": "markdown",
   "metadata": {
    "id": "Fse23NT-HLMu"
   },
   "source": [
    "* Решение линейной системы __$Ax=b$__:"
   ]
  },
  {
   "cell_type": "code",
   "execution_count": 85,
   "metadata": {
    "colab": {
     "base_uri": "https://localhost:8080/",
     "height": 50
    },
    "executionInfo": {
     "elapsed": 604,
     "status": "ok",
     "timestamp": 1601284176130,
     "user": {
      "displayName": "Тимур Венерович Аминов",
      "photoUrl": "",
      "userId": "01767416500508857561"
     },
     "user_tz": -180
    },
    "id": "zzseRnnjHLMv",
    "outputId": "cb86acaf-95ee-4aeb-9b1d-64fd583ffe21",
    "scrolled": true
   },
   "outputs": [
    {
     "name": "stdout",
     "output_type": "stream",
     "text": [
      "[[4. 1.]\n",
      " [2. 2.]]\n"
     ]
    }
   ],
   "source": [
    "x = np.linalg.solve(A, b)\n",
    "print(x)"
   ]
  },
  {
   "cell_type": "markdown",
   "metadata": {
    "id": "GV6WaYJ3K06x"
   },
   "source": [
    "### Библиотека SciPy"
   ]
  },
  {
   "cell_type": "markdown",
   "metadata": {
    "id": "rfbdWyb7K06x"
   },
   "source": [
    "* Оптимизация функции (нахождение минимума/максимума):"
   ]
  },
  {
   "cell_type": "code",
   "execution_count": 133,
   "metadata": {
    "executionInfo": {
     "elapsed": 1923,
     "status": "ok",
     "timestamp": 1601284215661,
     "user": {
      "displayName": "Тимур Венерович Аминов",
      "photoUrl": "",
      "userId": "01767416500508857561"
     },
     "user_tz": -180
    },
    "id": "8UhGZKOEK06y"
   },
   "outputs": [],
   "source": [
    "from scipy.optimize import minimize"
   ]
  },
  {
   "cell_type": "markdown",
   "metadata": {
    "id": "9adfxLQHK06y"
   },
   "source": [
    "Обязательно посмотрите документацию, сходу не очевидно, как именно использовать:"
   ]
  },
  {
   "cell_type": "code",
   "execution_count": 134,
   "metadata": {
    "executionInfo": {
     "elapsed": 635,
     "status": "ok",
     "timestamp": 1601284223951,
     "user": {
      "displayName": "Тимур Венерович Аминов",
      "photoUrl": "",
      "userId": "01767416500508857561"
     },
     "user_tz": -180
    },
    "id": "_vpG937gK06y"
   },
   "outputs": [],
   "source": [
    "?minimize"
   ]
  },
  {
   "cell_type": "markdown",
   "metadata": {
    "id": "tOHJi6hZK06z"
   },
   "source": [
    "Опмтимизируем (минимизируем) простую функцию:"
   ]
  },
  {
   "cell_type": "code",
   "execution_count": 135,
   "metadata": {
    "executionInfo": {
     "elapsed": 820,
     "status": "ok",
     "timestamp": 1601284247120,
     "user": {
      "displayName": "Тимур Венерович Аминов",
      "photoUrl": "",
      "userId": "01767416500508857561"
     },
     "user_tz": -180
    },
    "id": "7cyblRsMK06z"
   },
   "outputs": [],
   "source": [
    "def f(x):\n",
    "    return x ** 2"
   ]
  },
  {
   "cell_type": "code",
   "execution_count": 136,
   "metadata": {
    "colab": {
     "base_uri": "https://localhost:8080/",
     "height": 282
    },
    "executionInfo": {
     "elapsed": 739,
     "status": "ok",
     "timestamp": 1601243377002,
     "user": {
      "displayName": "Тимур Венерович Аминов",
      "photoUrl": "",
      "userId": "01767416500508857561"
     },
     "user_tz": -180
    },
    "id": "jg1vmj6oyRhB",
    "outputId": "81b0ccc1-6c01-465a-dba6-624d7742cbb3"
   },
   "outputs": [
    {
     "data": {
      "text/plain": [
       "[<matplotlib.lines.Line2D at 0x7fed7e39bb20>]"
      ]
     },
     "execution_count": 136,
     "metadata": {},
     "output_type": "execute_result"
    },
    {
     "data": {
      "image/png": "[encoded data removed]",
      "text/plain": [
       "<Figure size 432x288 with 1 Axes>"
      ]
     },
     "metadata": {
      "needs_background": "light"
     },
     "output_type": "display_data"
    }
   ],
   "source": [
    "# %matplotlib inline\n",
    "import matplotlib.pyplot as plt\n",
    "\n",
    "x = np.arange(-3, 3, .5)\n",
    "y = f(x)\n",
    "\n",
    "plt.plot(x,y)\n",
    "# plt.show()"
   ]
  },
  {
   "cell_type": "code",
   "execution_count": 137,
   "metadata": {
    "executionInfo": {
     "elapsed": 3386,
     "status": "ok",
     "timestamp": 1601243385571,
     "user": {
      "displayName": "Тимур Венерович Аминов",
      "photoUrl": "",
      "userId": "01767416500508857561"
     },
     "user_tz": -180
    },
    "id": "8AQZT2IDK060"
   },
   "outputs": [],
   "source": [
    "res = minimize(f, x0=100)"
   ]
  },
  {
   "cell_type": "code",
   "execution_count": 138,
   "metadata": {
    "colab": {
     "base_uri": "https://localhost:8080/",
     "height": 185
    },
    "executionInfo": {
     "elapsed": 2959,
     "status": "ok",
     "timestamp": 1601243385572,
     "user": {
      "displayName": "Тимур Венерович Аминов",
      "photoUrl": "",
      "userId": "01767416500508857561"
     },
     "user_tz": -180
    },
    "id": "u5-yXZoDK060",
    "outputId": "c331842a-0d45-47dc-b431-72ac1c7047cd"
   },
   "outputs": [
    {
     "data": {
      "text/plain": [
       "      fun: 5.552074997367714e-17\n",
       " hess_inv: array([[0.50000004]])\n",
       "      jac: array([-1.28826571e-12])\n",
       "  message: 'Optimization terminated successfully.'\n",
       "     nfev: 14\n",
       "      nit: 4\n",
       "     njev: 7\n",
       "   status: 0\n",
       "  success: True\n",
       "        x: array([-7.45122473e-09])"
      ]
     },
     "execution_count": 138,
     "metadata": {},
     "output_type": "execute_result"
    }
   ],
   "source": [
    "res"
   ]
  },
  {
   "cell_type": "markdown",
   "metadata": {
    "id": "JPQkniL8K061"
   },
   "source": [
    "Тут нужно смотреть на 4 строчки: `fun, message, success и x`  \n",
    "`fun` - значние функции в точке минимума  \n",
    "`message` - служебное сообщение об окончании процесса (может быть \"успешно\", как здесь, или сообщение о том, что что-то пошло не так (\"не сошлось\"))  \n",
    "`success` - True, если успешно сошлось (но лучше всегда всё же смотреть и `message`)  \n",
    "`x` - точка, в которой достигается минимум"
   ]
  },
  {
   "cell_type": "markdown",
   "metadata": {
    "id": "JutOzQrlK062"
   },
   "source": [
    "Можно в аргумент `method` подавать разные ключевые слова для смены метода оптимизации, подробнее о них лучше читать документацию или погуглить."
   ]
  },
  {
   "cell_type": "markdown",
   "metadata": {
    "id": "eNfjwNPcK062"
   },
   "source": [
    "* Интегрирование:"
   ]
  },
  {
   "cell_type": "code",
   "execution_count": 92,
   "metadata": {
    "executionInfo": {
     "elapsed": 636,
     "status": "ok",
     "timestamp": 1601243411533,
     "user": {
      "displayName": "Тимур Венерович Аминов",
      "photoUrl": "",
      "userId": "01767416500508857561"
     },
     "user_tz": -180
    },
    "id": "v07dtKwdK062"
   },
   "outputs": [],
   "source": [
    "from scipy.integrate import quad, odeint\n",
    "from scipy.special import erf"
   ]
  },
  {
   "cell_type": "code",
   "execution_count": 93,
   "metadata": {
    "executionInfo": {
     "elapsed": 728,
     "status": "ok",
     "timestamp": 1601243412404,
     "user": {
      "displayName": "Тимур Венерович Аминов",
      "photoUrl": "",
      "userId": "01767416500508857561"
     },
     "user_tz": -180
    },
    "id": "5JAJF-RHK063"
   },
   "outputs": [],
   "source": [
    "def f(x):\n",
    "    return np.exp(-x ** 2)"
   ]
  },
  {
   "cell_type": "code",
   "execution_count": 94,
   "metadata": {
    "colab": {
     "base_uri": "https://localhost:8080/",
     "height": 265
    },
    "executionInfo": {
     "elapsed": 1018,
     "status": "ok",
     "timestamp": 1601243413142,
     "user": {
      "displayName": "Тимур Венерович Аминов",
      "photoUrl": "",
      "userId": "01767416500508857561"
     },
     "user_tz": -180
    },
    "id": "VpncsF4KylNB",
    "outputId": "2fc1b57e-80b1-40d3-a650-c88c01a56e1e"
   },
   "outputs": [
    {
     "data": {
      "image/png": "[encoded data removed]",
      "text/plain": [
       "<Figure size 432x288 with 1 Axes>"
      ]
     },
     "metadata": {
      "needs_background": "light"
     },
     "output_type": "display_data"
    }
   ],
   "source": [
    "%matplotlib inline\n",
    "import matplotlib.pyplot as plt\n",
    "\n",
    "x = np.arange(-3, 3, .1)\n",
    "y = f(x)\n",
    "\n",
    "plt.plot(x, y)\n",
    "plt.show()"
   ]
  },
  {
   "cell_type": "markdown",
   "metadata": {
    "id": "EI4PK884K063"
   },
   "source": [
    "Адаптивное численное интегрирование (может быть до бесконечности). `err` - оценка ошибки."
   ]
  },
  {
   "cell_type": "code",
   "execution_count": 95,
   "metadata": {
    "colab": {
     "base_uri": "https://localhost:8080/",
     "height": 34
    },
    "executionInfo": {
     "elapsed": 701,
     "status": "ok",
     "timestamp": 1601243414459,
     "user": {
      "displayName": "Тимур Венерович Аминов",
      "photoUrl": "",
      "userId": "01767416500508857561"
     },
     "user_tz": -180
    },
    "id": "rMrrAR8EK063",
    "outputId": "be312c88-359b-4726-9ab6-637430df7087"
   },
   "outputs": [
    {
     "name": "stdout",
     "output_type": "stream",
     "text": [
      "0.8862269254527579 0.8862269254527579 7.101318390472462e-09\n"
     ]
    }
   ],
   "source": [
    "res, err = quad(f, 0, np.inf)\n",
    "print(np.sqrt(np.pi) / 2, res, err)"
   ]
  },
  {
   "cell_type": "code",
   "execution_count": 96,
   "metadata": {
    "colab": {
     "base_uri": "https://localhost:8080/",
     "height": 34
    },
    "executionInfo": {
     "elapsed": 486,
     "status": "ok",
     "timestamp": 1601243414710,
     "user": {
      "displayName": "Тимур Венерович Аминов",
      "photoUrl": "",
      "userId": "01767416500508857561"
     },
     "user_tz": -180
    },
    "id": "nUGcUPBBK064",
    "outputId": "df3c934c-b3c4-403a-a495-23ba0b24edc9"
   },
   "outputs": [
    {
     "name": "stdout",
     "output_type": "stream",
     "text": [
      "0.7468241328124269 0.7468241328124271 8.291413475940725e-15\n"
     ]
    }
   ],
   "source": [
    "res, err = quad(f, 0, 1)\n",
    "print(np.sqrt(np.pi) / 2 * erf(1), res, err)"
   ]
  },
  {
   "cell_type": "markdown",
   "metadata": {
    "id": "JqUN04vPK065"
   },
   "source": [
    "## Список материалов для самостоятельного изучения"
   ]
  },
  {
   "cell_type": "markdown",
   "metadata": {
    "id": "a6m68ZUgK065"
   },
   "source": [
    "*Статья на Хабре по основам NumPy - https://habr.com/post/121031/*  \n",
    "\n",
    "*100 задач по NumPy для любителей посидеть вечерком за чашечкой программирования* - https://pythonworld.ru/numpy/100-exercises.html  \n",
    "\n",
    "*Очень крутой, продвинутый ноутбук по NumPy* - https://nbviewer.jupyter.org/github/vlad17/np-learn/blob/master/presentation.ipynb\n",
    "\n",
    "*Штука, которая вам в будущем может пригодиться ;)* - https://stackoverflow.com/questions/27948363/numpy-broadcast-to-perform-euclidean-distance-vectorized/35814006  \n",
    "\n",
    "*Лекции по SciPy и NumPy* - http://www.scipy-lectures.org/index.html"
   ]
  }
 ],
 "metadata": {
  "colab": {
   "collapsed_sections": [],
   "name": "2.numpy.ipynb",
   "provenance": [
    {
     "file_id": "https://github.com/hocop/sberbank_madmo/blob/master/day_1/%5Bseminar2.1%5Dnumpy.ipynb",
     "timestamp": 1601073058502
    }
   ]
  },
  "hide_input": false,
  "kernelspec": {
   "display_name": "Python 3",
   "language": "python",
   "name": "python3"
  },
  "language_info": {
   "codemirror_mode": {
    "name": "ipython",
    "version": 3
   },
   "file_extension": ".py",
   "mimetype": "text/x-python",
   "name": "python",
   "nbconvert_exporter": "python",
   "pygments_lexer": "ipython3",
   "version": "3.8.5"
  },
  "varInspector": {
   "cols": {
    "lenName": 16,
    "lenType": 16,
    "lenVar": 40
   },
   "kernels_config": {
    "python": {
     "delete_cmd_postfix": "",
     "delete_cmd_prefix": "del ",
     "library": "var_list.py",
     "varRefreshCmd": "print(var_dic_list())"
    },
    "r": {
     "delete_cmd_postfix": ") ",
     "delete_cmd_prefix": "rm(",
     "library": "var_list.r",
     "varRefreshCmd": "cat(var_dic_list()) "
    }
   },
   "types_to_exclude": [
    "module",
    "function",
    "builtin_function_or_method",
    "instance",
    "_Feature"
   ],
   "window_display": false
  }
 },
 "nbformat": 4,
 "nbformat_minor": 1
}
